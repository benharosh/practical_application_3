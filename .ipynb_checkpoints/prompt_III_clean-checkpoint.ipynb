{
 "cells": [
  {
   "cell_type": "markdown",
   "metadata": {
    "id": "qVGFVLs2E-Ha"
   },
   "source": [
    "# Practical Application III: Comparing Classifiers\n",
    "\n",
    "**Overview**: In this practical application, your goal is to compare the performance of the classifiers we encountered in this section, namely K Nearest Neighbor, Logistic Regression, Decision Trees, and Support Vector Machines.  We will utilize a dataset related to marketing bank products over the telephone.  \n",
    "\n"
   ]
  },
  {
   "cell_type": "code",
   "execution_count": 2,
   "metadata": {
    "ExecuteTime": {
     "end_time": "2024-04-22T01:49:58.132993Z",
     "start_time": "2024-04-22T01:49:52.260547Z"
    },
    "colab": {
     "base_uri": "https://localhost:8080/",
     "height": 1000
    },
    "id": "Em8NKHlCeIH_",
    "outputId": "28842c1c-e632-443c-8c88-0f09e2b510d6"
   },
   "outputs": [
    {
     "name": "stdout",
     "output_type": "stream",
     "text": [
      "Requirement already satisfied: scikit-learn-intelex in /home/ben/anaconda3/envs/nlp/lib/python3.12/site-packages (20240419.142143)\n",
      "Requirement already satisfied: daal4py>=2024.0 in /home/ben/anaconda3/envs/nlp/lib/python3.12/site-packages (from scikit-learn-intelex) (2024.3.0)\n",
      "Requirement already satisfied: scikit-learn>=1.0 in /home/ben/anaconda3/envs/nlp/lib/python3.12/site-packages (from scikit-learn-intelex) (1.4.2)\n",
      "Requirement already satisfied: numpy>=1.23.5 in /home/ben/anaconda3/envs/nlp/lib/python3.12/site-packages (from daal4py>=2024.0->scikit-learn-intelex) (1.26.4)\n",
      "Requirement already satisfied: scipy>=1.6.0 in /home/ben/anaconda3/envs/nlp/lib/python3.12/site-packages (from scikit-learn>=1.0->scikit-learn-intelex) (1.13.0)\n",
      "Requirement already satisfied: joblib>=1.2.0 in /home/ben/anaconda3/envs/nlp/lib/python3.12/site-packages (from scikit-learn>=1.0->scikit-learn-intelex) (1.4.0)\n",
      "Requirement already satisfied: threadpoolctl>=2.0.0 in /home/ben/anaconda3/envs/nlp/lib/python3.12/site-packages (from scikit-learn>=1.0->scikit-learn-intelex) (3.4.0)\n"
     ]
    }
   ],
   "source": [
    "# in case the following packages are missing please pip install them\n",
    "# the following package will accelarate scikit-learn algorithms execution on Intel silicon\n",
    "!pip install scikit-learn-intelex"
   ]
  },
  {
   "cell_type": "markdown",
   "metadata": {
    "id": "qsBUCxFaE-He"
   },
   "source": [
    "### Getting Started\n",
    "\n",
    "Our dataset comes from the UCI Machine Learning repository [link](https://archive.ics.uci.edu/ml/datasets/bank+marketing).  The data is from a Portugese banking institution and is a collection of the results of multiple marketing campaigns.  We will make use of the article accompanying the dataset [here](CRISP-DM-BANK.pdf) for more information on the data and features.\n",
    "\n"
   ]
  },
  {
   "cell_type": "markdown",
   "metadata": {
    "id": "OnVpWC3nE-Hf"
   },
   "source": [
    "### Problem 1: Understanding the Data\n",
    "\n",
    "To gain a better understanding of the data, please read the information provided in the UCI link above, and examine the **Materials and Methods** section of the paper.  How many marketing campaigns does this data represent?"
   ]
  },
  {
   "cell_type": "markdown",
   "metadata": {
    "id": "1Dz0SiMuE-Hh"
   },
   "source": [
    "### Problem 2: Read in the Data\n",
    "\n",
    "Use pandas to read in the dataset `bank-additional-full.csv` and assign to a meaningful variable name."
   ]
  },
  {
   "cell_type": "code",
   "execution_count": 3,
   "metadata": {
    "ExecuteTime": {
     "end_time": "2024-04-22T01:50:11.699119Z",
     "start_time": "2024-04-22T01:50:10.185099Z"
    },
    "colab": {
     "base_uri": "https://localhost:8080/"
    },
    "id": "i9kWj6QAE-Hh",
    "outputId": "48485158-f68d-4876-8e4f-4f1cd96e1cfd"
   },
   "outputs": [],
   "source": [
    "import pandas as pd\n",
    "import numpy as np\n",
    "import matplotlib.pyplot as plt\n",
    "import plotly.express as px\n",
    "import plotly.io as pio\n",
    "import seaborn as sns\n",
    "from plotly.offline import init_notebook_mode, iplot\n",
    "pio.renderers.default = \"svg\"\n",
    "\n",
    "# from sklearnex import patch_sklearn\n",
    "# patch_sklearn()\n",
    "\n",
    "# init_notebook_mode(connected=True)"
   ]
  },
  {
   "cell_type": "code",
   "execution_count": 4,
   "metadata": {
    "ExecuteTime": {
     "end_time": "2024-04-22T01:50:13.283562Z",
     "start_time": "2024-04-22T01:50:13.133345Z"
    },
    "id": "xqgoHmjOHVAA"
   },
   "outputs": [],
   "source": [
    "df = pd.read_csv('data/bank-additional-full.csv', sep = ';')"
   ]
  },
  {
   "cell_type": "markdown",
   "metadata": {
    "id": "viovMUXQE-Hi"
   },
   "source": [
    "### Problem 3: Understanding the Features\n",
    "\n",
    "\n",
    "Examine the data description below, and determine if any of the features are missing values or need to be coerced to a different data type.\n",
    "\n",
    "\n",
    "```\n",
    "Input variables:\n",
    "# bank client data:\n",
    "1 - age (numeric)\n",
    "2 - job : type of job (categorical: 'admin.','blue-collar','entrepreneur','housemaid','management','retired','self-employed','services','student','technician','unemployed','unknown')\n",
    "3 - marital : marital status (categorical: 'divorced','married','single','unknown'; note: 'divorced' means divorced or widowed)\n",
    "4 - education (categorical: 'basic.4y','basic.6y','basic.9y','high.school','illiterate','professional.course','university.degree','unknown')\n",
    "5 - default: has credit in default? (categorical: 'no','yes','unknown')\n",
    "6 - housing: has housing loan? (categorical: 'no','yes','unknown')\n",
    "7 - loan: has personal loan? (categorical: 'no','yes','unknown')\n",
    "# related with the last contact of the current campaign:\n",
    "8 - contact: contact communication type (categorical: 'cellular','telephone')\n",
    "9 - month: last contact month of year (categorical: 'jan', 'feb', 'mar', ..., 'nov', 'dec')\n",
    "10 - day_of_week: last contact day of the week (categorical: 'mon','tue','wed','thu','fri')\n",
    "11 - duration: last contact duration, in seconds (numeric). Important note: this attribute highly affects the output target (e.g., if duration=0 then y='no'). Yet, the duration is not known before a call is performed. Also, after the end of the call y is obviously known. Thus, this input should only be included for benchmark purposes and should be discarded if the intention is to have a realistic predictive model.\n",
    "# other attributes:\n",
    "12 - campaign: number of contacts performed during this campaign and for this client (numeric, includes last contact)\n",
    "13 - pdays: number of days that passed by after the client was last contacted from a previous campaign (numeric; 999 means client was not previously contacted)\n",
    "14 - previous: number of contacts performed before this campaign and for this client (numeric)\n",
    "15 - poutcome: outcome of the previous marketing campaign (categorical: 'failure','nonexistent','success')\n",
    "# social and economic context attributes\n",
    "16 - emp.var.rate: employment variation rate - quarterly indicator (numeric)\n",
    "17 - cons.price.idx: consumer price index - monthly indicator (numeric)\n",
    "18 - cons.conf.idx: consumer confidence index - monthly indicator (numeric)\n",
    "19 - euribor3m: euribor 3 month rate - daily indicator (numeric)\n",
    "20 - nr.employed: number of employees - quarterly indicator (numeric)\n",
    "\n",
    "Output variable (desired target):\n",
    "21 - y - has the client subscribed a term deposit? (binary: 'yes','no')\n",
    "```\n",
    "\n"
   ]
  },
  {
   "cell_type": "code",
   "execution_count": 5,
   "metadata": {
    "ExecuteTime": {
     "end_time": "2024-04-22T01:50:17.476418Z",
     "start_time": "2024-04-22T01:50:17.374234Z"
    },
    "colab": {
     "base_uri": "https://localhost:8080/"
    },
    "id": "-MQkFJ9nE-Hj",
    "outputId": "473137b8-882b-4c7f-ae75-42351c7ff2a4",
    "scrolled": true
   },
   "outputs": [
    {
     "name": "stdout",
     "output_type": "stream",
     "text": [
      "<class 'pandas.core.frame.DataFrame'>\n",
      "RangeIndex: 41188 entries, 0 to 41187\n",
      "Data columns (total 21 columns):\n",
      " #   Column          Non-Null Count  Dtype  \n",
      "---  ------          --------------  -----  \n",
      " 0   age             41188 non-null  int64  \n",
      " 1   job             41188 non-null  object \n",
      " 2   marital         41188 non-null  object \n",
      " 3   education       41188 non-null  object \n",
      " 4   default         41188 non-null  object \n",
      " 5   housing         41188 non-null  object \n",
      " 6   loan            41188 non-null  object \n",
      " 7   contact         41188 non-null  object \n",
      " 8   month           41188 non-null  object \n",
      " 9   day_of_week     41188 non-null  object \n",
      " 10  duration        41188 non-null  int64  \n",
      " 11  campaign        41188 non-null  int64  \n",
      " 12  pdays           41188 non-null  int64  \n",
      " 13  previous        41188 non-null  int64  \n",
      " 14  poutcome        41188 non-null  object \n",
      " 15  emp.var.rate    41188 non-null  float64\n",
      " 16  cons.price.idx  41188 non-null  float64\n",
      " 17  cons.conf.idx   41188 non-null  float64\n",
      " 18  euribor3m       41188 non-null  float64\n",
      " 19  nr.employed     41188 non-null  float64\n",
      " 20  y               41188 non-null  object \n",
      "dtypes: float64(5), int64(5), object(11)\n",
      "memory usage: 6.6+ MB\n"
     ]
    }
   ],
   "source": [
    "df.info()"
   ]
  },
  {
   "cell_type": "code",
   "execution_count": 38,
   "metadata": {},
   "outputs": [
    {
     "data": {
      "text/plain": [
       "array([4.857, 4.856, 4.855, 4.859, 4.86 , 4.858, 4.864, 4.865, 4.866,\n",
       "       4.967, 4.961, 4.959, 4.958, 4.96 , 4.962, 4.955, 4.947, 4.956,\n",
       "       4.966, 4.963, 4.957, 4.968, 4.97 , 4.965, 4.964, 5.045, 5.   ,\n",
       "       4.936, 4.921, 4.918, 4.912, 4.827, 4.794, 4.76 , 4.733, 4.7  ,\n",
       "       4.663, 4.592, 4.474, 4.406, 4.343, 4.286, 4.245, 4.223, 4.191,\n",
       "       4.153, 4.12 , 4.076, 4.021, 3.901, 3.879, 3.853, 3.816, 3.743,\n",
       "       3.669, 3.563, 3.488, 3.428, 3.329, 3.282, 3.053, 1.811, 1.799,\n",
       "       1.778, 1.757, 1.726, 1.703, 1.687, 1.663, 1.65 , 1.64 , 1.629,\n",
       "       1.614, 1.602, 1.584, 1.574, 1.56 , 1.556, 1.548, 1.538, 1.531,\n",
       "       1.52 , 1.51 , 1.498, 1.483, 1.479, 1.466, 1.453, 1.445, 1.435,\n",
       "       1.423, 1.415, 1.41 , 1.405, 1.406, 1.4  , 1.392, 1.384, 1.372,\n",
       "       1.365, 1.354, 1.344, 1.334, 1.327, 1.313, 1.299, 1.291, 1.281,\n",
       "       1.266, 1.25 , 1.244, 1.259, 1.264, 1.27 , 1.262, 1.26 , 1.268,\n",
       "       1.286, 1.252, 1.235, 1.224, 1.215, 1.206, 1.099, 1.085, 1.072,\n",
       "       1.059, 1.048, 1.044, 1.029, 1.018, 1.007, 0.996, 0.979, 0.969,\n",
       "       0.944, 0.937, 0.933, 0.927, 0.921, 0.914, 0.908, 0.903, 0.899,\n",
       "       0.884, 0.883, 0.881, 0.879, 0.873, 0.869, 0.861, 0.859, 0.854,\n",
       "       0.851, 0.849, 0.843, 0.838, 0.834, 0.829, 0.825, 0.821, 0.819,\n",
       "       0.813, 0.809, 0.803, 0.797, 0.788, 0.781, 0.778, 0.773, 0.771,\n",
       "       0.77 , 0.768, 0.766, 0.762, 0.755, 0.749, 0.743, 0.741, 0.739,\n",
       "       0.75 , 0.753, 0.754, 0.752, 0.744, 0.74 , 0.742, 0.737, 0.735,\n",
       "       0.733, 0.73 , 0.731, 0.728, 0.724, 0.722, 0.72 , 0.719, 0.716,\n",
       "       0.715, 0.714, 0.718, 0.721, 0.717, 0.712, 0.71 , 0.709, 0.708,\n",
       "       0.706, 0.707, 0.7  , 0.655, 0.654, 0.653, 0.652, 0.651, 0.65 ,\n",
       "       0.649, 0.646, 0.644, 0.643, 0.639, 0.637, 0.635, 0.636, 0.634,\n",
       "       0.638, 0.64 , 0.642, 0.645, 0.659, 0.663, 0.668, 0.672, 0.677,\n",
       "       0.682, 0.683, 0.684, 0.685, 0.688, 0.69 , 0.692, 0.695, 0.697,\n",
       "       0.699, 0.701, 0.702, 0.704, 0.711, 0.713, 0.723, 0.727, 0.729,\n",
       "       0.732, 0.748, 0.761, 0.767, 0.782, 0.79 , 0.793, 0.802, 0.81 ,\n",
       "       0.822, 0.827, 0.835, 0.84 , 0.846, 0.87 , 0.876, 0.885, 0.889,\n",
       "       0.893, 0.896, 0.898, 0.9  , 0.904, 0.905, 0.895, 0.894, 0.891,\n",
       "       0.89 , 0.888, 0.886, 0.882, 0.88 , 0.878, 0.877, 0.942, 0.953,\n",
       "       0.956, 0.959, 0.965, 0.972, 0.977, 0.982, 0.985, 0.987, 0.993,\n",
       "       1.   , 1.008, 1.016, 1.025, 1.032, 1.037, 1.043, 1.045, 1.047,\n",
       "       1.05 , 1.049, 1.046, 1.041, 1.04 , 1.039, 1.035, 1.03 , 1.031,\n",
       "       1.028])"
      ]
     },
     "execution_count": 38,
     "metadata": {},
     "output_type": "execute_result"
    }
   ],
   "source": [
    "df['euribor3m'].unique()"
   ]
  },
  {
   "cell_type": "markdown",
   "metadata": {
    "id": "xhl7u4uWE-Hj"
   },
   "source": [
    "from the `info` we can see that:\n",
    "* No null values (no need for data implutation)\n",
    "* We need to encode features 1-9 (Object type) and the target feature `y`"
   ]
  },
  {
   "cell_type": "code",
   "execution_count": 36,
   "metadata": {
    "ExecuteTime": {
     "end_time": "2024-04-22T01:50:20.319996Z",
     "start_time": "2024-04-22T01:50:20.291906Z"
    },
    "colab": {
     "base_uri": "https://localhost:8080/",
     "height": 255
    },
    "id": "uoTZF1b4iNzi",
    "outputId": "36d1ffd7-b743-4702-9a26-e6a1eca18063"
   },
   "outputs": [
    {
     "data": {
      "text/html": [
       "<div>\n",
       "<style scoped>\n",
       "    .dataframe tbody tr th:only-of-type {\n",
       "        vertical-align: middle;\n",
       "    }\n",
       "\n",
       "    .dataframe tbody tr th {\n",
       "        vertical-align: top;\n",
       "    }\n",
       "\n",
       "    .dataframe thead th {\n",
       "        text-align: right;\n",
       "    }\n",
       "</style>\n",
       "<table border=\"1\" class=\"dataframe\">\n",
       "  <thead>\n",
       "    <tr style=\"text-align: right;\">\n",
       "      <th></th>\n",
       "      <th>age</th>\n",
       "      <th>job</th>\n",
       "      <th>marital</th>\n",
       "      <th>education</th>\n",
       "      <th>default</th>\n",
       "      <th>housing</th>\n",
       "      <th>loan</th>\n",
       "      <th>contact</th>\n",
       "      <th>month</th>\n",
       "      <th>day_of_week</th>\n",
       "      <th>...</th>\n",
       "      <th>campaign</th>\n",
       "      <th>pdays</th>\n",
       "      <th>previous</th>\n",
       "      <th>poutcome</th>\n",
       "      <th>emp.var.rate</th>\n",
       "      <th>cons.price.idx</th>\n",
       "      <th>cons.conf.idx</th>\n",
       "      <th>euribor3m</th>\n",
       "      <th>nr.employed</th>\n",
       "      <th>y</th>\n",
       "    </tr>\n",
       "    <tr>\n",
       "      <th>index</th>\n",
       "      <th></th>\n",
       "      <th></th>\n",
       "      <th></th>\n",
       "      <th></th>\n",
       "      <th></th>\n",
       "      <th></th>\n",
       "      <th></th>\n",
       "      <th></th>\n",
       "      <th></th>\n",
       "      <th></th>\n",
       "      <th></th>\n",
       "      <th></th>\n",
       "      <th></th>\n",
       "      <th></th>\n",
       "      <th></th>\n",
       "      <th></th>\n",
       "      <th></th>\n",
       "      <th></th>\n",
       "      <th></th>\n",
       "      <th></th>\n",
       "      <th></th>\n",
       "    </tr>\n",
       "  </thead>\n",
       "  <tbody>\n",
       "    <tr>\n",
       "      <th>0</th>\n",
       "      <td>56</td>\n",
       "      <td>housemaid</td>\n",
       "      <td>married</td>\n",
       "      <td>basic.4y</td>\n",
       "      <td>no</td>\n",
       "      <td>no</td>\n",
       "      <td>no</td>\n",
       "      <td>telephone</td>\n",
       "      <td>may</td>\n",
       "      <td>mon</td>\n",
       "      <td>...</td>\n",
       "      <td>1</td>\n",
       "      <td>999</td>\n",
       "      <td>0</td>\n",
       "      <td>nonexistent</td>\n",
       "      <td>1.1</td>\n",
       "      <td>93.994</td>\n",
       "      <td>-36.4</td>\n",
       "      <td>4.857</td>\n",
       "      <td>5191.0</td>\n",
       "      <td>0</td>\n",
       "    </tr>\n",
       "    <tr>\n",
       "      <th>1</th>\n",
       "      <td>57</td>\n",
       "      <td>services</td>\n",
       "      <td>married</td>\n",
       "      <td>high.school</td>\n",
       "      <td>unknown</td>\n",
       "      <td>no</td>\n",
       "      <td>no</td>\n",
       "      <td>telephone</td>\n",
       "      <td>may</td>\n",
       "      <td>mon</td>\n",
       "      <td>...</td>\n",
       "      <td>1</td>\n",
       "      <td>999</td>\n",
       "      <td>0</td>\n",
       "      <td>nonexistent</td>\n",
       "      <td>1.1</td>\n",
       "      <td>93.994</td>\n",
       "      <td>-36.4</td>\n",
       "      <td>4.857</td>\n",
       "      <td>5191.0</td>\n",
       "      <td>0</td>\n",
       "    </tr>\n",
       "    <tr>\n",
       "      <th>2</th>\n",
       "      <td>37</td>\n",
       "      <td>services</td>\n",
       "      <td>married</td>\n",
       "      <td>high.school</td>\n",
       "      <td>no</td>\n",
       "      <td>yes</td>\n",
       "      <td>no</td>\n",
       "      <td>telephone</td>\n",
       "      <td>may</td>\n",
       "      <td>mon</td>\n",
       "      <td>...</td>\n",
       "      <td>1</td>\n",
       "      <td>999</td>\n",
       "      <td>0</td>\n",
       "      <td>nonexistent</td>\n",
       "      <td>1.1</td>\n",
       "      <td>93.994</td>\n",
       "      <td>-36.4</td>\n",
       "      <td>4.857</td>\n",
       "      <td>5191.0</td>\n",
       "      <td>0</td>\n",
       "    </tr>\n",
       "    <tr>\n",
       "      <th>3</th>\n",
       "      <td>40</td>\n",
       "      <td>admin.</td>\n",
       "      <td>married</td>\n",
       "      <td>basic.6y</td>\n",
       "      <td>no</td>\n",
       "      <td>no</td>\n",
       "      <td>no</td>\n",
       "      <td>telephone</td>\n",
       "      <td>may</td>\n",
       "      <td>mon</td>\n",
       "      <td>...</td>\n",
       "      <td>1</td>\n",
       "      <td>999</td>\n",
       "      <td>0</td>\n",
       "      <td>nonexistent</td>\n",
       "      <td>1.1</td>\n",
       "      <td>93.994</td>\n",
       "      <td>-36.4</td>\n",
       "      <td>4.857</td>\n",
       "      <td>5191.0</td>\n",
       "      <td>0</td>\n",
       "    </tr>\n",
       "    <tr>\n",
       "      <th>4</th>\n",
       "      <td>56</td>\n",
       "      <td>services</td>\n",
       "      <td>married</td>\n",
       "      <td>high.school</td>\n",
       "      <td>no</td>\n",
       "      <td>no</td>\n",
       "      <td>yes</td>\n",
       "      <td>telephone</td>\n",
       "      <td>may</td>\n",
       "      <td>mon</td>\n",
       "      <td>...</td>\n",
       "      <td>1</td>\n",
       "      <td>999</td>\n",
       "      <td>0</td>\n",
       "      <td>nonexistent</td>\n",
       "      <td>1.1</td>\n",
       "      <td>93.994</td>\n",
       "      <td>-36.4</td>\n",
       "      <td>4.857</td>\n",
       "      <td>5191.0</td>\n",
       "      <td>0</td>\n",
       "    </tr>\n",
       "    <tr>\n",
       "      <th>...</th>\n",
       "      <td>...</td>\n",
       "      <td>...</td>\n",
       "      <td>...</td>\n",
       "      <td>...</td>\n",
       "      <td>...</td>\n",
       "      <td>...</td>\n",
       "      <td>...</td>\n",
       "      <td>...</td>\n",
       "      <td>...</td>\n",
       "      <td>...</td>\n",
       "      <td>...</td>\n",
       "      <td>...</td>\n",
       "      <td>...</td>\n",
       "      <td>...</td>\n",
       "      <td>...</td>\n",
       "      <td>...</td>\n",
       "      <td>...</td>\n",
       "      <td>...</td>\n",
       "      <td>...</td>\n",
       "      <td>...</td>\n",
       "      <td>...</td>\n",
       "    </tr>\n",
       "    <tr>\n",
       "      <th>95</th>\n",
       "      <td>45</td>\n",
       "      <td>services</td>\n",
       "      <td>married</td>\n",
       "      <td>professional.course</td>\n",
       "      <td>no</td>\n",
       "      <td>yes</td>\n",
       "      <td>no</td>\n",
       "      <td>telephone</td>\n",
       "      <td>may</td>\n",
       "      <td>mon</td>\n",
       "      <td>...</td>\n",
       "      <td>1</td>\n",
       "      <td>999</td>\n",
       "      <td>0</td>\n",
       "      <td>nonexistent</td>\n",
       "      <td>1.1</td>\n",
       "      <td>93.994</td>\n",
       "      <td>-36.4</td>\n",
       "      <td>4.857</td>\n",
       "      <td>5191.0</td>\n",
       "      <td>0</td>\n",
       "    </tr>\n",
       "    <tr>\n",
       "      <th>96</th>\n",
       "      <td>42</td>\n",
       "      <td>management</td>\n",
       "      <td>married</td>\n",
       "      <td>university.degree</td>\n",
       "      <td>no</td>\n",
       "      <td>no</td>\n",
       "      <td>no</td>\n",
       "      <td>telephone</td>\n",
       "      <td>may</td>\n",
       "      <td>mon</td>\n",
       "      <td>...</td>\n",
       "      <td>1</td>\n",
       "      <td>999</td>\n",
       "      <td>0</td>\n",
       "      <td>nonexistent</td>\n",
       "      <td>1.1</td>\n",
       "      <td>93.994</td>\n",
       "      <td>-36.4</td>\n",
       "      <td>4.857</td>\n",
       "      <td>5191.0</td>\n",
       "      <td>0</td>\n",
       "    </tr>\n",
       "    <tr>\n",
       "      <th>97</th>\n",
       "      <td>53</td>\n",
       "      <td>admin.</td>\n",
       "      <td>divorced</td>\n",
       "      <td>university.degree</td>\n",
       "      <td>unknown</td>\n",
       "      <td>no</td>\n",
       "      <td>no</td>\n",
       "      <td>telephone</td>\n",
       "      <td>may</td>\n",
       "      <td>mon</td>\n",
       "      <td>...</td>\n",
       "      <td>1</td>\n",
       "      <td>999</td>\n",
       "      <td>0</td>\n",
       "      <td>nonexistent</td>\n",
       "      <td>1.1</td>\n",
       "      <td>93.994</td>\n",
       "      <td>-36.4</td>\n",
       "      <td>4.857</td>\n",
       "      <td>5191.0</td>\n",
       "      <td>0</td>\n",
       "    </tr>\n",
       "    <tr>\n",
       "      <th>98</th>\n",
       "      <td>37</td>\n",
       "      <td>technician</td>\n",
       "      <td>single</td>\n",
       "      <td>professional.course</td>\n",
       "      <td>no</td>\n",
       "      <td>no</td>\n",
       "      <td>no</td>\n",
       "      <td>telephone</td>\n",
       "      <td>may</td>\n",
       "      <td>mon</td>\n",
       "      <td>...</td>\n",
       "      <td>1</td>\n",
       "      <td>999</td>\n",
       "      <td>0</td>\n",
       "      <td>nonexistent</td>\n",
       "      <td>1.1</td>\n",
       "      <td>93.994</td>\n",
       "      <td>-36.4</td>\n",
       "      <td>4.857</td>\n",
       "      <td>5191.0</td>\n",
       "      <td>0</td>\n",
       "    </tr>\n",
       "    <tr>\n",
       "      <th>99</th>\n",
       "      <td>44</td>\n",
       "      <td>blue-collar</td>\n",
       "      <td>married</td>\n",
       "      <td>basic.6y</td>\n",
       "      <td>no</td>\n",
       "      <td>no</td>\n",
       "      <td>no</td>\n",
       "      <td>telephone</td>\n",
       "      <td>may</td>\n",
       "      <td>mon</td>\n",
       "      <td>...</td>\n",
       "      <td>1</td>\n",
       "      <td>999</td>\n",
       "      <td>0</td>\n",
       "      <td>nonexistent</td>\n",
       "      <td>1.1</td>\n",
       "      <td>93.994</td>\n",
       "      <td>-36.4</td>\n",
       "      <td>4.857</td>\n",
       "      <td>5191.0</td>\n",
       "      <td>0</td>\n",
       "    </tr>\n",
       "  </tbody>\n",
       "</table>\n",
       "<p>100 rows × 21 columns</p>\n",
       "</div>"
      ],
      "text/plain": [
       "       age          job   marital            education  default housing loan  \\\n",
       "index                                                                          \n",
       "0       56    housemaid   married             basic.4y       no      no   no   \n",
       "1       57     services   married          high.school  unknown      no   no   \n",
       "2       37     services   married          high.school       no     yes   no   \n",
       "3       40       admin.   married             basic.6y       no      no   no   \n",
       "4       56     services   married          high.school       no      no  yes   \n",
       "...    ...          ...       ...                  ...      ...     ...  ...   \n",
       "95      45     services   married  professional.course       no     yes   no   \n",
       "96      42   management   married    university.degree       no      no   no   \n",
       "97      53       admin.  divorced    university.degree  unknown      no   no   \n",
       "98      37   technician    single  professional.course       no      no   no   \n",
       "99      44  blue-collar   married             basic.6y       no      no   no   \n",
       "\n",
       "         contact month day_of_week  ...  campaign  pdays  previous  \\\n",
       "index                               ...                              \n",
       "0      telephone   may         mon  ...         1    999         0   \n",
       "1      telephone   may         mon  ...         1    999         0   \n",
       "2      telephone   may         mon  ...         1    999         0   \n",
       "3      telephone   may         mon  ...         1    999         0   \n",
       "4      telephone   may         mon  ...         1    999         0   \n",
       "...          ...   ...         ...  ...       ...    ...       ...   \n",
       "95     telephone   may         mon  ...         1    999         0   \n",
       "96     telephone   may         mon  ...         1    999         0   \n",
       "97     telephone   may         mon  ...         1    999         0   \n",
       "98     telephone   may         mon  ...         1    999         0   \n",
       "99     telephone   may         mon  ...         1    999         0   \n",
       "\n",
       "          poutcome emp.var.rate  cons.price.idx  cons.conf.idx  euribor3m  \\\n",
       "index                                                                       \n",
       "0      nonexistent          1.1          93.994          -36.4      4.857   \n",
       "1      nonexistent          1.1          93.994          -36.4      4.857   \n",
       "2      nonexistent          1.1          93.994          -36.4      4.857   \n",
       "3      nonexistent          1.1          93.994          -36.4      4.857   \n",
       "4      nonexistent          1.1          93.994          -36.4      4.857   \n",
       "...            ...          ...             ...            ...        ...   \n",
       "95     nonexistent          1.1          93.994          -36.4      4.857   \n",
       "96     nonexistent          1.1          93.994          -36.4      4.857   \n",
       "97     nonexistent          1.1          93.994          -36.4      4.857   \n",
       "98     nonexistent          1.1          93.994          -36.4      4.857   \n",
       "99     nonexistent          1.1          93.994          -36.4      4.857   \n",
       "\n",
       "       nr.employed  y  \n",
       "index                  \n",
       "0           5191.0  0  \n",
       "1           5191.0  0  \n",
       "2           5191.0  0  \n",
       "3           5191.0  0  \n",
       "4           5191.0  0  \n",
       "...            ... ..  \n",
       "95          5191.0  0  \n",
       "96          5191.0  0  \n",
       "97          5191.0  0  \n",
       "98          5191.0  0  \n",
       "99          5191.0  0  \n",
       "\n",
       "[100 rows x 21 columns]"
      ]
     },
     "execution_count": 36,
     "metadata": {},
     "output_type": "execute_result"
    }
   ],
   "source": [
    "df.head(100)"
   ]
  },
  {
   "cell_type": "code",
   "execution_count": 7,
   "metadata": {
    "ExecuteTime": {
     "end_time": "2024-04-22T01:50:23.790331Z",
     "start_time": "2024-04-22T01:50:22.735585Z"
    },
    "colab": {
     "base_uri": "https://localhost:8080/",
     "height": 506
    },
    "id": "0bXBE_OJLg4n",
    "outputId": "0d47c39d-642a-44d5-937f-b83ac21006b2"
   },
   "outputs": [
    {
     "data": {
      "image/svg+xml": [
       "<svg class=\"main-svg\" xmlns=\"http://www.w3.org/2000/svg\" xmlns:xlink=\"http://www.w3.org/1999/xlink\" width=\"600\" height=\"400\" style=\"\" viewBox=\"0 0 600 400\"><rect x=\"0\" y=\"0\" width=\"600\" height=\"400\" style=\"fill: rgb(255, 255, 255); fill-opacity: 1;\"/><defs id=\"defs-e7cad9\"><g class=\"clips\"><clipPath id=\"clipe7cad9xyplot\" class=\"plotclip\"><rect width=\"341\" height=\"260\"/></clipPath><clipPath class=\"axesclip\" id=\"clipe7cad9x\"><rect x=\"80\" y=\"0\" width=\"341\" height=\"400\"/></clipPath><clipPath class=\"axesclip\" id=\"clipe7cad9y\"><rect x=\"0\" y=\"60\" width=\"600\" height=\"260\"/></clipPath><clipPath class=\"axesclip\" id=\"clipe7cad9xy\"><rect x=\"80\" y=\"60\" width=\"341\" height=\"260\"/></clipPath></g><g class=\"gradients\"/><g class=\"patterns\"/></defs><g class=\"bglayer\"><rect class=\"bg\" x=\"80\" y=\"60\" width=\"341\" height=\"260\" style=\"fill: rgb(229, 236, 246); fill-opacity: 1; stroke-width: 0;\"/></g><g class=\"layer-below\"><g class=\"imagelayer\"/><g class=\"shapelayer\"/></g><g class=\"cartesianlayer\"><g class=\"subplot xy\"><g class=\"layer-subplot\"><g class=\"shapelayer\"/><g class=\"imagelayer\"/></g><g class=\"minor-gridlayer\"><g class=\"x\"/><g class=\"y\"/></g><g class=\"gridlayer\"><g class=\"x\"/><g class=\"y\"><path class=\"ygrid crisp\" transform=\"translate(0,252.42)\" d=\"M80,0h341\" style=\"stroke: rgb(255, 255, 255); stroke-opacity: 1; stroke-width: 1px;\"/><path class=\"ygrid crisp\" transform=\"translate(0,184.84)\" d=\"M80,0h341\" style=\"stroke: rgb(255, 255, 255); stroke-opacity: 1; stroke-width: 1px;\"/><path class=\"ygrid crisp\" transform=\"translate(0,117.25)\" d=\"M80,0h341\" style=\"stroke: rgb(255, 255, 255); stroke-opacity: 1; stroke-width: 1px;\"/></g></g><g class=\"zerolinelayer\"><path class=\"yzl zl crisp\" transform=\"translate(0,320)\" d=\"M80,0h341\" style=\"stroke: rgb(255, 255, 255); stroke-opacity: 1; stroke-width: 2px;\"/></g><path class=\"xlines-below\"/><path class=\"ylines-below\"/><g class=\"overlines-below\"/><g class=\"xaxislayer-below\"/><g class=\"yaxislayer-below\"/><g class=\"overaxes-below\"/><g class=\"plot\" transform=\"translate(80,60)\" clip-path=\"url(#clipe7cad9xyplot)\"><g class=\"barlayer mlayer\"><g class=\"trace bars\" style=\"opacity: 1;\"><g class=\"points\"><g class=\"point\"><path d=\"M17.05,260V13H153.45V260Z\" style=\"vector-effect: none; opacity: 1; stroke-width: 0px; fill: rgb(99, 110, 250); fill-opacity: 1;\"/><text class=\"bartext bartext-inside\" text-anchor=\"middle\" data-notex=\"1\" x=\"0\" y=\"0\" style=\"font-family: 'Open Sans', verdana, arial, sans-serif; font-size: 12px; fill: rgb(255, 255, 255); fill-opacity: 1; white-space: pre;\" transform=\"translate(84.75,27)\">36.548k</text></g></g></g><g class=\"trace bars\" style=\"opacity: 1;\"><g class=\"points\"><g class=\"point\"><path d=\"M187.55,260V228.64H323.95V260Z\" style=\"vector-effect: none; opacity: 1; stroke-width: 0px; fill: rgb(239, 85, 59); fill-opacity: 1;\"/><text class=\"bartext bartext-inside\" text-anchor=\"middle\" data-notex=\"1\" x=\"0\" y=\"0\" style=\"font-family: 'Open Sans', verdana, arial, sans-serif; font-size: 12px; fill: rgb(68, 68, 68); fill-opacity: 1; white-space: pre;\" transform=\"translate(255.5859375,242.64)\">4640</text></g></g></g></g></g><g class=\"overplot\"/><path class=\"xlines-above crisp\" d=\"M0,0\" style=\"fill: none;\"/><path class=\"ylines-above crisp\" d=\"M0,0\" style=\"fill: none;\"/><g class=\"overlines-above\"/><g class=\"xaxislayer-above\"><g class=\"xtick\"><text text-anchor=\"middle\" x=\"0\" y=\"333\" transform=\"translate(165.25,0)\" style=\"font-family: 'Open Sans', verdana, arial, sans-serif; font-size: 12px; fill: rgb(42, 63, 95); fill-opacity: 1; white-space: pre; opacity: 1;\">no</text></g><g class=\"xtick\"><text text-anchor=\"middle\" x=\"0\" y=\"333\" transform=\"translate(335.75,0)\" style=\"font-family: 'Open Sans', verdana, arial, sans-serif; font-size: 12px; fill: rgb(42, 63, 95); fill-opacity: 1; white-space: pre; opacity: 1;\">yes</text></g></g><g class=\"yaxislayer-above\"><g class=\"ytick\"><text text-anchor=\"end\" x=\"79\" y=\"4.199999999999999\" transform=\"translate(0,320)\" style=\"font-family: 'Open Sans', verdana, arial, sans-serif; font-size: 12px; fill: rgb(42, 63, 95); fill-opacity: 1; white-space: pre; opacity: 1;\">0</text></g><g class=\"ytick\"><text text-anchor=\"end\" x=\"79\" y=\"4.199999999999999\" style=\"font-family: 'Open Sans', verdana, arial, sans-serif; font-size: 12px; fill: rgb(42, 63, 95); fill-opacity: 1; white-space: pre; opacity: 1;\" transform=\"translate(0,252.42)\">10k</text></g><g class=\"ytick\"><text text-anchor=\"end\" x=\"79\" y=\"4.199999999999999\" style=\"font-family: 'Open Sans', verdana, arial, sans-serif; font-size: 12px; fill: rgb(42, 63, 95); fill-opacity: 1; white-space: pre; opacity: 1;\" transform=\"translate(0,184.84)\">20k</text></g><g class=\"ytick\"><text text-anchor=\"end\" x=\"79\" y=\"4.199999999999999\" style=\"font-family: 'Open Sans', verdana, arial, sans-serif; font-size: 12px; fill: rgb(42, 63, 95); fill-opacity: 1; white-space: pre; opacity: 1;\" transform=\"translate(0,117.25)\">30k</text></g></g><g class=\"overaxes-above\"/></g></g><g class=\"polarlayer\"/><g class=\"smithlayer\"/><g class=\"ternarylayer\"/><g class=\"geolayer\"/><g class=\"funnelarealayer\"/><g class=\"pielayer\"/><g class=\"iciclelayer\"/><g class=\"treemaplayer\"/><g class=\"sunburstlayer\"/><g class=\"glimages\"/><defs id=\"topdefs-e7cad9\"><g class=\"clips\"/><clipPath id=\"legende7cad9\"><rect width=\"160\" height=\"67\" x=\"0\" y=\"0\"/></clipPath></defs><g class=\"layer-above\"><g class=\"imagelayer\"/><g class=\"shapelayer\"/></g><g class=\"infolayer\"><g class=\"legend\" pointer-events=\"all\" transform=\"translate(427.82,60)\"><rect class=\"bg\" shape-rendering=\"crispEdges\" style=\"stroke: rgb(68, 68, 68); stroke-opacity: 1; fill: rgb(255, 255, 255); fill-opacity: 1; stroke-width: 0px;\" width=\"160\" height=\"67\" x=\"0\" y=\"0\"/><g class=\"scrollbox\" transform=\"\" clip-path=\"url(#legende7cad9)\"><text class=\"legendtitletext\" text-anchor=\"start\" x=\"2\" y=\"18.2\" style=\"font-family: 'Open Sans', verdana, arial, sans-serif; font-size: 14px; fill: rgb(42, 63, 95); fill-opacity: 1; white-space: pre;\">Subscription Aceeptance</text><g class=\"groups\" transform=\"\"><g class=\"traces\" transform=\"translate(0,32.7)\" style=\"opacity: 1;\"><text class=\"legendtext\" text-anchor=\"start\" x=\"40\" y=\"4.680000000000001\" style=\"font-family: 'Open Sans', verdana, arial, sans-serif; font-size: 12px; fill: rgb(42, 63, 95); fill-opacity: 1; white-space: pre;\">no</text><g class=\"layers\" style=\"opacity: 1;\"><g class=\"legendfill\"/><g class=\"legendlines\"/><g class=\"legendsymbols\"><g class=\"legendpoints\"><path class=\"legendundefined\" d=\"M6,6H-6V-6H6Z\" transform=\"translate(20,0)\" style=\"stroke-width: 0px; fill: rgb(99, 110, 250); fill-opacity: 1;\"/></g></g></g><rect class=\"legendtoggle\" x=\"0\" y=\"-9.5\" width=\"58.6875\" height=\"19\" style=\"fill: rgb(0, 0, 0); fill-opacity: 0;\"/></g></g><g class=\"groups\" transform=\"\"><g class=\"traces\" transform=\"translate(0,51.7)\" style=\"opacity: 1;\"><text class=\"legendtext\" text-anchor=\"start\" x=\"40\" y=\"4.680000000000001\" style=\"font-family: 'Open Sans', verdana, arial, sans-serif; font-size: 12px; fill: rgb(42, 63, 95); fill-opacity: 1; white-space: pre;\">yes</text><g class=\"layers\" style=\"opacity: 1;\"><g class=\"legendfill\"/><g class=\"legendlines\"/><g class=\"legendsymbols\"><g class=\"legendpoints\"><path class=\"legendundefined\" d=\"M6,6H-6V-6H6Z\" transform=\"translate(20,0)\" style=\"stroke-width: 0px; fill: rgb(239, 85, 59); fill-opacity: 1;\"/></g></g></g><rect class=\"legendtoggle\" x=\"0\" y=\"-9.5\" width=\"58.6875\" height=\"19\" style=\"fill: rgb(0, 0, 0); fill-opacity: 0;\"/></g></g></g><rect class=\"scrollbar\" rx=\"20\" ry=\"3\" width=\"0\" height=\"0\" style=\"fill: rgb(128, 139, 164); fill-opacity: 1;\" x=\"0\" y=\"0\"/></g><g class=\"g-gtitle\"><text class=\"gtitle\" x=\"300\" y=\"20\" text-anchor=\"middle\" dy=\"0.7em\" style=\"font-family: 'Open Sans', verdana, arial, sans-serif; font-size: 17px; fill: rgb(42, 63, 95); opacity: 1; font-weight: normal; white-space: pre;\">Subscription acceptance (Yes/No)</text></g><g class=\"g-xtitle\"><text class=\"xtitle\" x=\"250.5\" y=\"360.3\" text-anchor=\"middle\" style=\"font-family: 'Open Sans', verdana, arial, sans-serif; font-size: 14px; fill: rgb(42, 63, 95); opacity: 1; font-weight: normal; white-space: pre;\">Count</text></g><g class=\"g-ytitle\"><text class=\"ytitle\" transform=\"rotate(-90,35.340625,190)\" x=\"35.340625\" y=\"190\" text-anchor=\"middle\" style=\"font-family: 'Open Sans', verdana, arial, sans-serif; font-size: 14px; fill: rgb(42, 63, 95); opacity: 1; font-weight: normal; white-space: pre;\">Acceptance</text></g></g></svg>"
      ]
     },
     "metadata": {},
     "output_type": "display_data"
    }
   ],
   "source": [
    "fig = px.histogram(df, x='y', color='y', text_auto=True,\n",
    "                   labels={\"y\": \"Subscription Aceeptance\"})\n",
    "fig.update_layout(title='Subscription acceptance (Yes/No)',\n",
    "                  title_x=0.5, title_y=0.95,\n",
    "                  width=600, height=400,\n",
    "                  yaxis_title='Acceptance',\n",
    "                  xaxis_title='Count')\n",
    "fig.show()"
   ]
  },
  {
   "cell_type": "markdown",
   "metadata": {
    "id": "XEyAsG1AeNAz"
   },
   "source": [
    "We can see that positive acceptance of subscription was 4.6K vs 36.5K that rejected the subscription. This means that there's a clear bias coming from the data and we'll need to take that into consideration when choosing the optimal model for this problem.\n"
   ]
  },
  {
   "cell_type": "code",
   "execution_count": 8,
   "metadata": {
    "ExecuteTime": {
     "end_time": "2024-04-22T01:50:25.658296Z",
     "start_time": "2024-04-22T01:50:25.631700Z"
    },
    "id": "0WbYqJV4wjIc"
   },
   "outputs": [],
   "source": [
    "# encoding categorical target column to numeric\n",
    "df['y'] = df['y'].map({'no': 0, 'yes': 1})"
   ]
  },
  {
   "cell_type": "code",
   "execution_count": 9,
   "metadata": {
    "ExecuteTime": {
     "end_time": "2024-04-22T01:50:26.962538Z",
     "start_time": "2024-04-22T01:50:26.659492Z"
    }
   },
   "outputs": [
    {
     "data": {
      "image/svg+xml": [
       "<svg class=\"main-svg\" xmlns=\"http://www.w3.org/2000/svg\" xmlns:xlink=\"http://www.w3.org/1999/xlink\" width=\"900\" height=\"900\" style=\"\" viewBox=\"0 0 900 900\"><rect x=\"0\" y=\"0\" width=\"900\" height=\"900\" style=\"fill: rgb(255, 255, 255); fill-opacity: 1;\"/><defs id=\"defs-a4ebf8\"><g class=\"clips\"><clipPath id=\"clipa4ebf8xyplot\" class=\"plotclip\"><rect width=\"714\" height=\"714.0000000000001\"/></clipPath><clipPath class=\"axesclip\" id=\"clipa4ebf8x\"><rect x=\"86\" y=\"0\" width=\"714\" height=\"900\"/></clipPath><clipPath class=\"axesclip\" id=\"clipa4ebf8y\"><rect x=\"0\" y=\"82.99999999999994\" width=\"900\" height=\"714.0000000000001\"/></clipPath><clipPath class=\"axesclip\" id=\"clipa4ebf8xy\"><rect x=\"86\" y=\"82.99999999999994\" width=\"714\" height=\"714.0000000000001\"/></clipPath></g><g class=\"gradients\"><linearGradient x1=\"0\" x2=\"0\" y1=\"1\" y2=\"0\" id=\"ga4ebf8-cbcoloraxis\"><stop offset=\"0%\" stop-color=\"rgb(13, 8, 135)\" stop-opacity=\"1\"/><stop offset=\"11.111111%\" stop-color=\"rgb(70, 3, 159)\" stop-opacity=\"1\"/><stop offset=\"22.222222%\" stop-color=\"rgb(114, 1, 168)\" stop-opacity=\"1\"/><stop offset=\"33.333333%\" stop-color=\"rgb(156, 23, 158)\" stop-opacity=\"1\"/><stop offset=\"44.444444%\" stop-color=\"rgb(189, 55, 134)\" stop-opacity=\"1\"/><stop offset=\"55.555556%\" stop-color=\"rgb(216, 87, 107)\" stop-opacity=\"1\"/><stop offset=\"66.666667%\" stop-color=\"rgb(237, 121, 83)\" stop-opacity=\"1\"/><stop offset=\"77.777778%\" stop-color=\"rgb(251, 159, 58)\" stop-opacity=\"1\"/><stop offset=\"88.888889%\" stop-color=\"rgb(253, 202, 38)\" stop-opacity=\"1\"/><stop offset=\"100%\" stop-color=\"rgb(240, 249, 33)\" stop-opacity=\"1\"/></linearGradient></g><g class=\"patterns\"/></defs><g class=\"bglayer\"><rect class=\"bg\" x=\"86\" y=\"82.99999999999994\" width=\"714\" height=\"714.0000000000001\" style=\"fill: rgb(229, 236, 246); fill-opacity: 1; stroke-width: 0;\"/></g><g class=\"layer-below\"><g class=\"imagelayer\"/><g class=\"shapelayer\"/></g><g class=\"cartesianlayer\"><g class=\"subplot xy\"><g class=\"layer-subplot\"><g class=\"shapelayer\"/><g class=\"imagelayer\"/></g><g class=\"minor-gridlayer\"><g class=\"x\"/><g class=\"y\"/></g><g class=\"gridlayer\"><g class=\"x\"><path class=\"xgrid crisp\" transform=\"translate(118.45,0)\" d=\"M0,82.99999999999994v714.0000000000001\" style=\"stroke: rgb(255, 255, 255); stroke-opacity: 1; stroke-width: 1px;\"/><path class=\"xgrid crisp\" transform=\"translate(183.36,0)\" d=\"M0,82.99999999999994v714.0000000000001\" style=\"stroke: rgb(255, 255, 255); stroke-opacity: 1; stroke-width: 1px;\"/><path class=\"xgrid crisp\" transform=\"translate(248.27,0)\" d=\"M0,82.99999999999994v714.0000000000001\" style=\"stroke: rgb(255, 255, 255); stroke-opacity: 1; stroke-width: 1px;\"/><path class=\"xgrid crisp\" transform=\"translate(313.18,0)\" d=\"M0,82.99999999999994v714.0000000000001\" style=\"stroke: rgb(255, 255, 255); stroke-opacity: 1; stroke-width: 1px;\"/><path class=\"xgrid crisp\" transform=\"translate(378.09,0)\" d=\"M0,82.99999999999994v714.0000000000001\" style=\"stroke: rgb(255, 255, 255); stroke-opacity: 1; stroke-width: 1px;\"/><path class=\"xgrid crisp\" transform=\"translate(443,0)\" d=\"M0,82.99999999999994v714.0000000000001\" style=\"stroke: rgb(255, 255, 255); stroke-opacity: 1; stroke-width: 1px;\"/><path class=\"xgrid crisp\" transform=\"translate(507.91,0)\" d=\"M0,82.99999999999994v714.0000000000001\" style=\"stroke: rgb(255, 255, 255); stroke-opacity: 1; stroke-width: 1px;\"/><path class=\"xgrid crisp\" transform=\"translate(572.8199999999999,0)\" d=\"M0,82.99999999999994v714.0000000000001\" style=\"stroke: rgb(255, 255, 255); stroke-opacity: 1; stroke-width: 1px;\"/><path class=\"xgrid crisp\" transform=\"translate(637.73,0)\" d=\"M0,82.99999999999994v714.0000000000001\" style=\"stroke: rgb(255, 255, 255); stroke-opacity: 1; stroke-width: 1px;\"/><path class=\"xgrid crisp\" transform=\"translate(702.64,0)\" d=\"M0,82.99999999999994v714.0000000000001\" style=\"stroke: rgb(255, 255, 255); stroke-opacity: 1; stroke-width: 1px;\"/><path class=\"xgrid crisp\" transform=\"translate(767.55,0)\" d=\"M0,82.99999999999994v714.0000000000001\" style=\"stroke: rgb(255, 255, 255); stroke-opacity: 1; stroke-width: 1px;\"/></g><g class=\"y\"><path class=\"ygrid crisp\" transform=\"translate(0,764.55)\" d=\"M86,0h714\" style=\"stroke: rgb(255, 255, 255); stroke-opacity: 1; stroke-width: 1px;\"/><path class=\"ygrid crisp\" transform=\"translate(0,699.6399999999999)\" d=\"M86,0h714\" style=\"stroke: rgb(255, 255, 255); stroke-opacity: 1; stroke-width: 1px;\"/><path class=\"ygrid crisp\" transform=\"translate(0,634.73)\" d=\"M86,0h714\" style=\"stroke: rgb(255, 255, 255); stroke-opacity: 1; stroke-width: 1px;\"/><path class=\"ygrid crisp\" transform=\"translate(0,569.8199999999999)\" d=\"M86,0h714\" style=\"stroke: rgb(255, 255, 255); stroke-opacity: 1; stroke-width: 1px;\"/><path class=\"ygrid crisp\" transform=\"translate(0,504.90999999999997)\" d=\"M86,0h714\" style=\"stroke: rgb(255, 255, 255); stroke-opacity: 1; stroke-width: 1px;\"/><path class=\"ygrid crisp\" transform=\"translate(0,439.99999999999994)\" d=\"M86,0h714\" style=\"stroke: rgb(255, 255, 255); stroke-opacity: 1; stroke-width: 1px;\"/><path class=\"ygrid crisp\" transform=\"translate(0,375.0899999999999)\" d=\"M86,0h714\" style=\"stroke: rgb(255, 255, 255); stroke-opacity: 1; stroke-width: 1px;\"/><path class=\"ygrid crisp\" transform=\"translate(0,310.17999999999995)\" d=\"M86,0h714\" style=\"stroke: rgb(255, 255, 255); stroke-opacity: 1; stroke-width: 1px;\"/><path class=\"ygrid crisp\" transform=\"translate(0,245.26999999999995)\" d=\"M86,0h714\" style=\"stroke: rgb(255, 255, 255); stroke-opacity: 1; stroke-width: 1px;\"/><path class=\"ygrid crisp\" transform=\"translate(0,180.35999999999996)\" d=\"M86,0h714\" style=\"stroke: rgb(255, 255, 255); stroke-opacity: 1; stroke-width: 1px;\"/><path class=\"ygrid crisp\" transform=\"translate(0,115.44999999999995)\" d=\"M86,0h714\" style=\"stroke: rgb(255, 255, 255); stroke-opacity: 1; stroke-width: 1px;\"/></g></g><g class=\"zerolinelayer\"/><path class=\"xlines-below\"/><path class=\"ylines-below\"/><g class=\"overlines-below\"/><g class=\"xaxislayer-below\"/><g class=\"yaxislayer-below\"/><g class=\"overaxes-below\"/><g class=\"plot\" transform=\"translate(86,82.99999999999994)\" clip-path=\"url(#clipa4ebf8xyplot)\"><g class=\"heatmaplayer mlayer\"><g class=\"hm\"><image xmlns=\"http://www.w3.org/2000/svg\" preserveAspectRatio=\"none\" height=\"714\" width=\"714\" x=\"0\" y=\"0\" xlink:href=\"data:image/png;base64,iVBORw0KGgoAAAANSUhEUgAAAAsAAAALCAYAAACprHcmAAAB1UlEQVQoUyWQTUjTcQBA3+/vttxHrFzO0abOGTn7Jg9lRUFpNCI6CHXo0iG69AVBXcJiVoR0SlOkefCgTJOREDXqUkkRFnoIilooMXObudZWa5vbf/uF653f4fFEcrlBBt1XEEKSW9ZhNOZQ1QpWsNUk+LG0lkK+Ar0+j/A39EvP57uMOa6j1ZRYbcqQza1CpytQLCqoqoZSUXC44yVi1NUnU38MnPzexaudF4ksrmFzc7gsRSIWHPYlhCL5EnIghuw+WSopWKp+c2Cmh1rzWd4ejRGedTA3X01b23v05r9cGzyEGN/YK5EQ/2XiajrGfOoBHYZOdimVNFqy+OIqKSXPSHsY4Xf1y0JBg9MZpcqa4NLEdgKZm5jeGJi+c5zmwCjahMI5l/e/vHLCak2Sy+p4/dFO17PbpPdmmGy5gKfTT+ZrDQPdJxAvWm/JSNSClIJkuhK9tsiWrbMsRtexf7qXhVPHWPi2vnxIjG3ok7mcjvq6GLbaGKcD23ie6EYftBAab8U+8hhNSuG8zYsYrhsoN7saIzg3zXFkqIWZ0D3yw26mJvax56kP1VzijN6LCDT1yN3t73jy8CCTcS2XPR+4H9xBk7GIu/4njz5Vk6bEYPYG/wAgFcGmQVxF9gAAAABJRU5ErkJggg==\" style=\"image-rendering: pixelated; opacity: 1;\"/><g class=\"heatmap-label\"><text text-anchor=\"middle\" data-notex=\"1\" x=\"32\" y=\"34.8\" style=\"font-family: 'Open Sans', verdana, arial, sans-serif; font-size: 8px; fill: rgb(68, 68, 68); fill-opacity: 1; white-space: pre;\">1</text></g><g class=\"heatmap-label\"><text text-anchor=\"middle\" data-notex=\"1\" x=\"97\" y=\"34.8\" style=\"font-family: 'Open Sans', verdana, arial, sans-serif; font-size: 8px; fill: rgb(255, 255, 255); fill-opacity: 1; white-space: pre;\">−865.705μ</text></g><g class=\"heatmap-label\"><text text-anchor=\"middle\" data-notex=\"1\" x=\"162\" y=\"34.8\" style=\"font-family: 'Open Sans', verdana, arial, sans-serif; font-size: 8px; fill: rgb(255, 255, 255); fill-opacity: 1; white-space: pre;\">0.00459358</text></g><g class=\"heatmap-label\"><text text-anchor=\"middle\" data-notex=\"1\" x=\"227\" y=\"34.8\" style=\"font-family: 'Open Sans', verdana, arial, sans-serif; font-size: 8px; fill: rgb(255, 255, 255); fill-opacity: 1; white-space: pre;\">−0.03436895</text></g><g class=\"heatmap-label\"><text text-anchor=\"middle\" data-notex=\"1\" x=\"292\" y=\"34.8\" style=\"font-family: 'Open Sans', verdana, arial, sans-serif; font-size: 8px; fill: rgb(255, 255, 255); fill-opacity: 1; white-space: pre;\">0.02436474</text></g><g class=\"heatmap-label\"><text text-anchor=\"middle\" data-notex=\"1\" x=\"357\" y=\"34.8\" style=\"font-family: 'Open Sans', verdana, arial, sans-serif; font-size: 8px; fill: rgb(255, 255, 255); fill-opacity: 1; white-space: pre;\">−370.6855μ</text></g><g class=\"heatmap-label\"><text text-anchor=\"middle\" data-notex=\"1\" x=\"422\" y=\"34.8\" style=\"font-family: 'Open Sans', verdana, arial, sans-serif; font-size: 8px; fill: rgb(255, 255, 255); fill-opacity: 1; white-space: pre;\">856.715μ</text></g><g class=\"heatmap-label\"><text text-anchor=\"middle\" data-notex=\"1\" x=\"487\" y=\"34.8\" style=\"font-family: 'Open Sans', verdana, arial, sans-serif; font-size: 8px; fill: rgb(255, 255, 255); fill-opacity: 1; white-space: pre;\">0.1293716</text></g><g class=\"heatmap-label\"><text text-anchor=\"middle\" data-notex=\"1\" x=\"552\" y=\"34.8\" style=\"font-family: 'Open Sans', verdana, arial, sans-serif; font-size: 8px; fill: rgb(255, 255, 255); fill-opacity: 1; white-space: pre;\">0.01076743</text></g><g class=\"heatmap-label\"><text text-anchor=\"middle\" data-notex=\"1\" x=\"617\" y=\"34.8\" style=\"font-family: 'Open Sans', verdana, arial, sans-serif; font-size: 8px; fill: rgb(255, 255, 255); fill-opacity: 1; white-space: pre;\">−0.01772513</text></g><g class=\"heatmap-label\"><text text-anchor=\"middle\" data-notex=\"1\" x=\"682\" y=\"34.8\" style=\"font-family: 'Open Sans', verdana, arial, sans-serif; font-size: 8px; fill: rgb(255, 255, 255); fill-opacity: 1; white-space: pre;\">0.0303988</text></g><g class=\"heatmap-label\"><text text-anchor=\"middle\" data-notex=\"1\" x=\"32\" y=\"99.8\" style=\"font-family: 'Open Sans', verdana, arial, sans-serif; font-size: 8px; fill: rgb(255, 255, 255); fill-opacity: 1; white-space: pre;\">−865.705μ</text></g><g class=\"heatmap-label\"><text text-anchor=\"middle\" data-notex=\"1\" x=\"97\" y=\"99.8\" style=\"font-family: 'Open Sans', verdana, arial, sans-serif; font-size: 8px; fill: rgb(68, 68, 68); fill-opacity: 1; white-space: pre;\">1</text></g><g class=\"heatmap-label\"><text text-anchor=\"middle\" data-notex=\"1\" x=\"162\" y=\"99.8\" style=\"font-family: 'Open Sans', verdana, arial, sans-serif; font-size: 8px; fill: rgb(255, 255, 255); fill-opacity: 1; white-space: pre;\">−0.07169923</text></g><g class=\"heatmap-label\"><text text-anchor=\"middle\" data-notex=\"1\" x=\"227\" y=\"99.8\" style=\"font-family: 'Open Sans', verdana, arial, sans-serif; font-size: 8px; fill: rgb(255, 255, 255); fill-opacity: 1; white-space: pre;\">−0.04757702</text></g><g class=\"heatmap-label\"><text text-anchor=\"middle\" data-notex=\"1\" x=\"292\" y=\"99.8\" style=\"font-family: 'Open Sans', verdana, arial, sans-serif; font-size: 8px; fill: rgb(255, 255, 255); fill-opacity: 1; white-space: pre;\">0.02064035</text></g><g class=\"heatmap-label\"><text text-anchor=\"middle\" data-notex=\"1\" x=\"357\" y=\"99.8\" style=\"font-family: 'Open Sans', verdana, arial, sans-serif; font-size: 8px; fill: rgb(255, 255, 255); fill-opacity: 1; white-space: pre;\">−0.02796788</text></g><g class=\"heatmap-label\"><text text-anchor=\"middle\" data-notex=\"1\" x=\"422\" y=\"99.8\" style=\"font-family: 'Open Sans', verdana, arial, sans-serif; font-size: 8px; fill: rgb(255, 255, 255); fill-opacity: 1; white-space: pre;\">0.005312268</text></g><g class=\"heatmap-label\"><text text-anchor=\"middle\" data-notex=\"1\" x=\"487\" y=\"99.8\" style=\"font-family: 'Open Sans', verdana, arial, sans-serif; font-size: 8px; fill: rgb(255, 255, 255); fill-opacity: 1; white-space: pre;\">−0.008172873</text></g><g class=\"heatmap-label\"><text text-anchor=\"middle\" data-notex=\"1\" x=\"552\" y=\"99.8\" style=\"font-family: 'Open Sans', verdana, arial, sans-serif; font-size: 8px; fill: rgb(255, 255, 255); fill-opacity: 1; white-space: pre;\">−0.03289666</text></g><g class=\"heatmap-label\"><text text-anchor=\"middle\" data-notex=\"1\" x=\"617\" y=\"99.8\" style=\"font-family: 'Open Sans', verdana, arial, sans-serif; font-size: 8px; fill: rgb(255, 255, 255); fill-opacity: 1; white-space: pre;\">−0.04470322</text></g><g class=\"heatmap-label\"><text text-anchor=\"middle\" data-notex=\"1\" x=\"682\" y=\"99.8\" style=\"font-family: 'Open Sans', verdana, arial, sans-serif; font-size: 8px; fill: rgb(68, 68, 68); fill-opacity: 1; white-space: pre;\">0.4052738</text></g><g class=\"heatmap-label\"><text text-anchor=\"middle\" data-notex=\"1\" x=\"32\" y=\"164.8\" style=\"font-family: 'Open Sans', verdana, arial, sans-serif; font-size: 8px; fill: rgb(255, 255, 255); fill-opacity: 1; white-space: pre;\">0.00459358</text></g><g class=\"heatmap-label\"><text text-anchor=\"middle\" data-notex=\"1\" x=\"97\" y=\"164.8\" style=\"font-family: 'Open Sans', verdana, arial, sans-serif; font-size: 8px; fill: rgb(255, 255, 255); fill-opacity: 1; white-space: pre;\">−0.07169923</text></g><g class=\"heatmap-label\"><text text-anchor=\"middle\" data-notex=\"1\" x=\"162\" y=\"164.8\" style=\"font-family: 'Open Sans', verdana, arial, sans-serif; font-size: 8px; fill: rgb(68, 68, 68); fill-opacity: 1; white-space: pre;\">1</text></g><g class=\"heatmap-label\"><text text-anchor=\"middle\" data-notex=\"1\" x=\"227\" y=\"164.8\" style=\"font-family: 'Open Sans', verdana, arial, sans-serif; font-size: 8px; fill: rgb(255, 255, 255); fill-opacity: 1; white-space: pre;\">0.05258357</text></g><g class=\"heatmap-label\"><text text-anchor=\"middle\" data-notex=\"1\" x=\"292\" y=\"164.8\" style=\"font-family: 'Open Sans', verdana, arial, sans-serif; font-size: 8px; fill: rgb(255, 255, 255); fill-opacity: 1; white-space: pre;\">−0.07914147</text></g><g class=\"heatmap-label\"><text text-anchor=\"middle\" data-notex=\"1\" x=\"357\" y=\"164.8\" style=\"font-family: 'Open Sans', verdana, arial, sans-serif; font-size: 8px; fill: rgb(255, 255, 255); fill-opacity: 1; white-space: pre;\">0.1507538</text></g><g class=\"heatmap-label\"><text text-anchor=\"middle\" data-notex=\"1\" x=\"422\" y=\"164.8\" style=\"font-family: 'Open Sans', verdana, arial, sans-serif; font-size: 8px; fill: rgb(255, 255, 255); fill-opacity: 1; white-space: pre;\">0.1278359</text></g><g class=\"heatmap-label\"><text text-anchor=\"middle\" data-notex=\"1\" x=\"487\" y=\"164.8\" style=\"font-family: 'Open Sans', verdana, arial, sans-serif; font-size: 8px; fill: rgb(255, 255, 255); fill-opacity: 1; white-space: pre;\">−0.0137331</text></g><g class=\"heatmap-label\"><text text-anchor=\"middle\" data-notex=\"1\" x=\"552\" y=\"164.8\" style=\"font-family: 'Open Sans', verdana, arial, sans-serif; font-size: 8px; fill: rgb(255, 255, 255); fill-opacity: 1; white-space: pre;\">0.1351325</text></g><g class=\"heatmap-label\"><text text-anchor=\"middle\" data-notex=\"1\" x=\"617\" y=\"164.8\" style=\"font-family: 'Open Sans', verdana, arial, sans-serif; font-size: 8px; fill: rgb(255, 255, 255); fill-opacity: 1; white-space: pre;\">0.1440949</text></g><g class=\"heatmap-label\"><text text-anchor=\"middle\" data-notex=\"1\" x=\"682\" y=\"164.8\" style=\"font-family: 'Open Sans', verdana, arial, sans-serif; font-size: 8px; fill: rgb(255, 255, 255); fill-opacity: 1; white-space: pre;\">−0.06635741</text></g><g class=\"heatmap-label\"><text text-anchor=\"middle\" data-notex=\"1\" x=\"32\" y=\"229.8\" style=\"font-family: 'Open Sans', verdana, arial, sans-serif; font-size: 8px; fill: rgb(255, 255, 255); fill-opacity: 1; white-space: pre;\">−0.03436895</text></g><g class=\"heatmap-label\"><text text-anchor=\"middle\" data-notex=\"1\" x=\"97\" y=\"229.8\" style=\"font-family: 'Open Sans', verdana, arial, sans-serif; font-size: 8px; fill: rgb(255, 255, 255); fill-opacity: 1; white-space: pre;\">−0.04757702</text></g><g class=\"heatmap-label\"><text text-anchor=\"middle\" data-notex=\"1\" x=\"162\" y=\"229.8\" style=\"font-family: 'Open Sans', verdana, arial, sans-serif; font-size: 8px; fill: rgb(255, 255, 255); fill-opacity: 1; white-space: pre;\">0.05258357</text></g><g class=\"heatmap-label\"><text text-anchor=\"middle\" data-notex=\"1\" x=\"227\" y=\"229.8\" style=\"font-family: 'Open Sans', verdana, arial, sans-serif; font-size: 8px; fill: rgb(68, 68, 68); fill-opacity: 1; white-space: pre;\">1</text></g><g class=\"heatmap-label\"><text text-anchor=\"middle\" data-notex=\"1\" x=\"292\" y=\"229.8\" style=\"font-family: 'Open Sans', verdana, arial, sans-serif; font-size: 8px; fill: rgb(255, 255, 255); fill-opacity: 1; white-space: pre;\">−0.5875139</text></g><g class=\"heatmap-label\"><text text-anchor=\"middle\" data-notex=\"1\" x=\"357\" y=\"229.8\" style=\"font-family: 'Open Sans', verdana, arial, sans-serif; font-size: 8px; fill: rgb(255, 255, 255); fill-opacity: 1; white-space: pre;\">0.2710042</text></g><g class=\"heatmap-label\"><text text-anchor=\"middle\" data-notex=\"1\" x=\"422\" y=\"229.8\" style=\"font-family: 'Open Sans', verdana, arial, sans-serif; font-size: 8px; fill: rgb(255, 255, 255); fill-opacity: 1; white-space: pre;\">0.07888911</text></g><g class=\"heatmap-label\"><text text-anchor=\"middle\" data-notex=\"1\" x=\"487\" y=\"229.8\" style=\"font-family: 'Open Sans', verdana, arial, sans-serif; font-size: 8px; fill: rgb(255, 255, 255); fill-opacity: 1; white-space: pre;\">−0.09134235</text></g><g class=\"heatmap-label\"><text text-anchor=\"middle\" data-notex=\"1\" x=\"552\" y=\"229.8\" style=\"font-family: 'Open Sans', verdana, arial, sans-serif; font-size: 8px; fill: rgb(255, 255, 255); fill-opacity: 1; white-space: pre;\">0.2968991</text></g><g class=\"heatmap-label\"><text text-anchor=\"middle\" data-notex=\"1\" x=\"617\" y=\"229.8\" style=\"font-family: 'Open Sans', verdana, arial, sans-serif; font-size: 8px; fill: rgb(68, 68, 68); fill-opacity: 1; white-space: pre;\">0.3726047</text></g><g class=\"heatmap-label\"><text text-anchor=\"middle\" data-notex=\"1\" x=\"682\" y=\"229.8\" style=\"font-family: 'Open Sans', verdana, arial, sans-serif; font-size: 8px; fill: rgb(255, 255, 255); fill-opacity: 1; white-space: pre;\">−0.3249145</text></g><g class=\"heatmap-label\"><text text-anchor=\"middle\" data-notex=\"1\" x=\"32\" y=\"294.8\" style=\"font-family: 'Open Sans', verdana, arial, sans-serif; font-size: 8px; fill: rgb(255, 255, 255); fill-opacity: 1; white-space: pre;\">0.02436474</text></g><g class=\"heatmap-label\"><text text-anchor=\"middle\" data-notex=\"1\" x=\"97\" y=\"294.8\" style=\"font-family: 'Open Sans', verdana, arial, sans-serif; font-size: 8px; fill: rgb(255, 255, 255); fill-opacity: 1; white-space: pre;\">0.02064035</text></g><g class=\"heatmap-label\"><text text-anchor=\"middle\" data-notex=\"1\" x=\"162\" y=\"294.8\" style=\"font-family: 'Open Sans', verdana, arial, sans-serif; font-size: 8px; fill: rgb(255, 255, 255); fill-opacity: 1; white-space: pre;\">−0.07914147</text></g><g class=\"heatmap-label\"><text text-anchor=\"middle\" data-notex=\"1\" x=\"227\" y=\"294.8\" style=\"font-family: 'Open Sans', verdana, arial, sans-serif; font-size: 8px; fill: rgb(255, 255, 255); fill-opacity: 1; white-space: pre;\">−0.5875139</text></g><g class=\"heatmap-label\"><text text-anchor=\"middle\" data-notex=\"1\" x=\"292\" y=\"294.8\" style=\"font-family: 'Open Sans', verdana, arial, sans-serif; font-size: 8px; fill: rgb(68, 68, 68); fill-opacity: 1; white-space: pre;\">1</text></g><g class=\"heatmap-label\"><text text-anchor=\"middle\" data-notex=\"1\" x=\"357\" y=\"294.8\" style=\"font-family: 'Open Sans', verdana, arial, sans-serif; font-size: 8px; fill: rgb(255, 255, 255); fill-opacity: 1; white-space: pre;\">−0.4204891</text></g><g class=\"heatmap-label\"><text text-anchor=\"middle\" data-notex=\"1\" x=\"422\" y=\"294.8\" style=\"font-family: 'Open Sans', verdana, arial, sans-serif; font-size: 8px; fill: rgb(255, 255, 255); fill-opacity: 1; white-space: pre;\">−0.20313</text></g><g class=\"heatmap-label\"><text text-anchor=\"middle\" data-notex=\"1\" x=\"487\" y=\"294.8\" style=\"font-family: 'Open Sans', verdana, arial, sans-serif; font-size: 8px; fill: rgb(255, 255, 255); fill-opacity: 1; white-space: pre;\">−0.05093635</text></g><g class=\"heatmap-label\"><text text-anchor=\"middle\" data-notex=\"1\" x=\"552\" y=\"294.8\" style=\"font-family: 'Open Sans', verdana, arial, sans-serif; font-size: 8px; fill: rgb(255, 255, 255); fill-opacity: 1; white-space: pre;\">−0.4544937</text></g><g class=\"heatmap-label\"><text text-anchor=\"middle\" data-notex=\"1\" x=\"617\" y=\"294.8\" style=\"font-family: 'Open Sans', verdana, arial, sans-serif; font-size: 8px; fill: rgb(255, 255, 255); fill-opacity: 1; white-space: pre;\">−0.5013329</text></g><g class=\"heatmap-label\"><text text-anchor=\"middle\" data-notex=\"1\" x=\"682\" y=\"294.8\" style=\"font-family: 'Open Sans', verdana, arial, sans-serif; font-size: 8px; fill: rgb(255, 255, 255); fill-opacity: 1; white-space: pre;\">0.230181</text></g><g class=\"heatmap-label\"><text text-anchor=\"middle\" data-notex=\"1\" x=\"32\" y=\"359.8\" style=\"font-family: 'Open Sans', verdana, arial, sans-serif; font-size: 8px; fill: rgb(255, 255, 255); fill-opacity: 1; white-space: pre;\">−370.6855μ</text></g><g class=\"heatmap-label\"><text text-anchor=\"middle\" data-notex=\"1\" x=\"97\" y=\"359.8\" style=\"font-family: 'Open Sans', verdana, arial, sans-serif; font-size: 8px; fill: rgb(255, 255, 255); fill-opacity: 1; white-space: pre;\">−0.02796788</text></g><g class=\"heatmap-label\"><text text-anchor=\"middle\" data-notex=\"1\" x=\"162\" y=\"359.8\" style=\"font-family: 'Open Sans', verdana, arial, sans-serif; font-size: 8px; fill: rgb(255, 255, 255); fill-opacity: 1; white-space: pre;\">0.1507538</text></g><g class=\"heatmap-label\"><text text-anchor=\"middle\" data-notex=\"1\" x=\"227\" y=\"359.8\" style=\"font-family: 'Open Sans', verdana, arial, sans-serif; font-size: 8px; fill: rgb(255, 255, 255); fill-opacity: 1; white-space: pre;\">0.2710042</text></g><g class=\"heatmap-label\"><text text-anchor=\"middle\" data-notex=\"1\" x=\"292\" y=\"359.8\" style=\"font-family: 'Open Sans', verdana, arial, sans-serif; font-size: 8px; fill: rgb(255, 255, 255); fill-opacity: 1; white-space: pre;\">−0.4204891</text></g><g class=\"heatmap-label\"><text text-anchor=\"middle\" data-notex=\"1\" x=\"357\" y=\"359.8\" style=\"font-family: 'Open Sans', verdana, arial, sans-serif; font-size: 8px; fill: rgb(68, 68, 68); fill-opacity: 1; white-space: pre;\">1</text></g><g class=\"heatmap-label\"><text text-anchor=\"middle\" data-notex=\"1\" x=\"422\" y=\"359.8\" style=\"font-family: 'Open Sans', verdana, arial, sans-serif; font-size: 8px; fill: rgb(68, 68, 68); fill-opacity: 1; white-space: pre;\">0.7753342</text></g><g class=\"heatmap-label\"><text text-anchor=\"middle\" data-notex=\"1\" x=\"487\" y=\"359.8\" style=\"font-family: 'Open Sans', verdana, arial, sans-serif; font-size: 8px; fill: rgb(255, 255, 255); fill-opacity: 1; white-space: pre;\">0.1960413</text></g><g class=\"heatmap-label\"><text text-anchor=\"middle\" data-notex=\"1\" x=\"552\" y=\"359.8\" style=\"font-family: 'Open Sans', verdana, arial, sans-serif; font-size: 8px; fill: rgb(68, 68, 68); fill-opacity: 1; white-space: pre;\">0.9722447</text></g><g class=\"heatmap-label\"><text text-anchor=\"middle\" data-notex=\"1\" x=\"617\" y=\"359.8\" style=\"font-family: 'Open Sans', verdana, arial, sans-serif; font-size: 8px; fill: rgb(68, 68, 68); fill-opacity: 1; white-space: pre;\">0.9069701</text></g><g class=\"heatmap-label\"><text text-anchor=\"middle\" data-notex=\"1\" x=\"682\" y=\"359.8\" style=\"font-family: 'Open Sans', verdana, arial, sans-serif; font-size: 8px; fill: rgb(255, 255, 255); fill-opacity: 1; white-space: pre;\">−0.2983344</text></g><g class=\"heatmap-label\"><text text-anchor=\"middle\" data-notex=\"1\" x=\"32\" y=\"424.8\" style=\"font-family: 'Open Sans', verdana, arial, sans-serif; font-size: 8px; fill: rgb(255, 255, 255); fill-opacity: 1; white-space: pre;\">856.715μ</text></g><g class=\"heatmap-label\"><text text-anchor=\"middle\" data-notex=\"1\" x=\"97\" y=\"424.8\" style=\"font-family: 'Open Sans', verdana, arial, sans-serif; font-size: 8px; fill: rgb(255, 255, 255); fill-opacity: 1; white-space: pre;\">0.005312268</text></g><g class=\"heatmap-label\"><text text-anchor=\"middle\" data-notex=\"1\" x=\"162\" y=\"424.8\" style=\"font-family: 'Open Sans', verdana, arial, sans-serif; font-size: 8px; fill: rgb(255, 255, 255); fill-opacity: 1; white-space: pre;\">0.1278359</text></g><g class=\"heatmap-label\"><text text-anchor=\"middle\" data-notex=\"1\" x=\"227\" y=\"424.8\" style=\"font-family: 'Open Sans', verdana, arial, sans-serif; font-size: 8px; fill: rgb(255, 255, 255); fill-opacity: 1; white-space: pre;\">0.07888911</text></g><g class=\"heatmap-label\"><text text-anchor=\"middle\" data-notex=\"1\" x=\"292\" y=\"424.8\" style=\"font-family: 'Open Sans', verdana, arial, sans-serif; font-size: 8px; fill: rgb(255, 255, 255); fill-opacity: 1; white-space: pre;\">−0.20313</text></g><g class=\"heatmap-label\"><text text-anchor=\"middle\" data-notex=\"1\" x=\"357\" y=\"424.8\" style=\"font-family: 'Open Sans', verdana, arial, sans-serif; font-size: 8px; fill: rgb(68, 68, 68); fill-opacity: 1; white-space: pre;\">0.7753342</text></g><g class=\"heatmap-label\"><text text-anchor=\"middle\" data-notex=\"1\" x=\"422\" y=\"424.8\" style=\"font-family: 'Open Sans', verdana, arial, sans-serif; font-size: 8px; fill: rgb(68, 68, 68); fill-opacity: 1; white-space: pre;\">1</text></g><g class=\"heatmap-label\"><text text-anchor=\"middle\" data-notex=\"1\" x=\"487\" y=\"424.8\" style=\"font-family: 'Open Sans', verdana, arial, sans-serif; font-size: 8px; fill: rgb(255, 255, 255); fill-opacity: 1; white-space: pre;\">0.05898618</text></g><g class=\"heatmap-label\"><text text-anchor=\"middle\" data-notex=\"1\" x=\"552\" y=\"424.8\" style=\"font-family: 'Open Sans', verdana, arial, sans-serif; font-size: 8px; fill: rgb(68, 68, 68); fill-opacity: 1; white-space: pre;\">0.6882301</text></g><g class=\"heatmap-label\"><text text-anchor=\"middle\" data-notex=\"1\" x=\"617\" y=\"424.8\" style=\"font-family: 'Open Sans', verdana, arial, sans-serif; font-size: 8px; fill: rgb(68, 68, 68); fill-opacity: 1; white-space: pre;\">0.522034</text></g><g class=\"heatmap-label\"><text text-anchor=\"middle\" data-notex=\"1\" x=\"682\" y=\"424.8\" style=\"font-family: 'Open Sans', verdana, arial, sans-serif; font-size: 8px; fill: rgb(255, 255, 255); fill-opacity: 1; white-space: pre;\">−0.1362112</text></g><g class=\"heatmap-label\"><text text-anchor=\"middle\" data-notex=\"1\" x=\"32\" y=\"489.8\" style=\"font-family: 'Open Sans', verdana, arial, sans-serif; font-size: 8px; fill: rgb(255, 255, 255); fill-opacity: 1; white-space: pre;\">0.1293716</text></g><g class=\"heatmap-label\"><text text-anchor=\"middle\" data-notex=\"1\" x=\"97\" y=\"489.8\" style=\"font-family: 'Open Sans', verdana, arial, sans-serif; font-size: 8px; fill: rgb(255, 255, 255); fill-opacity: 1; white-space: pre;\">−0.008172873</text></g><g class=\"heatmap-label\"><text text-anchor=\"middle\" data-notex=\"1\" x=\"162\" y=\"489.8\" style=\"font-family: 'Open Sans', verdana, arial, sans-serif; font-size: 8px; fill: rgb(255, 255, 255); fill-opacity: 1; white-space: pre;\">−0.0137331</text></g><g class=\"heatmap-label\"><text text-anchor=\"middle\" data-notex=\"1\" x=\"227\" y=\"489.8\" style=\"font-family: 'Open Sans', verdana, arial, sans-serif; font-size: 8px; fill: rgb(255, 255, 255); fill-opacity: 1; white-space: pre;\">−0.09134235</text></g><g class=\"heatmap-label\"><text text-anchor=\"middle\" data-notex=\"1\" x=\"292\" y=\"489.8\" style=\"font-family: 'Open Sans', verdana, arial, sans-serif; font-size: 8px; fill: rgb(255, 255, 255); fill-opacity: 1; white-space: pre;\">−0.05093635</text></g><g class=\"heatmap-label\"><text text-anchor=\"middle\" data-notex=\"1\" x=\"357\" y=\"489.8\" style=\"font-family: 'Open Sans', verdana, arial, sans-serif; font-size: 8px; fill: rgb(255, 255, 255); fill-opacity: 1; white-space: pre;\">0.1960413</text></g><g class=\"heatmap-label\"><text text-anchor=\"middle\" data-notex=\"1\" x=\"422\" y=\"489.8\" style=\"font-family: 'Open Sans', verdana, arial, sans-serif; font-size: 8px; fill: rgb(255, 255, 255); fill-opacity: 1; white-space: pre;\">0.05898618</text></g><g class=\"heatmap-label\"><text text-anchor=\"middle\" data-notex=\"1\" x=\"487\" y=\"489.8\" style=\"font-family: 'Open Sans', verdana, arial, sans-serif; font-size: 8px; fill: rgb(68, 68, 68); fill-opacity: 1; white-space: pre;\">1</text></g><g class=\"heatmap-label\"><text text-anchor=\"middle\" data-notex=\"1\" x=\"552\" y=\"489.8\" style=\"font-family: 'Open Sans', verdana, arial, sans-serif; font-size: 8px; fill: rgb(255, 255, 255); fill-opacity: 1; white-space: pre;\">0.2776862</text></g><g class=\"heatmap-label\"><text text-anchor=\"middle\" data-notex=\"1\" x=\"617\" y=\"489.8\" style=\"font-family: 'Open Sans', verdana, arial, sans-serif; font-size: 8px; fill: rgb(255, 255, 255); fill-opacity: 1; white-space: pre;\">0.1005134</text></g><g class=\"heatmap-label\"><text text-anchor=\"middle\" data-notex=\"1\" x=\"682\" y=\"489.8\" style=\"font-family: 'Open Sans', verdana, arial, sans-serif; font-size: 8px; fill: rgb(255, 255, 255); fill-opacity: 1; white-space: pre;\">0.05487795</text></g><g class=\"heatmap-label\"><text text-anchor=\"middle\" data-notex=\"1\" x=\"32\" y=\"554.8\" style=\"font-family: 'Open Sans', verdana, arial, sans-serif; font-size: 8px; fill: rgb(255, 255, 255); fill-opacity: 1; white-space: pre;\">0.01076743</text></g><g class=\"heatmap-label\"><text text-anchor=\"middle\" data-notex=\"1\" x=\"97\" y=\"554.8\" style=\"font-family: 'Open Sans', verdana, arial, sans-serif; font-size: 8px; fill: rgb(255, 255, 255); fill-opacity: 1; white-space: pre;\">−0.03289666</text></g><g class=\"heatmap-label\"><text text-anchor=\"middle\" data-notex=\"1\" x=\"162\" y=\"554.8\" style=\"font-family: 'Open Sans', verdana, arial, sans-serif; font-size: 8px; fill: rgb(255, 255, 255); fill-opacity: 1; white-space: pre;\">0.1351325</text></g><g class=\"heatmap-label\"><text text-anchor=\"middle\" data-notex=\"1\" x=\"227\" y=\"554.8\" style=\"font-family: 'Open Sans', verdana, arial, sans-serif; font-size: 8px; fill: rgb(255, 255, 255); fill-opacity: 1; white-space: pre;\">0.2968991</text></g><g class=\"heatmap-label\"><text text-anchor=\"middle\" data-notex=\"1\" x=\"292\" y=\"554.8\" style=\"font-family: 'Open Sans', verdana, arial, sans-serif; font-size: 8px; fill: rgb(255, 255, 255); fill-opacity: 1; white-space: pre;\">−0.4544937</text></g><g class=\"heatmap-label\"><text text-anchor=\"middle\" data-notex=\"1\" x=\"357\" y=\"554.8\" style=\"font-family: 'Open Sans', verdana, arial, sans-serif; font-size: 8px; fill: rgb(68, 68, 68); fill-opacity: 1; white-space: pre;\">0.9722447</text></g><g class=\"heatmap-label\"><text text-anchor=\"middle\" data-notex=\"1\" x=\"422\" y=\"554.8\" style=\"font-family: 'Open Sans', verdana, arial, sans-serif; font-size: 8px; fill: rgb(68, 68, 68); fill-opacity: 1; white-space: pre;\">0.6882301</text></g><g class=\"heatmap-label\"><text text-anchor=\"middle\" data-notex=\"1\" x=\"487\" y=\"554.8\" style=\"font-family: 'Open Sans', verdana, arial, sans-serif; font-size: 8px; fill: rgb(255, 255, 255); fill-opacity: 1; white-space: pre;\">0.2776862</text></g><g class=\"heatmap-label\"><text text-anchor=\"middle\" data-notex=\"1\" x=\"552\" y=\"554.8\" style=\"font-family: 'Open Sans', verdana, arial, sans-serif; font-size: 8px; fill: rgb(68, 68, 68); fill-opacity: 1; white-space: pre;\">1</text></g><g class=\"heatmap-label\"><text text-anchor=\"middle\" data-notex=\"1\" x=\"617\" y=\"554.8\" style=\"font-family: 'Open Sans', verdana, arial, sans-serif; font-size: 8px; fill: rgb(68, 68, 68); fill-opacity: 1; white-space: pre;\">0.9451544</text></g><g class=\"heatmap-label\"><text text-anchor=\"middle\" data-notex=\"1\" x=\"682\" y=\"554.8\" style=\"font-family: 'Open Sans', verdana, arial, sans-serif; font-size: 8px; fill: rgb(255, 255, 255); fill-opacity: 1; white-space: pre;\">−0.3077714</text></g><g class=\"heatmap-label\"><text text-anchor=\"middle\" data-notex=\"1\" x=\"32\" y=\"619.8\" style=\"font-family: 'Open Sans', verdana, arial, sans-serif; font-size: 8px; fill: rgb(255, 255, 255); fill-opacity: 1; white-space: pre;\">−0.01772513</text></g><g class=\"heatmap-label\"><text text-anchor=\"middle\" data-notex=\"1\" x=\"97\" y=\"619.8\" style=\"font-family: 'Open Sans', verdana, arial, sans-serif; font-size: 8px; fill: rgb(255, 255, 255); fill-opacity: 1; white-space: pre;\">−0.04470322</text></g><g class=\"heatmap-label\"><text text-anchor=\"middle\" data-notex=\"1\" x=\"162\" y=\"619.8\" style=\"font-family: 'Open Sans', verdana, arial, sans-serif; font-size: 8px; fill: rgb(255, 255, 255); fill-opacity: 1; white-space: pre;\">0.1440949</text></g><g class=\"heatmap-label\"><text text-anchor=\"middle\" data-notex=\"1\" x=\"227\" y=\"619.8\" style=\"font-family: 'Open Sans', verdana, arial, sans-serif; font-size: 8px; fill: rgb(68, 68, 68); fill-opacity: 1; white-space: pre;\">0.3726047</text></g><g class=\"heatmap-label\"><text text-anchor=\"middle\" data-notex=\"1\" x=\"292\" y=\"619.8\" style=\"font-family: 'Open Sans', verdana, arial, sans-serif; font-size: 8px; fill: rgb(255, 255, 255); fill-opacity: 1; white-space: pre;\">−0.5013329</text></g><g class=\"heatmap-label\"><text text-anchor=\"middle\" data-notex=\"1\" x=\"357\" y=\"619.8\" style=\"font-family: 'Open Sans', verdana, arial, sans-serif; font-size: 8px; fill: rgb(68, 68, 68); fill-opacity: 1; white-space: pre;\">0.9069701</text></g><g class=\"heatmap-label\"><text text-anchor=\"middle\" data-notex=\"1\" x=\"422\" y=\"619.8\" style=\"font-family: 'Open Sans', verdana, arial, sans-serif; font-size: 8px; fill: rgb(68, 68, 68); fill-opacity: 1; white-space: pre;\">0.522034</text></g><g class=\"heatmap-label\"><text text-anchor=\"middle\" data-notex=\"1\" x=\"487\" y=\"619.8\" style=\"font-family: 'Open Sans', verdana, arial, sans-serif; font-size: 8px; fill: rgb(255, 255, 255); fill-opacity: 1; white-space: pre;\">0.1005134</text></g><g class=\"heatmap-label\"><text text-anchor=\"middle\" data-notex=\"1\" x=\"552\" y=\"619.8\" style=\"font-family: 'Open Sans', verdana, arial, sans-serif; font-size: 8px; fill: rgb(68, 68, 68); fill-opacity: 1; white-space: pre;\">0.9451544</text></g><g class=\"heatmap-label\"><text text-anchor=\"middle\" data-notex=\"1\" x=\"617\" y=\"619.8\" style=\"font-family: 'Open Sans', verdana, arial, sans-serif; font-size: 8px; fill: rgb(68, 68, 68); fill-opacity: 1; white-space: pre;\">1</text></g><g class=\"heatmap-label\"><text text-anchor=\"middle\" data-notex=\"1\" x=\"682\" y=\"619.8\" style=\"font-family: 'Open Sans', verdana, arial, sans-serif; font-size: 8px; fill: rgb(255, 255, 255); fill-opacity: 1; white-space: pre;\">−0.3546783</text></g><g class=\"heatmap-label\"><text text-anchor=\"middle\" data-notex=\"1\" x=\"32\" y=\"684.8\" style=\"font-family: 'Open Sans', verdana, arial, sans-serif; font-size: 8px; fill: rgb(255, 255, 255); fill-opacity: 1; white-space: pre;\">0.0303988</text></g><g class=\"heatmap-label\"><text text-anchor=\"middle\" data-notex=\"1\" x=\"97\" y=\"684.8\" style=\"font-family: 'Open Sans', verdana, arial, sans-serif; font-size: 8px; fill: rgb(68, 68, 68); fill-opacity: 1; white-space: pre;\">0.4052738</text></g><g class=\"heatmap-label\"><text text-anchor=\"middle\" data-notex=\"1\" x=\"162\" y=\"684.8\" style=\"font-family: 'Open Sans', verdana, arial, sans-serif; font-size: 8px; fill: rgb(255, 255, 255); fill-opacity: 1; white-space: pre;\">−0.06635741</text></g><g class=\"heatmap-label\"><text text-anchor=\"middle\" data-notex=\"1\" x=\"227\" y=\"684.8\" style=\"font-family: 'Open Sans', verdana, arial, sans-serif; font-size: 8px; fill: rgb(255, 255, 255); fill-opacity: 1; white-space: pre;\">−0.3249145</text></g><g class=\"heatmap-label\"><text text-anchor=\"middle\" data-notex=\"1\" x=\"292\" y=\"684.8\" style=\"font-family: 'Open Sans', verdana, arial, sans-serif; font-size: 8px; fill: rgb(255, 255, 255); fill-opacity: 1; white-space: pre;\">0.230181</text></g><g class=\"heatmap-label\"><text text-anchor=\"middle\" data-notex=\"1\" x=\"357\" y=\"684.8\" style=\"font-family: 'Open Sans', verdana, arial, sans-serif; font-size: 8px; fill: rgb(255, 255, 255); fill-opacity: 1; white-space: pre;\">−0.2983344</text></g><g class=\"heatmap-label\"><text text-anchor=\"middle\" data-notex=\"1\" x=\"422\" y=\"684.8\" style=\"font-family: 'Open Sans', verdana, arial, sans-serif; font-size: 8px; fill: rgb(255, 255, 255); fill-opacity: 1; white-space: pre;\">−0.1362112</text></g><g class=\"heatmap-label\"><text text-anchor=\"middle\" data-notex=\"1\" x=\"487\" y=\"684.8\" style=\"font-family: 'Open Sans', verdana, arial, sans-serif; font-size: 8px; fill: rgb(255, 255, 255); fill-opacity: 1; white-space: pre;\">0.05487795</text></g><g class=\"heatmap-label\"><text text-anchor=\"middle\" data-notex=\"1\" x=\"552\" y=\"684.8\" style=\"font-family: 'Open Sans', verdana, arial, sans-serif; font-size: 8px; fill: rgb(255, 255, 255); fill-opacity: 1; white-space: pre;\">−0.3077714</text></g><g class=\"heatmap-label\"><text text-anchor=\"middle\" data-notex=\"1\" x=\"617\" y=\"684.8\" style=\"font-family: 'Open Sans', verdana, arial, sans-serif; font-size: 8px; fill: rgb(255, 255, 255); fill-opacity: 1; white-space: pre;\">−0.3546783</text></g><g class=\"heatmap-label\"><text text-anchor=\"middle\" data-notex=\"1\" x=\"682\" y=\"684.8\" style=\"font-family: 'Open Sans', verdana, arial, sans-serif; font-size: 8px; fill: rgb(68, 68, 68); fill-opacity: 1; white-space: pre;\">1</text></g></g></g></g><g class=\"overplot\"/><path class=\"xlines-above crisp\" d=\"M0,0\" style=\"fill: none;\"/><path class=\"ylines-above crisp\" d=\"M0,0\" style=\"fill: none;\"/><g class=\"overlines-above\"/><g class=\"xaxislayer-above\"><g class=\"xtick\"><text text-anchor=\"start\" x=\"0\" y=\"810\" transform=\"translate(118.45,0) rotate(29.999999999999996,0,804)\" style=\"font-family: 'Open Sans', verdana, arial, sans-serif; font-size: 12px; fill: rgb(42, 63, 95); fill-opacity: 1; white-space: pre; opacity: 1;\">age</text></g><g class=\"xtick\"><text text-anchor=\"start\" x=\"0\" y=\"810\" transform=\"translate(183.36,0) rotate(29.999999999999996,0,804)\" style=\"font-family: 'Open Sans', verdana, arial, sans-serif; font-size: 12px; fill: rgb(42, 63, 95); fill-opacity: 1; white-space: pre; opacity: 1;\">duration</text></g><g class=\"xtick\"><text text-anchor=\"start\" x=\"0\" y=\"810\" transform=\"translate(248.27,0) rotate(29.999999999999996,0,804)\" style=\"font-family: 'Open Sans', verdana, arial, sans-serif; font-size: 12px; fill: rgb(42, 63, 95); fill-opacity: 1; white-space: pre; opacity: 1;\">campaign</text></g><g class=\"xtick\"><text text-anchor=\"start\" x=\"0\" y=\"810\" transform=\"translate(313.18,0) rotate(29.999999999999996,0,804)\" style=\"font-family: 'Open Sans', verdana, arial, sans-serif; font-size: 12px; fill: rgb(42, 63, 95); fill-opacity: 1; white-space: pre; opacity: 1;\">pdays</text></g><g class=\"xtick\"><text text-anchor=\"start\" x=\"0\" y=\"810\" transform=\"translate(378.09,0) rotate(29.999999999999996,0,804)\" style=\"font-family: 'Open Sans', verdana, arial, sans-serif; font-size: 12px; fill: rgb(42, 63, 95); fill-opacity: 1; white-space: pre; opacity: 1;\">previous</text></g><g class=\"xtick\"><text text-anchor=\"start\" x=\"0\" y=\"810\" transform=\"translate(443,0) rotate(29.999999999999996,0,804)\" style=\"font-family: 'Open Sans', verdana, arial, sans-serif; font-size: 12px; fill: rgb(42, 63, 95); fill-opacity: 1; white-space: pre; opacity: 1;\">emp.var.rate</text></g><g class=\"xtick\"><text text-anchor=\"start\" x=\"0\" y=\"810\" transform=\"translate(507.91,0) rotate(29.999999999999996,0,804)\" style=\"font-family: 'Open Sans', verdana, arial, sans-serif; font-size: 12px; fill: rgb(42, 63, 95); fill-opacity: 1; white-space: pre; opacity: 1;\">cons.price.idx</text></g><g class=\"xtick\"><text text-anchor=\"start\" x=\"0\" y=\"810\" transform=\"translate(572.8199999999999,0) rotate(29.999999999999996,0,804)\" style=\"font-family: 'Open Sans', verdana, arial, sans-serif; font-size: 12px; fill: rgb(42, 63, 95); fill-opacity: 1; white-space: pre; opacity: 1;\">cons.conf.idx</text></g><g class=\"xtick\"><text text-anchor=\"start\" x=\"0\" y=\"810\" transform=\"translate(637.73,0) rotate(29.999999999999996,0,804)\" style=\"font-family: 'Open Sans', verdana, arial, sans-serif; font-size: 12px; fill: rgb(42, 63, 95); fill-opacity: 1; white-space: pre; opacity: 1;\">euribor3m</text></g><g class=\"xtick\"><text text-anchor=\"start\" x=\"0\" y=\"810\" transform=\"translate(702.64,0) rotate(29.999999999999996,0,804)\" style=\"font-family: 'Open Sans', verdana, arial, sans-serif; font-size: 12px; fill: rgb(42, 63, 95); fill-opacity: 1; white-space: pre; opacity: 1;\">nr.employed</text></g><g class=\"xtick\"><text text-anchor=\"start\" x=\"0\" y=\"810\" transform=\"translate(767.55,0) rotate(29.999999999999996,0,804)\" style=\"font-family: 'Open Sans', verdana, arial, sans-serif; font-size: 12px; fill: rgb(42, 63, 95); fill-opacity: 1; white-space: pre; opacity: 1;\">y</text></g></g><g class=\"yaxislayer-above\"><g class=\"ytick\"><text text-anchor=\"end\" x=\"85\" y=\"4.199999999999999\" transform=\"translate(0,764.55)\" style=\"font-family: 'Open Sans', verdana, arial, sans-serif; font-size: 12px; fill: rgb(42, 63, 95); fill-opacity: 1; white-space: pre; opacity: 1;\">y</text></g><g class=\"ytick\"><text text-anchor=\"end\" x=\"85\" y=\"4.199999999999999\" transform=\"translate(0,699.6399999999999)\" style=\"font-family: 'Open Sans', verdana, arial, sans-serif; font-size: 12px; fill: rgb(42, 63, 95); fill-opacity: 1; white-space: pre; opacity: 1;\">nr.employed</text></g><g class=\"ytick\"><text text-anchor=\"end\" x=\"85\" y=\"4.199999999999999\" transform=\"translate(0,634.73)\" style=\"font-family: 'Open Sans', verdana, arial, sans-serif; font-size: 12px; fill: rgb(42, 63, 95); fill-opacity: 1; white-space: pre; opacity: 1;\">euribor3m</text></g><g class=\"ytick\"><text text-anchor=\"end\" x=\"85\" y=\"4.199999999999999\" transform=\"translate(0,569.8199999999999)\" style=\"font-family: 'Open Sans', verdana, arial, sans-serif; font-size: 12px; fill: rgb(42, 63, 95); fill-opacity: 1; white-space: pre; opacity: 1;\">cons.conf.idx</text></g><g class=\"ytick\"><text text-anchor=\"end\" x=\"85\" y=\"4.199999999999999\" transform=\"translate(0,504.90999999999997)\" style=\"font-family: 'Open Sans', verdana, arial, sans-serif; font-size: 12px; fill: rgb(42, 63, 95); fill-opacity: 1; white-space: pre; opacity: 1;\">cons.price.idx</text></g><g class=\"ytick\"><text text-anchor=\"end\" x=\"85\" y=\"4.199999999999999\" transform=\"translate(0,439.99999999999994)\" style=\"font-family: 'Open Sans', verdana, arial, sans-serif; font-size: 12px; fill: rgb(42, 63, 95); fill-opacity: 1; white-space: pre; opacity: 1;\">emp.var.rate</text></g><g class=\"ytick\"><text text-anchor=\"end\" x=\"85\" y=\"4.199999999999999\" transform=\"translate(0,375.0899999999999)\" style=\"font-family: 'Open Sans', verdana, arial, sans-serif; font-size: 12px; fill: rgb(42, 63, 95); fill-opacity: 1; white-space: pre; opacity: 1;\">previous</text></g><g class=\"ytick\"><text text-anchor=\"end\" x=\"85\" y=\"4.199999999999999\" transform=\"translate(0,310.17999999999995)\" style=\"font-family: 'Open Sans', verdana, arial, sans-serif; font-size: 12px; fill: rgb(42, 63, 95); fill-opacity: 1; white-space: pre; opacity: 1;\">pdays</text></g><g class=\"ytick\"><text text-anchor=\"end\" x=\"85\" y=\"4.199999999999999\" transform=\"translate(0,245.26999999999995)\" style=\"font-family: 'Open Sans', verdana, arial, sans-serif; font-size: 12px; fill: rgb(42, 63, 95); fill-opacity: 1; white-space: pre; opacity: 1;\">campaign</text></g><g class=\"ytick\"><text text-anchor=\"end\" x=\"85\" y=\"4.199999999999999\" transform=\"translate(0,180.35999999999996)\" style=\"font-family: 'Open Sans', verdana, arial, sans-serif; font-size: 12px; fill: rgb(42, 63, 95); fill-opacity: 1; white-space: pre; opacity: 1;\">duration</text></g><g class=\"ytick\"><text text-anchor=\"end\" x=\"85\" y=\"4.199999999999999\" transform=\"translate(0,115.44999999999995)\" style=\"font-family: 'Open Sans', verdana, arial, sans-serif; font-size: 12px; fill: rgb(42, 63, 95); fill-opacity: 1; white-space: pre; opacity: 1;\">age</text></g></g><g class=\"overaxes-above\"/></g></g><g class=\"polarlayer\"/><g class=\"smithlayer\"/><g class=\"ternarylayer\"/><g class=\"geolayer\"/><g class=\"funnelarealayer\"/><g class=\"pielayer\"/><g class=\"iciclelayer\"/><g class=\"treemaplayer\"/><g class=\"sunburstlayer\"/><g class=\"glimages\"/><defs id=\"topdefs-a4ebf8\"><g class=\"clips\"/></defs><g class=\"layer-above\"><g class=\"imagelayer\"/><g class=\"shapelayer\"/></g><g class=\"infolayer\"><g class=\"cbcoloraxis colorbar\" transform=\"translate(86,60)\"><rect class=\"cbbg\" x=\"728\" y=\"0\" width=\"74.03125\" height=\"760\" style=\"fill: rgb(0, 0, 0); fill-opacity: 0; stroke: rgb(68, 68, 68); stroke-opacity: 1; stroke-width: 0;\"/><g class=\"cbfills\" transform=\"translate(0,10)\"><rect class=\"cbfill gradient_filled\" style=\"fill: url('#ga4ebf8-cbcoloraxis');\" x=\"738\" y=\"0\" width=\"30\" height=\"740\"/></g><g class=\"cblines\" transform=\"translate(0,10)\"/><g class=\"cbaxis crisp\" transform=\"translate(0,-60)\"><g class=\"ycbcoloraxistick\"><text text-anchor=\"start\" x=\"770.9\" y=\"4.199999999999999\" transform=\"translate(0,722.59)\" style=\"font-family: 'Open Sans', verdana, arial, sans-serif; font-size: 12px; fill: rgb(42, 63, 95); fill-opacity: 1; white-space: pre; opacity: 1;\">−0.4</text></g><g class=\"ycbcoloraxistick\"><text text-anchor=\"start\" x=\"770.9\" y=\"4.199999999999999\" style=\"font-family: 'Open Sans', verdana, arial, sans-serif; font-size: 12px; fill: rgb(42, 63, 95); fill-opacity: 1; white-space: pre; opacity: 1;\" transform=\"translate(0,629.37)\">−0.2</text></g><g class=\"ycbcoloraxistick\"><text text-anchor=\"start\" x=\"770.9\" y=\"4.199999999999999\" style=\"font-family: 'Open Sans', verdana, arial, sans-serif; font-size: 12px; fill: rgb(42, 63, 95); fill-opacity: 1; white-space: pre; opacity: 1;\" transform=\"translate(0,536.14)\">0</text></g><g class=\"ycbcoloraxistick\"><text text-anchor=\"start\" x=\"770.9\" y=\"4.199999999999999\" style=\"font-family: 'Open Sans', verdana, arial, sans-serif; font-size: 12px; fill: rgb(42, 63, 95); fill-opacity: 1; white-space: pre; opacity: 1;\" transform=\"translate(0,442.9100000000001)\">0.2</text></g><g class=\"ycbcoloraxistick\"><text text-anchor=\"start\" x=\"770.9\" y=\"4.199999999999999\" style=\"font-family: 'Open Sans', verdana, arial, sans-serif; font-size: 12px; fill: rgb(42, 63, 95); fill-opacity: 1; white-space: pre; opacity: 1;\" transform=\"translate(0,349.68000000000006)\">0.4</text></g><g class=\"ycbcoloraxistick\"><text text-anchor=\"start\" x=\"770.9\" y=\"4.199999999999999\" style=\"font-family: 'Open Sans', verdana, arial, sans-serif; font-size: 12px; fill: rgb(42, 63, 95); fill-opacity: 1; white-space: pre; opacity: 1;\" transform=\"translate(0,256.46000000000004)\">0.6</text></g><g class=\"ycbcoloraxistick\"><text text-anchor=\"start\" x=\"770.9\" y=\"4.199999999999999\" style=\"font-family: 'Open Sans', verdana, arial, sans-serif; font-size: 12px; fill: rgb(42, 63, 95); fill-opacity: 1; white-space: pre; opacity: 1;\" transform=\"translate(0,163.23000000000002)\">0.8</text></g><g class=\"ycbcoloraxistick\"><text text-anchor=\"start\" x=\"770.9\" y=\"4.199999999999999\" style=\"font-family: 'Open Sans', verdana, arial, sans-serif; font-size: 12px; fill: rgb(42, 63, 95); fill-opacity: 1; white-space: pre; opacity: 1;\" transform=\"translate(0,70.00000000000003)\">1</text></g></g><g class=\"cbtitleunshift\" transform=\"translate(-86,-60)\"><g class=\"cbtitle\"/></g><rect class=\"cboutline\" x=\"738\" y=\"10\" width=\"30\" height=\"740\" style=\"stroke: rgb(68, 68, 68); stroke-opacity: 1; fill: none; stroke-width: 0;\"/></g><g class=\"g-gtitle\"><text class=\"gtitle\" x=\"378\" y=\"45\" text-anchor=\"middle\" dy=\"0.7em\" style=\"font-family: 'Open Sans', verdana, arial, sans-serif; font-size: 17px; fill: rgb(42, 63, 95); opacity: 1; font-weight: normal; white-space: pre;\">Numeric features heatmap</text></g><g class=\"g-xtitle\"/><g class=\"g-ytitle\"/></g></svg>"
      ]
     },
     "metadata": {},
     "output_type": "display_data"
    }
   ],
   "source": [
    "df_numeric = df.select_dtypes(include=np.number)\n",
    "fig = px.imshow(df_numeric.corr(), text_auto=True)\n",
    "fig.update_layout(title='Numeric features heatmap',\n",
    "                  title_x=0.42, title_y=0.95,\n",
    "                  width=900, height=900)\n",
    "fig.show()"
   ]
  },
  {
   "cell_type": "markdown",
   "metadata": {},
   "source": [
    "We can see a stronger correlation between y and [duration, previous, pdays, emp.var.rate, euribor3m, nr.employed]. As pointed out for `duration` on the features info, this can be caused from 0 seconds for calls that were rejected ot weren't answered."
   ]
  },
  {
   "cell_type": "code",
   "execution_count": 10,
   "metadata": {
    "ExecuteTime": {
     "end_time": "2024-04-22T01:50:29.668447Z",
     "start_time": "2024-04-22T01:50:29.660989Z"
    },
    "id": "Ts7TPL2ZfmlV"
   },
   "outputs": [],
   "source": [
    "# helper function to generate ratio acceptance DataFrame\n",
    "def get_acceptance_dataframe(mydf, category):\n",
    "    df_all = mydf.groupby(category).agg('count')['y']\n",
    "    df_category_accepted = mydf.query('y == 1').groupby(category).agg('count')['y']\n",
    "    df_category_rejected = mydf.query('y == 0').groupby(category).agg('count')['y']\n",
    "    category_accepted_ratio = df_category_accepted / df_all\n",
    "    category_rejected_ratio = 1 - category_accepted_ratio\n",
    "    categoty_acceptance_frame = {'Accepted': category_accepted_ratio,\n",
    "         'Rejected': category_rejected_ratio}\n",
    "    cat_frame = pd.DataFrame(categoty_acceptance_frame)\n",
    "    return cat_frame\n",
    "\n",
    "# calculates the acceptance rate given a dataframe\n",
    "def get_acceptance_rate(df):\n",
    "    return len(df.query('y == 1')) / len(df)"
   ]
  },
  {
   "cell_type": "code",
   "execution_count": 11,
   "metadata": {
    "ExecuteTime": {
     "end_time": "2024-04-22T01:50:31.028876Z",
     "start_time": "2024-04-22T01:50:30.657133Z"
    },
    "colab": {
     "base_uri": "https://localhost:8080/",
     "height": 631
    },
    "id": "5kqGy4cNSbhH",
    "outputId": "8c6431b3-e1a4-435a-a124-620a039d6dc0"
   },
   "outputs": [
    {
     "data": {
      "image/svg+xml": [
       "<svg class=\"main-svg\" xmlns=\"http://www.w3.org/2000/svg\" xmlns:xlink=\"http://www.w3.org/1999/xlink\" width=\"700\" height=\"500\" style=\"\" viewBox=\"0 0 700 500\"><rect x=\"0\" y=\"0\" width=\"700\" height=\"500\" style=\"fill: rgb(255, 255, 255); fill-opacity: 1;\"/><defs id=\"defs-ee3a94\"><g class=\"clips\"><clipPath id=\"clipee3a94xyplot\" class=\"plotclip\"><rect width=\"540\" height=\"360\"/></clipPath><clipPath class=\"axesclip\" id=\"clipee3a94x\"><rect x=\"80\" y=\"0\" width=\"540\" height=\"500\"/></clipPath><clipPath class=\"axesclip\" id=\"clipee3a94y\"><rect x=\"0\" y=\"60\" width=\"700\" height=\"360\"/></clipPath><clipPath class=\"axesclip\" id=\"clipee3a94xy\"><rect x=\"80\" y=\"60\" width=\"540\" height=\"360\"/></clipPath></g><g class=\"gradients\"/><g class=\"patterns\"/></defs><g class=\"bglayer\"><rect class=\"bg\" x=\"80\" y=\"60\" width=\"540\" height=\"360\" style=\"fill: rgb(229, 236, 246); fill-opacity: 1; stroke-width: 0;\"/></g><g class=\"layer-below\"><g class=\"imagelayer\"/><g class=\"shapelayer\"/></g><g class=\"cartesianlayer\"><g class=\"subplot xy\"><g class=\"layer-subplot\"><g class=\"shapelayer\"/><g class=\"imagelayer\"/></g><g class=\"minor-gridlayer\"><g class=\"x\"/><g class=\"y\"/></g><g class=\"gridlayer\"><g class=\"x\"/><g class=\"y\"><path class=\"ygrid crisp\" transform=\"translate(0,382.36)\" d=\"M80,0h540\" style=\"stroke: rgb(255, 255, 255); stroke-opacity: 1; stroke-width: 1px;\"/><path class=\"ygrid crisp\" transform=\"translate(0,344.71)\" d=\"M80,0h540\" style=\"stroke: rgb(255, 255, 255); stroke-opacity: 1; stroke-width: 1px;\"/><path class=\"ygrid crisp\" transform=\"translate(0,307.07)\" d=\"M80,0h540\" style=\"stroke: rgb(255, 255, 255); stroke-opacity: 1; stroke-width: 1px;\"/><path class=\"ygrid crisp\" transform=\"translate(0,269.41999999999996)\" d=\"M80,0h540\" style=\"stroke: rgb(255, 255, 255); stroke-opacity: 1; stroke-width: 1px;\"/><path class=\"ygrid crisp\" transform=\"translate(0,231.78)\" d=\"M80,0h540\" style=\"stroke: rgb(255, 255, 255); stroke-opacity: 1; stroke-width: 1px;\"/><path class=\"ygrid crisp\" transform=\"translate(0,194.13)\" d=\"M80,0h540\" style=\"stroke: rgb(255, 255, 255); stroke-opacity: 1; stroke-width: 1px;\"/><path class=\"ygrid crisp\" transform=\"translate(0,156.49)\" d=\"M80,0h540\" style=\"stroke: rgb(255, 255, 255); stroke-opacity: 1; stroke-width: 1px;\"/><path class=\"ygrid crisp\" transform=\"translate(0,118.84)\" d=\"M80,0h540\" style=\"stroke: rgb(255, 255, 255); stroke-opacity: 1; stroke-width: 1px;\"/><path class=\"ygrid crisp\" transform=\"translate(0,81.2)\" d=\"M80,0h540\" style=\"stroke: rgb(255, 255, 255); stroke-opacity: 1; stroke-width: 1px;\"/></g></g><g class=\"zerolinelayer\"><path class=\"yzl zl crisp\" transform=\"translate(0,420)\" d=\"M80,0h540\" style=\"stroke: rgb(255, 255, 255); stroke-opacity: 1; stroke-width: 2px;\"/></g><path class=\"xlines-below\"/><path class=\"ylines-below\"/><g class=\"overlines-below\"/><g class=\"xaxislayer-below\"/><g class=\"yaxislayer-below\"/><g class=\"overaxes-below\"/><g class=\"plot\" transform=\"translate(80,60)\" clip-path=\"url(#clipee3a94xyplot)\"><g class=\"barlayer mlayer\"><g class=\"trace bars\" shape-rendering=\"crispEdges\" style=\"opacity: 1;\"><g class=\"points\"><g class=\"point\"><path d=\"M0,360V358.46H31.76V360Z\" style=\"vector-effect: none; opacity: 1; stroke-width: 0px; fill: rgb(99, 110, 250); fill-opacity: 1;\"/><text class=\"bartext bartext-inside\" text-anchor=\"middle\" data-notex=\"1\" x=\"0\" y=\"0\" style=\"font-family: 'Open Sans', verdana, arial, sans-serif; font-size: 12px; fill: rgb(255, 255, 255); fill-opacity: 1; white-space: pre;\" transform=\"translate(15.862420091324202,359.68004566210044)scale(0.11251141552511565)rotate(90 0.15625 -4)\">41</text></g><g class=\"point\"><path d=\"M31.76,360V330.98H63.53V360Z\" style=\"vector-effect: none; opacity: 1; stroke-width: 0px; fill: rgb(99, 110, 250); fill-opacity: 1;\"/><text class=\"bartext bartext-inside\" text-anchor=\"middle\" data-notex=\"1\" x=\"0\" y=\"0\" style=\"font-family: 'Open Sans', verdana, arial, sans-serif; font-size: 12px; fill: rgb(255, 255, 255); fill-opacity: 1; white-space: pre;\" transform=\"translate(47.4809375,344.98)\">771</text></g><g class=\"point\"><path d=\"M63.53,360V211.87H95.29V360Z\" style=\"vector-effect: none; opacity: 1; stroke-width: 0px; fill: rgb(99, 110, 250); fill-opacity: 1;\"/><text class=\"bartext bartext-inside\" text-anchor=\"middle\" data-notex=\"1\" x=\"0\" y=\"0\" style=\"font-family: 'Open Sans', verdana, arial, sans-serif; font-size: 12px; fill: rgb(255, 255, 255); fill-opacity: 1; white-space: pre;\" transform=\"translate(79.2459375,232.3934375)rotate(90 0.1640625 -4)\">3935</text></g><g class=\"point\"><path d=\"M95.29,360V55.64H127.06V360Z\" style=\"vector-effect: none; opacity: 1; stroke-width: 0px; fill: rgb(99, 110, 250); fill-opacity: 1;\"/><text class=\"bartext bartext-inside\" text-anchor=\"middle\" data-notex=\"1\" x=\"0\" y=\"0\" style=\"font-family: 'Open Sans', verdana, arial, sans-serif; font-size: 12px; fill: rgb(255, 255, 255); fill-opacity: 1; white-space: pre;\" transform=\"translate(111.01093750000001,76.1634375)rotate(90 0.1640625 -4)\">8085</text></g><g class=\"point\"><path d=\"M127.06,360V91.29H158.82V360Z\" style=\"vector-effect: none; opacity: 1; stroke-width: 0px; fill: rgb(99, 110, 250); fill-opacity: 1;\"/><text class=\"bartext bartext-inside\" text-anchor=\"middle\" data-notex=\"1\" x=\"0\" y=\"0\" style=\"font-family: 'Open Sans', verdana, arial, sans-serif; font-size: 12px; fill: rgb(255, 255, 255); fill-opacity: 1; white-space: pre;\" transform=\"translate(142.7759375,111.8134375)rotate(90 0.1640625 -4)\">7138</text></g><g class=\"point\"><path d=\"M158.82,360V164.47H190.59V360Z\" style=\"vector-effect: none; opacity: 1; stroke-width: 0px; fill: rgb(99, 110, 250); fill-opacity: 1;\"/><text class=\"bartext bartext-inside\" text-anchor=\"middle\" data-notex=\"1\" x=\"0\" y=\"0\" style=\"font-family: 'Open Sans', verdana, arial, sans-serif; font-size: 12px; fill: rgb(255, 255, 255); fill-opacity: 1; white-space: pre;\" transform=\"translate(174.54093749999998,184.9934375)rotate(90 0.1640625 -4)\">5194</text></g><g class=\"point\"><path d=\"M190.59,360V190.68H222.35V360Z\" style=\"vector-effect: none; opacity: 1; stroke-width: 0px; fill: rgb(99, 110, 250); fill-opacity: 1;\"/><text class=\"bartext bartext-inside\" text-anchor=\"middle\" data-notex=\"1\" x=\"0\" y=\"0\" style=\"font-family: 'Open Sans', verdana, arial, sans-serif; font-size: 12px; fill: rgb(255, 255, 255); fill-opacity: 1; white-space: pre;\" transform=\"translate(206.3059375,211.2034375)rotate(90 0.1640625 -4)\">4498</text></g><g class=\"point\"><path d=\"M222.35,360V230.01H254.12V360Z\" style=\"vector-effect: none; opacity: 1; stroke-width: 0px; fill: rgb(99, 110, 250); fill-opacity: 1;\"/><text class=\"bartext bartext-inside\" text-anchor=\"middle\" data-notex=\"1\" x=\"0\" y=\"0\" style=\"font-family: 'Open Sans', verdana, arial, sans-serif; font-size: 12px; fill: rgb(255, 255, 255); fill-opacity: 1; white-space: pre;\" transform=\"translate(238.0709375,250.5334375)rotate(90 0.1640625 -4)\">3453</text></g><g class=\"point\"><path d=\"M254.12,360V257.91H285.88V360Z\" style=\"vector-effect: none; opacity: 1; stroke-width: 0px; fill: rgb(99, 110, 250); fill-opacity: 1;\"/><text class=\"bartext bartext-inside\" text-anchor=\"middle\" data-notex=\"1\" x=\"0\" y=\"0\" style=\"font-family: 'Open Sans', verdana, arial, sans-serif; font-size: 12px; fill: rgb(255, 255, 255); fill-opacity: 1; white-space: pre;\" transform=\"translate(269.8359375,278.4334375)rotate(90 0.1640625 -4)\">2712</text></g><g class=\"point\"><path d=\"M285.88,360V346.03H317.65V360Z\" style=\"vector-effect: none; opacity: 1; stroke-width: 0px; fill: rgb(99, 110, 250); fill-opacity: 1;\"/><text class=\"bartext bartext-inside\" text-anchor=\"middle\" data-notex=\"1\" x=\"0\" y=\"0\" style=\"font-family: 'Open Sans', verdana, arial, sans-serif; font-size: 12px; fill: rgb(255, 255, 255); fill-opacity: 1; white-space: pre;\" transform=\"translate(301.6716015625,355.29214285714284)scale(0.5692857142857163)\">371</text></g><g class=\"point\"><path d=\"M317.65,360V356.16H349.41V360Z\" style=\"vector-effect: none; opacity: 1; stroke-width: 0px; fill: rgb(99, 110, 250); fill-opacity: 1;\"/><text class=\"bartext bartext-inside\" text-anchor=\"middle\" data-notex=\"1\" x=\"0\" y=\"0\" style=\"font-family: 'Open Sans', verdana, arial, sans-serif; font-size: 12px; fill: rgb(255, 255, 255); fill-opacity: 1; white-space: pre;\" transform=\"translate(333.48499999999996,359.1771428571429)scale(0.2742857142857125)\">102</text></g><g class=\"point\"><path d=\"M349.41,360V355.52H381.18V360Z\" style=\"vector-effect: none; opacity: 1; stroke-width: 0px; fill: rgb(99, 110, 250); fill-opacity: 1;\"/><text class=\"bartext bartext-inside\" text-anchor=\"middle\" data-notex=\"1\" x=\"0\" y=\"0\" style=\"font-family: 'Open Sans', verdana, arial, sans-serif; font-size: 12px; fill: rgb(255, 255, 255); fill-opacity: 1; white-space: pre;\" transform=\"translate(365.2425,359.04)scale(0.3200000000000013)\">119</text></g><g class=\"point\"><path d=\"M381.18,360V357.89H412.94V360Z\" style=\"vector-effect: none; opacity: 1; stroke-width: 0px; fill: rgb(99, 110, 250); fill-opacity: 1;\"/><text class=\"bartext bartext-inside\" text-anchor=\"middle\" data-notex=\"1\" x=\"0\" y=\"0\" style=\"font-family: 'Open Sans', verdana, arial, sans-serif; font-size: 12px; fill: rgb(255, 255, 255); fill-opacity: 1; white-space: pre;\" transform=\"translate(397.03591324200914,359.56162100456623)scale(0.1541552511415535)rotate(90 0.15625 -4)\">56</text></g><g class=\"point\"><path d=\"M412.94,360V358.34H444.71V360Z\" style=\"vector-effect: none; opacity: 1; stroke-width: 0px; fill: rgb(99, 110, 250); fill-opacity: 1;\"/><text class=\"bartext bartext-inside\" text-anchor=\"middle\" data-notex=\"1\" x=\"0\" y=\"0\" style=\"font-family: 'Open Sans', verdana, arial, sans-serif; font-size: 12px; fill: rgb(255, 255, 255); fill-opacity: 1; white-space: pre;\" transform=\"translate(428.8060502283105,359.6551141552511)scale(0.12127853881278722)rotate(90 0.15625 -4)\">44</text></g><g class=\"point\"><path d=\"M444.71,360V359.1H476.47V360Z\" style=\"vector-effect: none; opacity: 1; stroke-width: 0px; fill: rgb(99, 110, 250); fill-opacity: 1;\"/><text class=\"bartext bartext-inside\" text-anchor=\"middle\" data-notex=\"1\" x=\"0\" y=\"0\" style=\"font-family: 'Open Sans', verdana, arial, sans-serif; font-size: 12px; fill: rgb(255, 255, 255); fill-opacity: 1; white-space: pre;\" transform=\"translate(460.57972602739727,359.81301369863013)scale(0.06575342465753259)rotate(90 0.15625 -4)\">24</text></g><g class=\"point\"><path d=\"M476.47,360V359.85H508.24V360Z\" style=\"vector-effect: none; opacity: 1; stroke-width: 0px; fill: rgb(99, 110, 250); fill-opacity: 1;\"/><text class=\"bartext bartext-inside\" text-anchor=\"middle\" data-notex=\"1\" x=\"0\" y=\"0\" style=\"font-family: 'Open Sans', verdana, arial, sans-serif; font-size: 12px; fill: rgb(255, 255, 255); fill-opacity: 1; white-space: pre;\" transform=\"translate(492.3514922048998,360.01052338530064)scale(0.021380846325163794)rotate(90 0.1640625 -4)\">4</text></g><g class=\"point\"><path d=\"M508.24,360V359.96H540V360Z\" style=\"vector-effect: none; opacity: 1; stroke-width: 0px; fill: rgb(99, 110, 250); fill-opacity: 1;\"/><text class=\"bartext bartext-inside\" text-anchor=\"middle\" data-notex=\"1\" x=\"0\" y=\"0\" style=\"font-family: 'Open Sans', verdana, arial, sans-serif; font-size: 12px; fill: rgb(255, 255, 255); fill-opacity: 1; white-space: pre;\" transform=\"translate(524.1190645879733,360.0028062360802)scale(0.0057015590200474595)rotate(90 0.1640625 -4)\">1</text></g></g></g><g class=\"trace bars\" shape-rendering=\"crispEdges\" style=\"opacity: 1;\"><g class=\"points\"><g class=\"point\"><path d=\"M0,358.46V357.18H31.76V358.46Z\" style=\"vector-effect: none; opacity: 1; stroke-width: 0px; fill: rgb(239, 85, 59); fill-opacity: 1;\"/><text class=\"bartext bartext-outside\" text-anchor=\"middle\" data-notex=\"1\" x=\"0\" y=\"0\" style=\"font-family: 'Open Sans', verdana, arial, sans-serif; font-size: 12px; fill: rgb(42, 63, 95); fill-opacity: 1; white-space: pre;\" transform=\"translate(15.72375,351.18)\">34</text></g><g class=\"point\"><path d=\"M31.76,330.98V322.62H63.53V330.98Z\" style=\"vector-effect: none; opacity: 1; stroke-width: 0px; fill: rgb(239, 85, 59); fill-opacity: 1;\"/><text class=\"bartext bartext-outside\" text-anchor=\"middle\" data-notex=\"1\" x=\"0\" y=\"0\" style=\"font-family: 'Open Sans', verdana, arial, sans-serif; font-size: 12px; fill: rgb(42, 63, 95); fill-opacity: 1; white-space: pre;\" transform=\"translate(47.4809375,316.62)\">222</text></g><g class=\"point\"><path d=\"M63.53,211.87V186.8H95.29V211.87Z\" style=\"vector-effect: none; opacity: 1; stroke-width: 0px; fill: rgb(239, 85, 59); fill-opacity: 1;\"/><text class=\"bartext bartext-inside\" text-anchor=\"middle\" data-notex=\"1\" x=\"0\" y=\"0\" style=\"font-family: 'Open Sans', verdana, arial, sans-serif; font-size: 12px; fill: rgb(68, 68, 68); fill-opacity: 1; white-space: pre;\" transform=\"translate(79.2459375,200.8)\">666</text></g><g class=\"point\"><path d=\"M95.29,55.64V18H127.06V55.64Z\" style=\"vector-effect: none; opacity: 1; stroke-width: 0px; fill: rgb(239, 85, 59); fill-opacity: 1;\"/><text class=\"bartext bartext-inside\" text-anchor=\"middle\" data-notex=\"1\" x=\"0\" y=\"0\" style=\"font-family: 'Open Sans', verdana, arial, sans-serif; font-size: 12px; fill: rgb(68, 68, 68); fill-opacity: 1; white-space: pre;\" transform=\"translate(111.01093750000001,38.5234375)rotate(90 0.1640625 -4)\">1000</text></g><g class=\"point\"><path d=\"M127.06,91.29V64.38H158.82V91.29Z\" style=\"vector-effect: none; opacity: 1; stroke-width: 0px; fill: rgb(239, 85, 59); fill-opacity: 1;\"/><text class=\"bartext bartext-inside\" text-anchor=\"middle\" data-notex=\"1\" x=\"0\" y=\"0\" style=\"font-family: 'Open Sans', verdana, arial, sans-serif; font-size: 12px; fill: rgb(68, 68, 68); fill-opacity: 1; white-space: pre;\" transform=\"translate(142.7759375,78.38)\">715</text></g><g class=\"point\"><path d=\"M158.82,164.47V147.42H190.59V164.47Z\" style=\"vector-effect: none; opacity: 1; stroke-width: 0px; fill: rgb(239, 85, 59); fill-opacity: 1;\"/><text class=\"bartext bartext-outside\" text-anchor=\"middle\" data-notex=\"1\" x=\"0\" y=\"0\" style=\"font-family: 'Open Sans', verdana, arial, sans-serif; font-size: 12px; fill: rgb(42, 63, 95); fill-opacity: 1; white-space: pre;\" transform=\"translate(174.54093749999998,141.42)\">453</text></g><g class=\"point\"><path d=\"M190.59,190.68V176.33H222.35V190.68Z\" style=\"vector-effect: none; opacity: 1; stroke-width: 0px; fill: rgb(239, 85, 59); fill-opacity: 1;\"/><text class=\"bartext bartext-outside\" text-anchor=\"middle\" data-notex=\"1\" x=\"0\" y=\"0\" style=\"font-family: 'Open Sans', verdana, arial, sans-serif; font-size: 12px; fill: rgb(42, 63, 95); fill-opacity: 1; white-space: pre;\" transform=\"translate(206.3059375,170.33)\">381</text></g><g class=\"point\"><path d=\"M222.35,230.01V216.01H254.12V230.01Z\" style=\"vector-effect: none; opacity: 1; stroke-width: 0px; fill: rgb(239, 85, 59); fill-opacity: 1;\"/><text class=\"bartext bartext-outside\" text-anchor=\"middle\" data-notex=\"1\" x=\"0\" y=\"0\" style=\"font-family: 'Open Sans', verdana, arial, sans-serif; font-size: 12px; fill: rgb(42, 63, 95); fill-opacity: 1; white-space: pre;\" transform=\"translate(238.0709375,210.01)\">372</text></g><g class=\"point\"><path d=\"M254.12,257.91V245.67H285.88V257.91Z\" style=\"vector-effect: none; opacity: 1; stroke-width: 0px; fill: rgb(239, 85, 59); fill-opacity: 1;\"/><text class=\"bartext bartext-outside\" text-anchor=\"middle\" data-notex=\"1\" x=\"0\" y=\"0\" style=\"font-family: 'Open Sans', verdana, arial, sans-serif; font-size: 12px; fill: rgb(42, 63, 95); fill-opacity: 1; white-space: pre;\" transform=\"translate(269.8359375,239.67)\">325</text></g><g class=\"point\"><path d=\"M285.88,346.03V340.05H317.65V346.03Z\" style=\"vector-effect: none; opacity: 1; stroke-width: 0px; fill: rgb(239, 85, 59); fill-opacity: 1;\"/><text class=\"bartext bartext-outside\" text-anchor=\"middle\" data-notex=\"1\" x=\"0\" y=\"0\" style=\"font-family: 'Open Sans', verdana, arial, sans-serif; font-size: 12px; fill: rgb(42, 63, 95); fill-opacity: 1; white-space: pre;\" transform=\"translate(301.6009375,334.05)\">159</text></g><g class=\"point\"><path d=\"M317.65,356.16V352.7H349.41V356.16Z\" style=\"vector-effect: none; opacity: 1; stroke-width: 0px; fill: rgb(239, 85, 59); fill-opacity: 1;\"/><text class=\"bartext bartext-outside\" text-anchor=\"middle\" data-notex=\"1\" x=\"0\" y=\"0\" style=\"font-family: 'Open Sans', verdana, arial, sans-serif; font-size: 12px; fill: rgb(42, 63, 95); fill-opacity: 1; white-space: pre;\" transform=\"translate(333.37375,346.7)\">92</text></g><g class=\"point\"><path d=\"M349.41,355.52V352.47H381.18V355.52Z\" style=\"vector-effect: none; opacity: 1; stroke-width: 0px; fill: rgb(239, 85, 59); fill-opacity: 1;\"/><text class=\"bartext bartext-outside\" text-anchor=\"middle\" data-notex=\"1\" x=\"0\" y=\"0\" style=\"font-family: 'Open Sans', verdana, arial, sans-serif; font-size: 12px; fill: rgb(42, 63, 95); fill-opacity: 1; white-space: pre;\" transform=\"translate(365.13875,346.47)\">81</text></g><g class=\"point\"><path d=\"M381.18,357.89V355.52H412.94V357.89Z\" style=\"vector-effect: none; opacity: 1; stroke-width: 0px; fill: rgb(239, 85, 59); fill-opacity: 1;\"/><text class=\"bartext bartext-outside\" text-anchor=\"middle\" data-notex=\"1\" x=\"0\" y=\"0\" style=\"font-family: 'Open Sans', verdana, arial, sans-serif; font-size: 12px; fill: rgb(42, 63, 95); fill-opacity: 1; white-space: pre;\" transform=\"translate(396.90375,349.52)\">63</text></g><g class=\"point\"><path d=\"M412.94,358.34V356.54H444.71V358.34Z\" style=\"vector-effect: none; opacity: 1; stroke-width: 0px; fill: rgb(239, 85, 59); fill-opacity: 1;\"/><text class=\"bartext bartext-outside\" text-anchor=\"middle\" data-notex=\"1\" x=\"0\" y=\"0\" style=\"font-family: 'Open Sans', verdana, arial, sans-serif; font-size: 12px; fill: rgb(42, 63, 95); fill-opacity: 1; white-space: pre;\" transform=\"translate(428.66875,350.54)\">48</text></g><g class=\"point\"><path d=\"M444.71,359.1V358.19H476.47V359.1Z\" style=\"vector-effect: none; opacity: 1; stroke-width: 0px; fill: rgb(239, 85, 59); fill-opacity: 1;\"/><text class=\"bartext bartext-outside\" text-anchor=\"middle\" data-notex=\"1\" x=\"0\" y=\"0\" style=\"font-family: 'Open Sans', verdana, arial, sans-serif; font-size: 12px; fill: rgb(42, 63, 95); fill-opacity: 1; white-space: pre;\" transform=\"translate(460.43375000000003,352.19)\">24</text></g><g class=\"point\"><path d=\"M476.47,359.85V359.74H508.24V359.85Z\" style=\"vector-effect: none; opacity: 1; stroke-width: 0px; fill: rgb(239, 85, 59); fill-opacity: 1;\"/><text class=\"bartext bartext-outside\" text-anchor=\"middle\" data-notex=\"1\" x=\"0\" y=\"0\" style=\"font-family: 'Open Sans', verdana, arial, sans-serif; font-size: 12px; fill: rgb(42, 63, 95); fill-opacity: 1; white-space: pre;\" transform=\"translate(492.1909375,353.74)\">3</text></g><g class=\"point\"><path d=\"M508.24,359.96V359.89H540V359.96Z\" style=\"vector-effect: none; opacity: 1; stroke-width: 0px; fill: rgb(239, 85, 59); fill-opacity: 1;\"/><text class=\"bartext bartext-outside\" text-anchor=\"middle\" data-notex=\"1\" x=\"0\" y=\"0\" style=\"font-family: 'Open Sans', verdana, arial, sans-serif; font-size: 12px; fill: rgb(42, 63, 95); fill-opacity: 1; white-space: pre;\" transform=\"translate(523.9559375,353.89)\">2</text></g></g></g></g></g><g class=\"overplot\"/><path class=\"xlines-above crisp\" d=\"M0,0\" style=\"fill: none;\"/><path class=\"ylines-above crisp\" d=\"M0,0\" style=\"fill: none;\"/><g class=\"overlines-above\"/><g class=\"xaxislayer-above\"><g class=\"xtick\"><text text-anchor=\"middle\" x=\"0\" y=\"433\" transform=\"translate(114.94,0)\" style=\"font-family: 'Open Sans', verdana, arial, sans-serif; font-size: 12px; fill: rgb(42, 63, 95); fill-opacity: 1; white-space: pre; opacity: 1;\">20</text></g><g class=\"xtick\"><text text-anchor=\"middle\" x=\"0\" y=\"433\" style=\"font-family: 'Open Sans', verdana, arial, sans-serif; font-size: 12px; fill: rgb(42, 63, 95); fill-opacity: 1; white-space: pre; opacity: 1;\" transform=\"translate(242,0)\">40</text></g><g class=\"xtick\"><text text-anchor=\"middle\" x=\"0\" y=\"433\" style=\"font-family: 'Open Sans', verdana, arial, sans-serif; font-size: 12px; fill: rgb(42, 63, 95); fill-opacity: 1; white-space: pre; opacity: 1;\" transform=\"translate(369.06,0)\">60</text></g><g class=\"xtick\"><text text-anchor=\"middle\" x=\"0\" y=\"433\" style=\"font-family: 'Open Sans', verdana, arial, sans-serif; font-size: 12px; fill: rgb(42, 63, 95); fill-opacity: 1; white-space: pre; opacity: 1;\" transform=\"translate(496.12,0)\">80</text></g></g><g class=\"yaxislayer-above\"><g class=\"ytick\"><text text-anchor=\"end\" x=\"79\" y=\"4.199999999999999\" transform=\"translate(0,420)\" style=\"font-family: 'Open Sans', verdana, arial, sans-serif; font-size: 12px; fill: rgb(42, 63, 95); fill-opacity: 1; white-space: pre; opacity: 1;\">0</text></g><g class=\"ytick\"><text text-anchor=\"end\" x=\"79\" y=\"4.199999999999999\" style=\"font-family: 'Open Sans', verdana, arial, sans-serif; font-size: 12px; fill: rgb(42, 63, 95); fill-opacity: 1; white-space: pre; opacity: 1;\" transform=\"translate(0,382.36)\">1000</text></g><g class=\"ytick\"><text text-anchor=\"end\" x=\"79\" y=\"4.199999999999999\" style=\"font-family: 'Open Sans', verdana, arial, sans-serif; font-size: 12px; fill: rgb(42, 63, 95); fill-opacity: 1; white-space: pre; opacity: 1;\" transform=\"translate(0,344.71)\">2000</text></g><g class=\"ytick\"><text text-anchor=\"end\" x=\"79\" y=\"4.199999999999999\" style=\"font-family: 'Open Sans', verdana, arial, sans-serif; font-size: 12px; fill: rgb(42, 63, 95); fill-opacity: 1; white-space: pre; opacity: 1;\" transform=\"translate(0,307.07)\">3000</text></g><g class=\"ytick\"><text text-anchor=\"end\" x=\"79\" y=\"4.199999999999999\" style=\"font-family: 'Open Sans', verdana, arial, sans-serif; font-size: 12px; fill: rgb(42, 63, 95); fill-opacity: 1; white-space: pre; opacity: 1;\" transform=\"translate(0,269.41999999999996)\">4000</text></g><g class=\"ytick\"><text text-anchor=\"end\" x=\"79\" y=\"4.199999999999999\" style=\"font-family: 'Open Sans', verdana, arial, sans-serif; font-size: 12px; fill: rgb(42, 63, 95); fill-opacity: 1; white-space: pre; opacity: 1;\" transform=\"translate(0,231.78)\">5000</text></g><g class=\"ytick\"><text text-anchor=\"end\" x=\"79\" y=\"4.199999999999999\" style=\"font-family: 'Open Sans', verdana, arial, sans-serif; font-size: 12px; fill: rgb(42, 63, 95); fill-opacity: 1; white-space: pre; opacity: 1;\" transform=\"translate(0,194.13)\">6000</text></g><g class=\"ytick\"><text text-anchor=\"end\" x=\"79\" y=\"4.199999999999999\" style=\"font-family: 'Open Sans', verdana, arial, sans-serif; font-size: 12px; fill: rgb(42, 63, 95); fill-opacity: 1; white-space: pre; opacity: 1;\" transform=\"translate(0,156.49)\">7000</text></g><g class=\"ytick\"><text text-anchor=\"end\" x=\"79\" y=\"4.199999999999999\" style=\"font-family: 'Open Sans', verdana, arial, sans-serif; font-size: 12px; fill: rgb(42, 63, 95); fill-opacity: 1; white-space: pre; opacity: 1;\" transform=\"translate(0,118.84)\">8000</text></g><g class=\"ytick\"><text text-anchor=\"end\" x=\"79\" y=\"4.199999999999999\" style=\"font-family: 'Open Sans', verdana, arial, sans-serif; font-size: 12px; fill: rgb(42, 63, 95); fill-opacity: 1; white-space: pre; opacity: 1;\" transform=\"translate(0,81.2)\">9000</text></g></g><g class=\"overaxes-above\"/></g></g><g class=\"polarlayer\"/><g class=\"smithlayer\"/><g class=\"ternarylayer\"/><g class=\"geolayer\"/><g class=\"funnelarealayer\"/><g class=\"pielayer\"/><g class=\"iciclelayer\"/><g class=\"treemaplayer\"/><g class=\"sunburstlayer\"/><g class=\"glimages\"/><defs id=\"topdefs-ee3a94\"><g class=\"clips\"/><clipPath id=\"legendee3a94\"><rect width=\"52\" height=\"67\" x=\"0\" y=\"0\"/></clipPath></defs><g class=\"layer-above\"><g class=\"imagelayer\"/><g class=\"shapelayer\"/></g><g class=\"infolayer\"><g class=\"legend\" pointer-events=\"all\" transform=\"translate(630.8,60)\"><rect class=\"bg\" shape-rendering=\"crispEdges\" style=\"stroke: rgb(68, 68, 68); stroke-opacity: 1; fill: rgb(255, 255, 255); fill-opacity: 1; stroke-width: 0px;\" width=\"52\" height=\"67\" x=\"0\" y=\"0\"/><g class=\"scrollbox\" transform=\"\" clip-path=\"url(#legendee3a94)\"><text class=\"legendtitletext\" text-anchor=\"start\" x=\"2\" y=\"18.2\" style=\"font-family: 'Open Sans', verdana, arial, sans-serif; font-size: 14px; fill: rgb(42, 63, 95); fill-opacity: 1; white-space: pre;\">y</text><g class=\"groups\" transform=\"\"><g class=\"traces\" transform=\"translate(0,32.7)\" style=\"opacity: 1;\"><text class=\"legendtext\" text-anchor=\"start\" x=\"40\" y=\"4.680000000000001\" style=\"font-family: 'Open Sans', verdana, arial, sans-serif; font-size: 12px; fill: rgb(42, 63, 95); fill-opacity: 1; white-space: pre;\">0</text><g class=\"layers\" style=\"opacity: 1;\"><g class=\"legendfill\"/><g class=\"legendlines\"/><g class=\"legendsymbols\"><g class=\"legendpoints\"><path class=\"legendundefined\" d=\"M6,6H-6V-6H6Z\" transform=\"translate(20,0)\" style=\"stroke-width: 0px; fill: rgb(99, 110, 250); fill-opacity: 1;\"/></g></g></g><rect class=\"legendtoggle\" x=\"0\" y=\"-9.5\" width=\"47\" height=\"19\" style=\"fill: rgb(0, 0, 0); fill-opacity: 0;\"/></g></g><g class=\"groups\" transform=\"\"><g class=\"traces\" transform=\"translate(0,51.7)\" style=\"opacity: 1;\"><text class=\"legendtext\" text-anchor=\"start\" x=\"40\" y=\"4.680000000000001\" style=\"font-family: 'Open Sans', verdana, arial, sans-serif; font-size: 12px; fill: rgb(42, 63, 95); fill-opacity: 1; white-space: pre;\">1</text><g class=\"layers\" style=\"opacity: 1;\"><g class=\"legendfill\"/><g class=\"legendlines\"/><g class=\"legendsymbols\"><g class=\"legendpoints\"><path class=\"legendundefined\" d=\"M6,6H-6V-6H6Z\" transform=\"translate(20,0)\" style=\"stroke-width: 0px; fill: rgb(239, 85, 59); fill-opacity: 1;\"/></g></g></g><rect class=\"legendtoggle\" x=\"0\" y=\"-9.5\" width=\"47\" height=\"19\" style=\"fill: rgb(0, 0, 0); fill-opacity: 0;\"/></g></g></g><rect class=\"scrollbar\" rx=\"20\" ry=\"3\" width=\"0\" height=\"0\" style=\"fill: rgb(128, 139, 164); fill-opacity: 1;\" x=\"0\" y=\"0\"/></g><g class=\"g-gtitle\"><text class=\"gtitle\" x=\"350\" y=\"25\" text-anchor=\"middle\" dy=\"0.7em\" style=\"font-family: 'Open Sans', verdana, arial, sans-serif; font-size: 17px; fill: rgb(42, 63, 95); opacity: 1; font-weight: normal; white-space: pre;\">Subscription acceptance per age (5 years bins)</text></g><g class=\"g-xtitle\"><text class=\"xtitle\" x=\"350\" y=\"460.3\" text-anchor=\"middle\" style=\"font-family: 'Open Sans', verdana, arial, sans-serif; font-size: 14px; fill: rgb(42, 63, 95); opacity: 1; font-weight: normal; white-space: pre;\">Age</text></g><g class=\"g-ytitle\"><text class=\"ytitle\" transform=\"rotate(-90,27.996875000000003,240)\" x=\"27.996875000000003\" y=\"240\" text-anchor=\"middle\" style=\"font-family: 'Open Sans', verdana, arial, sans-serif; font-size: 14px; fill: rgb(42, 63, 95); opacity: 1; font-weight: normal; white-space: pre;\">Count</text></g></g></svg>"
      ]
     },
     "metadata": {},
     "output_type": "display_data"
    }
   ],
   "source": [
    "fig = px.histogram(df, x='age', color='y', nbins=20, text_auto='.0f')\n",
    "fig.update_layout(title='Subscription acceptance per age (5 years bins)',\n",
    "                  title_x=0.5, title_y=0.95,\n",
    "                  yaxis_title='Count',\n",
    "                  xaxis_title='Age')\n",
    "fig.show()"
   ]
  },
  {
   "cell_type": "code",
   "execution_count": 12,
   "metadata": {
    "ExecuteTime": {
     "end_time": "2024-04-22T01:50:32.004388Z",
     "start_time": "2024-04-22T01:50:31.955857Z"
    },
    "colab": {
     "base_uri": "https://localhost:8080/"
    },
    "id": "uKtINogzw2iU",
    "outputId": "285ca926-1cc4-4d59-e9cb-be854a93c748"
   },
   "outputs": [
    {
     "name": "stdout",
     "output_type": "stream",
     "text": [
      "['housemaid' 'services' 'admin.' 'blue-collar' 'technician' 'retired'\n",
      " 'management' 'unemployed' 'self-employed' 'unknown' 'entrepreneur'\n",
      " 'student']\n",
      "['married' 'single' 'divorced' 'unknown']\n",
      "['basic.4y' 'high.school' 'basic.6y' 'basic.9y' 'professional.course'\n",
      " 'unknown' 'university.degree' 'illiterate']\n",
      "['no' 'unknown' 'yes']\n",
      "['no' 'yes' 'unknown']\n",
      "['no' 'yes' 'unknown']\n",
      "['telephone' 'cellular']\n"
     ]
    },
    {
     "data": {
      "text/plain": [
       "job          None\n",
       "marital      None\n",
       "education    None\n",
       "default      None\n",
       "housing      None\n",
       "loan         None\n",
       "contact      None\n",
       "dtype: object"
      ]
     },
     "execution_count": 12,
     "metadata": {},
     "output_type": "execute_result"
    }
   ],
   "source": [
    "# Explore categorical unique values\n",
    "X_cat = df.iloc[:, 1:8]\n",
    "X_cat.T.apply(lambda x: print(x.unique()), axis=1)"
   ]
  },
  {
   "cell_type": "code",
   "execution_count": 13,
   "metadata": {
    "ExecuteTime": {
     "end_time": "2024-04-22T01:50:33.054218Z",
     "start_time": "2024-04-22T01:50:32.651872Z"
    },
    "colab": {
     "base_uri": "https://localhost:8080/",
     "height": 506
    },
    "id": "KzU80LvnE-Hj",
    "outputId": "487d309b-f966-44c0-fbe5-a03a9a607009"
   },
   "outputs": [
    {
     "data": {
      "image/svg+xml": [
       "<svg class=\"main-svg\" xmlns=\"http://www.w3.org/2000/svg\" xmlns:xlink=\"http://www.w3.org/1999/xlink\" width=\"800\" height=\"400\" style=\"\" viewBox=\"0 0 800 400\"><rect x=\"0\" y=\"0\" width=\"800\" height=\"400\" style=\"fill: rgb(255, 255, 255); fill-opacity: 1;\"/><defs id=\"defs-516151\"><g class=\"clips\"><clipPath id=\"clip516151xyplot\" class=\"plotclip\"><rect width=\"640\" height=\"251\"/></clipPath><clipPath class=\"axesclip\" id=\"clip516151x\"><rect x=\"80\" y=\"0\" width=\"640\" height=\"400\"/></clipPath><clipPath class=\"axesclip\" id=\"clip516151y\"><rect x=\"0\" y=\"60\" width=\"800\" height=\"251\"/></clipPath><clipPath class=\"axesclip\" id=\"clip516151xy\"><rect x=\"80\" y=\"60\" width=\"640\" height=\"251\"/></clipPath></g><g class=\"gradients\"/><g class=\"patterns\"/></defs><g class=\"bglayer\"><rect class=\"bg\" x=\"80\" y=\"60\" width=\"640\" height=\"251\" style=\"fill: rgb(229, 236, 246); fill-opacity: 1; stroke-width: 0;\"/></g><g class=\"layer-below\"><g class=\"imagelayer\"/><g class=\"shapelayer\"/></g><g class=\"cartesianlayer\"><g class=\"subplot xy\"><g class=\"layer-subplot\"><g class=\"shapelayer\"/><g class=\"imagelayer\"/></g><g class=\"minor-gridlayer\"><g class=\"x\"/><g class=\"y\"/></g><g class=\"gridlayer\"><g class=\"x\"/><g class=\"y\"><path class=\"ygrid crisp\" transform=\"translate(0,265.24)\" d=\"M80,0h640\" style=\"stroke: rgb(255, 255, 255); stroke-opacity: 1; stroke-width: 1px;\"/><path class=\"ygrid crisp\" transform=\"translate(0,219.48)\" d=\"M80,0h640\" style=\"stroke: rgb(255, 255, 255); stroke-opacity: 1; stroke-width: 1px;\"/><path class=\"ygrid crisp\" transform=\"translate(0,173.72)\" d=\"M80,0h640\" style=\"stroke: rgb(255, 255, 255); stroke-opacity: 1; stroke-width: 1px;\"/><path class=\"ygrid crisp\" transform=\"translate(0,127.96)\" d=\"M80,0h640\" style=\"stroke: rgb(255, 255, 255); stroke-opacity: 1; stroke-width: 1px;\"/><path class=\"ygrid crisp\" transform=\"translate(0,82.21000000000001)\" d=\"M80,0h640\" style=\"stroke: rgb(255, 255, 255); stroke-opacity: 1; stroke-width: 1px;\"/></g></g><g class=\"zerolinelayer\"><path class=\"yzl zl crisp\" transform=\"translate(0,311)\" d=\"M80,0h640\" style=\"stroke: rgb(255, 255, 255); stroke-opacity: 1; stroke-width: 2px;\"/></g><path class=\"xlines-below\"/><path class=\"ylines-below\"/><g class=\"overlines-below\"/><g class=\"xaxislayer-below\"/><g class=\"yaxislayer-below\"/><g class=\"overaxes-below\"/><g class=\"plot\" transform=\"translate(80,60)\" clip-path=\"url(#clip516151xyplot)\"><g class=\"barlayer mlayer\"><g class=\"trace bars\" style=\"opacity: 1;\"><g class=\"points\"><g class=\"point\"><path d=\"M5.33,251V229.17H48V251Z\" style=\"vector-effect: none; opacity: 1; stroke-width: 0px; fill: rgb(99, 110, 250); fill-opacity: 1;\"/><text class=\"bartext bartext-inside\" text-anchor=\"middle\" data-notex=\"1\" x=\"0\" y=\"0\" style=\"font-family: 'Open Sans', verdana, arial, sans-serif; font-size: 12px; fill: rgb(255, 255, 255); fill-opacity: 1; white-space: pre;\" transform=\"translate(26.5009375,243.17)\">954</text></g><g class=\"point\"><path d=\"M58.67,251V167.58H101.33V251Z\" style=\"vector-effect: none; opacity: 1; stroke-width: 0px; fill: rgb(99, 110, 250); fill-opacity: 1;\"/><text class=\"bartext bartext-inside\" text-anchor=\"middle\" data-notex=\"1\" x=\"0\" y=\"0\" style=\"font-family: 'Open Sans', verdana, arial, sans-serif; font-size: 12px; fill: rgb(255, 255, 255); fill-opacity: 1; white-space: pre;\" transform=\"translate(79.8359375,181.58)\">3646</text></g><g class=\"point\"><path d=\"M112,251V43.48H154.67V251Z\" style=\"vector-effect: none; opacity: 1; stroke-width: 0px; fill: rgb(99, 110, 250); fill-opacity: 1;\"/><text class=\"bartext bartext-inside\" text-anchor=\"middle\" data-notex=\"1\" x=\"0\" y=\"0\" style=\"font-family: 'Open Sans', verdana, arial, sans-serif; font-size: 12px; fill: rgb(255, 255, 255); fill-opacity: 1; white-space: pre;\" transform=\"translate(133.17093749999998,57.48)\">9070</text></g><g class=\"point\"><path d=\"M165.33,251V53.87H208V251Z\" style=\"vector-effect: none; opacity: 1; stroke-width: 0px; fill: rgb(99, 110, 250); fill-opacity: 1;\"/><text class=\"bartext bartext-inside\" text-anchor=\"middle\" data-notex=\"1\" x=\"0\" y=\"0\" style=\"font-family: 'Open Sans', verdana, arial, sans-serif; font-size: 12px; fill: rgb(255, 255, 255); fill-opacity: 1; white-space: pre;\" transform=\"translate(186.50093750000002,67.87)\">8616</text></g><g class=\"point\"><path d=\"M218.67,251V113.43H261.33V251Z\" style=\"vector-effect: none; opacity: 1; stroke-width: 0px; fill: rgb(99, 110, 250); fill-opacity: 1;\"/><text class=\"bartext bartext-inside\" text-anchor=\"middle\" data-notex=\"1\" x=\"0\" y=\"0\" style=\"font-family: 'Open Sans', verdana, arial, sans-serif; font-size: 12px; fill: rgb(255, 255, 255); fill-opacity: 1; white-space: pre;\" transform=\"translate(239.8359375,127.43)\">6013</text></g><g class=\"point\"><path d=\"M272,251V221.58H314.67V251Z\" style=\"vector-effect: none; opacity: 1; stroke-width: 0px; fill: rgb(99, 110, 250); fill-opacity: 1;\"/><text class=\"bartext bartext-inside\" text-anchor=\"middle\" data-notex=\"1\" x=\"0\" y=\"0\" style=\"font-family: 'Open Sans', verdana, arial, sans-serif; font-size: 12px; fill: rgb(255, 255, 255); fill-opacity: 1; white-space: pre;\" transform=\"translate(293.17093750000004,235.58)\">1286</text></g><g class=\"point\"><path d=\"M325.33,251V191.6H368V251Z\" style=\"vector-effect: none; opacity: 1; stroke-width: 0px; fill: rgb(99, 110, 250); fill-opacity: 1;\"/><text class=\"bartext bartext-inside\" text-anchor=\"middle\" data-notex=\"1\" x=\"0\" y=\"0\" style=\"font-family: 'Open Sans', verdana, arial, sans-serif; font-size: 12px; fill: rgb(255, 255, 255); fill-opacity: 1; white-space: pre;\" transform=\"translate(346.50093749999996,205.6)\">2596</text></g><g class=\"point\"><path d=\"M378.67,251V231.09H421.33V251Z\" style=\"vector-effect: none; opacity: 1; stroke-width: 0px; fill: rgb(99, 110, 250); fill-opacity: 1;\"/><text class=\"bartext bartext-inside\" text-anchor=\"middle\" data-notex=\"1\" x=\"0\" y=\"0\" style=\"font-family: 'Open Sans', verdana, arial, sans-serif; font-size: 12px; fill: rgb(255, 255, 255); fill-opacity: 1; white-space: pre;\" transform=\"translate(399.8369921875,245.01928571428573)scale(0.9935714285714283)\">870</text></g><g class=\"point\"><path d=\"M432,251V221.9H474.67V251Z\" style=\"vector-effect: none; opacity: 1; stroke-width: 0px; fill: rgb(99, 110, 250); fill-opacity: 1;\"/><text class=\"bartext bartext-inside\" text-anchor=\"middle\" data-notex=\"1\" x=\"0\" y=\"0\" style=\"font-family: 'Open Sans', verdana, arial, sans-serif; font-size: 12px; fill: rgb(255, 255, 255); fill-opacity: 1; white-space: pre;\" transform=\"translate(453.17093750000004,235.9)\">1272</text></g><g class=\"point\"><path d=\"M485.33,251V244.3H528V251Z\" style=\"vector-effect: none; opacity: 1; stroke-width: 0px; fill: rgb(99, 110, 250); fill-opacity: 1;\"/><text class=\"bartext bartext-inside\" text-anchor=\"middle\" data-notex=\"1\" x=\"0\" y=\"0\" style=\"font-family: 'Open Sans', verdana, arial, sans-serif; font-size: 12px; fill: rgb(255, 255, 255); fill-opacity: 1; white-space: pre;\" transform=\"translate(506.65679687499994,247.85)scale(0.04999999999999919)\">293</text></g><g class=\"point\"><path d=\"M538.67,251V220.52H581.33V251Z\" style=\"vector-effect: none; opacity: 1; stroke-width: 0px; fill: rgb(99, 110, 250); fill-opacity: 1;\"/><text class=\"bartext bartext-inside\" text-anchor=\"middle\" data-notex=\"1\" x=\"0\" y=\"0\" style=\"font-family: 'Open Sans', verdana, arial, sans-serif; font-size: 12px; fill: rgb(255, 255, 255); fill-opacity: 1; white-space: pre;\" transform=\"translate(559.8359375,234.52)\">1332</text></g><g class=\"point\"><path d=\"M592,251V237.27H634.67V251Z\" style=\"vector-effect: none; opacity: 1; stroke-width: 0px; fill: rgb(99, 110, 250); fill-opacity: 1;\"/><text class=\"bartext bartext-inside\" text-anchor=\"middle\" data-notex=\"1\" x=\"0\" y=\"0\" style=\"font-family: 'Open Sans', verdana, arial, sans-serif; font-size: 12px; fill: rgb(255, 255, 255); fill-opacity: 1; white-space: pre;\" transform=\"translate(613.2444140625,246.34357142857144)scale(0.5521428571428564)\">600</text></g></g></g><g class=\"trace bars\" style=\"opacity: 1;\"><g class=\"points\"><g class=\"point\"><path d=\"M5.33,229.17V226.75H48V229.17Z\" style=\"vector-effect: none; opacity: 1; stroke-width: 0px; fill: rgb(239, 85, 59); fill-opacity: 1;\"/><text class=\"bartext bartext-outside\" text-anchor=\"middle\" data-notex=\"1\" x=\"0\" y=\"0\" style=\"font-family: 'Open Sans', verdana, arial, sans-serif; font-size: 12px; fill: rgb(42, 63, 95); fill-opacity: 1; white-space: pre;\" transform=\"translate(26.5009375,220.75)\">106</text></g><g class=\"point\"><path d=\"M58.67,167.58V160.19H101.33V167.58Z\" style=\"vector-effect: none; opacity: 1; stroke-width: 0px; fill: rgb(239, 85, 59); fill-opacity: 1;\"/><text class=\"bartext bartext-outside\" text-anchor=\"middle\" data-notex=\"1\" x=\"0\" y=\"0\" style=\"font-family: 'Open Sans', verdana, arial, sans-serif; font-size: 12px; fill: rgb(42, 63, 95); fill-opacity: 1; white-space: pre;\" transform=\"translate(79.8359375,154.19)\">323</text></g><g class=\"point\"><path d=\"M112,43.48V12.55H154.67V43.48Z\" style=\"vector-effect: none; opacity: 1; stroke-width: 0px; fill: rgb(239, 85, 59); fill-opacity: 1;\"/><text class=\"bartext bartext-inside\" text-anchor=\"middle\" data-notex=\"1\" x=\"0\" y=\"0\" style=\"font-family: 'Open Sans', verdana, arial, sans-serif; font-size: 12px; fill: rgb(68, 68, 68); fill-opacity: 1; white-space: pre;\" transform=\"translate(133.17093749999998,26.55)\">1352</text></g><g class=\"point\"><path d=\"M165.33,53.87V39.27H208V53.87Z\" style=\"vector-effect: none; opacity: 1; stroke-width: 0px; fill: rgb(239, 85, 59); fill-opacity: 1;\"/><text class=\"bartext bartext-outside\" text-anchor=\"middle\" data-notex=\"1\" x=\"0\" y=\"0\" style=\"font-family: 'Open Sans', verdana, arial, sans-serif; font-size: 12px; fill: rgb(42, 63, 95); fill-opacity: 1; white-space: pre;\" transform=\"translate(186.50093750000002,33.27)\">638</text></g><g class=\"point\"><path d=\"M218.67,113.43V96.72H261.33V113.43Z\" style=\"vector-effect: none; opacity: 1; stroke-width: 0px; fill: rgb(239, 85, 59); fill-opacity: 1;\"/><text class=\"bartext bartext-outside\" text-anchor=\"middle\" data-notex=\"1\" x=\"0\" y=\"0\" style=\"font-family: 'Open Sans', verdana, arial, sans-serif; font-size: 12px; fill: rgb(42, 63, 95); fill-opacity: 1; white-space: pre;\" transform=\"translate(239.8359375,90.72)\">730</text></g><g class=\"point\"><path d=\"M272,221.58V211.65H314.67V221.58Z\" style=\"vector-effect: none; opacity: 1; stroke-width: 0px; fill: rgb(239, 85, 59); fill-opacity: 1;\"/><text class=\"bartext bartext-outside\" text-anchor=\"middle\" data-notex=\"1\" x=\"0\" y=\"0\" style=\"font-family: 'Open Sans', verdana, arial, sans-serif; font-size: 12px; fill: rgb(42, 63, 95); fill-opacity: 1; white-space: pre;\" transform=\"translate(293.17093750000004,205.65)\">434</text></g><g class=\"point\"><path d=\"M325.33,191.6V184.1H368V191.6Z\" style=\"vector-effect: none; opacity: 1; stroke-width: 0px; fill: rgb(239, 85, 59); fill-opacity: 1;\"/><text class=\"bartext bartext-outside\" text-anchor=\"middle\" data-notex=\"1\" x=\"0\" y=\"0\" style=\"font-family: 'Open Sans', verdana, arial, sans-serif; font-size: 12px; fill: rgb(42, 63, 95); fill-opacity: 1; white-space: pre;\" transform=\"translate(346.50093749999996,178.1)\">328</text></g><g class=\"point\"><path d=\"M378.67,231.09V227.8H421.33V231.09Z\" style=\"vector-effect: none; opacity: 1; stroke-width: 0px; fill: rgb(239, 85, 59); fill-opacity: 1;\"/><text class=\"bartext bartext-outside\" text-anchor=\"middle\" data-notex=\"1\" x=\"0\" y=\"0\" style=\"font-family: 'Open Sans', verdana, arial, sans-serif; font-size: 12px; fill: rgb(42, 63, 95); fill-opacity: 1; white-space: pre;\" transform=\"translate(399.8359375,221.8)\">144</text></g><g class=\"point\"><path d=\"M432,221.9V218.49H474.67V221.9Z\" style=\"vector-effect: none; opacity: 1; stroke-width: 0px; fill: rgb(239, 85, 59); fill-opacity: 1;\"/><text class=\"bartext bartext-outside\" text-anchor=\"middle\" data-notex=\"1\" x=\"0\" y=\"0\" style=\"font-family: 'Open Sans', verdana, arial, sans-serif; font-size: 12px; fill: rgb(42, 63, 95); fill-opacity: 1; white-space: pre;\" transform=\"translate(453.17093750000004,212.49)\">149</text></g><g class=\"point\"><path d=\"M485.33,244.3V243.45H528V244.3Z\" style=\"vector-effect: none; opacity: 1; stroke-width: 0px; fill: rgb(239, 85, 59); fill-opacity: 1;\"/><text class=\"bartext bartext-outside\" text-anchor=\"middle\" data-notex=\"1\" x=\"0\" y=\"0\" style=\"font-family: 'Open Sans', verdana, arial, sans-serif; font-size: 12px; fill: rgb(42, 63, 95); fill-opacity: 1; white-space: pre;\" transform=\"translate(506.50874999999996,237.45)\">37</text></g><g class=\"point\"><path d=\"M538.67,220.52V217.69H581.33V220.52Z\" style=\"vector-effect: none; opacity: 1; stroke-width: 0px; fill: rgb(239, 85, 59); fill-opacity: 1;\"/><text class=\"bartext bartext-outside\" text-anchor=\"middle\" data-notex=\"1\" x=\"0\" y=\"0\" style=\"font-family: 'Open Sans', verdana, arial, sans-serif; font-size: 12px; fill: rgb(42, 63, 95); fill-opacity: 1; white-space: pre;\" transform=\"translate(559.8359375,211.69)\">124</text></g><g class=\"point\"><path d=\"M592,237.27V230.98H634.67V237.27Z\" style=\"vector-effect: none; opacity: 1; stroke-width: 0px; fill: rgb(239, 85, 59); fill-opacity: 1;\"/><text class=\"bartext bartext-outside\" text-anchor=\"middle\" data-notex=\"1\" x=\"0\" y=\"0\" style=\"font-family: 'Open Sans', verdana, arial, sans-serif; font-size: 12px; fill: rgb(42, 63, 95); fill-opacity: 1; white-space: pre;\" transform=\"translate(613.1709375,224.98)\">275</text></g></g></g></g></g><g class=\"overplot\"/><path class=\"xlines-above crisp\" d=\"M0,0\" style=\"fill: none;\"/><path class=\"ylines-above crisp\" d=\"M0,0\" style=\"fill: none;\"/><g class=\"overlines-above\"/><g class=\"xaxislayer-above\"><g class=\"xtick\"><text text-anchor=\"start\" x=\"0\" y=\"324\" transform=\"translate(106.67,0) rotate(29.999999999999996,0,318)\" style=\"font-family: 'Open Sans', verdana, arial, sans-serif; font-size: 12px; fill: rgb(42, 63, 95); fill-opacity: 1; white-space: pre; opacity: 1;\">housemaid</text></g><g class=\"xtick\"><text text-anchor=\"start\" x=\"0\" y=\"324\" transform=\"translate(160,0) rotate(29.999999999999996,0,318)\" style=\"font-family: 'Open Sans', verdana, arial, sans-serif; font-size: 12px; fill: rgb(42, 63, 95); fill-opacity: 1; white-space: pre; opacity: 1;\">services</text></g><g class=\"xtick\"><text text-anchor=\"start\" x=\"0\" y=\"324\" transform=\"translate(213.33,0) rotate(29.999999999999996,0,318)\" style=\"font-family: 'Open Sans', verdana, arial, sans-serif; font-size: 12px; fill: rgb(42, 63, 95); fill-opacity: 1; white-space: pre; opacity: 1;\">admin.</text></g><g class=\"xtick\"><text text-anchor=\"start\" x=\"0\" y=\"324\" transform=\"translate(266.66999999999996,0) rotate(29.999999999999996,0,318)\" style=\"font-family: 'Open Sans', verdana, arial, sans-serif; font-size: 12px; fill: rgb(42, 63, 95); fill-opacity: 1; white-space: pre; opacity: 1;\">blue-collar</text></g><g class=\"xtick\"><text text-anchor=\"start\" x=\"0\" y=\"324\" transform=\"translate(320,0) rotate(29.999999999999996,0,318)\" style=\"font-family: 'Open Sans', verdana, arial, sans-serif; font-size: 12px; fill: rgb(42, 63, 95); fill-opacity: 1; white-space: pre; opacity: 1;\">technician</text></g><g class=\"xtick\"><text text-anchor=\"start\" x=\"0\" y=\"324\" transform=\"translate(373.33,0) rotate(29.999999999999996,0,318)\" style=\"font-family: 'Open Sans', verdana, arial, sans-serif; font-size: 12px; fill: rgb(42, 63, 95); fill-opacity: 1; white-space: pre; opacity: 1;\">retired</text></g><g class=\"xtick\"><text text-anchor=\"start\" x=\"0\" y=\"324\" transform=\"translate(426.67,0) rotate(29.999999999999996,0,318)\" style=\"font-family: 'Open Sans', verdana, arial, sans-serif; font-size: 12px; fill: rgb(42, 63, 95); fill-opacity: 1; white-space: pre; opacity: 1;\">management</text></g><g class=\"xtick\"><text text-anchor=\"start\" x=\"0\" y=\"324\" transform=\"translate(480,0) rotate(29.999999999999996,0,318)\" style=\"font-family: 'Open Sans', verdana, arial, sans-serif; font-size: 12px; fill: rgb(42, 63, 95); fill-opacity: 1; white-space: pre; opacity: 1;\">unemployed</text></g><g class=\"xtick\"><text text-anchor=\"start\" x=\"0\" y=\"324\" transform=\"translate(533.3299999999999,0) rotate(29.999999999999996,0,318)\" style=\"font-family: 'Open Sans', verdana, arial, sans-serif; font-size: 12px; fill: rgb(42, 63, 95); fill-opacity: 1; white-space: pre; opacity: 1;\">self-employed</text></g><g class=\"xtick\"><text text-anchor=\"start\" x=\"0\" y=\"324\" transform=\"translate(586.6700000000001,0) rotate(29.999999999999996,0,318)\" style=\"font-family: 'Open Sans', verdana, arial, sans-serif; font-size: 12px; fill: rgb(42, 63, 95); fill-opacity: 1; white-space: pre; opacity: 1;\">unknown</text></g><g class=\"xtick\"><text text-anchor=\"start\" x=\"0\" y=\"324\" transform=\"translate(640,0) rotate(29.999999999999996,0,318)\" style=\"font-family: 'Open Sans', verdana, arial, sans-serif; font-size: 12px; fill: rgb(42, 63, 95); fill-opacity: 1; white-space: pre; opacity: 1;\">entrepreneur</text></g><g class=\"xtick\"><text text-anchor=\"start\" x=\"0\" y=\"324\" transform=\"translate(693.33,0) rotate(29.999999999999996,0,318)\" style=\"font-family: 'Open Sans', verdana, arial, sans-serif; font-size: 12px; fill: rgb(42, 63, 95); fill-opacity: 1; white-space: pre; opacity: 1;\">student</text></g></g><g class=\"yaxislayer-above\"><g class=\"ytick\"><text text-anchor=\"end\" x=\"79\" y=\"4.199999999999999\" transform=\"translate(0,311)\" style=\"font-family: 'Open Sans', verdana, arial, sans-serif; font-size: 12px; fill: rgb(42, 63, 95); fill-opacity: 1; white-space: pre; opacity: 1;\">0</text></g><g class=\"ytick\"><text text-anchor=\"end\" x=\"79\" y=\"4.199999999999999\" style=\"font-family: 'Open Sans', verdana, arial, sans-serif; font-size: 12px; fill: rgb(42, 63, 95); fill-opacity: 1; white-space: pre; opacity: 1;\" transform=\"translate(0,265.24)\">2k</text></g><g class=\"ytick\"><text text-anchor=\"end\" x=\"79\" y=\"4.199999999999999\" style=\"font-family: 'Open Sans', verdana, arial, sans-serif; font-size: 12px; fill: rgb(42, 63, 95); fill-opacity: 1; white-space: pre; opacity: 1;\" transform=\"translate(0,219.48)\">4k</text></g><g class=\"ytick\"><text text-anchor=\"end\" x=\"79\" y=\"4.199999999999999\" style=\"font-family: 'Open Sans', verdana, arial, sans-serif; font-size: 12px; fill: rgb(42, 63, 95); fill-opacity: 1; white-space: pre; opacity: 1;\" transform=\"translate(0,173.72)\">6k</text></g><g class=\"ytick\"><text text-anchor=\"end\" x=\"79\" y=\"4.199999999999999\" style=\"font-family: 'Open Sans', verdana, arial, sans-serif; font-size: 12px; fill: rgb(42, 63, 95); fill-opacity: 1; white-space: pre; opacity: 1;\" transform=\"translate(0,127.96)\">8k</text></g><g class=\"ytick\"><text text-anchor=\"end\" x=\"79\" y=\"4.199999999999999\" style=\"font-family: 'Open Sans', verdana, arial, sans-serif; font-size: 12px; fill: rgb(42, 63, 95); fill-opacity: 1; white-space: pre; opacity: 1;\" transform=\"translate(0,82.21000000000001)\">10k</text></g></g><g class=\"overaxes-above\"/></g></g><g class=\"polarlayer\"/><g class=\"smithlayer\"/><g class=\"ternarylayer\"/><g class=\"geolayer\"/><g class=\"funnelarealayer\"/><g class=\"pielayer\"/><g class=\"iciclelayer\"/><g class=\"treemaplayer\"/><g class=\"sunburstlayer\"/><g class=\"glimages\"/><defs id=\"topdefs-516151\"><g class=\"clips\"/><clipPath id=\"legend516151\"><rect width=\"52\" height=\"67\" x=\"0\" y=\"0\"/></clipPath></defs><g class=\"layer-above\"><g class=\"imagelayer\"/><g class=\"shapelayer\"/></g><g class=\"infolayer\"><g class=\"legend\" pointer-events=\"all\" transform=\"translate(732.8,60)\"><rect class=\"bg\" shape-rendering=\"crispEdges\" width=\"52\" height=\"67\" x=\"0\" y=\"0\" style=\"stroke: rgb(68, 68, 68); stroke-opacity: 1; fill: rgb(255, 255, 255); fill-opacity: 1; stroke-width: 0px;\"/><g class=\"scrollbox\" transform=\"\" clip-path=\"url(#legend516151)\"><text class=\"legendtitletext\" text-anchor=\"start\" x=\"2\" y=\"18.2\" style=\"font-family: 'Open Sans', verdana, arial, sans-serif; font-size: 14px; fill: rgb(42, 63, 95); fill-opacity: 1; white-space: pre;\">y</text><g class=\"groups\" transform=\"\"><g class=\"traces\" transform=\"translate(0,32.7)\" style=\"opacity: 1;\"><text class=\"legendtext\" text-anchor=\"start\" x=\"40\" y=\"4.680000000000001\" style=\"font-family: 'Open Sans', verdana, arial, sans-serif; font-size: 12px; fill: rgb(42, 63, 95); fill-opacity: 1; white-space: pre;\">0</text><g class=\"layers\" style=\"opacity: 1;\"><g class=\"legendfill\"/><g class=\"legendlines\"/><g class=\"legendsymbols\"><g class=\"legendpoints\"><path class=\"legendundefined\" d=\"M6,6H-6V-6H6Z\" transform=\"translate(20,0)\" style=\"stroke-width: 0px; fill: rgb(99, 110, 250); fill-opacity: 1;\"/></g></g></g><rect class=\"legendtoggle\" x=\"0\" y=\"-9.5\" width=\"47\" height=\"19\" style=\"fill: rgb(0, 0, 0); fill-opacity: 0;\"/></g></g><g class=\"groups\" transform=\"\"><g class=\"traces\" transform=\"translate(0,51.7)\" style=\"opacity: 1;\"><text class=\"legendtext\" text-anchor=\"start\" x=\"40\" y=\"4.680000000000001\" style=\"font-family: 'Open Sans', verdana, arial, sans-serif; font-size: 12px; fill: rgb(42, 63, 95); fill-opacity: 1; white-space: pre;\">1</text><g class=\"layers\" style=\"opacity: 1;\"><g class=\"legendfill\"/><g class=\"legendlines\"/><g class=\"legendsymbols\"><g class=\"legendpoints\"><path class=\"legendundefined\" d=\"M6,6H-6V-6H6Z\" transform=\"translate(20,0)\" style=\"stroke-width: 0px; fill: rgb(239, 85, 59); fill-opacity: 1;\"/></g></g></g><rect class=\"legendtoggle\" x=\"0\" y=\"-9.5\" width=\"47\" height=\"19\" style=\"fill: rgb(0, 0, 0); fill-opacity: 0;\"/></g></g></g><rect class=\"scrollbar\" rx=\"20\" ry=\"3\" width=\"0\" height=\"0\" x=\"0\" y=\"0\" style=\"fill: rgb(128, 139, 164); fill-opacity: 1;\"/></g><g class=\"g-gtitle\"><text class=\"gtitle\" x=\"400\" y=\"20\" text-anchor=\"middle\" dy=\"0.7em\" style=\"font-family: 'Open Sans', verdana, arial, sans-serif; font-size: 17px; fill: rgb(42, 63, 95); opacity: 1; font-weight: normal; white-space: pre;\">Subscription acceptance Totals per Job type</text></g><g class=\"g-xtitle\"><text class=\"xtitle\" x=\"400\" y=\"387.4455078125\" text-anchor=\"middle\" style=\"font-family: 'Open Sans', verdana, arial, sans-serif; font-size: 14px; fill: rgb(42, 63, 95); opacity: 1; font-weight: normal; white-space: pre;\">Jobs</text></g><g class=\"g-ytitle\"><text class=\"ytitle\" transform=\"rotate(-90,35.340625,185.5)\" x=\"35.340625\" y=\"185.5\" text-anchor=\"middle\" style=\"font-family: 'Open Sans', verdana, arial, sans-serif; font-size: 14px; fill: rgb(42, 63, 95); opacity: 1; font-weight: normal; white-space: pre;\">Count</text></g></g></svg>"
      ]
     },
     "metadata": {},
     "output_type": "display_data"
    }
   ],
   "source": [
    "fig = px.histogram(df, x='job', color='y', text_auto=True)\n",
    "fig.update_layout(title='Subscription acceptance Totals per Job type',\n",
    "                  title_x=0.5, title_y=0.95,\n",
    "                  width=800, height=400,\n",
    "                  yaxis_title='Count',\n",
    "                  xaxis_title='Jobs')\n",
    "fig.show()"
   ]
  },
  {
   "cell_type": "code",
   "execution_count": 14,
   "metadata": {
    "ExecuteTime": {
     "end_time": "2024-04-22T01:50:33.265517Z",
     "start_time": "2024-04-22T01:50:33.250800Z"
    },
    "colab": {
     "base_uri": "https://localhost:8080/"
    },
    "id": "fwGHLXLru8ML",
    "outputId": "6fa71928-aa87-44a2-c2fe-723b2b143851"
   },
   "outputs": [
    {
     "name": "stdout",
     "output_type": "stream",
     "text": [
      "base acceptance rate is: 0.113\n"
     ]
    }
   ],
   "source": [
    "base_acceptance = round(get_acceptance_rate(df), 3)\n",
    "print(f'base acceptance rate is: {base_acceptance}')"
   ]
  },
  {
   "cell_type": "code",
   "execution_count": 15,
   "metadata": {
    "ExecuteTime": {
     "end_time": "2024-04-22T01:50:35.097917Z",
     "start_time": "2024-04-22T01:50:33.944902Z"
    },
    "colab": {
     "base_uri": "https://localhost:8080/",
     "height": 1000
    },
    "id": "3vZL21238vft",
    "outputId": "5e95f63b-e836-4271-8d74-71342874d18c"
   },
   "outputs": [
    {
     "data": {
      "image/svg+xml": [
       "<svg class=\"main-svg\" xmlns=\"http://www.w3.org/2000/svg\" xmlns:xlink=\"http://www.w3.org/1999/xlink\" width=\"700\" height=\"350\" style=\"\" viewBox=\"0 0 700 350\"><rect x=\"0\" y=\"0\" width=\"700\" height=\"350\" style=\"fill: rgb(255, 255, 255); fill-opacity: 1;\"/><defs id=\"defs-c7ddaa\"><g class=\"clips\"><clipPath id=\"clipc7ddaaxyplot\" class=\"plotclip\"><rect width=\"440\" height=\"201\"/></clipPath><clipPath class=\"axesclip\" id=\"clipc7ddaax\"><rect x=\"80\" y=\"0\" width=\"440\" height=\"350\"/></clipPath><clipPath class=\"axesclip\" id=\"clipc7ddaay\"><rect x=\"0\" y=\"60\" width=\"700\" height=\"201\"/></clipPath><clipPath class=\"axesclip\" id=\"clipc7ddaaxy\"><rect x=\"80\" y=\"60\" width=\"440\" height=\"201\"/></clipPath></g><g class=\"gradients\"/><g class=\"patterns\"/></defs><g class=\"bglayer\"><rect class=\"bg\" x=\"80\" y=\"60\" width=\"440\" height=\"201\" style=\"fill: rgb(229, 236, 246); fill-opacity: 1; stroke-width: 0;\"/></g><g class=\"layer-below\"><g class=\"imagelayer\"/><g class=\"shapelayer\"/></g><g class=\"cartesianlayer\"><g class=\"subplot xy\"><g class=\"layer-subplot\"><g class=\"shapelayer\"/><g class=\"imagelayer\"/></g><g class=\"minor-gridlayer\"><g class=\"x\"/><g class=\"y\"/></g><g class=\"gridlayer\"><g class=\"x\"/><g class=\"y\"><path class=\"ygrid crisp\" transform=\"translate(0,222.81)\" d=\"M80,0h440\" style=\"stroke: rgb(255, 255, 255); stroke-opacity: 1; stroke-width: 1px;\"/><path class=\"ygrid crisp\" transform=\"translate(0,184.62)\" d=\"M80,0h440\" style=\"stroke: rgb(255, 255, 255); stroke-opacity: 1; stroke-width: 1px;\"/><path class=\"ygrid crisp\" transform=\"translate(0,146.43)\" d=\"M80,0h440\" style=\"stroke: rgb(255, 255, 255); stroke-opacity: 1; stroke-width: 1px;\"/><path class=\"ygrid crisp\" transform=\"translate(0,108.24000000000001)\" d=\"M80,0h440\" style=\"stroke: rgb(255, 255, 255); stroke-opacity: 1; stroke-width: 1px;\"/><path class=\"ygrid crisp\" transform=\"translate(0,70.05)\" d=\"M80,0h440\" style=\"stroke: rgb(255, 255, 255); stroke-opacity: 1; stroke-width: 1px;\"/></g></g><g class=\"zerolinelayer\"><path class=\"yzl zl crisp\" transform=\"translate(0,261)\" d=\"M80,0h440\" style=\"stroke: rgb(255, 255, 255); stroke-opacity: 1; stroke-width: 2px;\"/></g><path class=\"xlines-below\"/><path class=\"ylines-below\"/><g class=\"overlines-below\"/><g class=\"xaxislayer-below\"/><g class=\"yaxislayer-below\"/><g class=\"overaxes-below\"/><g class=\"plot\" transform=\"translate(80,60)\" clip-path=\"url(#clipc7ddaaxyplot)\"><g class=\"barlayer mlayer\"><g class=\"trace bars\" style=\"opacity: 1;\"><g class=\"points\"><g class=\"point\"><path d=\"M3.67,201V176.23H33V201Z\" style=\"vector-effect: none; opacity: 1; stroke-width: 0.5px; fill: rgb(99, 110, 250); fill-opacity: 1; stroke: rgb(229, 236, 246); stroke-opacity: 1;\"/><text class=\"bartext bartext-inside\" text-anchor=\"middle\" data-notex=\"1\" x=\"0\" y=\"0\" style=\"font-family: 'Open Sans', verdana, arial, sans-serif; font-size: 12px; fill: rgb(255, 255, 255); fill-opacity: 1; white-space: pre;\" transform=\"translate(18.173520105471326,190.0568424522083)scale(0.9842584047462095)\">0.13</text></g><g class=\"point\"><path d=\"M40.33,201V187.84H69.67V201Z\" style=\"vector-effect: none; opacity: 1; stroke-width: 0.5px; fill: rgb(99, 110, 250); fill-opacity: 1; stroke: rgb(229, 236, 246); stroke-opacity: 1;\"/><text class=\"bartext bartext-inside\" text-anchor=\"middle\" data-notex=\"1\" x=\"0\" y=\"0\" style=\"font-family: 'Open Sans', verdana, arial, sans-serif; font-size: 12px; fill: rgb(255, 255, 255); fill-opacity: 1; white-space: pre;\" transform=\"translate(54.91609375,196.46571428571428)scale(0.5114285714285712)\">0.07</text></g><g class=\"point\"><path d=\"M77,201V184.74H106.33V201Z\" style=\"vector-effect: none; opacity: 1; stroke-width: 0.5px; fill: rgb(99, 110, 250); fill-opacity: 1; stroke: rgb(229, 236, 246); stroke-opacity: 1;\"/><text class=\"bartext bartext-inside\" text-anchor=\"middle\" data-notex=\"1\" x=\"0\" y=\"0\" style=\"font-family: 'Open Sans', verdana, arial, sans-serif; font-size: 12px; fill: rgb(255, 255, 255); fill-opacity: 1; white-space: pre;\" transform=\"translate(91.544765625,195.80142857142857)scale(0.7328571428571422)\">0.09</text></g><g class=\"point\"><path d=\"M113.67,201V181.91H143V201Z\" style=\"vector-effect: none; opacity: 1; stroke-width: 0.5px; fill: rgb(99, 110, 250); fill-opacity: 1; stroke: rgb(229, 236, 246); stroke-opacity: 1;\"/><text class=\"bartext bartext-inside\" text-anchor=\"middle\" data-notex=\"1\" x=\"0\" y=\"0\" style=\"font-family: 'Open Sans', verdana, arial, sans-serif; font-size: 12px; fill: rgb(255, 255, 255); fill-opacity: 1; white-space: pre;\" transform=\"translate(128.18160156250002,195.195)scale(0.9350000000000003)\">0.10</text></g><g class=\"point\"><path d=\"M150.33,201V179.58H179.67V201Z\" style=\"vector-effect: none; opacity: 1; stroke-width: 0.5px; fill: rgb(99, 110, 250); fill-opacity: 1; stroke: rgb(229, 236, 246); stroke-opacity: 1;\"/><text class=\"bartext bartext-inside\" text-anchor=\"middle\" data-notex=\"1\" x=\"0\" y=\"0\" style=\"font-family: 'Open Sans', verdana, arial, sans-serif; font-size: 12px; fill: rgb(255, 255, 255); fill-opacity: 1; white-space: pre;\" transform=\"translate(164.8384508899143,193.41148319050757)scale(0.9846802900461427)\">0.11</text></g><g class=\"point\"><path d=\"M187,201V152.82H216.33V201Z\" style=\"vector-effect: none; opacity: 1; stroke-width: 0.5px; fill: rgb(99, 110, 250); fill-opacity: 1; stroke: rgb(229, 236, 246); stroke-opacity: 1;\"/><text class=\"bartext bartext-inside\" text-anchor=\"middle\" data-notex=\"1\" x=\"0\" y=\"0\" style=\"font-family: 'Open Sans', verdana, arial, sans-serif; font-size: 12px; fill: rgb(255, 255, 255); fill-opacity: 1; white-space: pre;\" transform=\"translate(201.50093750000002,171.6715625)rotate(90 0.1640625 -4)\">0.25</text></g><g class=\"point\"><path d=\"M223.67,201V180.98H253V201Z\" style=\"vector-effect: none; opacity: 1; stroke-width: 0.5px; fill: rgb(99, 110, 250); fill-opacity: 1; stroke: rgb(229, 236, 246); stroke-opacity: 1;\"/><text class=\"bartext bartext-inside\" text-anchor=\"middle\" data-notex=\"1\" x=\"0\" y=\"0\" style=\"font-family: 'Open Sans', verdana, arial, sans-serif; font-size: 12px; fill: rgb(255, 255, 255); fill-opacity: 1; white-space: pre;\" transform=\"translate(238.1735201054713,194.80684245220831)scale(0.9842584047462102)\">0.10</text></g><g class=\"point\"><path d=\"M260.33,201V185.46H289.67V201Z\" style=\"vector-effect: none; opacity: 1; stroke-width: 0.5px; fill: rgb(99, 110, 250); fill-opacity: 1; stroke: rgb(229, 236, 246); stroke-opacity: 1;\"/><text class=\"bartext bartext-inside\" text-anchor=\"middle\" data-notex=\"1\" x=\"0\" y=\"0\" style=\"font-family: 'Open Sans', verdana, arial, sans-serif; font-size: 12px; fill: rgb(255, 255, 255); fill-opacity: 1; white-space: pre;\" transform=\"translate(274.888203125,195.9557142857143)scale(0.6814285714285708)\">0.08</text></g><g class=\"point\"><path d=\"M297,201V140.99H326.33V201Z\" style=\"vector-effect: none; opacity: 1; stroke-width: 0.5px; fill: rgb(99, 110, 250); fill-opacity: 1; stroke: rgb(229, 236, 246); stroke-opacity: 1;\"/><text class=\"bartext bartext-inside\" text-anchor=\"middle\" data-notex=\"1\" x=\"0\" y=\"0\" style=\"font-family: 'Open Sans', verdana, arial, sans-serif; font-size: 12px; fill: rgb(255, 255, 255); fill-opacity: 1; white-space: pre;\" transform=\"translate(311.50093749999996,159.8415625)rotate(90 0.1640625 -4)\">0.31</text></g><g class=\"point\"><path d=\"M333.67,201V180.33H363V201Z\" style=\"vector-effect: none; opacity: 1; stroke-width: 0.5px; fill: rgb(99, 110, 250); fill-opacity: 1; stroke: rgb(229, 236, 246); stroke-opacity: 1;\"/><text class=\"bartext bartext-inside\" text-anchor=\"middle\" data-notex=\"1\" x=\"0\" y=\"0\" style=\"font-family: 'Open Sans', verdana, arial, sans-serif; font-size: 12px; fill: rgb(255, 255, 255); fill-opacity: 1; white-space: pre;\" transform=\"translate(348.17352010547137,194.1568424522083)scale(0.984258404746209)\">0.11</text></g><g class=\"point\"><path d=\"M370.33,201V173.88H399.67V201Z\" style=\"vector-effect: none; opacity: 1; stroke-width: 0.5px; fill: rgb(99, 110, 250); fill-opacity: 1; stroke: rgb(229, 236, 246); stroke-opacity: 1;\"/><text class=\"bartext bartext-inside\" text-anchor=\"middle\" data-notex=\"1\" x=\"0\" y=\"0\" style=\"font-family: 'Open Sans', verdana, arial, sans-serif; font-size: 12px; fill: rgb(255, 255, 255); fill-opacity: 1; white-space: pre;\" transform=\"translate(384.8384508899143,187.71148319050758)scale(0.9846802900461451)\">0.14</text></g><g class=\"point\"><path d=\"M407,201V179.59H436.33V201Z\" style=\"vector-effect: none; opacity: 1; stroke-width: 0.5px; fill: rgb(99, 110, 250); fill-opacity: 1; stroke: rgb(229, 236, 246); stroke-opacity: 1;\"/><text class=\"bartext bartext-inside\" text-anchor=\"middle\" data-notex=\"1\" x=\"0\" y=\"0\" style=\"font-family: 'Open Sans', verdana, arial, sans-serif; font-size: 12px; fill: rgb(255, 255, 255); fill-opacity: 1; white-space: pre;\" transform=\"translate(421.5035201054713,193.4168424522083)scale(0.984258404746209)\">0.11</text></g></g></g><g class=\"trace bars\" style=\"opacity: 1;\"><g class=\"points\"><g class=\"point\"><path d=\"M3.67,176.23V10.05H33V176.23Z\" style=\"vector-effect: none; opacity: 1; stroke-width: 0.5px; fill: rgb(239, 85, 59); fill-opacity: 1; stroke: rgb(229, 236, 246); stroke-opacity: 1;\"/><text class=\"bartext bartext-inside\" text-anchor=\"middle\" data-notex=\"1\" x=\"0\" y=\"0\" style=\"font-family: 'Open Sans', verdana, arial, sans-serif; font-size: 12px; fill: rgb(68, 68, 68); fill-opacity: 1; white-space: pre;\" transform=\"translate(18.1709375,28.9015625)rotate(90 0.1640625 -4)\">0.87</text></g><g class=\"point\"><path d=\"M40.33,187.84V10.05H69.67V187.84Z\" style=\"vector-effect: none; opacity: 1; stroke-width: 0.5px; fill: rgb(239, 85, 59); fill-opacity: 1; stroke: rgb(229, 236, 246); stroke-opacity: 1;\"/><text class=\"bartext bartext-inside\" text-anchor=\"middle\" data-notex=\"1\" x=\"0\" y=\"0\" style=\"font-family: 'Open Sans', verdana, arial, sans-serif; font-size: 12px; fill: rgb(68, 68, 68); fill-opacity: 1; white-space: pre;\" transform=\"translate(54.8359375,28.9015625)rotate(90 0.1640625 -4)\">0.93</text></g><g class=\"point\"><path d=\"M77,184.74V10.05H106.33V184.74Z\" style=\"vector-effect: none; opacity: 1; stroke-width: 0.5px; fill: rgb(239, 85, 59); fill-opacity: 1; stroke: rgb(229, 236, 246); stroke-opacity: 1;\"/><text class=\"bartext bartext-inside\" text-anchor=\"middle\" data-notex=\"1\" x=\"0\" y=\"0\" style=\"font-family: 'Open Sans', verdana, arial, sans-serif; font-size: 12px; fill: rgb(68, 68, 68); fill-opacity: 1; white-space: pre;\" transform=\"translate(91.50093749999999,28.9015625)rotate(90 0.1640625 -4)\">0.91</text></g><g class=\"point\"><path d=\"M113.67,181.91V10.05H143V181.91Z\" style=\"vector-effect: none; opacity: 1; stroke-width: 0.5px; fill: rgb(239, 85, 59); fill-opacity: 1; stroke: rgb(229, 236, 246); stroke-opacity: 1;\"/><text class=\"bartext bartext-inside\" text-anchor=\"middle\" data-notex=\"1\" x=\"0\" y=\"0\" style=\"font-family: 'Open Sans', verdana, arial, sans-serif; font-size: 12px; fill: rgb(68, 68, 68); fill-opacity: 1; white-space: pre;\" transform=\"translate(128.1709375,28.9015625)rotate(90 0.1640625 -4)\">0.90</text></g><g class=\"point\"><path d=\"M150.33,179.58V10.05H179.67V179.58Z\" style=\"vector-effect: none; opacity: 1; stroke-width: 0.5px; fill: rgb(239, 85, 59); fill-opacity: 1; stroke: rgb(229, 236, 246); stroke-opacity: 1;\"/><text class=\"bartext bartext-inside\" text-anchor=\"middle\" data-notex=\"1\" x=\"0\" y=\"0\" style=\"font-family: 'Open Sans', verdana, arial, sans-serif; font-size: 12px; fill: rgb(68, 68, 68); fill-opacity: 1; white-space: pre;\" transform=\"translate(164.8359375,28.9015625)rotate(90 0.1640625 -4)\">0.89</text></g><g class=\"point\"><path d=\"M187,152.82V10.05H216.33V152.82Z\" style=\"vector-effect: none; opacity: 1; stroke-width: 0.5px; fill: rgb(239, 85, 59); fill-opacity: 1; stroke: rgb(229, 236, 246); stroke-opacity: 1;\"/><text class=\"bartext bartext-inside\" text-anchor=\"middle\" data-notex=\"1\" x=\"0\" y=\"0\" style=\"font-family: 'Open Sans', verdana, arial, sans-serif; font-size: 12px; fill: rgb(68, 68, 68); fill-opacity: 1; white-space: pre;\" transform=\"translate(201.50093750000002,28.9015625)rotate(90 0.1640625 -4)\">0.75</text></g><g class=\"point\"><path d=\"M223.67,180.98V10.05H253V180.98Z\" style=\"vector-effect: none; opacity: 1; stroke-width: 0.5px; fill: rgb(239, 85, 59); fill-opacity: 1; stroke: rgb(229, 236, 246); stroke-opacity: 1;\"/><text class=\"bartext bartext-inside\" text-anchor=\"middle\" data-notex=\"1\" x=\"0\" y=\"0\" style=\"font-family: 'Open Sans', verdana, arial, sans-serif; font-size: 12px; fill: rgb(68, 68, 68); fill-opacity: 1; white-space: pre;\" transform=\"translate(238.17093749999998,28.9015625)rotate(90 0.1640625 -4)\">0.90</text></g><g class=\"point\"><path d=\"M260.33,185.46V10.05H289.67V185.46Z\" style=\"vector-effect: none; opacity: 1; stroke-width: 0.5px; fill: rgb(239, 85, 59); fill-opacity: 1; stroke: rgb(229, 236, 246); stroke-opacity: 1;\"/><text class=\"bartext bartext-inside\" text-anchor=\"middle\" data-notex=\"1\" x=\"0\" y=\"0\" style=\"font-family: 'Open Sans', verdana, arial, sans-serif; font-size: 12px; fill: rgb(68, 68, 68); fill-opacity: 1; white-space: pre;\" transform=\"translate(274.8359375,28.9015625)rotate(90 0.1640625 -4)\">0.92</text></g><g class=\"point\"><path d=\"M297,140.99V10.05H326.33V140.99Z\" style=\"vector-effect: none; opacity: 1; stroke-width: 0.5px; fill: rgb(239, 85, 59); fill-opacity: 1; stroke: rgb(229, 236, 246); stroke-opacity: 1;\"/><text class=\"bartext bartext-inside\" text-anchor=\"middle\" data-notex=\"1\" x=\"0\" y=\"0\" style=\"font-family: 'Open Sans', verdana, arial, sans-serif; font-size: 12px; fill: rgb(68, 68, 68); fill-opacity: 1; white-space: pre;\" transform=\"translate(311.50093749999996,28.9015625)rotate(90 0.1640625 -4)\">0.69</text></g><g class=\"point\"><path d=\"M333.67,180.33V10.05H363V180.33Z\" style=\"vector-effect: none; opacity: 1; stroke-width: 0.5px; fill: rgb(239, 85, 59); fill-opacity: 1; stroke: rgb(229, 236, 246); stroke-opacity: 1;\"/><text class=\"bartext bartext-inside\" text-anchor=\"middle\" data-notex=\"1\" x=\"0\" y=\"0\" style=\"font-family: 'Open Sans', verdana, arial, sans-serif; font-size: 12px; fill: rgb(68, 68, 68); fill-opacity: 1; white-space: pre;\" transform=\"translate(348.17093750000004,28.9015625)rotate(90 0.1640625 -4)\">0.89</text></g><g class=\"point\"><path d=\"M370.33,173.88V10.05H399.67V173.88Z\" style=\"vector-effect: none; opacity: 1; stroke-width: 0.5px; fill: rgb(239, 85, 59); fill-opacity: 1; stroke: rgb(229, 236, 246); stroke-opacity: 1;\"/><text class=\"bartext bartext-inside\" text-anchor=\"middle\" data-notex=\"1\" x=\"0\" y=\"0\" style=\"font-family: 'Open Sans', verdana, arial, sans-serif; font-size: 12px; fill: rgb(68, 68, 68); fill-opacity: 1; white-space: pre;\" transform=\"translate(384.8359375,28.9015625)rotate(90 0.1640625 -4)\">0.86</text></g><g class=\"point\"><path d=\"M407,179.59V10.05H436.33V179.59Z\" style=\"vector-effect: none; opacity: 1; stroke-width: 0.5px; fill: rgb(239, 85, 59); fill-opacity: 1; stroke: rgb(229, 236, 246); stroke-opacity: 1;\"/><text class=\"bartext bartext-inside\" text-anchor=\"middle\" data-notex=\"1\" x=\"0\" y=\"0\" style=\"font-family: 'Open Sans', verdana, arial, sans-serif; font-size: 12px; fill: rgb(68, 68, 68); fill-opacity: 1; white-space: pre;\" transform=\"translate(421.50093749999996,28.9015625)rotate(90 0.1640625 -4)\">0.89</text></g></g></g></g></g><g class=\"overplot\"/><path class=\"xlines-above crisp\" d=\"M0,0\" style=\"fill: none;\"/><path class=\"ylines-above crisp\" d=\"M0,0\" style=\"fill: none;\"/><g class=\"overlines-above\"/><g class=\"xaxislayer-above\"><g class=\"xtick\"><text text-anchor=\"start\" x=\"0\" y=\"274\" transform=\"translate(98.33,0) rotate(29.999999999999996,0,268)\" style=\"font-family: 'Open Sans', verdana, arial, sans-serif; font-size: 12px; fill: rgb(42, 63, 95); fill-opacity: 1; white-space: pre; opacity: 1;\">admin.</text></g><g class=\"xtick\"><text text-anchor=\"start\" x=\"0\" y=\"274\" transform=\"translate(135,0) rotate(29.999999999999996,0,268)\" style=\"font-family: 'Open Sans', verdana, arial, sans-serif; font-size: 12px; fill: rgb(42, 63, 95); fill-opacity: 1; white-space: pre; opacity: 1;\">blue-collar</text></g><g class=\"xtick\"><text text-anchor=\"start\" x=\"0\" y=\"274\" transform=\"translate(171.67000000000002,0) rotate(29.999999999999996,0,268)\" style=\"font-family: 'Open Sans', verdana, arial, sans-serif; font-size: 12px; fill: rgb(42, 63, 95); fill-opacity: 1; white-space: pre; opacity: 1;\">entrepreneur</text></g><g class=\"xtick\"><text text-anchor=\"start\" x=\"0\" y=\"274\" transform=\"translate(208.33,0) rotate(29.999999999999996,0,268)\" style=\"font-family: 'Open Sans', verdana, arial, sans-serif; font-size: 12px; fill: rgb(42, 63, 95); fill-opacity: 1; white-space: pre; opacity: 1;\">housemaid</text></g><g class=\"xtick\"><text text-anchor=\"start\" x=\"0\" y=\"274\" transform=\"translate(245,0) rotate(29.999999999999996,0,268)\" style=\"font-family: 'Open Sans', verdana, arial, sans-serif; font-size: 12px; fill: rgb(42, 63, 95); fill-opacity: 1; white-space: pre; opacity: 1;\">management</text></g><g class=\"xtick\"><text text-anchor=\"start\" x=\"0\" y=\"274\" transform=\"translate(281.66999999999996,0) rotate(29.999999999999996,0,268)\" style=\"font-family: 'Open Sans', verdana, arial, sans-serif; font-size: 12px; fill: rgb(42, 63, 95); fill-opacity: 1; white-space: pre; opacity: 1;\">retired</text></g><g class=\"xtick\"><text text-anchor=\"start\" x=\"0\" y=\"274\" transform=\"translate(318.33000000000004,0) rotate(29.999999999999996,0,268)\" style=\"font-family: 'Open Sans', verdana, arial, sans-serif; font-size: 12px; fill: rgb(42, 63, 95); fill-opacity: 1; white-space: pre; opacity: 1;\">self-employed</text></g><g class=\"xtick\"><text text-anchor=\"start\" x=\"0\" y=\"274\" transform=\"translate(355,0) rotate(29.999999999999996,0,268)\" style=\"font-family: 'Open Sans', verdana, arial, sans-serif; font-size: 12px; fill: rgb(42, 63, 95); fill-opacity: 1; white-space: pre; opacity: 1;\">services</text></g><g class=\"xtick\"><text text-anchor=\"start\" x=\"0\" y=\"274\" transform=\"translate(391.67,0) rotate(29.999999999999996,0,268)\" style=\"font-family: 'Open Sans', verdana, arial, sans-serif; font-size: 12px; fill: rgb(42, 63, 95); fill-opacity: 1; white-space: pre; opacity: 1;\">student</text></g><g class=\"xtick\"><text text-anchor=\"start\" x=\"0\" y=\"274\" transform=\"translate(428.33,0) rotate(29.999999999999996,0,268)\" style=\"font-family: 'Open Sans', verdana, arial, sans-serif; font-size: 12px; fill: rgb(42, 63, 95); fill-opacity: 1; white-space: pre; opacity: 1;\">technician</text></g><g class=\"xtick\"><text text-anchor=\"start\" x=\"0\" y=\"274\" transform=\"translate(465,0) rotate(29.999999999999996,0,268)\" style=\"font-family: 'Open Sans', verdana, arial, sans-serif; font-size: 12px; fill: rgb(42, 63, 95); fill-opacity: 1; white-space: pre; opacity: 1;\">unemployed</text></g><g class=\"xtick\"><text text-anchor=\"start\" x=\"0\" y=\"274\" transform=\"translate(501.67,0) rotate(29.999999999999996,0,268)\" style=\"font-family: 'Open Sans', verdana, arial, sans-serif; font-size: 12px; fill: rgb(42, 63, 95); fill-opacity: 1; white-space: pre; opacity: 1;\">unknown</text></g></g><g class=\"yaxislayer-above\"><g class=\"ytick\"><text text-anchor=\"end\" x=\"79\" y=\"4.199999999999999\" transform=\"translate(0,261)\" style=\"font-family: 'Open Sans', verdana, arial, sans-serif; font-size: 12px; fill: rgb(42, 63, 95); fill-opacity: 1; white-space: pre; opacity: 1;\">0</text></g><g class=\"ytick\"><text text-anchor=\"end\" x=\"79\" y=\"4.199999999999999\" style=\"font-family: 'Open Sans', verdana, arial, sans-serif; font-size: 12px; fill: rgb(42, 63, 95); fill-opacity: 1; white-space: pre; opacity: 1;\" transform=\"translate(0,222.81)\">0.2</text></g><g class=\"ytick\"><text text-anchor=\"end\" x=\"79\" y=\"4.199999999999999\" style=\"font-family: 'Open Sans', verdana, arial, sans-serif; font-size: 12px; fill: rgb(42, 63, 95); fill-opacity: 1; white-space: pre; opacity: 1;\" transform=\"translate(0,184.62)\">0.4</text></g><g class=\"ytick\"><text text-anchor=\"end\" x=\"79\" y=\"4.199999999999999\" style=\"font-family: 'Open Sans', verdana, arial, sans-serif; font-size: 12px; fill: rgb(42, 63, 95); fill-opacity: 1; white-space: pre; opacity: 1;\" transform=\"translate(0,146.43)\">0.6</text></g><g class=\"ytick\"><text text-anchor=\"end\" x=\"79\" y=\"4.199999999999999\" style=\"font-family: 'Open Sans', verdana, arial, sans-serif; font-size: 12px; fill: rgb(42, 63, 95); fill-opacity: 1; white-space: pre; opacity: 1;\" transform=\"translate(0,108.24000000000001)\">0.8</text></g><g class=\"ytick\"><text text-anchor=\"end\" x=\"79\" y=\"4.199999999999999\" style=\"font-family: 'Open Sans', verdana, arial, sans-serif; font-size: 12px; fill: rgb(42, 63, 95); fill-opacity: 1; white-space: pre; opacity: 1;\" transform=\"translate(0,70.05)\">1</text></g></g><g class=\"overaxes-above\"/></g></g><g class=\"polarlayer\"/><g class=\"smithlayer\"/><g class=\"ternarylayer\"/><g class=\"geolayer\"/><g class=\"funnelarealayer\"/><g class=\"pielayer\"/><g class=\"iciclelayer\"/><g class=\"treemaplayer\"/><g class=\"sunburstlayer\"/><g class=\"glimages\"/><defs id=\"topdefs-c7ddaa\"><g class=\"clips\"/><clipPath id=\"legendc7ddaa\"><rect width=\"159\" height=\"67\" x=\"0\" y=\"0\"/></clipPath></defs><g class=\"layer-above\"><g class=\"imagelayer\"/><g class=\"shapelayer\"><g class=\"shape-group\" data-index=\"0\" clip-path=\"url(#clipc7ddaay)\"><path data-index=\"0\" fill-rule=\"evenodd\" d=\"M80,240L520,240\" style=\"opacity: 1; stroke: rgb(0, 0, 0); stroke-opacity: 1; fill: rgb(0, 0, 0); fill-opacity: 0; stroke-dasharray: 9px, 9px; stroke-width: 3px;\"/></g></g></g><g class=\"infolayer\"><g class=\"legend\" pointer-events=\"all\" transform=\"translate(528.8,60)\"><rect class=\"bg\" shape-rendering=\"crispEdges\" style=\"stroke: rgb(68, 68, 68); stroke-opacity: 1; fill: rgb(255, 255, 255); fill-opacity: 1; stroke-width: 0px;\" width=\"159\" height=\"67\" x=\"0\" y=\"0\"/><g class=\"scrollbox\" transform=\"\" clip-path=\"url(#legendc7ddaa)\"><text class=\"legendtitletext\" text-anchor=\"start\" x=\"2\" y=\"18.2\" style=\"font-family: 'Open Sans', verdana, arial, sans-serif; font-size: 14px; fill: rgb(42, 63, 95); fill-opacity: 1; white-space: pre;\">Subscription Acceptance</text><g class=\"groups\" transform=\"\"><g class=\"traces\" transform=\"translate(0,32.7)\" style=\"opacity: 1;\"><text class=\"legendtext\" text-anchor=\"start\" x=\"40\" y=\"4.680000000000001\" style=\"font-family: 'Open Sans', verdana, arial, sans-serif; font-size: 12px; fill: rgb(42, 63, 95); fill-opacity: 1; white-space: pre;\">Accepted</text><g class=\"layers\" style=\"opacity: 1;\"><g class=\"legendfill\"/><g class=\"legendlines\"/><g class=\"legendsymbols\"><g class=\"legendpoints\"><path class=\"legendundefined\" d=\"M6,6H-6V-6H6Z\" transform=\"translate(20,0)\" style=\"stroke-width: 0.5px; fill: rgb(99, 110, 250); fill-opacity: 1; stroke: rgb(229, 236, 246); stroke-opacity: 1;\"/></g></g></g><rect class=\"legendtoggle\" x=\"0\" y=\"-9.5\" width=\"90.046875\" height=\"19\" style=\"fill: rgb(0, 0, 0); fill-opacity: 0;\"/></g></g><g class=\"groups\" transform=\"\"><g class=\"traces\" transform=\"translate(0,51.7)\" style=\"opacity: 1;\"><text class=\"legendtext\" text-anchor=\"start\" x=\"40\" y=\"4.680000000000001\" style=\"font-family: 'Open Sans', verdana, arial, sans-serif; font-size: 12px; fill: rgb(42, 63, 95); fill-opacity: 1; white-space: pre;\">Rejected</text><g class=\"layers\" style=\"opacity: 1;\"><g class=\"legendfill\"/><g class=\"legendlines\"/><g class=\"legendsymbols\"><g class=\"legendpoints\"><path class=\"legendundefined\" d=\"M6,6H-6V-6H6Z\" transform=\"translate(20,0)\" style=\"stroke-width: 0.5px; fill: rgb(239, 85, 59); fill-opacity: 1; stroke: rgb(229, 236, 246); stroke-opacity: 1;\"/></g></g></g><rect class=\"legendtoggle\" x=\"0\" y=\"-9.5\" width=\"90.046875\" height=\"19\" style=\"fill: rgb(0, 0, 0); fill-opacity: 0;\"/></g></g></g><rect class=\"scrollbar\" rx=\"20\" ry=\"3\" width=\"0\" height=\"0\" style=\"fill: rgb(128, 139, 164); fill-opacity: 1;\" x=\"0\" y=\"0\"/></g><g class=\"g-gtitle\"><text class=\"gtitle\" x=\"315\" y=\"17.5\" text-anchor=\"middle\" dy=\"0.7em\" style=\"font-family: 'Open Sans', verdana, arial, sans-serif; font-size: 17px; fill: rgb(42, 63, 95); opacity: 1; font-weight: normal; white-space: pre;\">Acceptance Rate vs job</text></g><g class=\"g-xtitle\"><text class=\"xtitle\" x=\"300\" y=\"337.4455078125\" text-anchor=\"middle\" style=\"font-family: 'Open Sans', verdana, arial, sans-serif; font-size: 14px; fill: rgb(42, 63, 95); opacity: 1; font-weight: normal; white-space: pre;\">job</text></g><g class=\"g-ytitle\"><text class=\"ytitle\" transform=\"rotate(-90,38.0125,160.5)\" x=\"38.0125\" y=\"160.5\" text-anchor=\"middle\" style=\"font-family: 'Open Sans', verdana, arial, sans-serif; font-size: 14px; fill: rgb(42, 63, 95); opacity: 1; font-weight: normal; white-space: pre;\">Acceptance Rate</text></g><g class=\"annotation\" data-index=\"0\" style=\"opacity: 1;\"><g class=\"annotation-text-g\" transform=\"rotate(0,568,240)\"><g class=\"cursor-pointer\" transform=\"translate(520,223)\"><rect class=\"bg\" x=\"0.5\" y=\"0.5\" width=\"95\" height=\"33\" style=\"stroke-width: 1px; stroke: rgb(0, 0, 0); stroke-opacity: 0; fill: rgb(0, 0, 0); fill-opacity: 0;\"/><text class=\"annotation-text\" text-anchor=\"middle\" x=\"48.03125\" y=\"13\" style=\"font-family: 'Open Sans', verdana, arial, sans-serif; font-size: 12px; fill: rgb(42, 63, 95); fill-opacity: 1; white-space: pre;\"><tspan class=\"line\" dy=\"0em\" x=\"48.03125\" y=\"13\">Base acceptance</tspan><tspan class=\"line\" dy=\"1.3em\" x=\"48.03125\" y=\"13\">rate (0.113)</tspan></text></g></g></g></g></svg>"
      ]
     },
     "metadata": {},
     "output_type": "display_data"
    },
    {
     "data": {
      "image/svg+xml": [
       "<svg class=\"main-svg\" xmlns=\"http://www.w3.org/2000/svg\" xmlns:xlink=\"http://www.w3.org/1999/xlink\" width=\"700\" height=\"350\" style=\"\" viewBox=\"0 0 700 350\"><rect x=\"0\" y=\"0\" width=\"700\" height=\"350\" style=\"fill: rgb(255, 255, 255); fill-opacity: 1;\"/><defs id=\"defs-9ed772\"><g class=\"clips\"><clipPath id=\"clip9ed772xyplot\" class=\"plotclip\"><rect width=\"440\" height=\"210\"/></clipPath><clipPath class=\"axesclip\" id=\"clip9ed772x\"><rect x=\"80\" y=\"0\" width=\"440\" height=\"350\"/></clipPath><clipPath class=\"axesclip\" id=\"clip9ed772y\"><rect x=\"0\" y=\"60\" width=\"700\" height=\"210\"/></clipPath><clipPath class=\"axesclip\" id=\"clip9ed772xy\"><rect x=\"80\" y=\"60\" width=\"440\" height=\"210\"/></clipPath></g><g class=\"gradients\"/><g class=\"patterns\"/></defs><g class=\"bglayer\"><rect class=\"bg\" x=\"80\" y=\"60\" width=\"440\" height=\"210\" style=\"fill: rgb(229, 236, 246); fill-opacity: 1; stroke-width: 0;\"/></g><g class=\"layer-below\"><g class=\"imagelayer\"/><g class=\"shapelayer\"/></g><g class=\"cartesianlayer\"><g class=\"subplot xy\"><g class=\"layer-subplot\"><g class=\"shapelayer\"/><g class=\"imagelayer\"/></g><g class=\"minor-gridlayer\"><g class=\"x\"/><g class=\"y\"/></g><g class=\"gridlayer\"><g class=\"x\"/><g class=\"y\"><path class=\"ygrid crisp\" transform=\"translate(0,230.1)\" d=\"M80,0h440\" style=\"stroke: rgb(255, 255, 255); stroke-opacity: 1; stroke-width: 1px;\"/><path class=\"ygrid crisp\" transform=\"translate(0,190.2)\" d=\"M80,0h440\" style=\"stroke: rgb(255, 255, 255); stroke-opacity: 1; stroke-width: 1px;\"/><path class=\"ygrid crisp\" transform=\"translate(0,150.3)\" d=\"M80,0h440\" style=\"stroke: rgb(255, 255, 255); stroke-opacity: 1; stroke-width: 1px;\"/><path class=\"ygrid crisp\" transform=\"translate(0,110.4)\" d=\"M80,0h440\" style=\"stroke: rgb(255, 255, 255); stroke-opacity: 1; stroke-width: 1px;\"/><path class=\"ygrid crisp\" transform=\"translate(0,70.5)\" d=\"M80,0h440\" style=\"stroke: rgb(255, 255, 255); stroke-opacity: 1; stroke-width: 1px;\"/></g></g><g class=\"zerolinelayer\"><path class=\"yzl zl crisp\" transform=\"translate(0,270)\" d=\"M80,0h440\" style=\"stroke: rgb(255, 255, 255); stroke-opacity: 1; stroke-width: 2px;\"/></g><path class=\"xlines-below\"/><path class=\"ylines-below\"/><g class=\"overlines-below\"/><g class=\"xaxislayer-below\"/><g class=\"yaxislayer-below\"/><g class=\"overaxes-below\"/><g class=\"plot\" transform=\"translate(80,60)\" clip-path=\"url(#clip9ed772xyplot)\"><g class=\"barlayer mlayer\"><g class=\"trace bars\" style=\"opacity: 1;\"><g class=\"points\"><g class=\"point\"><path d=\"M11,210V189.41H99V210Z\" style=\"vector-effect: none; opacity: 1; stroke-width: 0.5px; fill: rgb(99, 110, 250); fill-opacity: 1; stroke: rgb(229, 236, 246); stroke-opacity: 1;\"/><text class=\"bartext bartext-inside\" text-anchor=\"middle\" data-notex=\"1\" x=\"0\" y=\"0\" style=\"font-family: 'Open Sans', verdana, arial, sans-serif; font-size: 12px; fill: rgb(255, 255, 255); fill-opacity: 1; white-space: pre;\" transform=\"translate(54.8359375,203.41)\">0.10</text></g><g class=\"point\"><path d=\"M121,210V189.74H209V210Z\" style=\"vector-effect: none; opacity: 1; stroke-width: 0.5px; fill: rgb(99, 110, 250); fill-opacity: 1; stroke: rgb(229, 236, 246); stroke-opacity: 1;\"/><text class=\"bartext bartext-inside\" text-anchor=\"middle\" data-notex=\"1\" x=\"0\" y=\"0\" style=\"font-family: 'Open Sans', verdana, arial, sans-serif; font-size: 12px; fill: rgb(255, 255, 255); fill-opacity: 1; white-space: pre;\" transform=\"translate(164.8359375,203.74)\">0.10</text></g><g class=\"point\"><path d=\"M231,210V182.06H319V210Z\" style=\"vector-effect: none; opacity: 1; stroke-width: 0.5px; fill: rgb(99, 110, 250); fill-opacity: 1; stroke: rgb(229, 236, 246); stroke-opacity: 1;\"/><text class=\"bartext bartext-inside\" text-anchor=\"middle\" data-notex=\"1\" x=\"0\" y=\"0\" style=\"font-family: 'Open Sans', verdana, arial, sans-serif; font-size: 12px; fill: rgb(255, 255, 255); fill-opacity: 1; white-space: pre;\" transform=\"translate(274.8359375,196.06)\">0.14</text></g><g class=\"point\"><path d=\"M341,210V180.08H429V210Z\" style=\"vector-effect: none; opacity: 1; stroke-width: 0.5px; fill: rgb(99, 110, 250); fill-opacity: 1; stroke: rgb(229, 236, 246); stroke-opacity: 1;\"/><text class=\"bartext bartext-inside\" text-anchor=\"middle\" data-notex=\"1\" x=\"0\" y=\"0\" style=\"font-family: 'Open Sans', verdana, arial, sans-serif; font-size: 12px; fill: rgb(255, 255, 255); fill-opacity: 1; white-space: pre;\" transform=\"translate(384.8359375,194.08)\">0.15</text></g></g></g><g class=\"trace bars\" style=\"opacity: 1;\"><g class=\"points\"><g class=\"point\"><path d=\"M11,189.41V10.5H99V189.41Z\" style=\"vector-effect: none; opacity: 1; stroke-width: 0.5px; fill: rgb(239, 85, 59); fill-opacity: 1; stroke: rgb(229, 236, 246); stroke-opacity: 1;\"/><text class=\"bartext bartext-inside\" text-anchor=\"middle\" data-notex=\"1\" x=\"0\" y=\"0\" style=\"font-family: 'Open Sans', verdana, arial, sans-serif; font-size: 12px; fill: rgb(68, 68, 68); fill-opacity: 1; white-space: pre;\" transform=\"translate(54.8359375,24.5)\">0.90</text></g><g class=\"point\"><path d=\"M121,189.74V10.5H209V189.74Z\" style=\"vector-effect: none; opacity: 1; stroke-width: 0.5px; fill: rgb(239, 85, 59); fill-opacity: 1; stroke: rgb(229, 236, 246); stroke-opacity: 1;\"/><text class=\"bartext bartext-inside\" text-anchor=\"middle\" data-notex=\"1\" x=\"0\" y=\"0\" style=\"font-family: 'Open Sans', verdana, arial, sans-serif; font-size: 12px; fill: rgb(68, 68, 68); fill-opacity: 1; white-space: pre;\" transform=\"translate(164.8359375,24.5)\">0.90</text></g><g class=\"point\"><path d=\"M231,182.06V10.5H319V182.06Z\" style=\"vector-effect: none; opacity: 1; stroke-width: 0.5px; fill: rgb(239, 85, 59); fill-opacity: 1; stroke: rgb(229, 236, 246); stroke-opacity: 1;\"/><text class=\"bartext bartext-inside\" text-anchor=\"middle\" data-notex=\"1\" x=\"0\" y=\"0\" style=\"font-family: 'Open Sans', verdana, arial, sans-serif; font-size: 12px; fill: rgb(68, 68, 68); fill-opacity: 1; white-space: pre;\" transform=\"translate(274.8359375,24.5)\">0.86</text></g><g class=\"point\"><path d=\"M341,180.08V10.5H429V180.08Z\" style=\"vector-effect: none; opacity: 1; stroke-width: 0.5px; fill: rgb(239, 85, 59); fill-opacity: 1; stroke: rgb(229, 236, 246); stroke-opacity: 1;\"/><text class=\"bartext bartext-inside\" text-anchor=\"middle\" data-notex=\"1\" x=\"0\" y=\"0\" style=\"font-family: 'Open Sans', verdana, arial, sans-serif; font-size: 12px; fill: rgb(68, 68, 68); fill-opacity: 1; white-space: pre;\" transform=\"translate(384.8359375,24.5)\">0.85</text></g></g></g></g></g><g class=\"overplot\"/><path class=\"xlines-above crisp\" d=\"M0,0\" style=\"fill: none;\"/><path class=\"ylines-above crisp\" d=\"M0,0\" style=\"fill: none;\"/><g class=\"overlines-above\"/><g class=\"xaxislayer-above\"><g class=\"xtick\"><text text-anchor=\"middle\" x=\"0\" y=\"283\" transform=\"translate(135,0)\" style=\"font-family: 'Open Sans', verdana, arial, sans-serif; font-size: 12px; fill: rgb(42, 63, 95); fill-opacity: 1; white-space: pre; opacity: 1;\">divorced</text></g><g class=\"xtick\"><text text-anchor=\"middle\" x=\"0\" y=\"283\" transform=\"translate(245,0)\" style=\"font-family: 'Open Sans', verdana, arial, sans-serif; font-size: 12px; fill: rgb(42, 63, 95); fill-opacity: 1; white-space: pre; opacity: 1;\">married</text></g><g class=\"xtick\"><text text-anchor=\"middle\" x=\"0\" y=\"283\" transform=\"translate(355,0)\" style=\"font-family: 'Open Sans', verdana, arial, sans-serif; font-size: 12px; fill: rgb(42, 63, 95); fill-opacity: 1; white-space: pre; opacity: 1;\">single</text></g><g class=\"xtick\"><text text-anchor=\"middle\" x=\"0\" y=\"283\" transform=\"translate(465,0)\" style=\"font-family: 'Open Sans', verdana, arial, sans-serif; font-size: 12px; fill: rgb(42, 63, 95); fill-opacity: 1; white-space: pre; opacity: 1;\">unknown</text></g></g><g class=\"yaxislayer-above\"><g class=\"ytick\"><text text-anchor=\"end\" x=\"79\" y=\"4.199999999999999\" transform=\"translate(0,270)\" style=\"font-family: 'Open Sans', verdana, arial, sans-serif; font-size: 12px; fill: rgb(42, 63, 95); fill-opacity: 1; white-space: pre; opacity: 1;\">0</text></g><g class=\"ytick\"><text text-anchor=\"end\" x=\"79\" y=\"4.199999999999999\" style=\"font-family: 'Open Sans', verdana, arial, sans-serif; font-size: 12px; fill: rgb(42, 63, 95); fill-opacity: 1; white-space: pre; opacity: 1;\" transform=\"translate(0,230.1)\">0.2</text></g><g class=\"ytick\"><text text-anchor=\"end\" x=\"79\" y=\"4.199999999999999\" style=\"font-family: 'Open Sans', verdana, arial, sans-serif; font-size: 12px; fill: rgb(42, 63, 95); fill-opacity: 1; white-space: pre; opacity: 1;\" transform=\"translate(0,190.2)\">0.4</text></g><g class=\"ytick\"><text text-anchor=\"end\" x=\"79\" y=\"4.199999999999999\" style=\"font-family: 'Open Sans', verdana, arial, sans-serif; font-size: 12px; fill: rgb(42, 63, 95); fill-opacity: 1; white-space: pre; opacity: 1;\" transform=\"translate(0,150.3)\">0.6</text></g><g class=\"ytick\"><text text-anchor=\"end\" x=\"79\" y=\"4.199999999999999\" style=\"font-family: 'Open Sans', verdana, arial, sans-serif; font-size: 12px; fill: rgb(42, 63, 95); fill-opacity: 1; white-space: pre; opacity: 1;\" transform=\"translate(0,110.4)\">0.8</text></g><g class=\"ytick\"><text text-anchor=\"end\" x=\"79\" y=\"4.199999999999999\" style=\"font-family: 'Open Sans', verdana, arial, sans-serif; font-size: 12px; fill: rgb(42, 63, 95); fill-opacity: 1; white-space: pre; opacity: 1;\" transform=\"translate(0,70.5)\">1</text></g></g><g class=\"overaxes-above\"/></g></g><g class=\"polarlayer\"/><g class=\"smithlayer\"/><g class=\"ternarylayer\"/><g class=\"geolayer\"/><g class=\"funnelarealayer\"/><g class=\"pielayer\"/><g class=\"iciclelayer\"/><g class=\"treemaplayer\"/><g class=\"sunburstlayer\"/><g class=\"glimages\"/><defs id=\"topdefs-9ed772\"><g class=\"clips\"/><clipPath id=\"legend9ed772\"><rect width=\"159\" height=\"67\" x=\"0\" y=\"0\"/></clipPath></defs><g class=\"layer-above\"><g class=\"imagelayer\"/><g class=\"shapelayer\"><g class=\"shape-group\" data-index=\"0\" clip-path=\"url(#clip9ed772y)\"><path data-index=\"0\" fill-rule=\"evenodd\" d=\"M80,248.06L520,248.06\" style=\"opacity: 1; stroke: rgb(0, 0, 0); stroke-opacity: 1; fill: rgb(0, 0, 0); fill-opacity: 0; stroke-dasharray: 9px, 9px; stroke-width: 3px;\"/></g></g></g><g class=\"infolayer\"><g class=\"legend\" pointer-events=\"all\" transform=\"translate(528.8,60)\"><rect class=\"bg\" shape-rendering=\"crispEdges\" width=\"159\" height=\"67\" x=\"0\" y=\"0\" style=\"stroke: rgb(68, 68, 68); stroke-opacity: 1; fill: rgb(255, 255, 255); fill-opacity: 1; stroke-width: 0px;\"/><g class=\"scrollbox\" transform=\"\" clip-path=\"url(#legend9ed772)\"><text class=\"legendtitletext\" text-anchor=\"start\" x=\"2\" y=\"18.2\" style=\"font-family: 'Open Sans', verdana, arial, sans-serif; font-size: 14px; fill: rgb(42, 63, 95); fill-opacity: 1; white-space: pre;\">Subscription Acceptance</text><g class=\"groups\" transform=\"\"><g class=\"traces\" transform=\"translate(0,32.7)\" style=\"opacity: 1;\"><text class=\"legendtext\" text-anchor=\"start\" x=\"40\" y=\"4.680000000000001\" style=\"font-family: 'Open Sans', verdana, arial, sans-serif; font-size: 12px; fill: rgb(42, 63, 95); fill-opacity: 1; white-space: pre;\">Accepted</text><g class=\"layers\" style=\"opacity: 1;\"><g class=\"legendfill\"/><g class=\"legendlines\"/><g class=\"legendsymbols\"><g class=\"legendpoints\"><path class=\"legendundefined\" d=\"M6,6H-6V-6H6Z\" transform=\"translate(20,0)\" style=\"stroke-width: 0.5px; fill: rgb(99, 110, 250); fill-opacity: 1; stroke: rgb(229, 236, 246); stroke-opacity: 1;\"/></g></g></g><rect class=\"legendtoggle\" x=\"0\" y=\"-9.5\" width=\"90.046875\" height=\"19\" style=\"fill: rgb(0, 0, 0); fill-opacity: 0;\"/></g></g><g class=\"groups\" transform=\"\"><g class=\"traces\" transform=\"translate(0,51.7)\" style=\"opacity: 1;\"><text class=\"legendtext\" text-anchor=\"start\" x=\"40\" y=\"4.680000000000001\" style=\"font-family: 'Open Sans', verdana, arial, sans-serif; font-size: 12px; fill: rgb(42, 63, 95); fill-opacity: 1; white-space: pre;\">Rejected</text><g class=\"layers\" style=\"opacity: 1;\"><g class=\"legendfill\"/><g class=\"legendlines\"/><g class=\"legendsymbols\"><g class=\"legendpoints\"><path class=\"legendundefined\" d=\"M6,6H-6V-6H6Z\" transform=\"translate(20,0)\" style=\"stroke-width: 0.5px; fill: rgb(239, 85, 59); fill-opacity: 1; stroke: rgb(229, 236, 246); stroke-opacity: 1;\"/></g></g></g><rect class=\"legendtoggle\" x=\"0\" y=\"-9.5\" width=\"90.046875\" height=\"19\" style=\"fill: rgb(0, 0, 0); fill-opacity: 0;\"/></g></g></g><rect class=\"scrollbar\" rx=\"20\" ry=\"3\" width=\"0\" height=\"0\" x=\"0\" y=\"0\" style=\"fill: rgb(128, 139, 164); fill-opacity: 1;\"/></g><g class=\"g-gtitle\"><text class=\"gtitle\" x=\"315\" y=\"17.5\" text-anchor=\"middle\" dy=\"0.7em\" style=\"font-family: 'Open Sans', verdana, arial, sans-serif; font-size: 17px; fill: rgb(42, 63, 95); opacity: 1; font-weight: normal; white-space: pre;\">Acceptance Rate vs marital</text></g><g class=\"g-xtitle\"><text class=\"xtitle\" x=\"300\" y=\"310.3\" text-anchor=\"middle\" style=\"font-family: 'Open Sans', verdana, arial, sans-serif; font-size: 14px; fill: rgb(42, 63, 95); opacity: 1; font-weight: normal; white-space: pre;\">marital</text></g><g class=\"g-ytitle\"><text class=\"ytitle\" transform=\"rotate(-90,38.0125,165)\" x=\"38.0125\" y=\"165\" text-anchor=\"middle\" style=\"font-family: 'Open Sans', verdana, arial, sans-serif; font-size: 14px; fill: rgb(42, 63, 95); opacity: 1; font-weight: normal; white-space: pre;\">Acceptance Rate</text></g><g class=\"annotation\" data-index=\"0\" style=\"opacity: 1;\"><g class=\"annotation-text-g\" transform=\"rotate(0,568,248.06)\"><g class=\"cursor-pointer\" transform=\"translate(520,231)\"><rect class=\"bg\" x=\"0.5\" y=\"0.5\" width=\"95\" height=\"33\" style=\"stroke-width: 1px; stroke: rgb(0, 0, 0); stroke-opacity: 0; fill: rgb(0, 0, 0); fill-opacity: 0;\"/><text class=\"annotation-text\" text-anchor=\"middle\" x=\"48.03125\" y=\"13\" style=\"font-family: 'Open Sans', verdana, arial, sans-serif; font-size: 12px; fill: rgb(42, 63, 95); fill-opacity: 1; white-space: pre;\"><tspan class=\"line\" dy=\"0em\" x=\"48.03125\" y=\"13\">Base acceptance</tspan><tspan class=\"line\" dy=\"1.3em\" x=\"48.03125\" y=\"13\">rate (0.113)</tspan></text></g></g></g></g></svg>"
      ]
     },
     "metadata": {},
     "output_type": "display_data"
    },
    {
     "data": {
      "image/svg+xml": [
       "<svg class=\"main-svg\" xmlns=\"http://www.w3.org/2000/svg\" xmlns:xlink=\"http://www.w3.org/1999/xlink\" width=\"700\" height=\"350\" style=\"\" viewBox=\"0 0 700 350\"><rect x=\"0\" y=\"0\" width=\"700\" height=\"350\" style=\"fill: rgb(255, 255, 255); fill-opacity: 1;\"/><defs id=\"defs-a430bc\"><g class=\"clips\"><clipPath id=\"clipa430bcxyplot\" class=\"plotclip\"><rect width=\"440\" height=\"186\"/></clipPath><clipPath class=\"axesclip\" id=\"clipa430bcx\"><rect x=\"80\" y=\"0\" width=\"440\" height=\"350\"/></clipPath><clipPath class=\"axesclip\" id=\"clipa430bcy\"><rect x=\"0\" y=\"60\" width=\"700\" height=\"186\"/></clipPath><clipPath class=\"axesclip\" id=\"clipa430bcxy\"><rect x=\"80\" y=\"60\" width=\"440\" height=\"186\"/></clipPath></g><g class=\"gradients\"/><g class=\"patterns\"/></defs><g class=\"bglayer\"><rect class=\"bg\" x=\"80\" y=\"60\" width=\"440\" height=\"186\" style=\"fill: rgb(229, 236, 246); fill-opacity: 1; stroke-width: 0;\"/></g><g class=\"layer-below\"><g class=\"imagelayer\"/><g class=\"shapelayer\"/></g><g class=\"cartesianlayer\"><g class=\"subplot xy\"><g class=\"layer-subplot\"><g class=\"shapelayer\"/><g class=\"imagelayer\"/></g><g class=\"minor-gridlayer\"><g class=\"x\"/><g class=\"y\"/></g><g class=\"gridlayer\"><g class=\"x\"/><g class=\"y\"><path class=\"ygrid crisp\" transform=\"translate(0,210.66)\" d=\"M80,0h440\" style=\"stroke: rgb(255, 255, 255); stroke-opacity: 1; stroke-width: 1px;\"/><path class=\"ygrid crisp\" transform=\"translate(0,175.32)\" d=\"M80,0h440\" style=\"stroke: rgb(255, 255, 255); stroke-opacity: 1; stroke-width: 1px;\"/><path class=\"ygrid crisp\" transform=\"translate(0,139.98000000000002)\" d=\"M80,0h440\" style=\"stroke: rgb(255, 255, 255); stroke-opacity: 1; stroke-width: 1px;\"/><path class=\"ygrid crisp\" transform=\"translate(0,104.64)\" d=\"M80,0h440\" style=\"stroke: rgb(255, 255, 255); stroke-opacity: 1; stroke-width: 1px;\"/><path class=\"ygrid crisp\" transform=\"translate(0,69.3)\" d=\"M80,0h440\" style=\"stroke: rgb(255, 255, 255); stroke-opacity: 1; stroke-width: 1px;\"/></g></g><g class=\"zerolinelayer\"><path class=\"yzl zl crisp\" transform=\"translate(0,246)\" d=\"M80,0h440\" style=\"stroke: rgb(255, 255, 255); stroke-opacity: 1; stroke-width: 2px;\"/></g><path class=\"xlines-below\"/><path class=\"ylines-below\"/><g class=\"overlines-below\"/><g class=\"xaxislayer-below\"/><g class=\"yaxislayer-below\"/><g class=\"overaxes-below\"/><g class=\"plot\" transform=\"translate(80,60)\" clip-path=\"url(#clipa430bcxyplot)\"><g class=\"barlayer mlayer\"><g class=\"trace bars\" style=\"opacity: 1;\"><g class=\"points\"><g class=\"point\"><path d=\"M5.5,186V167.89H49.5V186Z\" style=\"vector-effect: none; opacity: 1; stroke-width: 0.5px; fill: rgb(99, 110, 250); fill-opacity: 1; stroke: rgb(229, 236, 246); stroke-opacity: 1;\"/><text class=\"bartext bartext-inside\" text-anchor=\"middle\" data-notex=\"1\" x=\"0\" y=\"0\" style=\"font-family: 'Open Sans', verdana, arial, sans-serif; font-size: 12px; fill: rgb(255, 255, 255); fill-opacity: 1; white-space: pre;\" transform=\"translate(27.3580859375,180.405)scale(0.865000000000001)\">0.10</text></g><g class=\"point\"><path d=\"M60.5,186V171.51H104.5V186Z\" style=\"vector-effect: none; opacity: 1; stroke-width: 0.5px; fill: rgb(99, 110, 250); fill-opacity: 1; stroke: rgb(229, 236, 246); stroke-opacity: 1;\"/><text class=\"bartext bartext-inside\" text-anchor=\"middle\" data-notex=\"1\" x=\"0\" y=\"0\" style=\"font-family: 'Open Sans', verdana, arial, sans-serif; font-size: 12px; fill: rgb(255, 255, 255); fill-opacity: 1; white-space: pre;\" transform=\"translate(82.4005078125,181.1807142857143)scale(0.6064285714285721)\">0.08</text></g><g class=\"point\"><path d=\"M115.5,186V172.17H159.5V186Z\" style=\"vector-effect: none; opacity: 1; stroke-width: 0.5px; fill: rgb(99, 110, 250); fill-opacity: 1; stroke: rgb(229, 236, 246); stroke-opacity: 1;\"/><text class=\"bartext bartext-inside\" text-anchor=\"middle\" data-notex=\"1\" x=\"0\" y=\"0\" style=\"font-family: 'Open Sans', verdana, arial, sans-serif; font-size: 12px; fill: rgb(255, 255, 255); fill-opacity: 1; white-space: pre;\" transform=\"translate(137.4082421875,181.32214285714286)scale(0.5592857142857152)\">0.08</text></g><g class=\"point\"><path d=\"M170.5,186V166.85H214.5V186Z\" style=\"vector-effect: none; opacity: 1; stroke-width: 0.5px; fill: rgb(99, 110, 250); fill-opacity: 1; stroke: rgb(229, 236, 246); stroke-opacity: 1;\"/><text class=\"bartext bartext-inside\" text-anchor=\"middle\" data-notex=\"1\" x=\"0\" y=\"0\" style=\"font-family: 'Open Sans', verdana, arial, sans-serif; font-size: 12px; fill: rgb(255, 255, 255); fill-opacity: 1; white-space: pre;\" transform=\"translate(192.3458984375,180.18214285714285)scale(0.9392857142857147)\">0.11</text></g><g class=\"point\"><path d=\"M225.5,186V146.73H269.5V186Z\" style=\"vector-effect: none; opacity: 1; stroke-width: 0.5px; fill: rgb(99, 110, 250); fill-opacity: 1; stroke: rgb(229, 236, 246); stroke-opacity: 1;\"/><text class=\"bartext bartext-inside\" text-anchor=\"middle\" data-notex=\"1\" x=\"0\" y=\"0\" style=\"font-family: 'Open Sans', verdana, arial, sans-serif; font-size: 12px; fill: rgb(255, 255, 255); fill-opacity: 1; white-space: pre;\" transform=\"translate(247.3359375,160.73)\">0.22</text></g><g class=\"point\"><path d=\"M280.5,186V165.95H324.5V186Z\" style=\"vector-effect: none; opacity: 1; stroke-width: 0.5px; fill: rgb(99, 110, 250); fill-opacity: 1; stroke: rgb(229, 236, 246); stroke-opacity: 1;\"/><text class=\"bartext bartext-inside\" text-anchor=\"middle\" data-notex=\"1\" x=\"0\" y=\"0\" style=\"font-family: 'Open Sans', verdana, arial, sans-serif; font-size: 12px; fill: rgb(255, 255, 255); fill-opacity: 1; white-space: pre;\" transform=\"translate(302.3359375,179.95)\">0.11</text></g><g class=\"point\"><path d=\"M335.5,186V161.75H379.5V186Z\" style=\"vector-effect: none; opacity: 1; stroke-width: 0.5px; fill: rgb(99, 110, 250); fill-opacity: 1; stroke: rgb(229, 236, 246); stroke-opacity: 1;\"/><text class=\"bartext bartext-inside\" text-anchor=\"middle\" data-notex=\"1\" x=\"0\" y=\"0\" style=\"font-family: 'Open Sans', verdana, arial, sans-serif; font-size: 12px; fill: rgb(255, 255, 255); fill-opacity: 1; white-space: pre;\" transform=\"translate(357.3359375,175.75)\">0.14</text></g><g class=\"point\"><path d=\"M390.5,186V160.38H434.5V186Z\" style=\"vector-effect: none; opacity: 1; stroke-width: 0.5px; fill: rgb(99, 110, 250); fill-opacity: 1; stroke: rgb(229, 236, 246); stroke-opacity: 1;\"/><text class=\"bartext bartext-inside\" text-anchor=\"middle\" data-notex=\"1\" x=\"0\" y=\"0\" style=\"font-family: 'Open Sans', verdana, arial, sans-serif; font-size: 12px; fill: rgb(255, 255, 255); fill-opacity: 1; white-space: pre;\" transform=\"translate(412.3359375,174.38)\">0.15</text></g></g></g><g class=\"trace bars\" style=\"opacity: 1;\"><g class=\"points\"><g class=\"point\"><path d=\"M5.5,167.89V9.3H49.5V167.89Z\" style=\"vector-effect: none; opacity: 1; stroke-width: 0.5px; fill: rgb(239, 85, 59); fill-opacity: 1; stroke: rgb(229, 236, 246); stroke-opacity: 1;\"/><text class=\"bartext bartext-inside\" text-anchor=\"middle\" data-notex=\"1\" x=\"0\" y=\"0\" style=\"font-family: 'Open Sans', verdana, arial, sans-serif; font-size: 12px; fill: rgb(68, 68, 68); fill-opacity: 1; white-space: pre;\" transform=\"translate(27.3359375,23.3)\">0.90</text></g><g class=\"point\"><path d=\"M60.5,171.51V9.3H104.5V171.51Z\" style=\"vector-effect: none; opacity: 1; stroke-width: 0.5px; fill: rgb(239, 85, 59); fill-opacity: 1; stroke: rgb(229, 236, 246); stroke-opacity: 1;\"/><text class=\"bartext bartext-inside\" text-anchor=\"middle\" data-notex=\"1\" x=\"0\" y=\"0\" style=\"font-family: 'Open Sans', verdana, arial, sans-serif; font-size: 12px; fill: rgb(68, 68, 68); fill-opacity: 1; white-space: pre;\" transform=\"translate(82.3359375,23.3)\">0.92</text></g><g class=\"point\"><path d=\"M115.5,172.17V9.3H159.5V172.17Z\" style=\"vector-effect: none; opacity: 1; stroke-width: 0.5px; fill: rgb(239, 85, 59); fill-opacity: 1; stroke: rgb(229, 236, 246); stroke-opacity: 1;\"/><text class=\"bartext bartext-inside\" text-anchor=\"middle\" data-notex=\"1\" x=\"0\" y=\"0\" style=\"font-family: 'Open Sans', verdana, arial, sans-serif; font-size: 12px; fill: rgb(68, 68, 68); fill-opacity: 1; white-space: pre;\" transform=\"translate(137.3359375,23.3)\">0.92</text></g><g class=\"point\"><path d=\"M170.5,166.85V9.3H214.5V166.85Z\" style=\"vector-effect: none; opacity: 1; stroke-width: 0.5px; fill: rgb(239, 85, 59); fill-opacity: 1; stroke: rgb(229, 236, 246); stroke-opacity: 1;\"/><text class=\"bartext bartext-inside\" text-anchor=\"middle\" data-notex=\"1\" x=\"0\" y=\"0\" style=\"font-family: 'Open Sans', verdana, arial, sans-serif; font-size: 12px; fill: rgb(68, 68, 68); fill-opacity: 1; white-space: pre;\" transform=\"translate(192.3359375,23.3)\">0.89</text></g><g class=\"point\"><path d=\"M225.5,146.73V9.3H269.5V146.73Z\" style=\"vector-effect: none; opacity: 1; stroke-width: 0.5px; fill: rgb(239, 85, 59); fill-opacity: 1; stroke: rgb(229, 236, 246); stroke-opacity: 1;\"/><text class=\"bartext bartext-inside\" text-anchor=\"middle\" data-notex=\"1\" x=\"0\" y=\"0\" style=\"font-family: 'Open Sans', verdana, arial, sans-serif; font-size: 12px; fill: rgb(68, 68, 68); fill-opacity: 1; white-space: pre;\" transform=\"translate(247.3359375,23.3)\">0.78</text></g><g class=\"point\"><path d=\"M280.5,165.95V9.3H324.5V165.95Z\" style=\"vector-effect: none; opacity: 1; stroke-width: 0.5px; fill: rgb(239, 85, 59); fill-opacity: 1; stroke: rgb(229, 236, 246); stroke-opacity: 1;\"/><text class=\"bartext bartext-inside\" text-anchor=\"middle\" data-notex=\"1\" x=\"0\" y=\"0\" style=\"font-family: 'Open Sans', verdana, arial, sans-serif; font-size: 12px; fill: rgb(68, 68, 68); fill-opacity: 1; white-space: pre;\" transform=\"translate(302.3359375,23.3)\">0.89</text></g><g class=\"point\"><path d=\"M335.5,161.75V9.3H379.5V161.75Z\" style=\"vector-effect: none; opacity: 1; stroke-width: 0.5px; fill: rgb(239, 85, 59); fill-opacity: 1; stroke: rgb(229, 236, 246); stroke-opacity: 1;\"/><text class=\"bartext bartext-inside\" text-anchor=\"middle\" data-notex=\"1\" x=\"0\" y=\"0\" style=\"font-family: 'Open Sans', verdana, arial, sans-serif; font-size: 12px; fill: rgb(68, 68, 68); fill-opacity: 1; white-space: pre;\" transform=\"translate(357.3359375,23.3)\">0.86</text></g><g class=\"point\"><path d=\"M390.5,160.38V9.3H434.5V160.38Z\" style=\"vector-effect: none; opacity: 1; stroke-width: 0.5px; fill: rgb(239, 85, 59); fill-opacity: 1; stroke: rgb(229, 236, 246); stroke-opacity: 1;\"/><text class=\"bartext bartext-inside\" text-anchor=\"middle\" data-notex=\"1\" x=\"0\" y=\"0\" style=\"font-family: 'Open Sans', verdana, arial, sans-serif; font-size: 12px; fill: rgb(68, 68, 68); fill-opacity: 1; white-space: pre;\" transform=\"translate(412.3359375,23.3)\">0.85</text></g></g></g></g></g><g class=\"overplot\"/><path class=\"xlines-above crisp\" d=\"M0,0\" style=\"fill: none;\"/><path class=\"ylines-above crisp\" d=\"M0,0\" style=\"fill: none;\"/><g class=\"overlines-above\"/><g class=\"xaxislayer-above\"><g class=\"xtick\"><text text-anchor=\"start\" x=\"0\" y=\"259\" transform=\"translate(107.5,0) rotate(29.999999999999996,0,253)\" style=\"font-family: 'Open Sans', verdana, arial, sans-serif; font-size: 12px; fill: rgb(42, 63, 95); fill-opacity: 1; white-space: pre; opacity: 1;\">basic.4y</text></g><g class=\"xtick\"><text text-anchor=\"start\" x=\"0\" y=\"259\" transform=\"translate(162.5,0) rotate(29.999999999999996,0,253)\" style=\"font-family: 'Open Sans', verdana, arial, sans-serif; font-size: 12px; fill: rgb(42, 63, 95); fill-opacity: 1; white-space: pre; opacity: 1;\">basic.6y</text></g><g class=\"xtick\"><text text-anchor=\"start\" x=\"0\" y=\"259\" transform=\"translate(217.5,0) rotate(29.999999999999996,0,253)\" style=\"font-family: 'Open Sans', verdana, arial, sans-serif; font-size: 12px; fill: rgb(42, 63, 95); fill-opacity: 1; white-space: pre; opacity: 1;\">basic.9y</text></g><g class=\"xtick\"><text text-anchor=\"start\" x=\"0\" y=\"259\" transform=\"translate(272.5,0) rotate(29.999999999999996,0,253)\" style=\"font-family: 'Open Sans', verdana, arial, sans-serif; font-size: 12px; fill: rgb(42, 63, 95); fill-opacity: 1; white-space: pre; opacity: 1;\">high.school</text></g><g class=\"xtick\"><text text-anchor=\"start\" x=\"0\" y=\"259\" transform=\"translate(327.5,0) rotate(29.999999999999996,0,253)\" style=\"font-family: 'Open Sans', verdana, arial, sans-serif; font-size: 12px; fill: rgb(42, 63, 95); fill-opacity: 1; white-space: pre; opacity: 1;\">illiterate</text></g><g class=\"xtick\"><text text-anchor=\"start\" x=\"0\" y=\"259\" transform=\"translate(382.5,0) rotate(29.999999999999996,0,253)\" style=\"font-family: 'Open Sans', verdana, arial, sans-serif; font-size: 12px; fill: rgb(42, 63, 95); fill-opacity: 1; white-space: pre; opacity: 1;\">professional.course</text></g><g class=\"xtick\"><text text-anchor=\"start\" x=\"0\" y=\"259\" transform=\"translate(437.5,0) rotate(29.999999999999996,0,253)\" style=\"font-family: 'Open Sans', verdana, arial, sans-serif; font-size: 12px; fill: rgb(42, 63, 95); fill-opacity: 1; white-space: pre; opacity: 1;\">university.degree</text></g><g class=\"xtick\"><text text-anchor=\"start\" x=\"0\" y=\"259\" transform=\"translate(492.5,0) rotate(29.999999999999996,0,253)\" style=\"font-family: 'Open Sans', verdana, arial, sans-serif; font-size: 12px; fill: rgb(42, 63, 95); fill-opacity: 1; white-space: pre; opacity: 1;\">unknown</text></g></g><g class=\"yaxislayer-above\"><g class=\"ytick\"><text text-anchor=\"end\" x=\"79\" y=\"4.199999999999999\" transform=\"translate(0,246)\" style=\"font-family: 'Open Sans', verdana, arial, sans-serif; font-size: 12px; fill: rgb(42, 63, 95); fill-opacity: 1; white-space: pre; opacity: 1;\">0</text></g><g class=\"ytick\"><text text-anchor=\"end\" x=\"79\" y=\"4.199999999999999\" style=\"font-family: 'Open Sans', verdana, arial, sans-serif; font-size: 12px; fill: rgb(42, 63, 95); fill-opacity: 1; white-space: pre; opacity: 1;\" transform=\"translate(0,210.66)\">0.2</text></g><g class=\"ytick\"><text text-anchor=\"end\" x=\"79\" y=\"4.199999999999999\" style=\"font-family: 'Open Sans', verdana, arial, sans-serif; font-size: 12px; fill: rgb(42, 63, 95); fill-opacity: 1; white-space: pre; opacity: 1;\" transform=\"translate(0,175.32)\">0.4</text></g><g class=\"ytick\"><text text-anchor=\"end\" x=\"79\" y=\"4.199999999999999\" style=\"font-family: 'Open Sans', verdana, arial, sans-serif; font-size: 12px; fill: rgb(42, 63, 95); fill-opacity: 1; white-space: pre; opacity: 1;\" transform=\"translate(0,139.98000000000002)\">0.6</text></g><g class=\"ytick\"><text text-anchor=\"end\" x=\"79\" y=\"4.199999999999999\" style=\"font-family: 'Open Sans', verdana, arial, sans-serif; font-size: 12px; fill: rgb(42, 63, 95); fill-opacity: 1; white-space: pre; opacity: 1;\" transform=\"translate(0,104.64)\">0.8</text></g><g class=\"ytick\"><text text-anchor=\"end\" x=\"79\" y=\"4.199999999999999\" style=\"font-family: 'Open Sans', verdana, arial, sans-serif; font-size: 12px; fill: rgb(42, 63, 95); fill-opacity: 1; white-space: pre; opacity: 1;\" transform=\"translate(0,69.3)\">1</text></g></g><g class=\"overaxes-above\"/></g></g><g class=\"polarlayer\"/><g class=\"smithlayer\"/><g class=\"ternarylayer\"/><g class=\"geolayer\"/><g class=\"funnelarealayer\"/><g class=\"pielayer\"/><g class=\"iciclelayer\"/><g class=\"treemaplayer\"/><g class=\"sunburstlayer\"/><g class=\"glimages\"/><defs id=\"topdefs-a430bc\"><g class=\"clips\"/><clipPath id=\"legenda430bc\"><rect width=\"159\" height=\"67\" x=\"0\" y=\"0\"/></clipPath></defs><g class=\"layer-above\"><g class=\"imagelayer\"/><g class=\"shapelayer\"><g class=\"shape-group\" data-index=\"0\" clip-path=\"url(#clipa430bcy)\"><path data-index=\"0\" fill-rule=\"evenodd\" d=\"M80,226.56L520,226.56\" style=\"opacity: 1; stroke: rgb(0, 0, 0); stroke-opacity: 1; fill: rgb(0, 0, 0); fill-opacity: 0; stroke-dasharray: 9px, 9px; stroke-width: 3px;\"/></g></g></g><g class=\"infolayer\"><g class=\"legend\" pointer-events=\"all\" transform=\"translate(528.8,60)\"><rect class=\"bg\" shape-rendering=\"crispEdges\" width=\"159\" height=\"67\" x=\"0\" y=\"0\" style=\"stroke: rgb(68, 68, 68); stroke-opacity: 1; fill: rgb(255, 255, 255); fill-opacity: 1; stroke-width: 0px;\"/><g class=\"scrollbox\" transform=\"\" clip-path=\"url(#legenda430bc)\"><text class=\"legendtitletext\" text-anchor=\"start\" x=\"2\" y=\"18.2\" style=\"font-family: 'Open Sans', verdana, arial, sans-serif; font-size: 14px; fill: rgb(42, 63, 95); fill-opacity: 1; white-space: pre;\">Subscription Acceptance</text><g class=\"groups\" transform=\"\"><g class=\"traces\" transform=\"translate(0,32.7)\" style=\"opacity: 1;\"><text class=\"legendtext\" text-anchor=\"start\" x=\"40\" y=\"4.680000000000001\" style=\"font-family: 'Open Sans', verdana, arial, sans-serif; font-size: 12px; fill: rgb(42, 63, 95); fill-opacity: 1; white-space: pre;\">Accepted</text><g class=\"layers\" style=\"opacity: 1;\"><g class=\"legendfill\"/><g class=\"legendlines\"/><g class=\"legendsymbols\"><g class=\"legendpoints\"><path class=\"legendundefined\" d=\"M6,6H-6V-6H6Z\" transform=\"translate(20,0)\" style=\"stroke-width: 0.5px; fill: rgb(99, 110, 250); fill-opacity: 1; stroke: rgb(229, 236, 246); stroke-opacity: 1;\"/></g></g></g><rect class=\"legendtoggle\" x=\"0\" y=\"-9.5\" width=\"90.046875\" height=\"19\" style=\"fill: rgb(0, 0, 0); fill-opacity: 0;\"/></g></g><g class=\"groups\" transform=\"\"><g class=\"traces\" transform=\"translate(0,51.7)\" style=\"opacity: 1;\"><text class=\"legendtext\" text-anchor=\"start\" x=\"40\" y=\"4.680000000000001\" style=\"font-family: 'Open Sans', verdana, arial, sans-serif; font-size: 12px; fill: rgb(42, 63, 95); fill-opacity: 1; white-space: pre;\">Rejected</text><g class=\"layers\" style=\"opacity: 1;\"><g class=\"legendfill\"/><g class=\"legendlines\"/><g class=\"legendsymbols\"><g class=\"legendpoints\"><path class=\"legendundefined\" d=\"M6,6H-6V-6H6Z\" transform=\"translate(20,0)\" style=\"stroke-width: 0.5px; fill: rgb(239, 85, 59); fill-opacity: 1; stroke: rgb(229, 236, 246); stroke-opacity: 1;\"/></g></g></g><rect class=\"legendtoggle\" x=\"0\" y=\"-9.5\" width=\"90.046875\" height=\"19\" style=\"fill: rgb(0, 0, 0); fill-opacity: 0;\"/></g></g></g><rect class=\"scrollbar\" rx=\"20\" ry=\"3\" width=\"0\" height=\"0\" x=\"0\" y=\"0\" style=\"fill: rgb(128, 139, 164); fill-opacity: 1;\"/></g><g class=\"g-gtitle\"><text class=\"gtitle\" x=\"315\" y=\"17.5\" text-anchor=\"middle\" dy=\"0.7em\" style=\"font-family: 'Open Sans', verdana, arial, sans-serif; font-size: 17px; fill: rgb(42, 63, 95); opacity: 1; font-weight: normal; white-space: pre;\">Acceptance Rate vs education</text></g><g class=\"g-xtitle\"><text class=\"xtitle\" x=\"300\" y=\"337.2892578125\" text-anchor=\"middle\" style=\"font-family: 'Open Sans', verdana, arial, sans-serif; font-size: 14px; fill: rgb(42, 63, 95); opacity: 1; font-weight: normal; white-space: pre;\">education</text></g><g class=\"g-ytitle\"><text class=\"ytitle\" transform=\"rotate(-90,38.0125,153)\" x=\"38.0125\" y=\"153\" text-anchor=\"middle\" style=\"font-family: 'Open Sans', verdana, arial, sans-serif; font-size: 14px; fill: rgb(42, 63, 95); opacity: 1; font-weight: normal; white-space: pre;\">Acceptance Rate</text></g><g class=\"annotation\" data-index=\"0\" style=\"opacity: 1;\"><g class=\"annotation-text-g\" transform=\"rotate(0,568,226.56)\"><g class=\"cursor-pointer\" transform=\"translate(520,210)\"><rect class=\"bg\" x=\"0.5\" y=\"0.5\" width=\"95\" height=\"33\" style=\"stroke-width: 1px; stroke: rgb(0, 0, 0); stroke-opacity: 0; fill: rgb(0, 0, 0); fill-opacity: 0;\"/><text class=\"annotation-text\" text-anchor=\"middle\" x=\"48.03125\" y=\"13\" style=\"font-family: 'Open Sans', verdana, arial, sans-serif; font-size: 12px; fill: rgb(42, 63, 95); fill-opacity: 1; white-space: pre;\"><tspan class=\"line\" dy=\"0em\" x=\"48.03125\" y=\"13\">Base acceptance</tspan><tspan class=\"line\" dy=\"1.3em\" x=\"48.03125\" y=\"13\">rate (0.113)</tspan></text></g></g></g></g></svg>"
      ]
     },
     "metadata": {},
     "output_type": "display_data"
    },
    {
     "data": {
      "image/svg+xml": [
       "<svg class=\"main-svg\" xmlns=\"http://www.w3.org/2000/svg\" xmlns:xlink=\"http://www.w3.org/1999/xlink\" width=\"700\" height=\"350\" style=\"\" viewBox=\"0 0 700 350\"><rect x=\"0\" y=\"0\" width=\"700\" height=\"350\" style=\"fill: rgb(255, 255, 255); fill-opacity: 1;\"/><defs id=\"defs-482fba\"><g class=\"clips\"><clipPath id=\"clip482fbaxyplot\" class=\"plotclip\"><rect width=\"440\" height=\"210\"/></clipPath><clipPath class=\"axesclip\" id=\"clip482fbax\"><rect x=\"80\" y=\"0\" width=\"440\" height=\"350\"/></clipPath><clipPath class=\"axesclip\" id=\"clip482fbay\"><rect x=\"0\" y=\"60\" width=\"700\" height=\"210\"/></clipPath><clipPath class=\"axesclip\" id=\"clip482fbaxy\"><rect x=\"80\" y=\"60\" width=\"440\" height=\"210\"/></clipPath></g><g class=\"gradients\"/><g class=\"patterns\"/></defs><g class=\"bglayer\"><rect class=\"bg\" x=\"80\" y=\"60\" width=\"440\" height=\"210\" style=\"fill: rgb(229, 236, 246); fill-opacity: 1; stroke-width: 0;\"/></g><g class=\"layer-below\"><g class=\"imagelayer\"/><g class=\"shapelayer\"/></g><g class=\"cartesianlayer\"><g class=\"subplot xy\"><g class=\"layer-subplot\"><g class=\"shapelayer\"/><g class=\"imagelayer\"/></g><g class=\"minor-gridlayer\"><g class=\"x\"/><g class=\"y\"/></g><g class=\"gridlayer\"><g class=\"x\"/><g class=\"y\"><path class=\"ygrid crisp\" transform=\"translate(0,230.1)\" d=\"M80,0h440\" style=\"stroke: rgb(255, 255, 255); stroke-opacity: 1; stroke-width: 1px;\"/><path class=\"ygrid crisp\" transform=\"translate(0,190.2)\" d=\"M80,0h440\" style=\"stroke: rgb(255, 255, 255); stroke-opacity: 1; stroke-width: 1px;\"/><path class=\"ygrid crisp\" transform=\"translate(0,150.3)\" d=\"M80,0h440\" style=\"stroke: rgb(255, 255, 255); stroke-opacity: 1; stroke-width: 1px;\"/><path class=\"ygrid crisp\" transform=\"translate(0,110.4)\" d=\"M80,0h440\" style=\"stroke: rgb(255, 255, 255); stroke-opacity: 1; stroke-width: 1px;\"/><path class=\"ygrid crisp\" transform=\"translate(0,70.5)\" d=\"M80,0h440\" style=\"stroke: rgb(255, 255, 255); stroke-opacity: 1; stroke-width: 1px;\"/></g></g><g class=\"zerolinelayer\"><path class=\"yzl zl crisp\" transform=\"translate(0,270)\" d=\"M80,0h440\" style=\"stroke: rgb(255, 255, 255); stroke-opacity: 1; stroke-width: 2px;\"/></g><path class=\"xlines-below\"/><path class=\"ylines-below\"/><g class=\"overlines-below\"/><g class=\"xaxislayer-below\"/><g class=\"yaxislayer-below\"/><g class=\"overaxes-below\"/><g class=\"plot\" transform=\"translate(80,60)\" clip-path=\"url(#clip482fbaxyplot)\"><g class=\"barlayer mlayer\"><g class=\"trace bars\" style=\"opacity: 1;\"><g class=\"points\"><g class=\"point\"><path d=\"M14.67,210V188.3H132V210Z\" style=\"vector-effect: none; opacity: 1; stroke-width: 0.5px; fill: rgb(99, 110, 250); fill-opacity: 1; stroke: rgb(229, 236, 246); stroke-opacity: 1;\"/><text class=\"bartext bartext-inside\" text-anchor=\"middle\" data-notex=\"1\" x=\"0\" y=\"0\" style=\"font-family: 'Open Sans', verdana, arial, sans-serif; font-size: 12px; fill: rgb(255, 255, 255); fill-opacity: 1; white-space: pre;\" transform=\"translate(73.17093750000001,202.3)\">0.11</text></g><g class=\"point\"><path d=\"M161.33,210V188.44H278.67V210Z\" style=\"vector-effect: none; opacity: 1; stroke-width: 0.5px; fill: rgb(99, 110, 250); fill-opacity: 1; stroke: rgb(229, 236, 246); stroke-opacity: 1;\"/><text class=\"bartext bartext-inside\" text-anchor=\"middle\" data-notex=\"1\" x=\"0\" y=\"0\" style=\"font-family: 'Open Sans', verdana, arial, sans-serif; font-size: 12px; fill: rgb(255, 255, 255); fill-opacity: 1; white-space: pre;\" transform=\"translate(219.8359375,202.44)\">0.11</text></g><g class=\"point\"><path d=\"M308,210V186.82H425.33V210Z\" style=\"vector-effect: none; opacity: 1; stroke-width: 0.5px; fill: rgb(99, 110, 250); fill-opacity: 1; stroke: rgb(229, 236, 246); stroke-opacity: 1;\"/><text class=\"bartext bartext-inside\" text-anchor=\"middle\" data-notex=\"1\" x=\"0\" y=\"0\" style=\"font-family: 'Open Sans', verdana, arial, sans-serif; font-size: 12px; fill: rgb(255, 255, 255); fill-opacity: 1; white-space: pre;\" transform=\"translate(366.50093749999996,200.82)\">0.12</text></g></g></g><g class=\"trace bars\" style=\"opacity: 1;\"><g class=\"points\"><g class=\"point\"><path d=\"M14.67,188.3V10.5H132V188.3Z\" style=\"vector-effect: none; opacity: 1; stroke-width: 0.5px; fill: rgb(239, 85, 59); fill-opacity: 1; stroke: rgb(229, 236, 246); stroke-opacity: 1;\"/><text class=\"bartext bartext-inside\" text-anchor=\"middle\" data-notex=\"1\" x=\"0\" y=\"0\" style=\"font-family: 'Open Sans', verdana, arial, sans-serif; font-size: 12px; fill: rgb(68, 68, 68); fill-opacity: 1; white-space: pre;\" transform=\"translate(73.17093750000001,24.5)\">0.89</text></g><g class=\"point\"><path d=\"M161.33,188.44V10.5H278.67V188.44Z\" style=\"vector-effect: none; opacity: 1; stroke-width: 0.5px; fill: rgb(239, 85, 59); fill-opacity: 1; stroke: rgb(229, 236, 246); stroke-opacity: 1;\"/><text class=\"bartext bartext-inside\" text-anchor=\"middle\" data-notex=\"1\" x=\"0\" y=\"0\" style=\"font-family: 'Open Sans', verdana, arial, sans-serif; font-size: 12px; fill: rgb(68, 68, 68); fill-opacity: 1; white-space: pre;\" transform=\"translate(219.8359375,24.5)\">0.89</text></g><g class=\"point\"><path d=\"M308,186.82V10.5H425.33V186.82Z\" style=\"vector-effect: none; opacity: 1; stroke-width: 0.5px; fill: rgb(239, 85, 59); fill-opacity: 1; stroke: rgb(229, 236, 246); stroke-opacity: 1;\"/><text class=\"bartext bartext-inside\" text-anchor=\"middle\" data-notex=\"1\" x=\"0\" y=\"0\" style=\"font-family: 'Open Sans', verdana, arial, sans-serif; font-size: 12px; fill: rgb(68, 68, 68); fill-opacity: 1; white-space: pre;\" transform=\"translate(366.50093749999996,24.5)\">0.88</text></g></g></g></g></g><g class=\"overplot\"/><path class=\"xlines-above crisp\" d=\"M0,0\" style=\"fill: none;\"/><path class=\"ylines-above crisp\" d=\"M0,0\" style=\"fill: none;\"/><g class=\"overlines-above\"/><g class=\"xaxislayer-above\"><g class=\"xtick\"><text text-anchor=\"middle\" x=\"0\" y=\"283\" transform=\"translate(153.32999999999998,0)\" style=\"font-family: 'Open Sans', verdana, arial, sans-serif; font-size: 12px; fill: rgb(42, 63, 95); fill-opacity: 1; white-space: pre; opacity: 1;\">no</text></g><g class=\"xtick\"><text text-anchor=\"middle\" x=\"0\" y=\"283\" transform=\"translate(300,0)\" style=\"font-family: 'Open Sans', verdana, arial, sans-serif; font-size: 12px; fill: rgb(42, 63, 95); fill-opacity: 1; white-space: pre; opacity: 1;\">unknown</text></g><g class=\"xtick\"><text text-anchor=\"middle\" x=\"0\" y=\"283\" transform=\"translate(446.67,0)\" style=\"font-family: 'Open Sans', verdana, arial, sans-serif; font-size: 12px; fill: rgb(42, 63, 95); fill-opacity: 1; white-space: pre; opacity: 1;\">yes</text></g></g><g class=\"yaxislayer-above\"><g class=\"ytick\"><text text-anchor=\"end\" x=\"79\" y=\"4.199999999999999\" transform=\"translate(0,270)\" style=\"font-family: 'Open Sans', verdana, arial, sans-serif; font-size: 12px; fill: rgb(42, 63, 95); fill-opacity: 1; white-space: pre; opacity: 1;\">0</text></g><g class=\"ytick\"><text text-anchor=\"end\" x=\"79\" y=\"4.199999999999999\" style=\"font-family: 'Open Sans', verdana, arial, sans-serif; font-size: 12px; fill: rgb(42, 63, 95); fill-opacity: 1; white-space: pre; opacity: 1;\" transform=\"translate(0,230.1)\">0.2</text></g><g class=\"ytick\"><text text-anchor=\"end\" x=\"79\" y=\"4.199999999999999\" style=\"font-family: 'Open Sans', verdana, arial, sans-serif; font-size: 12px; fill: rgb(42, 63, 95); fill-opacity: 1; white-space: pre; opacity: 1;\" transform=\"translate(0,190.2)\">0.4</text></g><g class=\"ytick\"><text text-anchor=\"end\" x=\"79\" y=\"4.199999999999999\" style=\"font-family: 'Open Sans', verdana, arial, sans-serif; font-size: 12px; fill: rgb(42, 63, 95); fill-opacity: 1; white-space: pre; opacity: 1;\" transform=\"translate(0,150.3)\">0.6</text></g><g class=\"ytick\"><text text-anchor=\"end\" x=\"79\" y=\"4.199999999999999\" style=\"font-family: 'Open Sans', verdana, arial, sans-serif; font-size: 12px; fill: rgb(42, 63, 95); fill-opacity: 1; white-space: pre; opacity: 1;\" transform=\"translate(0,110.4)\">0.8</text></g><g class=\"ytick\"><text text-anchor=\"end\" x=\"79\" y=\"4.199999999999999\" style=\"font-family: 'Open Sans', verdana, arial, sans-serif; font-size: 12px; fill: rgb(42, 63, 95); fill-opacity: 1; white-space: pre; opacity: 1;\" transform=\"translate(0,70.5)\">1</text></g></g><g class=\"overaxes-above\"/></g></g><g class=\"polarlayer\"/><g class=\"smithlayer\"/><g class=\"ternarylayer\"/><g class=\"geolayer\"/><g class=\"funnelarealayer\"/><g class=\"pielayer\"/><g class=\"iciclelayer\"/><g class=\"treemaplayer\"/><g class=\"sunburstlayer\"/><g class=\"glimages\"/><defs id=\"topdefs-482fba\"><g class=\"clips\"/><clipPath id=\"legend482fba\"><rect width=\"159\" height=\"67\" x=\"0\" y=\"0\"/></clipPath></defs><g class=\"layer-above\"><g class=\"imagelayer\"/><g class=\"shapelayer\"><g class=\"shape-group\" data-index=\"0\" clip-path=\"url(#clip482fbay)\"><path data-index=\"0\" fill-rule=\"evenodd\" d=\"M80,248.06L520,248.06\" style=\"opacity: 1; stroke: rgb(0, 0, 0); stroke-opacity: 1; fill: rgb(0, 0, 0); fill-opacity: 0; stroke-dasharray: 9px, 9px; stroke-width: 3px;\"/></g></g></g><g class=\"infolayer\"><g class=\"legend\" pointer-events=\"all\" transform=\"translate(528.8,60)\"><rect class=\"bg\" shape-rendering=\"crispEdges\" width=\"159\" height=\"67\" x=\"0\" y=\"0\" style=\"stroke: rgb(68, 68, 68); stroke-opacity: 1; fill: rgb(255, 255, 255); fill-opacity: 1; stroke-width: 0px;\"/><g class=\"scrollbox\" transform=\"\" clip-path=\"url(#legend482fba)\"><text class=\"legendtitletext\" text-anchor=\"start\" x=\"2\" y=\"18.2\" style=\"font-family: 'Open Sans', verdana, arial, sans-serif; font-size: 14px; fill: rgb(42, 63, 95); fill-opacity: 1; white-space: pre;\">Subscription Acceptance</text><g class=\"groups\" transform=\"\"><g class=\"traces\" transform=\"translate(0,32.7)\" style=\"opacity: 1;\"><text class=\"legendtext\" text-anchor=\"start\" x=\"40\" y=\"4.680000000000001\" style=\"font-family: 'Open Sans', verdana, arial, sans-serif; font-size: 12px; fill: rgb(42, 63, 95); fill-opacity: 1; white-space: pre;\">Accepted</text><g class=\"layers\" style=\"opacity: 1;\"><g class=\"legendfill\"/><g class=\"legendlines\"/><g class=\"legendsymbols\"><g class=\"legendpoints\"><path class=\"legendundefined\" d=\"M6,6H-6V-6H6Z\" transform=\"translate(20,0)\" style=\"stroke-width: 0.5px; fill: rgb(99, 110, 250); fill-opacity: 1; stroke: rgb(229, 236, 246); stroke-opacity: 1;\"/></g></g></g><rect class=\"legendtoggle\" x=\"0\" y=\"-9.5\" width=\"90.046875\" height=\"19\" style=\"fill: rgb(0, 0, 0); fill-opacity: 0;\"/></g></g><g class=\"groups\" transform=\"\"><g class=\"traces\" transform=\"translate(0,51.7)\" style=\"opacity: 1;\"><text class=\"legendtext\" text-anchor=\"start\" x=\"40\" y=\"4.680000000000001\" style=\"font-family: 'Open Sans', verdana, arial, sans-serif; font-size: 12px; fill: rgb(42, 63, 95); fill-opacity: 1; white-space: pre;\">Rejected</text><g class=\"layers\" style=\"opacity: 1;\"><g class=\"legendfill\"/><g class=\"legendlines\"/><g class=\"legendsymbols\"><g class=\"legendpoints\"><path class=\"legendundefined\" d=\"M6,6H-6V-6H6Z\" transform=\"translate(20,0)\" style=\"stroke-width: 0.5px; fill: rgb(239, 85, 59); fill-opacity: 1; stroke: rgb(229, 236, 246); stroke-opacity: 1;\"/></g></g></g><rect class=\"legendtoggle\" x=\"0\" y=\"-9.5\" width=\"90.046875\" height=\"19\" style=\"fill: rgb(0, 0, 0); fill-opacity: 0;\"/></g></g></g><rect class=\"scrollbar\" rx=\"20\" ry=\"3\" width=\"0\" height=\"0\" x=\"0\" y=\"0\" style=\"fill: rgb(128, 139, 164); fill-opacity: 1;\"/></g><g class=\"g-gtitle\"><text class=\"gtitle\" x=\"315\" y=\"17.5\" text-anchor=\"middle\" dy=\"0.7em\" style=\"font-family: 'Open Sans', verdana, arial, sans-serif; font-size: 17px; fill: rgb(42, 63, 95); opacity: 1; font-weight: normal; white-space: pre;\">Acceptance Rate vs housing</text></g><g class=\"g-xtitle\"><text class=\"xtitle\" x=\"300\" y=\"310.3\" text-anchor=\"middle\" style=\"font-family: 'Open Sans', verdana, arial, sans-serif; font-size: 14px; fill: rgb(42, 63, 95); opacity: 1; font-weight: normal; white-space: pre;\">housing</text></g><g class=\"g-ytitle\"><text class=\"ytitle\" transform=\"rotate(-90,38.0125,165)\" x=\"38.0125\" y=\"165\" text-anchor=\"middle\" style=\"font-family: 'Open Sans', verdana, arial, sans-serif; font-size: 14px; fill: rgb(42, 63, 95); opacity: 1; font-weight: normal; white-space: pre;\">Acceptance Rate</text></g><g class=\"annotation\" data-index=\"0\" style=\"opacity: 1;\"><g class=\"annotation-text-g\" transform=\"rotate(0,568,248.06)\"><g class=\"cursor-pointer\" transform=\"translate(520,231)\"><rect class=\"bg\" x=\"0.5\" y=\"0.5\" width=\"95\" height=\"33\" style=\"stroke-width: 1px; stroke: rgb(0, 0, 0); stroke-opacity: 0; fill: rgb(0, 0, 0); fill-opacity: 0;\"/><text class=\"annotation-text\" text-anchor=\"middle\" x=\"48.03125\" y=\"13\" style=\"font-family: 'Open Sans', verdana, arial, sans-serif; font-size: 12px; fill: rgb(42, 63, 95); fill-opacity: 1; white-space: pre;\"><tspan class=\"line\" dy=\"0em\" x=\"48.03125\" y=\"13\">Base acceptance</tspan><tspan class=\"line\" dy=\"1.3em\" x=\"48.03125\" y=\"13\">rate (0.113)</tspan></text></g></g></g></g></svg>"
      ]
     },
     "metadata": {},
     "output_type": "display_data"
    },
    {
     "data": {
      "image/svg+xml": [
       "<svg class=\"main-svg\" xmlns=\"http://www.w3.org/2000/svg\" xmlns:xlink=\"http://www.w3.org/1999/xlink\" width=\"700\" height=\"350\" style=\"\" viewBox=\"0 0 700 350\"><rect x=\"0\" y=\"0\" width=\"700\" height=\"350\" style=\"fill: rgb(255, 255, 255); fill-opacity: 1;\"/><defs id=\"defs-91134e\"><g class=\"clips\"><clipPath id=\"clip91134exyplot\" class=\"plotclip\"><rect width=\"440\" height=\"210\"/></clipPath><clipPath class=\"axesclip\" id=\"clip91134ex\"><rect x=\"80\" y=\"0\" width=\"440\" height=\"350\"/></clipPath><clipPath class=\"axesclip\" id=\"clip91134ey\"><rect x=\"0\" y=\"60\" width=\"700\" height=\"210\"/></clipPath><clipPath class=\"axesclip\" id=\"clip91134exy\"><rect x=\"80\" y=\"60\" width=\"440\" height=\"210\"/></clipPath></g><g class=\"gradients\"/><g class=\"patterns\"/></defs><g class=\"bglayer\"><rect class=\"bg\" x=\"80\" y=\"60\" width=\"440\" height=\"210\" style=\"fill: rgb(229, 236, 246); fill-opacity: 1; stroke-width: 0;\"/></g><g class=\"layer-below\"><g class=\"imagelayer\"/><g class=\"shapelayer\"/></g><g class=\"cartesianlayer\"><g class=\"subplot xy\"><g class=\"layer-subplot\"><g class=\"shapelayer\"/><g class=\"imagelayer\"/></g><g class=\"minor-gridlayer\"><g class=\"x\"/><g class=\"y\"/></g><g class=\"gridlayer\"><g class=\"x\"/><g class=\"y\"><path class=\"ygrid crisp\" transform=\"translate(0,230.1)\" d=\"M80,0h440\" style=\"stroke: rgb(255, 255, 255); stroke-opacity: 1; stroke-width: 1px;\"/><path class=\"ygrid crisp\" transform=\"translate(0,190.2)\" d=\"M80,0h440\" style=\"stroke: rgb(255, 255, 255); stroke-opacity: 1; stroke-width: 1px;\"/><path class=\"ygrid crisp\" transform=\"translate(0,150.3)\" d=\"M80,0h440\" style=\"stroke: rgb(255, 255, 255); stroke-opacity: 1; stroke-width: 1px;\"/><path class=\"ygrid crisp\" transform=\"translate(0,110.4)\" d=\"M80,0h440\" style=\"stroke: rgb(255, 255, 255); stroke-opacity: 1; stroke-width: 1px;\"/><path class=\"ygrid crisp\" transform=\"translate(0,70.5)\" d=\"M80,0h440\" style=\"stroke: rgb(255, 255, 255); stroke-opacity: 1; stroke-width: 1px;\"/></g></g><g class=\"zerolinelayer\"><path class=\"yzl zl crisp\" transform=\"translate(0,270)\" d=\"M80,0h440\" style=\"stroke: rgb(255, 255, 255); stroke-opacity: 1; stroke-width: 2px;\"/></g><path class=\"xlines-below\"/><path class=\"ylines-below\"/><g class=\"overlines-below\"/><g class=\"xaxislayer-below\"/><g class=\"yaxislayer-below\"/><g class=\"overaxes-below\"/><g class=\"plot\" transform=\"translate(80,60)\" clip-path=\"url(#clip91134exyplot)\"><g class=\"barlayer mlayer\"><g class=\"trace bars\" style=\"opacity: 1;\"><g class=\"points\"><g class=\"point\"><path d=\"M14.67,210V187.38H132V210Z\" style=\"vector-effect: none; opacity: 1; stroke-width: 0.5px; fill: rgb(99, 110, 250); fill-opacity: 1; stroke: rgb(229, 236, 246); stroke-opacity: 1;\"/><text class=\"bartext bartext-inside\" text-anchor=\"middle\" data-notex=\"1\" x=\"0\" y=\"0\" style=\"font-family: 'Open Sans', verdana, arial, sans-serif; font-size: 12px; fill: rgb(255, 255, 255); fill-opacity: 1; white-space: pre;\" transform=\"translate(73.17093750000001,201.38)\">0.11</text></g><g class=\"point\"><path d=\"M161.33,210V188.44H278.67V210Z\" style=\"vector-effect: none; opacity: 1; stroke-width: 0.5px; fill: rgb(99, 110, 250); fill-opacity: 1; stroke: rgb(229, 236, 246); stroke-opacity: 1;\"/><text class=\"bartext bartext-inside\" text-anchor=\"middle\" data-notex=\"1\" x=\"0\" y=\"0\" style=\"font-family: 'Open Sans', verdana, arial, sans-serif; font-size: 12px; fill: rgb(255, 255, 255); fill-opacity: 1; white-space: pre;\" transform=\"translate(219.8359375,202.44)\">0.11</text></g><g class=\"point\"><path d=\"M308,210V188.19H425.33V210Z\" style=\"vector-effect: none; opacity: 1; stroke-width: 0.5px; fill: rgb(99, 110, 250); fill-opacity: 1; stroke: rgb(229, 236, 246); stroke-opacity: 1;\"/><text class=\"bartext bartext-inside\" text-anchor=\"middle\" data-notex=\"1\" x=\"0\" y=\"0\" style=\"font-family: 'Open Sans', verdana, arial, sans-serif; font-size: 12px; fill: rgb(255, 255, 255); fill-opacity: 1; white-space: pre;\" transform=\"translate(366.50093749999996,202.19)\">0.11</text></g></g></g><g class=\"trace bars\" style=\"opacity: 1;\"><g class=\"points\"><g class=\"point\"><path d=\"M14.67,187.38V10.5H132V187.38Z\" style=\"vector-effect: none; opacity: 1; stroke-width: 0.5px; fill: rgb(239, 85, 59); fill-opacity: 1; stroke: rgb(229, 236, 246); stroke-opacity: 1;\"/><text class=\"bartext bartext-inside\" text-anchor=\"middle\" data-notex=\"1\" x=\"0\" y=\"0\" style=\"font-family: 'Open Sans', verdana, arial, sans-serif; font-size: 12px; fill: rgb(68, 68, 68); fill-opacity: 1; white-space: pre;\" transform=\"translate(73.17093750000001,24.5)\">0.89</text></g><g class=\"point\"><path d=\"M161.33,188.44V10.5H278.67V188.44Z\" style=\"vector-effect: none; opacity: 1; stroke-width: 0.5px; fill: rgb(239, 85, 59); fill-opacity: 1; stroke: rgb(229, 236, 246); stroke-opacity: 1;\"/><text class=\"bartext bartext-inside\" text-anchor=\"middle\" data-notex=\"1\" x=\"0\" y=\"0\" style=\"font-family: 'Open Sans', verdana, arial, sans-serif; font-size: 12px; fill: rgb(68, 68, 68); fill-opacity: 1; white-space: pre;\" transform=\"translate(219.8359375,24.5)\">0.89</text></g><g class=\"point\"><path d=\"M308,188.19V10.5H425.33V188.19Z\" style=\"vector-effect: none; opacity: 1; stroke-width: 0.5px; fill: rgb(239, 85, 59); fill-opacity: 1; stroke: rgb(229, 236, 246); stroke-opacity: 1;\"/><text class=\"bartext bartext-inside\" text-anchor=\"middle\" data-notex=\"1\" x=\"0\" y=\"0\" style=\"font-family: 'Open Sans', verdana, arial, sans-serif; font-size: 12px; fill: rgb(68, 68, 68); fill-opacity: 1; white-space: pre;\" transform=\"translate(366.50093749999996,24.5)\">0.89</text></g></g></g></g></g><g class=\"overplot\"/><path class=\"xlines-above crisp\" d=\"M0,0\" style=\"fill: none;\"/><path class=\"ylines-above crisp\" d=\"M0,0\" style=\"fill: none;\"/><g class=\"overlines-above\"/><g class=\"xaxislayer-above\"><g class=\"xtick\"><text text-anchor=\"middle\" x=\"0\" y=\"283\" transform=\"translate(153.32999999999998,0)\" style=\"font-family: 'Open Sans', verdana, arial, sans-serif; font-size: 12px; fill: rgb(42, 63, 95); fill-opacity: 1; white-space: pre; opacity: 1;\">no</text></g><g class=\"xtick\"><text text-anchor=\"middle\" x=\"0\" y=\"283\" transform=\"translate(300,0)\" style=\"font-family: 'Open Sans', verdana, arial, sans-serif; font-size: 12px; fill: rgb(42, 63, 95); fill-opacity: 1; white-space: pre; opacity: 1;\">unknown</text></g><g class=\"xtick\"><text text-anchor=\"middle\" x=\"0\" y=\"283\" transform=\"translate(446.67,0)\" style=\"font-family: 'Open Sans', verdana, arial, sans-serif; font-size: 12px; fill: rgb(42, 63, 95); fill-opacity: 1; white-space: pre; opacity: 1;\">yes</text></g></g><g class=\"yaxislayer-above\"><g class=\"ytick\"><text text-anchor=\"end\" x=\"79\" y=\"4.199999999999999\" transform=\"translate(0,270)\" style=\"font-family: 'Open Sans', verdana, arial, sans-serif; font-size: 12px; fill: rgb(42, 63, 95); fill-opacity: 1; white-space: pre; opacity: 1;\">0</text></g><g class=\"ytick\"><text text-anchor=\"end\" x=\"79\" y=\"4.199999999999999\" style=\"font-family: 'Open Sans', verdana, arial, sans-serif; font-size: 12px; fill: rgb(42, 63, 95); fill-opacity: 1; white-space: pre; opacity: 1;\" transform=\"translate(0,230.1)\">0.2</text></g><g class=\"ytick\"><text text-anchor=\"end\" x=\"79\" y=\"4.199999999999999\" style=\"font-family: 'Open Sans', verdana, arial, sans-serif; font-size: 12px; fill: rgb(42, 63, 95); fill-opacity: 1; white-space: pre; opacity: 1;\" transform=\"translate(0,190.2)\">0.4</text></g><g class=\"ytick\"><text text-anchor=\"end\" x=\"79\" y=\"4.199999999999999\" style=\"font-family: 'Open Sans', verdana, arial, sans-serif; font-size: 12px; fill: rgb(42, 63, 95); fill-opacity: 1; white-space: pre; opacity: 1;\" transform=\"translate(0,150.3)\">0.6</text></g><g class=\"ytick\"><text text-anchor=\"end\" x=\"79\" y=\"4.199999999999999\" style=\"font-family: 'Open Sans', verdana, arial, sans-serif; font-size: 12px; fill: rgb(42, 63, 95); fill-opacity: 1; white-space: pre; opacity: 1;\" transform=\"translate(0,110.4)\">0.8</text></g><g class=\"ytick\"><text text-anchor=\"end\" x=\"79\" y=\"4.199999999999999\" style=\"font-family: 'Open Sans', verdana, arial, sans-serif; font-size: 12px; fill: rgb(42, 63, 95); fill-opacity: 1; white-space: pre; opacity: 1;\" transform=\"translate(0,70.5)\">1</text></g></g><g class=\"overaxes-above\"/></g></g><g class=\"polarlayer\"/><g class=\"smithlayer\"/><g class=\"ternarylayer\"/><g class=\"geolayer\"/><g class=\"funnelarealayer\"/><g class=\"pielayer\"/><g class=\"iciclelayer\"/><g class=\"treemaplayer\"/><g class=\"sunburstlayer\"/><g class=\"glimages\"/><defs id=\"topdefs-91134e\"><g class=\"clips\"/><clipPath id=\"legend91134e\"><rect width=\"159\" height=\"67\" x=\"0\" y=\"0\"/></clipPath></defs><g class=\"layer-above\"><g class=\"imagelayer\"/><g class=\"shapelayer\"><g class=\"shape-group\" data-index=\"0\" clip-path=\"url(#clip91134ey)\"><path data-index=\"0\" fill-rule=\"evenodd\" d=\"M80,248.06L520,248.06\" style=\"opacity: 1; stroke: rgb(0, 0, 0); stroke-opacity: 1; fill: rgb(0, 0, 0); fill-opacity: 0; stroke-dasharray: 9px, 9px; stroke-width: 3px;\"/></g></g></g><g class=\"infolayer\"><g class=\"legend\" pointer-events=\"all\" transform=\"translate(528.8,60)\"><rect class=\"bg\" shape-rendering=\"crispEdges\" width=\"159\" height=\"67\" x=\"0\" y=\"0\" style=\"stroke: rgb(68, 68, 68); stroke-opacity: 1; fill: rgb(255, 255, 255); fill-opacity: 1; stroke-width: 0px;\"/><g class=\"scrollbox\" transform=\"\" clip-path=\"url(#legend91134e)\"><text class=\"legendtitletext\" text-anchor=\"start\" x=\"2\" y=\"18.2\" style=\"font-family: 'Open Sans', verdana, arial, sans-serif; font-size: 14px; fill: rgb(42, 63, 95); fill-opacity: 1; white-space: pre;\">Subscription Acceptance</text><g class=\"groups\" transform=\"\"><g class=\"traces\" transform=\"translate(0,32.7)\" style=\"opacity: 1;\"><text class=\"legendtext\" text-anchor=\"start\" x=\"40\" y=\"4.680000000000001\" style=\"font-family: 'Open Sans', verdana, arial, sans-serif; font-size: 12px; fill: rgb(42, 63, 95); fill-opacity: 1; white-space: pre;\">Accepted</text><g class=\"layers\" style=\"opacity: 1;\"><g class=\"legendfill\"/><g class=\"legendlines\"/><g class=\"legendsymbols\"><g class=\"legendpoints\"><path class=\"legendundefined\" d=\"M6,6H-6V-6H6Z\" transform=\"translate(20,0)\" style=\"stroke-width: 0.5px; fill: rgb(99, 110, 250); fill-opacity: 1; stroke: rgb(229, 236, 246); stroke-opacity: 1;\"/></g></g></g><rect class=\"legendtoggle\" x=\"0\" y=\"-9.5\" width=\"90.046875\" height=\"19\" style=\"fill: rgb(0, 0, 0); fill-opacity: 0;\"/></g></g><g class=\"groups\" transform=\"\"><g class=\"traces\" transform=\"translate(0,51.7)\" style=\"opacity: 1;\"><text class=\"legendtext\" text-anchor=\"start\" x=\"40\" y=\"4.680000000000001\" style=\"font-family: 'Open Sans', verdana, arial, sans-serif; font-size: 12px; fill: rgb(42, 63, 95); fill-opacity: 1; white-space: pre;\">Rejected</text><g class=\"layers\" style=\"opacity: 1;\"><g class=\"legendfill\"/><g class=\"legendlines\"/><g class=\"legendsymbols\"><g class=\"legendpoints\"><path class=\"legendundefined\" d=\"M6,6H-6V-6H6Z\" transform=\"translate(20,0)\" style=\"stroke-width: 0.5px; fill: rgb(239, 85, 59); fill-opacity: 1; stroke: rgb(229, 236, 246); stroke-opacity: 1;\"/></g></g></g><rect class=\"legendtoggle\" x=\"0\" y=\"-9.5\" width=\"90.046875\" height=\"19\" style=\"fill: rgb(0, 0, 0); fill-opacity: 0;\"/></g></g></g><rect class=\"scrollbar\" rx=\"20\" ry=\"3\" width=\"0\" height=\"0\" x=\"0\" y=\"0\" style=\"fill: rgb(128, 139, 164); fill-opacity: 1;\"/></g><g class=\"g-gtitle\"><text class=\"gtitle\" x=\"315\" y=\"17.5\" text-anchor=\"middle\" dy=\"0.7em\" style=\"font-family: 'Open Sans', verdana, arial, sans-serif; font-size: 17px; fill: rgb(42, 63, 95); opacity: 1; font-weight: normal; white-space: pre;\">Acceptance Rate vs loan</text></g><g class=\"g-xtitle\"><text class=\"xtitle\" x=\"300\" y=\"310.3\" text-anchor=\"middle\" style=\"font-family: 'Open Sans', verdana, arial, sans-serif; font-size: 14px; fill: rgb(42, 63, 95); opacity: 1; font-weight: normal; white-space: pre;\">loan</text></g><g class=\"g-ytitle\"><text class=\"ytitle\" transform=\"rotate(-90,38.0125,165)\" x=\"38.0125\" y=\"165\" text-anchor=\"middle\" style=\"font-family: 'Open Sans', verdana, arial, sans-serif; font-size: 14px; fill: rgb(42, 63, 95); opacity: 1; font-weight: normal; white-space: pre;\">Acceptance Rate</text></g><g class=\"annotation\" data-index=\"0\" style=\"opacity: 1;\"><g class=\"annotation-text-g\" transform=\"rotate(0,568,248.06)\"><g class=\"cursor-pointer\" transform=\"translate(520,231)\"><rect class=\"bg\" x=\"0.5\" y=\"0.5\" width=\"95\" height=\"33\" style=\"stroke-width: 1px; stroke: rgb(0, 0, 0); stroke-opacity: 0; fill: rgb(0, 0, 0); fill-opacity: 0;\"/><text class=\"annotation-text\" text-anchor=\"middle\" x=\"48.03125\" y=\"13\" style=\"font-family: 'Open Sans', verdana, arial, sans-serif; font-size: 12px; fill: rgb(42, 63, 95); fill-opacity: 1; white-space: pre;\"><tspan class=\"line\" dy=\"0em\" x=\"48.03125\" y=\"13\">Base acceptance</tspan><tspan class=\"line\" dy=\"1.3em\" x=\"48.03125\" y=\"13\">rate (0.113)</tspan></text></g></g></g></g></svg>"
      ]
     },
     "metadata": {},
     "output_type": "display_data"
    },
    {
     "data": {
      "image/svg+xml": [
       "<svg class=\"main-svg\" xmlns=\"http://www.w3.org/2000/svg\" xmlns:xlink=\"http://www.w3.org/1999/xlink\" width=\"700\" height=\"350\" style=\"\" viewBox=\"0 0 700 350\"><rect x=\"0\" y=\"0\" width=\"700\" height=\"350\" style=\"fill: rgb(255, 255, 255); fill-opacity: 1;\"/><defs id=\"defs-e9fedc\"><g class=\"clips\"><clipPath id=\"clipe9fedcxyplot\" class=\"plotclip\"><rect width=\"440\" height=\"210\"/></clipPath><clipPath class=\"axesclip\" id=\"clipe9fedcx\"><rect x=\"80\" y=\"0\" width=\"440\" height=\"350\"/></clipPath><clipPath class=\"axesclip\" id=\"clipe9fedcy\"><rect x=\"0\" y=\"60\" width=\"700\" height=\"210\"/></clipPath><clipPath class=\"axesclip\" id=\"clipe9fedcxy\"><rect x=\"80\" y=\"60\" width=\"440\" height=\"210\"/></clipPath></g><g class=\"gradients\"/><g class=\"patterns\"/></defs><g class=\"bglayer\"><rect class=\"bg\" x=\"80\" y=\"60\" width=\"440\" height=\"210\" style=\"fill: rgb(229, 236, 246); fill-opacity: 1; stroke-width: 0;\"/></g><g class=\"layer-below\"><g class=\"imagelayer\"/><g class=\"shapelayer\"/></g><g class=\"cartesianlayer\"><g class=\"subplot xy\"><g class=\"layer-subplot\"><g class=\"shapelayer\"/><g class=\"imagelayer\"/></g><g class=\"minor-gridlayer\"><g class=\"x\"/><g class=\"y\"/></g><g class=\"gridlayer\"><g class=\"x\"/><g class=\"y\"><path class=\"ygrid crisp\" transform=\"translate(0,230.1)\" d=\"M80,0h440\" style=\"stroke: rgb(255, 255, 255); stroke-opacity: 1; stroke-width: 1px;\"/><path class=\"ygrid crisp\" transform=\"translate(0,190.2)\" d=\"M80,0h440\" style=\"stroke: rgb(255, 255, 255); stroke-opacity: 1; stroke-width: 1px;\"/><path class=\"ygrid crisp\" transform=\"translate(0,150.3)\" d=\"M80,0h440\" style=\"stroke: rgb(255, 255, 255); stroke-opacity: 1; stroke-width: 1px;\"/><path class=\"ygrid crisp\" transform=\"translate(0,110.4)\" d=\"M80,0h440\" style=\"stroke: rgb(255, 255, 255); stroke-opacity: 1; stroke-width: 1px;\"/><path class=\"ygrid crisp\" transform=\"translate(0,70.5)\" d=\"M80,0h440\" style=\"stroke: rgb(255, 255, 255); stroke-opacity: 1; stroke-width: 1px;\"/></g></g><g class=\"zerolinelayer\"><path class=\"yzl zl crisp\" transform=\"translate(0,270)\" d=\"M80,0h440\" style=\"stroke: rgb(255, 255, 255); stroke-opacity: 1; stroke-width: 2px;\"/></g><path class=\"xlines-below\"/><path class=\"ylines-below\"/><g class=\"overlines-below\"/><g class=\"xaxislayer-below\"/><g class=\"yaxislayer-below\"/><g class=\"overaxes-below\"/><g class=\"plot\" transform=\"translate(80,60)\" clip-path=\"url(#clipe9fedcxyplot)\"><g class=\"barlayer mlayer\"><g class=\"trace bars\" style=\"opacity: 1;\"><g class=\"points\"><g class=\"point\"><path d=\"M22,210V180.6H198V210Z\" style=\"vector-effect: none; opacity: 1; stroke-width: 0.5px; fill: rgb(99, 110, 250); fill-opacity: 1; stroke: rgb(229, 236, 246); stroke-opacity: 1;\"/><text class=\"bartext bartext-inside\" text-anchor=\"middle\" data-notex=\"1\" x=\"0\" y=\"0\" style=\"font-family: 'Open Sans', verdana, arial, sans-serif; font-size: 12px; fill: rgb(255, 255, 255); fill-opacity: 1; white-space: pre;\" transform=\"translate(109.8359375,194.6)\">0.15</text></g><g class=\"point\"><path d=\"M242,210V199.56H418V210Z\" style=\"vector-effect: none; opacity: 1; stroke-width: 0.5px; fill: rgb(99, 110, 250); fill-opacity: 1; stroke: rgb(229, 236, 246); stroke-opacity: 1;\"/><text class=\"bartext bartext-inside\" text-anchor=\"middle\" data-notex=\"1\" x=\"0\" y=\"0\" style=\"font-family: 'Open Sans', verdana, arial, sans-serif; font-size: 12px; fill: rgb(255, 255, 255); fill-opacity: 1; white-space: pre;\" transform=\"translate(329.94796875,206.04857142857142)scale(0.317142857142857)\">0.05</text></g></g></g><g class=\"trace bars\" style=\"opacity: 1;\"><g class=\"points\"><g class=\"point\"><path d=\"M22,180.6V10.5H198V180.6Z\" style=\"vector-effect: none; opacity: 1; stroke-width: 0.5px; fill: rgb(239, 85, 59); fill-opacity: 1; stroke: rgb(229, 236, 246); stroke-opacity: 1;\"/><text class=\"bartext bartext-inside\" text-anchor=\"middle\" data-notex=\"1\" x=\"0\" y=\"0\" style=\"font-family: 'Open Sans', verdana, arial, sans-serif; font-size: 12px; fill: rgb(68, 68, 68); fill-opacity: 1; white-space: pre;\" transform=\"translate(109.8359375,24.5)\">0.85</text></g><g class=\"point\"><path d=\"M242,199.56V10.5H418V199.56Z\" style=\"vector-effect: none; opacity: 1; stroke-width: 0.5px; fill: rgb(239, 85, 59); fill-opacity: 1; stroke: rgb(229, 236, 246); stroke-opacity: 1;\"/><text class=\"bartext bartext-inside\" text-anchor=\"middle\" data-notex=\"1\" x=\"0\" y=\"0\" style=\"font-family: 'Open Sans', verdana, arial, sans-serif; font-size: 12px; fill: rgb(68, 68, 68); fill-opacity: 1; white-space: pre;\" transform=\"translate(329.8359375,24.5)\">0.95</text></g></g></g></g></g><g class=\"overplot\"/><path class=\"xlines-above crisp\" d=\"M0,0\" style=\"fill: none;\"/><path class=\"ylines-above crisp\" d=\"M0,0\" style=\"fill: none;\"/><g class=\"overlines-above\"/><g class=\"xaxislayer-above\"><g class=\"xtick\"><text text-anchor=\"middle\" x=\"0\" y=\"283\" transform=\"translate(190,0)\" style=\"font-family: 'Open Sans', verdana, arial, sans-serif; font-size: 12px; fill: rgb(42, 63, 95); fill-opacity: 1; white-space: pre; opacity: 1;\">cellular</text></g><g class=\"xtick\"><text text-anchor=\"middle\" x=\"0\" y=\"283\" transform=\"translate(410,0)\" style=\"font-family: 'Open Sans', verdana, arial, sans-serif; font-size: 12px; fill: rgb(42, 63, 95); fill-opacity: 1; white-space: pre; opacity: 1;\">telephone</text></g></g><g class=\"yaxislayer-above\"><g class=\"ytick\"><text text-anchor=\"end\" x=\"79\" y=\"4.199999999999999\" transform=\"translate(0,270)\" style=\"font-family: 'Open Sans', verdana, arial, sans-serif; font-size: 12px; fill: rgb(42, 63, 95); fill-opacity: 1; white-space: pre; opacity: 1;\">0</text></g><g class=\"ytick\"><text text-anchor=\"end\" x=\"79\" y=\"4.199999999999999\" style=\"font-family: 'Open Sans', verdana, arial, sans-serif; font-size: 12px; fill: rgb(42, 63, 95); fill-opacity: 1; white-space: pre; opacity: 1;\" transform=\"translate(0,230.1)\">0.2</text></g><g class=\"ytick\"><text text-anchor=\"end\" x=\"79\" y=\"4.199999999999999\" style=\"font-family: 'Open Sans', verdana, arial, sans-serif; font-size: 12px; fill: rgb(42, 63, 95); fill-opacity: 1; white-space: pre; opacity: 1;\" transform=\"translate(0,190.2)\">0.4</text></g><g class=\"ytick\"><text text-anchor=\"end\" x=\"79\" y=\"4.199999999999999\" style=\"font-family: 'Open Sans', verdana, arial, sans-serif; font-size: 12px; fill: rgb(42, 63, 95); fill-opacity: 1; white-space: pre; opacity: 1;\" transform=\"translate(0,150.3)\">0.6</text></g><g class=\"ytick\"><text text-anchor=\"end\" x=\"79\" y=\"4.199999999999999\" style=\"font-family: 'Open Sans', verdana, arial, sans-serif; font-size: 12px; fill: rgb(42, 63, 95); fill-opacity: 1; white-space: pre; opacity: 1;\" transform=\"translate(0,110.4)\">0.8</text></g><g class=\"ytick\"><text text-anchor=\"end\" x=\"79\" y=\"4.199999999999999\" style=\"font-family: 'Open Sans', verdana, arial, sans-serif; font-size: 12px; fill: rgb(42, 63, 95); fill-opacity: 1; white-space: pre; opacity: 1;\" transform=\"translate(0,70.5)\">1</text></g></g><g class=\"overaxes-above\"/></g></g><g class=\"polarlayer\"/><g class=\"smithlayer\"/><g class=\"ternarylayer\"/><g class=\"geolayer\"/><g class=\"funnelarealayer\"/><g class=\"pielayer\"/><g class=\"iciclelayer\"/><g class=\"treemaplayer\"/><g class=\"sunburstlayer\"/><g class=\"glimages\"/><defs id=\"topdefs-e9fedc\"><g class=\"clips\"/><clipPath id=\"legende9fedc\"><rect width=\"159\" height=\"67\" x=\"0\" y=\"0\"/></clipPath></defs><g class=\"layer-above\"><g class=\"imagelayer\"/><g class=\"shapelayer\"><g class=\"shape-group\" data-index=\"0\" clip-path=\"url(#clipe9fedcy)\"><path data-index=\"0\" fill-rule=\"evenodd\" d=\"M80,248.06L520,248.06\" style=\"opacity: 1; stroke: rgb(0, 0, 0); stroke-opacity: 1; fill: rgb(0, 0, 0); fill-opacity: 0; stroke-dasharray: 9px, 9px; stroke-width: 3px;\"/></g></g></g><g class=\"infolayer\"><g class=\"legend\" pointer-events=\"all\" transform=\"translate(528.8,60)\"><rect class=\"bg\" shape-rendering=\"crispEdges\" width=\"159\" height=\"67\" x=\"0\" y=\"0\" style=\"stroke: rgb(68, 68, 68); stroke-opacity: 1; fill: rgb(255, 255, 255); fill-opacity: 1; stroke-width: 0px;\"/><g class=\"scrollbox\" transform=\"\" clip-path=\"url(#legende9fedc)\"><text class=\"legendtitletext\" text-anchor=\"start\" x=\"2\" y=\"18.2\" style=\"font-family: 'Open Sans', verdana, arial, sans-serif; font-size: 14px; fill: rgb(42, 63, 95); fill-opacity: 1; white-space: pre;\">Subscription Acceptance</text><g class=\"groups\" transform=\"\"><g class=\"traces\" transform=\"translate(0,32.7)\" style=\"opacity: 1;\"><text class=\"legendtext\" text-anchor=\"start\" x=\"40\" y=\"4.680000000000001\" style=\"font-family: 'Open Sans', verdana, arial, sans-serif; font-size: 12px; fill: rgb(42, 63, 95); fill-opacity: 1; white-space: pre;\">Accepted</text><g class=\"layers\" style=\"opacity: 1;\"><g class=\"legendfill\"/><g class=\"legendlines\"/><g class=\"legendsymbols\"><g class=\"legendpoints\"><path class=\"legendundefined\" d=\"M6,6H-6V-6H6Z\" transform=\"translate(20,0)\" style=\"stroke-width: 0.5px; fill: rgb(99, 110, 250); fill-opacity: 1; stroke: rgb(229, 236, 246); stroke-opacity: 1;\"/></g></g></g><rect class=\"legendtoggle\" x=\"0\" y=\"-9.5\" width=\"90.046875\" height=\"19\" style=\"fill: rgb(0, 0, 0); fill-opacity: 0;\"/></g></g><g class=\"groups\" transform=\"\"><g class=\"traces\" transform=\"translate(0,51.7)\" style=\"opacity: 1;\"><text class=\"legendtext\" text-anchor=\"start\" x=\"40\" y=\"4.680000000000001\" style=\"font-family: 'Open Sans', verdana, arial, sans-serif; font-size: 12px; fill: rgb(42, 63, 95); fill-opacity: 1; white-space: pre;\">Rejected</text><g class=\"layers\" style=\"opacity: 1;\"><g class=\"legendfill\"/><g class=\"legendlines\"/><g class=\"legendsymbols\"><g class=\"legendpoints\"><path class=\"legendundefined\" d=\"M6,6H-6V-6H6Z\" transform=\"translate(20,0)\" style=\"stroke-width: 0.5px; fill: rgb(239, 85, 59); fill-opacity: 1; stroke: rgb(229, 236, 246); stroke-opacity: 1;\"/></g></g></g><rect class=\"legendtoggle\" x=\"0\" y=\"-9.5\" width=\"90.046875\" height=\"19\" style=\"fill: rgb(0, 0, 0); fill-opacity: 0;\"/></g></g></g><rect class=\"scrollbar\" rx=\"20\" ry=\"3\" width=\"0\" height=\"0\" x=\"0\" y=\"0\" style=\"fill: rgb(128, 139, 164); fill-opacity: 1;\"/></g><g class=\"g-gtitle\"><text class=\"gtitle\" x=\"315\" y=\"17.5\" text-anchor=\"middle\" dy=\"0.7em\" style=\"font-family: 'Open Sans', verdana, arial, sans-serif; font-size: 17px; fill: rgb(42, 63, 95); opacity: 1; font-weight: normal; white-space: pre;\">Acceptance Rate vs contact</text></g><g class=\"g-xtitle\"><text class=\"xtitle\" x=\"300\" y=\"310.3\" text-anchor=\"middle\" style=\"font-family: 'Open Sans', verdana, arial, sans-serif; font-size: 14px; fill: rgb(42, 63, 95); opacity: 1; font-weight: normal; white-space: pre;\">contact</text></g><g class=\"g-ytitle\"><text class=\"ytitle\" transform=\"rotate(-90,38.0125,165)\" x=\"38.0125\" y=\"165\" text-anchor=\"middle\" style=\"font-family: 'Open Sans', verdana, arial, sans-serif; font-size: 14px; fill: rgb(42, 63, 95); opacity: 1; font-weight: normal; white-space: pre;\">Acceptance Rate</text></g><g class=\"annotation\" data-index=\"0\" style=\"opacity: 1;\"><g class=\"annotation-text-g\" transform=\"rotate(0,568,248.06)\"><g class=\"cursor-pointer\" transform=\"translate(520,231)\"><rect class=\"bg\" x=\"0.5\" y=\"0.5\" width=\"95\" height=\"33\" style=\"stroke-width: 1px; stroke: rgb(0, 0, 0); stroke-opacity: 0; fill: rgb(0, 0, 0); fill-opacity: 0;\"/><text class=\"annotation-text\" text-anchor=\"middle\" x=\"48.03125\" y=\"13\" style=\"font-family: 'Open Sans', verdana, arial, sans-serif; font-size: 12px; fill: rgb(42, 63, 95); fill-opacity: 1; white-space: pre;\"><tspan class=\"line\" dy=\"0em\" x=\"48.03125\" y=\"13\">Base acceptance</tspan><tspan class=\"line\" dy=\"1.3em\" x=\"48.03125\" y=\"13\">rate (0.113)</tspan></text></g></g></g></g></svg>"
      ]
     },
     "metadata": {},
     "output_type": "display_data"
    },
    {
     "data": {
      "image/svg+xml": [
       "<svg class=\"main-svg\" xmlns=\"http://www.w3.org/2000/svg\" xmlns:xlink=\"http://www.w3.org/1999/xlink\" width=\"700\" height=\"350\" style=\"\" viewBox=\"0 0 700 350\"><rect x=\"0\" y=\"0\" width=\"700\" height=\"350\" style=\"fill: rgb(255, 255, 255); fill-opacity: 1;\"/><defs id=\"defs-a46466\"><g class=\"clips\"><clipPath id=\"clipa46466xyplot\" class=\"plotclip\"><rect width=\"440\" height=\"210\"/></clipPath><clipPath class=\"axesclip\" id=\"clipa46466x\"><rect x=\"80\" y=\"0\" width=\"440\" height=\"350\"/></clipPath><clipPath class=\"axesclip\" id=\"clipa46466y\"><rect x=\"0\" y=\"60\" width=\"700\" height=\"210\"/></clipPath><clipPath class=\"axesclip\" id=\"clipa46466xy\"><rect x=\"80\" y=\"60\" width=\"440\" height=\"210\"/></clipPath></g><g class=\"gradients\"/><g class=\"patterns\"/></defs><g class=\"bglayer\"><rect class=\"bg\" x=\"80\" y=\"60\" width=\"440\" height=\"210\" style=\"fill: rgb(229, 236, 246); fill-opacity: 1; stroke-width: 0;\"/></g><g class=\"layer-below\"><g class=\"imagelayer\"/><g class=\"shapelayer\"/></g><g class=\"cartesianlayer\"><g class=\"subplot xy\"><g class=\"layer-subplot\"><g class=\"shapelayer\"/><g class=\"imagelayer\"/></g><g class=\"minor-gridlayer\"><g class=\"x\"/><g class=\"y\"/></g><g class=\"gridlayer\"><g class=\"x\"/><g class=\"y\"><path class=\"ygrid crisp\" transform=\"translate(0,230.1)\" d=\"M80,0h440\" style=\"stroke: rgb(255, 255, 255); stroke-opacity: 1; stroke-width: 1px;\"/><path class=\"ygrid crisp\" transform=\"translate(0,190.2)\" d=\"M80,0h440\" style=\"stroke: rgb(255, 255, 255); stroke-opacity: 1; stroke-width: 1px;\"/><path class=\"ygrid crisp\" transform=\"translate(0,150.3)\" d=\"M80,0h440\" style=\"stroke: rgb(255, 255, 255); stroke-opacity: 1; stroke-width: 1px;\"/><path class=\"ygrid crisp\" transform=\"translate(0,110.4)\" d=\"M80,0h440\" style=\"stroke: rgb(255, 255, 255); stroke-opacity: 1; stroke-width: 1px;\"/><path class=\"ygrid crisp\" transform=\"translate(0,70.5)\" d=\"M80,0h440\" style=\"stroke: rgb(255, 255, 255); stroke-opacity: 1; stroke-width: 1px;\"/></g></g><g class=\"zerolinelayer\"><path class=\"yzl zl crisp\" transform=\"translate(0,270)\" d=\"M80,0h440\" style=\"stroke: rgb(255, 255, 255); stroke-opacity: 1; stroke-width: 2px;\"/></g><path class=\"xlines-below\"/><path class=\"ylines-below\"/><g class=\"overlines-below\"/><g class=\"xaxislayer-below\"/><g class=\"yaxislayer-below\"/><g class=\"overaxes-below\"/><g class=\"plot\" transform=\"translate(80,60)\" clip-path=\"url(#clipa46466xyplot)\"><g class=\"barlayer mlayer\"><g class=\"trace bars\" style=\"opacity: 1;\"><g class=\"points\"><g class=\"point\"><path d=\"M161.33,210V184.31H278.67V210Z\" style=\"vector-effect: none; opacity: 1; stroke-width: 0.5px; fill: rgb(99, 110, 250); fill-opacity: 1; stroke: rgb(229, 236, 246); stroke-opacity: 1;\"/><text class=\"bartext bartext-inside\" text-anchor=\"middle\" data-notex=\"1\" x=\"0\" y=\"0\" style=\"font-family: 'Open Sans', verdana, arial, sans-serif; font-size: 12px; fill: rgb(255, 255, 255); fill-opacity: 1; white-space: pre;\" transform=\"translate(219.8359375,198.31)\">0.13</text></g><g class=\"point\"><path d=\"M308,210V199.72H425.33V210Z\" style=\"vector-effect: none; opacity: 1; stroke-width: 0.5px; fill: rgb(99, 110, 250); fill-opacity: 1; stroke: rgb(229, 236, 246); stroke-opacity: 1;\"/><text class=\"bartext bartext-inside\" text-anchor=\"middle\" data-notex=\"1\" x=\"0\" y=\"0\" style=\"font-family: 'Open Sans', verdana, arial, sans-serif; font-size: 12px; fill: rgb(255, 255, 255); fill-opacity: 1; white-space: pre;\" transform=\"translate(366.61484375,206.08285714285714)scale(0.30571428571428577)\">0.05</text></g><g class=\"point\"><path d=\"M0,0Z\" style=\"vector-effect: none; opacity: 1; stroke-width: 0px; fill: rgb(99, 110, 250); fill-opacity: 1; stroke: rgb(229, 236, 246); stroke-opacity: 1;\"/></g></g></g><g class=\"trace bars\" style=\"opacity: 1;\"><g class=\"points\"><g class=\"point\"><path d=\"M161.33,184.31V10.5H278.67V184.31Z\" style=\"vector-effect: none; opacity: 1; stroke-width: 0.5px; fill: rgb(239, 85, 59); fill-opacity: 1; stroke: rgb(229, 236, 246); stroke-opacity: 1;\"/><text class=\"bartext bartext-inside\" text-anchor=\"middle\" data-notex=\"1\" x=\"0\" y=\"0\" style=\"font-family: 'Open Sans', verdana, arial, sans-serif; font-size: 12px; fill: rgb(68, 68, 68); fill-opacity: 1; white-space: pre;\" transform=\"translate(219.8359375,24.5)\">0.87</text></g><g class=\"point\"><path d=\"M308,199.72V10.5H425.33V199.72Z\" style=\"vector-effect: none; opacity: 1; stroke-width: 0.5px; fill: rgb(239, 85, 59); fill-opacity: 1; stroke: rgb(229, 236, 246); stroke-opacity: 1;\"/><text class=\"bartext bartext-inside\" text-anchor=\"middle\" data-notex=\"1\" x=\"0\" y=\"0\" style=\"font-family: 'Open Sans', verdana, arial, sans-serif; font-size: 12px; fill: rgb(68, 68, 68); fill-opacity: 1; white-space: pre;\" transform=\"translate(366.50093749999996,24.5)\">0.95</text></g><g class=\"point\"><path d=\"M0,0Z\" style=\"vector-effect: none; opacity: 1; stroke-width: 0px; fill: rgb(239, 85, 59); fill-opacity: 1; stroke: rgb(229, 236, 246); stroke-opacity: 1;\"/></g></g></g></g></g><g class=\"overplot\"/><path class=\"xlines-above crisp\" d=\"M0,0\" style=\"fill: none;\"/><path class=\"ylines-above crisp\" d=\"M0,0\" style=\"fill: none;\"/><g class=\"overlines-above\"/><g class=\"xaxislayer-above\"><g class=\"xtick\"><text text-anchor=\"middle\" x=\"0\" y=\"283\" transform=\"translate(153.32999999999998,0)\" style=\"font-family: 'Open Sans', verdana, arial, sans-serif; font-size: 12px; fill: rgb(42, 63, 95); fill-opacity: 1; white-space: pre; opacity: 1;\">yes</text></g><g class=\"xtick\"><text text-anchor=\"middle\" x=\"0\" y=\"283\" transform=\"translate(300,0)\" style=\"font-family: 'Open Sans', verdana, arial, sans-serif; font-size: 12px; fill: rgb(42, 63, 95); fill-opacity: 1; white-space: pre; opacity: 1;\">no</text></g><g class=\"xtick\"><text text-anchor=\"middle\" x=\"0\" y=\"283\" transform=\"translate(446.67,0)\" style=\"font-family: 'Open Sans', verdana, arial, sans-serif; font-size: 12px; fill: rgb(42, 63, 95); fill-opacity: 1; white-space: pre; opacity: 1;\">unknown</text></g></g><g class=\"yaxislayer-above\"><g class=\"ytick\"><text text-anchor=\"end\" x=\"79\" y=\"4.199999999999999\" transform=\"translate(0,270)\" style=\"font-family: 'Open Sans', verdana, arial, sans-serif; font-size: 12px; fill: rgb(42, 63, 95); fill-opacity: 1; white-space: pre; opacity: 1;\">0</text></g><g class=\"ytick\"><text text-anchor=\"end\" x=\"79\" y=\"4.199999999999999\" style=\"font-family: 'Open Sans', verdana, arial, sans-serif; font-size: 12px; fill: rgb(42, 63, 95); fill-opacity: 1; white-space: pre; opacity: 1;\" transform=\"translate(0,230.1)\">0.2</text></g><g class=\"ytick\"><text text-anchor=\"end\" x=\"79\" y=\"4.199999999999999\" style=\"font-family: 'Open Sans', verdana, arial, sans-serif; font-size: 12px; fill: rgb(42, 63, 95); fill-opacity: 1; white-space: pre; opacity: 1;\" transform=\"translate(0,190.2)\">0.4</text></g><g class=\"ytick\"><text text-anchor=\"end\" x=\"79\" y=\"4.199999999999999\" style=\"font-family: 'Open Sans', verdana, arial, sans-serif; font-size: 12px; fill: rgb(42, 63, 95); fill-opacity: 1; white-space: pre; opacity: 1;\" transform=\"translate(0,150.3)\">0.6</text></g><g class=\"ytick\"><text text-anchor=\"end\" x=\"79\" y=\"4.199999999999999\" style=\"font-family: 'Open Sans', verdana, arial, sans-serif; font-size: 12px; fill: rgb(42, 63, 95); fill-opacity: 1; white-space: pre; opacity: 1;\" transform=\"translate(0,110.4)\">0.8</text></g><g class=\"ytick\"><text text-anchor=\"end\" x=\"79\" y=\"4.199999999999999\" style=\"font-family: 'Open Sans', verdana, arial, sans-serif; font-size: 12px; fill: rgb(42, 63, 95); fill-opacity: 1; white-space: pre; opacity: 1;\" transform=\"translate(0,70.5)\">1</text></g></g><g class=\"overaxes-above\"/></g></g><g class=\"polarlayer\"/><g class=\"smithlayer\"/><g class=\"ternarylayer\"/><g class=\"geolayer\"/><g class=\"funnelarealayer\"/><g class=\"pielayer\"/><g class=\"iciclelayer\"/><g class=\"treemaplayer\"/><g class=\"sunburstlayer\"/><g class=\"glimages\"/><defs id=\"topdefs-a46466\"><g class=\"clips\"/><clipPath id=\"legenda46466\"><rect width=\"159\" height=\"67\" x=\"0\" y=\"0\"/></clipPath></defs><g class=\"layer-above\"><g class=\"imagelayer\"/><g class=\"shapelayer\"><g class=\"shape-group\" data-index=\"0\" clip-path=\"url(#clipa46466y)\"><path data-index=\"0\" fill-rule=\"evenodd\" d=\"M80,248.06L520,248.06\" style=\"opacity: 1; stroke: rgb(0, 0, 0); stroke-opacity: 1; fill: rgb(0, 0, 0); fill-opacity: 0; stroke-dasharray: 9px, 9px; stroke-width: 3px;\"/></g></g></g><g class=\"infolayer\"><g class=\"legend\" pointer-events=\"all\" transform=\"translate(528.8,60)\"><rect class=\"bg\" shape-rendering=\"crispEdges\" width=\"159\" height=\"67\" x=\"0\" y=\"0\" style=\"stroke: rgb(68, 68, 68); stroke-opacity: 1; fill: rgb(255, 255, 255); fill-opacity: 1; stroke-width: 0px;\"/><g class=\"scrollbox\" transform=\"\" clip-path=\"url(#legenda46466)\"><text class=\"legendtitletext\" text-anchor=\"start\" x=\"2\" y=\"18.2\" style=\"font-family: 'Open Sans', verdana, arial, sans-serif; font-size: 14px; fill: rgb(42, 63, 95); fill-opacity: 1; white-space: pre;\">Subscription Acceptance</text><g class=\"groups\" transform=\"\"><g class=\"traces\" transform=\"translate(0,32.7)\" style=\"opacity: 1;\"><text class=\"legendtext\" text-anchor=\"start\" x=\"40\" y=\"4.680000000000001\" style=\"font-family: 'Open Sans', verdana, arial, sans-serif; font-size: 12px; fill: rgb(42, 63, 95); fill-opacity: 1; white-space: pre;\">Accepted</text><g class=\"layers\" style=\"opacity: 1;\"><g class=\"legendfill\"/><g class=\"legendlines\"/><g class=\"legendsymbols\"><g class=\"legendpoints\"><path class=\"legendundefined\" d=\"M6,6H-6V-6H6Z\" transform=\"translate(20,0)\" style=\"stroke-width: 0.5px; fill: rgb(99, 110, 250); fill-opacity: 1; stroke: rgb(229, 236, 246); stroke-opacity: 1;\"/></g></g></g><rect class=\"legendtoggle\" x=\"0\" y=\"-9.5\" width=\"90.046875\" height=\"19\" style=\"fill: rgb(0, 0, 0); fill-opacity: 0;\"/></g></g><g class=\"groups\" transform=\"\"><g class=\"traces\" transform=\"translate(0,51.7)\" style=\"opacity: 1;\"><text class=\"legendtext\" text-anchor=\"start\" x=\"40\" y=\"4.680000000000001\" style=\"font-family: 'Open Sans', verdana, arial, sans-serif; font-size: 12px; fill: rgb(42, 63, 95); fill-opacity: 1; white-space: pre;\">Rejected</text><g class=\"layers\" style=\"opacity: 1;\"><g class=\"legendfill\"/><g class=\"legendlines\"/><g class=\"legendsymbols\"><g class=\"legendpoints\"><path class=\"legendundefined\" d=\"M6,6H-6V-6H6Z\" transform=\"translate(20,0)\" style=\"stroke-width: 0.5px; fill: rgb(239, 85, 59); fill-opacity: 1; stroke: rgb(229, 236, 246); stroke-opacity: 1;\"/></g></g></g><rect class=\"legendtoggle\" x=\"0\" y=\"-9.5\" width=\"90.046875\" height=\"19\" style=\"fill: rgb(0, 0, 0); fill-opacity: 0;\"/></g></g></g><rect class=\"scrollbar\" rx=\"20\" ry=\"3\" width=\"0\" height=\"0\" x=\"0\" y=\"0\" style=\"fill: rgb(128, 139, 164); fill-opacity: 1;\"/></g><g class=\"g-gtitle\"><text class=\"gtitle\" x=\"315\" y=\"17.5\" text-anchor=\"middle\" dy=\"0.7em\" style=\"font-family: 'Open Sans', verdana, arial, sans-serif; font-size: 17px; fill: rgb(42, 63, 95); opacity: 1; font-weight: normal; white-space: pre;\">Acceptance Rate vs default</text></g><g class=\"g-xtitle\"><text class=\"xtitle\" x=\"300\" y=\"310.3\" text-anchor=\"middle\" style=\"font-family: 'Open Sans', verdana, arial, sans-serif; font-size: 14px; fill: rgb(42, 63, 95); opacity: 1; font-weight: normal; white-space: pre;\">default</text></g><g class=\"g-ytitle\"><text class=\"ytitle\" transform=\"rotate(-90,38.0125,165)\" x=\"38.0125\" y=\"165\" text-anchor=\"middle\" style=\"font-family: 'Open Sans', verdana, arial, sans-serif; font-size: 14px; fill: rgb(42, 63, 95); opacity: 1; font-weight: normal; white-space: pre;\">Acceptance Rate</text></g><g class=\"annotation\" data-index=\"0\" style=\"opacity: 1;\"><g class=\"annotation-text-g\" transform=\"rotate(0,568,248.06)\"><g class=\"cursor-pointer\" transform=\"translate(520,231)\"><rect class=\"bg\" x=\"0.5\" y=\"0.5\" width=\"95\" height=\"33\" style=\"stroke-width: 1px; stroke: rgb(0, 0, 0); stroke-opacity: 0; fill: rgb(0, 0, 0); fill-opacity: 0;\"/><text class=\"annotation-text\" text-anchor=\"middle\" x=\"48.03125\" y=\"13\" style=\"font-family: 'Open Sans', verdana, arial, sans-serif; font-size: 12px; fill: rgb(42, 63, 95); fill-opacity: 1; white-space: pre;\"><tspan class=\"line\" dy=\"0em\" x=\"48.03125\" y=\"13\">Base acceptance</tspan><tspan class=\"line\" dy=\"1.3em\" x=\"48.03125\" y=\"13\">rate (0.113)</tspan></text></g></g></g></g></svg>"
      ]
     },
     "metadata": {},
     "output_type": "display_data"
    }
   ],
   "source": [
    "columns = ['job', 'marital', 'education', 'housing', 'loan', 'contact', 'default']\n",
    "for column in columns:\n",
    "  df_accepted = get_acceptance_dataframe(df, column)\n",
    "\n",
    "  fig = px.bar(df_accepted, x=df_accepted.index, text_auto='.2f', y=['Accepted',  'Rejected'], labels={'variable': 'Subscription Acceptance'}).update_xaxes(type='category')\n",
    "  fig.add_hline(y=0.11, line_width=3, line_dash=\"dash\", line_color=\"black\",  annotation_text=f\"Base acceptance<br>rate ({base_acceptance})\",\n",
    "                              annotation_position=\"right\")\n",
    "  fig.update_layout(title=f'Acceptance Rate vs {column}', title_x = 0.45, title_y = 0.95,\n",
    "                width=700, height=350,\n",
    "                yaxis_title = 'Acceptance Rate',\n",
    "                xaxis={'categoryorder':'sum ascending'},\n",
    "                xaxis_title = column)\n",
    "  fig.show()"
   ]
  },
  {
   "cell_type": "markdown",
   "metadata": {
    "id": "hTzmbUiXE-Hk"
   },
   "source": [
    "### Problem 4: Understanding the Task\n",
    "\n",
    "After examining the description and data, your goal now is to clearly state the *Business Objective* of the task.  State the objective below."
   ]
  },
  {
   "cell_type": "markdown",
   "metadata": {
    "id": "cgpVtmiJE-Hk"
   },
   "source": [
    "The business goal of this task is to find a model that can **best explain success** when the client subscribes the deposit. Such model can **increase campaign efficiency** by identifying the main characteristics that affect success, helping in a better management of the available resources and by selecting high quality and affordable set of potential buying customers ."
   ]
  },
  {
   "cell_type": "markdown",
   "metadata": {
    "id": "Pc5ls3btE-Hk"
   },
   "source": [
    "### Problem 5: Engineering Features\n",
    "\n",
    "Now that you understand your business objective, we will build a basic model to get started.  Before we can do this, we must work to encode the data.  Using just the bank information features (columns 1 - 7), prepare the features and target column for modeling with appropriate encoding and transformations."
   ]
  },
  {
   "cell_type": "code",
   "execution_count": 16,
   "metadata": {
    "ExecuteTime": {
     "end_time": "2024-04-22T01:50:41.468823Z",
     "start_time": "2024-04-22T01:50:41.325370Z"
    },
    "id": "1Q0F0XyEE-Hk"
   },
   "outputs": [
    {
     "name": "stderr",
     "output_type": "stream",
     "text": [
      "Intel(R) Extension for Scikit-learn* enabled (https://github.com/intel/scikit-learn-intelex)\n"
     ]
    }
   ],
   "source": [
    "import pandas as pd\n",
    "import time\n",
    "\n",
    "from sklearnex import patch_sklearn\n",
    "patch_sklearn()\n",
    "from sklearn.compose import make_column_transformer\n",
    "from sklearn.preprocessing import StandardScaler, OneHotEncoder\n",
    "from sklearn.dummy import DummyClassifier\n",
    "from sklearn.metrics import accuracy_score\n",
    "from sklearn.neighbors import KNeighborsClassifier\n",
    "from sklearn.tree import DecisionTreeClassifier\n",
    "from sklearn.svm import SVC\n",
    "from sklearn.metrics import accuracy_score, f1_score, confusion_matrix, ConfusionMatrixDisplay, classification_report"
   ]
  },
  {
   "cell_type": "code",
   "execution_count": 17,
   "metadata": {
    "ExecuteTime": {
     "end_time": "2024-04-22T01:50:44.610763Z",
     "start_time": "2024-04-22T01:50:44.470972Z"
    },
    "scrolled": true
   },
   "outputs": [
    {
     "name": "stdout",
     "output_type": "stream",
     "text": [
      "(41188, 36)\n"
     ]
    },
    {
     "data": {
      "text/html": [
       "<div>\n",
       "<style scoped>\n",
       "    .dataframe tbody tr th:only-of-type {\n",
       "        vertical-align: middle;\n",
       "    }\n",
       "\n",
       "    .dataframe tbody tr th {\n",
       "        vertical-align: top;\n",
       "    }\n",
       "\n",
       "    .dataframe thead th {\n",
       "        text-align: right;\n",
       "    }\n",
       "</style>\n",
       "<table border=\"1\" class=\"dataframe\">\n",
       "  <thead>\n",
       "    <tr style=\"text-align: right;\">\n",
       "      <th></th>\n",
       "      <th>age</th>\n",
       "      <th>job_admin.</th>\n",
       "      <th>job_blue-collar</th>\n",
       "      <th>job_entrepreneur</th>\n",
       "      <th>job_housemaid</th>\n",
       "      <th>job_management</th>\n",
       "      <th>job_retired</th>\n",
       "      <th>job_self-employed</th>\n",
       "      <th>job_services</th>\n",
       "      <th>job_student</th>\n",
       "      <th>...</th>\n",
       "      <th>housing_unknown</th>\n",
       "      <th>housing_yes</th>\n",
       "      <th>loan_no</th>\n",
       "      <th>loan_unknown</th>\n",
       "      <th>loan_yes</th>\n",
       "      <th>contact_cellular</th>\n",
       "      <th>contact_telephone</th>\n",
       "      <th>default_no</th>\n",
       "      <th>default_unknown</th>\n",
       "      <th>default_yes</th>\n",
       "    </tr>\n",
       "    <tr>\n",
       "      <th>index</th>\n",
       "      <th></th>\n",
       "      <th></th>\n",
       "      <th></th>\n",
       "      <th></th>\n",
       "      <th></th>\n",
       "      <th></th>\n",
       "      <th></th>\n",
       "      <th></th>\n",
       "      <th></th>\n",
       "      <th></th>\n",
       "      <th></th>\n",
       "      <th></th>\n",
       "      <th></th>\n",
       "      <th></th>\n",
       "      <th></th>\n",
       "      <th></th>\n",
       "      <th></th>\n",
       "      <th></th>\n",
       "      <th></th>\n",
       "      <th></th>\n",
       "      <th></th>\n",
       "    </tr>\n",
       "  </thead>\n",
       "  <tbody>\n",
       "    <tr>\n",
       "      <th>0</th>\n",
       "      <td>1.533034</td>\n",
       "      <td>0</td>\n",
       "      <td>0</td>\n",
       "      <td>0</td>\n",
       "      <td>1</td>\n",
       "      <td>0</td>\n",
       "      <td>0</td>\n",
       "      <td>0</td>\n",
       "      <td>0</td>\n",
       "      <td>0</td>\n",
       "      <td>...</td>\n",
       "      <td>0</td>\n",
       "      <td>0</td>\n",
       "      <td>1</td>\n",
       "      <td>0</td>\n",
       "      <td>0</td>\n",
       "      <td>0</td>\n",
       "      <td>1</td>\n",
       "      <td>1</td>\n",
       "      <td>0</td>\n",
       "      <td>0</td>\n",
       "    </tr>\n",
       "    <tr>\n",
       "      <th>1</th>\n",
       "      <td>1.628993</td>\n",
       "      <td>0</td>\n",
       "      <td>0</td>\n",
       "      <td>0</td>\n",
       "      <td>0</td>\n",
       "      <td>0</td>\n",
       "      <td>0</td>\n",
       "      <td>0</td>\n",
       "      <td>1</td>\n",
       "      <td>0</td>\n",
       "      <td>...</td>\n",
       "      <td>0</td>\n",
       "      <td>0</td>\n",
       "      <td>1</td>\n",
       "      <td>0</td>\n",
       "      <td>0</td>\n",
       "      <td>0</td>\n",
       "      <td>1</td>\n",
       "      <td>0</td>\n",
       "      <td>1</td>\n",
       "      <td>0</td>\n",
       "    </tr>\n",
       "    <tr>\n",
       "      <th>2</th>\n",
       "      <td>-0.290186</td>\n",
       "      <td>0</td>\n",
       "      <td>0</td>\n",
       "      <td>0</td>\n",
       "      <td>0</td>\n",
       "      <td>0</td>\n",
       "      <td>0</td>\n",
       "      <td>0</td>\n",
       "      <td>1</td>\n",
       "      <td>0</td>\n",
       "      <td>...</td>\n",
       "      <td>0</td>\n",
       "      <td>1</td>\n",
       "      <td>1</td>\n",
       "      <td>0</td>\n",
       "      <td>0</td>\n",
       "      <td>0</td>\n",
       "      <td>1</td>\n",
       "      <td>1</td>\n",
       "      <td>0</td>\n",
       "      <td>0</td>\n",
       "    </tr>\n",
       "    <tr>\n",
       "      <th>3</th>\n",
       "      <td>-0.002309</td>\n",
       "      <td>1</td>\n",
       "      <td>0</td>\n",
       "      <td>0</td>\n",
       "      <td>0</td>\n",
       "      <td>0</td>\n",
       "      <td>0</td>\n",
       "      <td>0</td>\n",
       "      <td>0</td>\n",
       "      <td>0</td>\n",
       "      <td>...</td>\n",
       "      <td>0</td>\n",
       "      <td>0</td>\n",
       "      <td>1</td>\n",
       "      <td>0</td>\n",
       "      <td>0</td>\n",
       "      <td>0</td>\n",
       "      <td>1</td>\n",
       "      <td>1</td>\n",
       "      <td>0</td>\n",
       "      <td>0</td>\n",
       "    </tr>\n",
       "    <tr>\n",
       "      <th>4</th>\n",
       "      <td>1.533034</td>\n",
       "      <td>0</td>\n",
       "      <td>0</td>\n",
       "      <td>0</td>\n",
       "      <td>0</td>\n",
       "      <td>0</td>\n",
       "      <td>0</td>\n",
       "      <td>0</td>\n",
       "      <td>1</td>\n",
       "      <td>0</td>\n",
       "      <td>...</td>\n",
       "      <td>0</td>\n",
       "      <td>0</td>\n",
       "      <td>0</td>\n",
       "      <td>0</td>\n",
       "      <td>1</td>\n",
       "      <td>0</td>\n",
       "      <td>1</td>\n",
       "      <td>1</td>\n",
       "      <td>0</td>\n",
       "      <td>0</td>\n",
       "    </tr>\n",
       "  </tbody>\n",
       "</table>\n",
       "<p>5 rows × 36 columns</p>\n",
       "</div>"
      ],
      "text/plain": [
       "            age  job_admin.  job_blue-collar  job_entrepreneur  job_housemaid  \\\n",
       "index                                                                           \n",
       "0      1.533034           0                0                 0              1   \n",
       "1      1.628993           0                0                 0              0   \n",
       "2     -0.290186           0                0                 0              0   \n",
       "3     -0.002309           1                0                 0              0   \n",
       "4      1.533034           0                0                 0              0   \n",
       "\n",
       "       job_management  job_retired  job_self-employed  job_services  \\\n",
       "index                                                                 \n",
       "0                   0            0                  0             0   \n",
       "1                   0            0                  0             1   \n",
       "2                   0            0                  0             1   \n",
       "3                   0            0                  0             0   \n",
       "4                   0            0                  0             1   \n",
       "\n",
       "       job_student  ...  housing_unknown  housing_yes  loan_no  loan_unknown  \\\n",
       "index               ...                                                        \n",
       "0                0  ...                0            0        1             0   \n",
       "1                0  ...                0            0        1             0   \n",
       "2                0  ...                0            1        1             0   \n",
       "3                0  ...                0            0        1             0   \n",
       "4                0  ...                0            0        0             0   \n",
       "\n",
       "       loan_yes  contact_cellular  contact_telephone  default_no  \\\n",
       "index                                                              \n",
       "0             0                 0                  1           1   \n",
       "1             0                 0                  1           0   \n",
       "2             0                 0                  1           1   \n",
       "3             0                 0                  1           1   \n",
       "4             1                 0                  1           1   \n",
       "\n",
       "       default_unknown  default_yes  \n",
       "index                                \n",
       "0                    0            0  \n",
       "1                    1            0  \n",
       "2                    0            0  \n",
       "3                    0            0  \n",
       "4                    0            0  \n",
       "\n",
       "[5 rows x 36 columns]"
      ]
     },
     "execution_count": 17,
     "metadata": {},
     "output_type": "execute_result"
    }
   ],
   "source": [
    "# columns 1-7\n",
    "categorical_columns = ['job', 'marital', 'education', 'housing', 'loan', 'contact', 'default']\n",
    "numerical_columns = ['age']\n",
    "df.index.name = 'index'\n",
    "\n",
    "df_ohe = OneHotEncoder(sparse_output=False,dtype=int).set_output(transform='pandas').fit_transform(df[categorical_columns])\n",
    "df_num = StandardScaler().set_output(transform=\"pandas\").fit_transform(df[numerical_columns])\n",
    "df_tr = pd.merge(df_num, df_ohe, how='inner', on='index')\n",
    "print(df_tr.shape)\n",
    "df_tr.head()"
   ]
  },
  {
   "cell_type": "markdown",
   "metadata": {
    "id": "5detMwvSE-Hk"
   },
   "source": [
    "### Problem 6: Train/Test Split\n",
    "\n",
    "With your data prepared, split it into a train and test set."
   ]
  },
  {
   "cell_type": "code",
   "execution_count": 18,
   "metadata": {
    "ExecuteTime": {
     "end_time": "2024-04-22T01:51:23.192874Z",
     "start_time": "2024-04-22T01:51:23.172077Z"
    },
    "id": "5a1qAlL3E-Hk"
   },
   "outputs": [],
   "source": [
    "from sklearn.model_selection import train_test_split\n",
    "X = df_tr\n",
    "x_train, x_test, y_train, y_test = train_test_split(df_tr, df['y'], test_size=0.25)"
   ]
  },
  {
   "cell_type": "markdown",
   "metadata": {
    "id": "3bcC47PyE-Hl"
   },
   "source": [
    "### Problem 7: A Baseline Model\n",
    "\n",
    "Before we build our first model, we want to establish a baseline.  What is the baseline performance that our classifier should aim to beat?"
   ]
  },
  {
   "cell_type": "code",
   "execution_count": 19,
   "metadata": {
    "ExecuteTime": {
     "end_time": "2024-04-22T01:51:26.263971Z",
     "start_time": "2024-04-22T01:51:26.226612Z"
    },
    "colab": {
     "base_uri": "https://localhost:8080/"
    },
    "id": "lZJdwml_E-Hl",
    "outputId": "93022391-cdb7-407a-ef0c-674168f7db78"
   },
   "outputs": [
    {
     "name": "stdout",
     "output_type": "stream",
     "text": [
      "Accuracy score for the train data: 0.8891910265125765\n",
      "Accuracy score for the test data: 0.8818102359910653\n"
     ]
    }
   ],
   "source": [
    "# Create anf fit dummy classifier\n",
    "dummy_clf = DummyClassifier(strategy=\"most_frequent\")\n",
    "dummy_clf.fit(x_train, y_train)\n",
    "\n",
    "# Predict the labels for the train and test data\n",
    "y_pred_train = dummy_clf.predict(x_train)\n",
    "y_pred_test = dummy_clf.predict(x_test)\n",
    "\n",
    "# Calculate the accuracy score for the train data\n",
    "accuracy_train = accuracy_score(y_train, y_pred_train)\n",
    "print(\"Accuracy score for the train data:\", accuracy_train)\n",
    "\n",
    "# Calculate the accuracy score for the test data\n",
    "accuracy_test = accuracy_score(y_test, y_pred_test)\n",
    "print(\"Accuracy score for the test data:\", accuracy_test)"
   ]
  },
  {
   "cell_type": "markdown",
   "metadata": {
    "id": "m_0YxdNbE-Hl"
   },
   "source": [
    "### Problem 8: A Simple Model\n",
    "\n",
    "Use Logistic Regression to build a basic model on your data.  "
   ]
  },
  {
   "cell_type": "code",
   "execution_count": 20,
   "metadata": {
    "ExecuteTime": {
     "end_time": "2024-04-22T01:51:30.782307Z",
     "start_time": "2024-04-22T01:51:30.435153Z"
    },
    "colab": {
     "base_uri": "https://localhost:8080/",
     "height": 80
    },
    "id": "0rAmYqU7E-Hl",
    "outputId": "4f10aa25-65a0-4e16-9fca-706f206f187d"
   },
   "outputs": [
    {
     "data": {
      "text/html": [
       "<style>#sk-container-id-1 {\n",
       "  /* Definition of color scheme common for light and dark mode */\n",
       "  --sklearn-color-text: black;\n",
       "  --sklearn-color-line: gray;\n",
       "  /* Definition of color scheme for unfitted estimators */\n",
       "  --sklearn-color-unfitted-level-0: #fff5e6;\n",
       "  --sklearn-color-unfitted-level-1: #f6e4d2;\n",
       "  --sklearn-color-unfitted-level-2: #ffe0b3;\n",
       "  --sklearn-color-unfitted-level-3: chocolate;\n",
       "  /* Definition of color scheme for fitted estimators */\n",
       "  --sklearn-color-fitted-level-0: #f0f8ff;\n",
       "  --sklearn-color-fitted-level-1: #d4ebff;\n",
       "  --sklearn-color-fitted-level-2: #b3dbfd;\n",
       "  --sklearn-color-fitted-level-3: cornflowerblue;\n",
       "\n",
       "  /* Specific color for light theme */\n",
       "  --sklearn-color-text-on-default-background: var(--sg-text-color, var(--theme-code-foreground, var(--jp-content-font-color1, black)));\n",
       "  --sklearn-color-background: var(--sg-background-color, var(--theme-background, var(--jp-layout-color0, white)));\n",
       "  --sklearn-color-border-box: var(--sg-text-color, var(--theme-code-foreground, var(--jp-content-font-color1, black)));\n",
       "  --sklearn-color-icon: #696969;\n",
       "\n",
       "  @media (prefers-color-scheme: dark) {\n",
       "    /* Redefinition of color scheme for dark theme */\n",
       "    --sklearn-color-text-on-default-background: var(--sg-text-color, var(--theme-code-foreground, var(--jp-content-font-color1, white)));\n",
       "    --sklearn-color-background: var(--sg-background-color, var(--theme-background, var(--jp-layout-color0, #111)));\n",
       "    --sklearn-color-border-box: var(--sg-text-color, var(--theme-code-foreground, var(--jp-content-font-color1, white)));\n",
       "    --sklearn-color-icon: #878787;\n",
       "  }\n",
       "}\n",
       "\n",
       "#sk-container-id-1 {\n",
       "  color: var(--sklearn-color-text);\n",
       "}\n",
       "\n",
       "#sk-container-id-1 pre {\n",
       "  padding: 0;\n",
       "}\n",
       "\n",
       "#sk-container-id-1 input.sk-hidden--visually {\n",
       "  border: 0;\n",
       "  clip: rect(1px 1px 1px 1px);\n",
       "  clip: rect(1px, 1px, 1px, 1px);\n",
       "  height: 1px;\n",
       "  margin: -1px;\n",
       "  overflow: hidden;\n",
       "  padding: 0;\n",
       "  position: absolute;\n",
       "  width: 1px;\n",
       "}\n",
       "\n",
       "#sk-container-id-1 div.sk-dashed-wrapped {\n",
       "  border: 1px dashed var(--sklearn-color-line);\n",
       "  margin: 0 0.4em 0.5em 0.4em;\n",
       "  box-sizing: border-box;\n",
       "  padding-bottom: 0.4em;\n",
       "  background-color: var(--sklearn-color-background);\n",
       "}\n",
       "\n",
       "#sk-container-id-1 div.sk-container {\n",
       "  /* jupyter's `normalize.less` sets `[hidden] { display: none; }`\n",
       "     but bootstrap.min.css set `[hidden] { display: none !important; }`\n",
       "     so we also need the `!important` here to be able to override the\n",
       "     default hidden behavior on the sphinx rendered scikit-learn.org.\n",
       "     See: https://github.com/scikit-learn/scikit-learn/issues/21755 */\n",
       "  display: inline-block !important;\n",
       "  position: relative;\n",
       "}\n",
       "\n",
       "#sk-container-id-1 div.sk-text-repr-fallback {\n",
       "  display: none;\n",
       "}\n",
       "\n",
       "div.sk-parallel-item,\n",
       "div.sk-serial,\n",
       "div.sk-item {\n",
       "  /* draw centered vertical line to link estimators */\n",
       "  background-image: linear-gradient(var(--sklearn-color-text-on-default-background), var(--sklearn-color-text-on-default-background));\n",
       "  background-size: 2px 100%;\n",
       "  background-repeat: no-repeat;\n",
       "  background-position: center center;\n",
       "}\n",
       "\n",
       "/* Parallel-specific style estimator block */\n",
       "\n",
       "#sk-container-id-1 div.sk-parallel-item::after {\n",
       "  content: \"\";\n",
       "  width: 100%;\n",
       "  border-bottom: 2px solid var(--sklearn-color-text-on-default-background);\n",
       "  flex-grow: 1;\n",
       "}\n",
       "\n",
       "#sk-container-id-1 div.sk-parallel {\n",
       "  display: flex;\n",
       "  align-items: stretch;\n",
       "  justify-content: center;\n",
       "  background-color: var(--sklearn-color-background);\n",
       "  position: relative;\n",
       "}\n",
       "\n",
       "#sk-container-id-1 div.sk-parallel-item {\n",
       "  display: flex;\n",
       "  flex-direction: column;\n",
       "}\n",
       "\n",
       "#sk-container-id-1 div.sk-parallel-item:first-child::after {\n",
       "  align-self: flex-end;\n",
       "  width: 50%;\n",
       "}\n",
       "\n",
       "#sk-container-id-1 div.sk-parallel-item:last-child::after {\n",
       "  align-self: flex-start;\n",
       "  width: 50%;\n",
       "}\n",
       "\n",
       "#sk-container-id-1 div.sk-parallel-item:only-child::after {\n",
       "  width: 0;\n",
       "}\n",
       "\n",
       "/* Serial-specific style estimator block */\n",
       "\n",
       "#sk-container-id-1 div.sk-serial {\n",
       "  display: flex;\n",
       "  flex-direction: column;\n",
       "  align-items: center;\n",
       "  background-color: var(--sklearn-color-background);\n",
       "  padding-right: 1em;\n",
       "  padding-left: 1em;\n",
       "}\n",
       "\n",
       "\n",
       "/* Toggleable style: style used for estimator/Pipeline/ColumnTransformer box that is\n",
       "clickable and can be expanded/collapsed.\n",
       "- Pipeline and ColumnTransformer use this feature and define the default style\n",
       "- Estimators will overwrite some part of the style using the `sk-estimator` class\n",
       "*/\n",
       "\n",
       "/* Pipeline and ColumnTransformer style (default) */\n",
       "\n",
       "#sk-container-id-1 div.sk-toggleable {\n",
       "  /* Default theme specific background. It is overwritten whether we have a\n",
       "  specific estimator or a Pipeline/ColumnTransformer */\n",
       "  background-color: var(--sklearn-color-background);\n",
       "}\n",
       "\n",
       "/* Toggleable label */\n",
       "#sk-container-id-1 label.sk-toggleable__label {\n",
       "  cursor: pointer;\n",
       "  display: block;\n",
       "  width: 100%;\n",
       "  margin-bottom: 0;\n",
       "  padding: 0.5em;\n",
       "  box-sizing: border-box;\n",
       "  text-align: center;\n",
       "}\n",
       "\n",
       "#sk-container-id-1 label.sk-toggleable__label-arrow:before {\n",
       "  /* Arrow on the left of the label */\n",
       "  content: \"▸\";\n",
       "  float: left;\n",
       "  margin-right: 0.25em;\n",
       "  color: var(--sklearn-color-icon);\n",
       "}\n",
       "\n",
       "#sk-container-id-1 label.sk-toggleable__label-arrow:hover:before {\n",
       "  color: var(--sklearn-color-text);\n",
       "}\n",
       "\n",
       "/* Toggleable content - dropdown */\n",
       "\n",
       "#sk-container-id-1 div.sk-toggleable__content {\n",
       "  max-height: 0;\n",
       "  max-width: 0;\n",
       "  overflow: hidden;\n",
       "  text-align: left;\n",
       "  /* unfitted */\n",
       "  background-color: var(--sklearn-color-unfitted-level-0);\n",
       "}\n",
       "\n",
       "#sk-container-id-1 div.sk-toggleable__content.fitted {\n",
       "  /* fitted */\n",
       "  background-color: var(--sklearn-color-fitted-level-0);\n",
       "}\n",
       "\n",
       "#sk-container-id-1 div.sk-toggleable__content pre {\n",
       "  margin: 0.2em;\n",
       "  border-radius: 0.25em;\n",
       "  color: var(--sklearn-color-text);\n",
       "  /* unfitted */\n",
       "  background-color: var(--sklearn-color-unfitted-level-0);\n",
       "}\n",
       "\n",
       "#sk-container-id-1 div.sk-toggleable__content.fitted pre {\n",
       "  /* unfitted */\n",
       "  background-color: var(--sklearn-color-fitted-level-0);\n",
       "}\n",
       "\n",
       "#sk-container-id-1 input.sk-toggleable__control:checked~div.sk-toggleable__content {\n",
       "  /* Expand drop-down */\n",
       "  max-height: 200px;\n",
       "  max-width: 100%;\n",
       "  overflow: auto;\n",
       "}\n",
       "\n",
       "#sk-container-id-1 input.sk-toggleable__control:checked~label.sk-toggleable__label-arrow:before {\n",
       "  content: \"▾\";\n",
       "}\n",
       "\n",
       "/* Pipeline/ColumnTransformer-specific style */\n",
       "\n",
       "#sk-container-id-1 div.sk-label input.sk-toggleable__control:checked~label.sk-toggleable__label {\n",
       "  color: var(--sklearn-color-text);\n",
       "  background-color: var(--sklearn-color-unfitted-level-2);\n",
       "}\n",
       "\n",
       "#sk-container-id-1 div.sk-label.fitted input.sk-toggleable__control:checked~label.sk-toggleable__label {\n",
       "  background-color: var(--sklearn-color-fitted-level-2);\n",
       "}\n",
       "\n",
       "/* Estimator-specific style */\n",
       "\n",
       "/* Colorize estimator box */\n",
       "#sk-container-id-1 div.sk-estimator input.sk-toggleable__control:checked~label.sk-toggleable__label {\n",
       "  /* unfitted */\n",
       "  background-color: var(--sklearn-color-unfitted-level-2);\n",
       "}\n",
       "\n",
       "#sk-container-id-1 div.sk-estimator.fitted input.sk-toggleable__control:checked~label.sk-toggleable__label {\n",
       "  /* fitted */\n",
       "  background-color: var(--sklearn-color-fitted-level-2);\n",
       "}\n",
       "\n",
       "#sk-container-id-1 div.sk-label label.sk-toggleable__label,\n",
       "#sk-container-id-1 div.sk-label label {\n",
       "  /* The background is the default theme color */\n",
       "  color: var(--sklearn-color-text-on-default-background);\n",
       "}\n",
       "\n",
       "/* On hover, darken the color of the background */\n",
       "#sk-container-id-1 div.sk-label:hover label.sk-toggleable__label {\n",
       "  color: var(--sklearn-color-text);\n",
       "  background-color: var(--sklearn-color-unfitted-level-2);\n",
       "}\n",
       "\n",
       "/* Label box, darken color on hover, fitted */\n",
       "#sk-container-id-1 div.sk-label.fitted:hover label.sk-toggleable__label.fitted {\n",
       "  color: var(--sklearn-color-text);\n",
       "  background-color: var(--sklearn-color-fitted-level-2);\n",
       "}\n",
       "\n",
       "/* Estimator label */\n",
       "\n",
       "#sk-container-id-1 div.sk-label label {\n",
       "  font-family: monospace;\n",
       "  font-weight: bold;\n",
       "  display: inline-block;\n",
       "  line-height: 1.2em;\n",
       "}\n",
       "\n",
       "#sk-container-id-1 div.sk-label-container {\n",
       "  text-align: center;\n",
       "}\n",
       "\n",
       "/* Estimator-specific */\n",
       "#sk-container-id-1 div.sk-estimator {\n",
       "  font-family: monospace;\n",
       "  border: 1px dotted var(--sklearn-color-border-box);\n",
       "  border-radius: 0.25em;\n",
       "  box-sizing: border-box;\n",
       "  margin-bottom: 0.5em;\n",
       "  /* unfitted */\n",
       "  background-color: var(--sklearn-color-unfitted-level-0);\n",
       "}\n",
       "\n",
       "#sk-container-id-1 div.sk-estimator.fitted {\n",
       "  /* fitted */\n",
       "  background-color: var(--sklearn-color-fitted-level-0);\n",
       "}\n",
       "\n",
       "/* on hover */\n",
       "#sk-container-id-1 div.sk-estimator:hover {\n",
       "  /* unfitted */\n",
       "  background-color: var(--sklearn-color-unfitted-level-2);\n",
       "}\n",
       "\n",
       "#sk-container-id-1 div.sk-estimator.fitted:hover {\n",
       "  /* fitted */\n",
       "  background-color: var(--sklearn-color-fitted-level-2);\n",
       "}\n",
       "\n",
       "/* Specification for estimator info (e.g. \"i\" and \"?\") */\n",
       "\n",
       "/* Common style for \"i\" and \"?\" */\n",
       "\n",
       ".sk-estimator-doc-link,\n",
       "a:link.sk-estimator-doc-link,\n",
       "a:visited.sk-estimator-doc-link {\n",
       "  float: right;\n",
       "  font-size: smaller;\n",
       "  line-height: 1em;\n",
       "  font-family: monospace;\n",
       "  background-color: var(--sklearn-color-background);\n",
       "  border-radius: 1em;\n",
       "  height: 1em;\n",
       "  width: 1em;\n",
       "  text-decoration: none !important;\n",
       "  margin-left: 1ex;\n",
       "  /* unfitted */\n",
       "  border: var(--sklearn-color-unfitted-level-1) 1pt solid;\n",
       "  color: var(--sklearn-color-unfitted-level-1);\n",
       "}\n",
       "\n",
       ".sk-estimator-doc-link.fitted,\n",
       "a:link.sk-estimator-doc-link.fitted,\n",
       "a:visited.sk-estimator-doc-link.fitted {\n",
       "  /* fitted */\n",
       "  border: var(--sklearn-color-fitted-level-1) 1pt solid;\n",
       "  color: var(--sklearn-color-fitted-level-1);\n",
       "}\n",
       "\n",
       "/* On hover */\n",
       "div.sk-estimator:hover .sk-estimator-doc-link:hover,\n",
       ".sk-estimator-doc-link:hover,\n",
       "div.sk-label-container:hover .sk-estimator-doc-link:hover,\n",
       ".sk-estimator-doc-link:hover {\n",
       "  /* unfitted */\n",
       "  background-color: var(--sklearn-color-unfitted-level-3);\n",
       "  color: var(--sklearn-color-background);\n",
       "  text-decoration: none;\n",
       "}\n",
       "\n",
       "div.sk-estimator.fitted:hover .sk-estimator-doc-link.fitted:hover,\n",
       ".sk-estimator-doc-link.fitted:hover,\n",
       "div.sk-label-container:hover .sk-estimator-doc-link.fitted:hover,\n",
       ".sk-estimator-doc-link.fitted:hover {\n",
       "  /* fitted */\n",
       "  background-color: var(--sklearn-color-fitted-level-3);\n",
       "  color: var(--sklearn-color-background);\n",
       "  text-decoration: none;\n",
       "}\n",
       "\n",
       "/* Span, style for the box shown on hovering the info icon */\n",
       ".sk-estimator-doc-link span {\n",
       "  display: none;\n",
       "  z-index: 9999;\n",
       "  position: relative;\n",
       "  font-weight: normal;\n",
       "  right: .2ex;\n",
       "  padding: .5ex;\n",
       "  margin: .5ex;\n",
       "  width: min-content;\n",
       "  min-width: 20ex;\n",
       "  max-width: 50ex;\n",
       "  color: var(--sklearn-color-text);\n",
       "  box-shadow: 2pt 2pt 4pt #999;\n",
       "  /* unfitted */\n",
       "  background: var(--sklearn-color-unfitted-level-0);\n",
       "  border: .5pt solid var(--sklearn-color-unfitted-level-3);\n",
       "}\n",
       "\n",
       ".sk-estimator-doc-link.fitted span {\n",
       "  /* fitted */\n",
       "  background: var(--sklearn-color-fitted-level-0);\n",
       "  border: var(--sklearn-color-fitted-level-3);\n",
       "}\n",
       "\n",
       ".sk-estimator-doc-link:hover span {\n",
       "  display: block;\n",
       "}\n",
       "\n",
       "/* \"?\"-specific style due to the `<a>` HTML tag */\n",
       "\n",
       "#sk-container-id-1 a.estimator_doc_link {\n",
       "  float: right;\n",
       "  font-size: 1rem;\n",
       "  line-height: 1em;\n",
       "  font-family: monospace;\n",
       "  background-color: var(--sklearn-color-background);\n",
       "  border-radius: 1rem;\n",
       "  height: 1rem;\n",
       "  width: 1rem;\n",
       "  text-decoration: none;\n",
       "  /* unfitted */\n",
       "  color: var(--sklearn-color-unfitted-level-1);\n",
       "  border: var(--sklearn-color-unfitted-level-1) 1pt solid;\n",
       "}\n",
       "\n",
       "#sk-container-id-1 a.estimator_doc_link.fitted {\n",
       "  /* fitted */\n",
       "  border: var(--sklearn-color-fitted-level-1) 1pt solid;\n",
       "  color: var(--sklearn-color-fitted-level-1);\n",
       "}\n",
       "\n",
       "/* On hover */\n",
       "#sk-container-id-1 a.estimator_doc_link:hover {\n",
       "  /* unfitted */\n",
       "  background-color: var(--sklearn-color-unfitted-level-3);\n",
       "  color: var(--sklearn-color-background);\n",
       "  text-decoration: none;\n",
       "}\n",
       "\n",
       "#sk-container-id-1 a.estimator_doc_link.fitted:hover {\n",
       "  /* fitted */\n",
       "  background-color: var(--sklearn-color-fitted-level-3);\n",
       "}\n",
       "</style><div id=\"sk-container-id-1\" class=\"sk-top-container\"><div class=\"sk-text-repr-fallback\"><pre>LogisticRegression(max_iter=1000)</pre><b>In a Jupyter environment, please rerun this cell to show the HTML representation or trust the notebook. <br />On GitHub, the HTML representation is unable to render, please try loading this page with nbviewer.org.</b></div><div class=\"sk-container\" hidden><div class=\"sk-item\"><div class=\"sk-estimator fitted sk-toggleable\"><input class=\"sk-toggleable__control sk-hidden--visually\" id=\"sk-estimator-id-1\" type=\"checkbox\" checked><label for=\"sk-estimator-id-1\" class=\"sk-toggleable__label fitted sk-toggleable__label-arrow fitted\">&nbsp;LogisticRegression<span class=\"sk-estimator-doc-link fitted\">i<span>Fitted</span></span></label><div class=\"sk-toggleable__content fitted\"><pre>LogisticRegression(max_iter=1000)</pre></div> </div></div></div></div>"
      ],
      "text/plain": [
       "LogisticRegression(max_iter=1000)"
      ]
     },
     "execution_count": 20,
     "metadata": {},
     "output_type": "execute_result"
    }
   ],
   "source": [
    "from sklearn.linear_model import LogisticRegression\n",
    "logisticReg = LogisticRegression(max_iter=1000)\n",
    "logisticReg.fit(x_train, y_train)"
   ]
  },
  {
   "cell_type": "markdown",
   "metadata": {
    "id": "T_dm1T2CE-Hl"
   },
   "source": [
    "### Problem 9: Score the Model\n",
    "\n",
    "What is the accuracy of your model?"
   ]
  },
  {
   "cell_type": "code",
   "execution_count": 21,
   "metadata": {
    "ExecuteTime": {
     "end_time": "2024-04-22T01:51:33.529387Z",
     "start_time": "2024-04-22T01:51:33.487039Z"
    },
    "colab": {
     "base_uri": "https://localhost:8080/"
    },
    "id": "6aVIuPJmE-Hl",
    "outputId": "ccf1bd03-997f-44f7-90bb-d61ba275ab13"
   },
   "outputs": [
    {
     "name": "stdout",
     "output_type": "stream",
     "text": [
      "Logistic regression train score: 0.8891910265125765\n",
      "Logistic regression test score: 0.8818102359910653\n"
     ]
    }
   ],
   "source": [
    "y_pred_train_lr = logisticReg.predict(x_train)\n",
    "y_pred_test_lr = logisticReg.predict(x_test)\n",
    "\n",
    "print(f'Logistic regression train score: {accuracy_score(y_train, y_pred_train_lr)}')\n",
    "print(f'Logistic regression test score: {accuracy_score(y_test, y_pred_test_lr)}')"
   ]
  },
  {
   "cell_type": "markdown",
   "metadata": {
    "id": "a5JWFLsgE-Hl"
   },
   "source": [
    "### Problem 10: Model Comparisons\n",
    "\n",
    "Now, we aim to compare the performance of the Logistic Regression model to our KNN algorithm, Decision Tree, and SVM models.  Using the default settings for each of the models, fit and score each.  Also, be sure to compare the fit time of each of the models.  Present your findings in a `DataFrame` similar to that below:\n",
    "\n",
    "| Model | Train Time | Train Accuracy | Test Accuracy |\n",
    "| ----- | ---------- | -------------  | -----------   |\n",
    "|     |    |.     |.     |"
   ]
  },
  {
   "cell_type": "code",
   "execution_count": 22,
   "metadata": {
    "ExecuteTime": {
     "end_time": "2024-04-22T01:53:10.421533Z",
     "start_time": "2024-04-22T01:51:43.934674Z"
    },
    "id": "yoWEebm8E-Hm"
   },
   "outputs": [
    {
     "name": "stdout",
     "output_type": "stream",
     "text": [
      "Analyzing model:  Logistic Regression\n",
      "              precision    recall  f1-score   support\n",
      "\n",
      "           0       0.89      1.00      0.94     10973\n",
      "\n",
      "   micro avg       0.89      1.00      0.94     10973\n",
      "   macro avg       0.89      1.00      0.94     10973\n",
      "weighted avg       0.89      1.00      0.94     10973\n",
      "\n",
      "Analyzing model:  SVM\n",
      "              precision    recall  f1-score   support\n",
      "\n",
      "           0       0.89      1.00      0.94     10973\n",
      "           1       0.50      0.01      0.02      1384\n",
      "\n",
      "    accuracy                           0.89     12357\n",
      "   macro avg       0.69      0.51      0.48     12357\n",
      "weighted avg       0.85      0.89      0.84     12357\n",
      "\n",
      "Analyzing model:  KNN\n",
      "              precision    recall  f1-score   support\n",
      "\n",
      "           0       0.89      0.98      0.93     10973\n",
      "           1       0.30      0.08      0.13      1384\n",
      "\n",
      "    accuracy                           0.88     12357\n",
      "   macro avg       0.60      0.53      0.53     12357\n",
      "weighted avg       0.83      0.88      0.84     12357\n",
      "\n",
      "Analyzing model:  Decision Tree\n",
      "              precision    recall  f1-score   support\n",
      "\n",
      "           0       0.89      0.95      0.92     10973\n",
      "           1       0.20      0.10      0.13      1384\n",
      "\n",
      "    accuracy                           0.85     12357\n",
      "   macro avg       0.55      0.52      0.53     12357\n",
      "weighted avg       0.82      0.85      0.83     12357\n",
      "\n",
      "                     train_time  train_accuracy  test_accuracy  train_f1  \\\n",
      "Model                                                                      \n",
      "Logistic Regression    0.353567        0.887031       0.887999  0.833961   \n",
      "SVM                   45.933810        0.887898       0.887999  0.838445   \n",
      "KNN                    0.022820        0.892095       0.875941  0.864975   \n",
      "Decision Tree          0.127863        0.927543       0.854657  0.913717   \n",
      "\n",
      "                      test_f1  \n",
      "Model                          \n",
      "Logistic Regression  0.940677  \n",
      "SVM                  0.837929  \n",
      "KNN                  0.843191  \n",
      "Decision Tree        0.832129  \n"
     ]
    }
   ],
   "source": [
    "# Create a dictionary to store the results\n",
    "results = {}\n",
    "\n",
    "x_train, x_test, y_train, y_test = train_test_split(df_tr, df['y'], test_size=0.3)\n",
    "\n",
    "# Models to test\n",
    "models = [\n",
    "    {\n",
    "        'model': LogisticRegression(max_iter=1000),\n",
    "        'key': 'Logistic Regression'\n",
    "    },\n",
    "    {\n",
    "        'model': SVC(),\n",
    "        'key': 'SVM'\n",
    "    },\n",
    "    {\n",
    "        'model': KNeighborsClassifier(),\n",
    "        'key': 'KNN'\n",
    "    },\n",
    "    {\n",
    "        'model': DecisionTreeClassifier(),\n",
    "        'key': 'Decision Tree'\n",
    "    },\n",
    "]\n",
    "\n",
    "# fit model and calc accuracy and f1\n",
    "for model in models:\n",
    "    print('Analyzing model: ', model['key'])\n",
    "    mdl = model['model']\n",
    "    start_t = time.time()\n",
    "    mdl.fit(x_train, y_train)\n",
    "    end_t = time.time()\n",
    "    y_pred_train = mdl.predict(x_train)\n",
    "    y_pred_test = mdl.predict(x_test)\n",
    "    key = model['key']\n",
    "    results[key] = {\n",
    "        'train_time': end_t - start_t,\n",
    "        'train_accuracy': accuracy_score(y_train, y_pred_train),\n",
    "        'test_accuracy': accuracy_score(y_test, y_pred_test),\n",
    "        'train_f1': f1_score(y_train, y_pred_train, average='weighted', labels=np.unique(y_pred_train)),\n",
    "        'test_f1': f1_score(y_test, y_pred_test, average='weighted', labels=np.unique(y_pred_test))\n",
    "    }\n",
    "    print(classification_report(y_test, y_pred_test, labels=np.unique(y_pred_test)))\n",
    "\n",
    "# Create a DataFrame to display results\n",
    "df_results = pd.DataFrame(results).transpose()\n",
    "df_results.index.name = 'Model'\n",
    "print(df_results)"
   ]
  },
  {
   "cell_type": "markdown",
   "metadata": {},
   "source": [
    "In **imbalanced** data sets as the one that we're analyzing we **should focus on f1 score**, and less on accuracy"
   ]
  },
  {
   "cell_type": "code",
   "execution_count": 23,
   "metadata": {
    "ExecuteTime": {
     "end_time": "2024-04-21T21:17:36.086901Z",
     "start_time": "2024-04-21T21:17:35.955728Z"
    },
    "colab": {
     "base_uri": "https://localhost:8080/",
     "height": 506
    },
    "id": "K35FZVsdE-Hm",
    "outputId": "5289e3bb-9b97-4c91-9424-7efe633b62cf"
   },
   "outputs": [
    {
     "data": {
      "image/svg+xml": [
       "<svg class=\"main-svg\" xmlns=\"http://www.w3.org/2000/svg\" xmlns:xlink=\"http://www.w3.org/1999/xlink\" width=\"900\" height=\"400\" style=\"\" viewBox=\"0 0 900 400\"><rect x=\"0\" y=\"0\" width=\"900\" height=\"400\" style=\"fill: rgb(255, 255, 255); fill-opacity: 1;\"/><defs id=\"defs-3aadc6\"><g class=\"clips\"><clipPath id=\"clip3aadc6xyplot\" class=\"plotclip\"><rect width=\"645\" height=\"260\"/></clipPath><clipPath class=\"axesclip\" id=\"clip3aadc6x\"><rect x=\"80\" y=\"0\" width=\"645\" height=\"400\"/></clipPath><clipPath class=\"axesclip\" id=\"clip3aadc6y\"><rect x=\"0\" y=\"60\" width=\"900\" height=\"260\"/></clipPath><clipPath class=\"axesclip\" id=\"clip3aadc6xy\"><rect x=\"80\" y=\"60\" width=\"645\" height=\"260\"/></clipPath></g><g class=\"gradients\"/><g class=\"patterns\"/></defs><g class=\"bglayer\"><rect class=\"bg\" x=\"80\" y=\"60\" width=\"645\" height=\"260\" style=\"fill: rgb(229, 236, 246); fill-opacity: 1; stroke-width: 0;\"/></g><g class=\"layer-below\"><g class=\"imagelayer\"/><g class=\"shapelayer\"/></g><g class=\"cartesianlayer\"><g class=\"subplot xy\"><g class=\"layer-subplot\"><g class=\"shapelayer\"/><g class=\"imagelayer\"/></g><g class=\"minor-gridlayer\"><g class=\"x\"/><g class=\"y\"/></g><g class=\"gridlayer\"><g class=\"x\"/><g class=\"y\"><path class=\"ygrid crisp\" transform=\"translate(0,267.48)\" d=\"M80,0h645\" style=\"stroke: rgb(255, 255, 255); stroke-opacity: 1; stroke-width: 1px;\"/><path class=\"ygrid crisp\" transform=\"translate(0,214.97)\" d=\"M80,0h645\" style=\"stroke: rgb(255, 255, 255); stroke-opacity: 1; stroke-width: 1px;\"/><path class=\"ygrid crisp\" transform=\"translate(0,162.45)\" d=\"M80,0h645\" style=\"stroke: rgb(255, 255, 255); stroke-opacity: 1; stroke-width: 1px;\"/><path class=\"ygrid crisp\" transform=\"translate(0,109.94)\" d=\"M80,0h645\" style=\"stroke: rgb(255, 255, 255); stroke-opacity: 1; stroke-width: 1px;\"/></g></g><g class=\"zerolinelayer\"><path class=\"yzl zl crisp\" transform=\"translate(0,320)\" d=\"M80,0h645\" style=\"stroke: rgb(255, 255, 255); stroke-opacity: 1; stroke-width: 2px;\"/></g><path class=\"xlines-below\"/><path class=\"ylines-below\"/><g class=\"overlines-below\"/><g class=\"xaxislayer-below\"/><g class=\"yaxislayer-below\"/><g class=\"overaxes-below\"/><g class=\"plot\" transform=\"translate(80,60)\" clip-path=\"url(#clip3aadc6xyplot)\"><g class=\"barlayer mlayer\"><g class=\"trace bars\" style=\"opacity: 1;\"><g class=\"points\"><g class=\"point\"><path d=\"M16.13,260V13H145.13V260Z\" style=\"vector-effect: none; opacity: 1; stroke-width: 0.5px; fill: rgb(99, 110, 250); fill-opacity: 1; stroke: rgb(229, 236, 246); stroke-opacity: 1;\"/><text class=\"bartext bartext-inside\" text-anchor=\"middle\" data-notex=\"1\" x=\"0\" y=\"0\" style=\"font-family: 'Open Sans', verdana, arial, sans-serif; font-size: 12px; fill: rgb(255, 255, 255); fill-opacity: 1; white-space: pre;\" transform=\"translate(80.4659375,27)\">0.941</text></g></g></g><g class=\"trace bars\" style=\"opacity: 1;\"><g class=\"points\"><g class=\"point\"><path d=\"M177.38,260V39.98H306.38V260Z\" style=\"vector-effect: none; opacity: 1; stroke-width: 0.5px; fill: rgb(239, 85, 59); fill-opacity: 1; stroke: rgb(229, 236, 246); stroke-opacity: 1;\"/><text class=\"bartext bartext-inside\" text-anchor=\"middle\" data-notex=\"1\" x=\"0\" y=\"0\" style=\"font-family: 'Open Sans', verdana, arial, sans-serif; font-size: 12px; fill: rgb(68, 68, 68); fill-opacity: 1; white-space: pre;\" transform=\"translate(241.7159375,53.98)\">0.838</text></g></g></g><g class=\"trace bars\" style=\"opacity: 1;\"><g class=\"points\"><g class=\"point\"><path d=\"M338.63,260V38.6H467.63V260Z\" style=\"vector-effect: none; opacity: 1; stroke-width: 0.5px; fill: rgb(0, 204, 150); fill-opacity: 1; stroke: rgb(229, 236, 246); stroke-opacity: 1;\"/><text class=\"bartext bartext-inside\" text-anchor=\"middle\" data-notex=\"1\" x=\"0\" y=\"0\" style=\"font-family: 'Open Sans', verdana, arial, sans-serif; font-size: 12px; fill: rgb(68, 68, 68); fill-opacity: 1; white-space: pre;\" transform=\"translate(402.9659375,52.6)\">0.843</text></g></g></g><g class=\"trace bars\" style=\"opacity: 1;\"><g class=\"points\"><g class=\"point\"><path d=\"M499.88,260V41.5H628.88V260Z\" style=\"vector-effect: none; opacity: 1; stroke-width: 0.5px; fill: rgb(171, 99, 250); fill-opacity: 1; stroke: rgb(229, 236, 246); stroke-opacity: 1;\"/><text class=\"bartext bartext-inside\" text-anchor=\"middle\" data-notex=\"1\" x=\"0\" y=\"0\" style=\"font-family: 'Open Sans', verdana, arial, sans-serif; font-size: 12px; fill: rgb(68, 68, 68); fill-opacity: 1; white-space: pre;\" transform=\"translate(564.2159375,55.5)\">0.832</text></g></g></g></g></g><g class=\"overplot\"/><path class=\"xlines-above crisp\" d=\"M0,0\" style=\"fill: none;\"/><path class=\"ylines-above crisp\" d=\"M0,0\" style=\"fill: none;\"/><g class=\"overlines-above\"/><g class=\"xaxislayer-above\"><g class=\"xtick\"><text text-anchor=\"middle\" x=\"0\" y=\"333\" transform=\"translate(160.63,0)\" style=\"font-family: 'Open Sans', verdana, arial, sans-serif; font-size: 12px; fill: rgb(42, 63, 95); fill-opacity: 1; white-space: pre; opacity: 1;\">Logistic Regression</text></g><g class=\"xtick\"><text text-anchor=\"middle\" x=\"0\" y=\"333\" transform=\"translate(321.88,0)\" style=\"font-family: 'Open Sans', verdana, arial, sans-serif; font-size: 12px; fill: rgb(42, 63, 95); fill-opacity: 1; white-space: pre; opacity: 1;\">SVM</text></g><g class=\"xtick\"><text text-anchor=\"middle\" x=\"0\" y=\"333\" transform=\"translate(483.13,0)\" style=\"font-family: 'Open Sans', verdana, arial, sans-serif; font-size: 12px; fill: rgb(42, 63, 95); fill-opacity: 1; white-space: pre; opacity: 1;\">KNN</text></g><g class=\"xtick\"><text text-anchor=\"middle\" x=\"0\" y=\"333\" transform=\"translate(644.38,0)\" style=\"font-family: 'Open Sans', verdana, arial, sans-serif; font-size: 12px; fill: rgb(42, 63, 95); fill-opacity: 1; white-space: pre; opacity: 1;\">Decision Tree</text></g></g><g class=\"yaxislayer-above\"><g class=\"ytick\"><text text-anchor=\"end\" x=\"79\" y=\"4.199999999999999\" transform=\"translate(0,320)\" style=\"font-family: 'Open Sans', verdana, arial, sans-serif; font-size: 12px; fill: rgb(42, 63, 95); fill-opacity: 1; white-space: pre; opacity: 1;\">0</text></g><g class=\"ytick\"><text text-anchor=\"end\" x=\"79\" y=\"4.199999999999999\" style=\"font-family: 'Open Sans', verdana, arial, sans-serif; font-size: 12px; fill: rgb(42, 63, 95); fill-opacity: 1; white-space: pre; opacity: 1;\" transform=\"translate(0,267.48)\">0.2</text></g><g class=\"ytick\"><text text-anchor=\"end\" x=\"79\" y=\"4.199999999999999\" style=\"font-family: 'Open Sans', verdana, arial, sans-serif; font-size: 12px; fill: rgb(42, 63, 95); fill-opacity: 1; white-space: pre; opacity: 1;\" transform=\"translate(0,214.97)\">0.4</text></g><g class=\"ytick\"><text text-anchor=\"end\" x=\"79\" y=\"4.199999999999999\" style=\"font-family: 'Open Sans', verdana, arial, sans-serif; font-size: 12px; fill: rgb(42, 63, 95); fill-opacity: 1; white-space: pre; opacity: 1;\" transform=\"translate(0,162.45)\">0.6</text></g><g class=\"ytick\"><text text-anchor=\"end\" x=\"79\" y=\"4.199999999999999\" style=\"font-family: 'Open Sans', verdana, arial, sans-serif; font-size: 12px; fill: rgb(42, 63, 95); fill-opacity: 1; white-space: pre; opacity: 1;\" transform=\"translate(0,109.94)\">0.8</text></g></g><g class=\"overaxes-above\"/></g></g><g class=\"polarlayer\"/><g class=\"smithlayer\"/><g class=\"ternarylayer\"/><g class=\"geolayer\"/><g class=\"funnelarealayer\"/><g class=\"pielayer\"/><g class=\"iciclelayer\"/><g class=\"treemaplayer\"/><g class=\"sunburstlayer\"/><g class=\"glimages\"/><defs id=\"topdefs-3aadc6\"><g class=\"clips\"/><clipPath id=\"legend3aadc6\"><rect width=\"150\" height=\"105\" x=\"0\" y=\"0\"/></clipPath></defs><g class=\"layer-above\"><g class=\"imagelayer\"/><g class=\"shapelayer\"/></g><g class=\"infolayer\"><g class=\"legend\" pointer-events=\"all\" transform=\"translate(737.9,60)\"><rect class=\"bg\" shape-rendering=\"crispEdges\" style=\"stroke: rgb(68, 68, 68); stroke-opacity: 1; fill: rgb(255, 255, 255); fill-opacity: 1; stroke-width: 0px;\" width=\"150\" height=\"105\" x=\"0\" y=\"0\"/><g class=\"scrollbox\" transform=\"\" clip-path=\"url(#legend3aadc6)\"><text class=\"legendtitletext\" text-anchor=\"start\" x=\"2\" y=\"18.2\" style=\"font-family: 'Open Sans', verdana, arial, sans-serif; font-size: 14px; fill: rgb(42, 63, 95); fill-opacity: 1; white-space: pre;\">Model</text><g class=\"groups\" transform=\"\"><g class=\"traces\" transform=\"translate(0,32.7)\" style=\"opacity: 1;\"><text class=\"legendtext\" text-anchor=\"start\" x=\"40\" y=\"4.680000000000001\" style=\"font-family: 'Open Sans', verdana, arial, sans-serif; font-size: 12px; fill: rgb(42, 63, 95); fill-opacity: 1; white-space: pre;\">Logistic Regression</text><g class=\"layers\" style=\"opacity: 1;\"><g class=\"legendfill\"/><g class=\"legendlines\"/><g class=\"legendsymbols\"><g class=\"legendpoints\"><path class=\"legendundefined\" d=\"M6,6H-6V-6H6Z\" transform=\"translate(20,0)\" style=\"stroke-width: 0.5px; fill: rgb(99, 110, 250); fill-opacity: 1; stroke: rgb(229, 236, 246); stroke-opacity: 1;\"/></g></g></g><rect class=\"legendtoggle\" x=\"0\" y=\"-9.5\" width=\"144.71875\" height=\"19\" style=\"fill: rgb(0, 0, 0); fill-opacity: 0;\"/></g></g><g class=\"groups\" transform=\"\"><g class=\"traces\" transform=\"translate(0,51.7)\" style=\"opacity: 1;\"><text class=\"legendtext\" text-anchor=\"start\" x=\"40\" y=\"4.680000000000001\" style=\"font-family: 'Open Sans', verdana, arial, sans-serif; font-size: 12px; fill: rgb(42, 63, 95); fill-opacity: 1; white-space: pre;\">SVM</text><g class=\"layers\" style=\"opacity: 1;\"><g class=\"legendfill\"/><g class=\"legendlines\"/><g class=\"legendsymbols\"><g class=\"legendpoints\"><path class=\"legendundefined\" d=\"M6,6H-6V-6H6Z\" transform=\"translate(20,0)\" style=\"stroke-width: 0.5px; fill: rgb(239, 85, 59); fill-opacity: 1; stroke: rgb(229, 236, 246); stroke-opacity: 1;\"/></g></g></g><rect class=\"legendtoggle\" x=\"0\" y=\"-9.5\" width=\"144.71875\" height=\"19\" style=\"fill: rgb(0, 0, 0); fill-opacity: 0;\"/></g></g><g class=\"groups\" transform=\"\"><g class=\"traces\" transform=\"translate(0,70.7)\" style=\"opacity: 1;\"><text class=\"legendtext\" text-anchor=\"start\" x=\"40\" y=\"4.680000000000001\" style=\"font-family: 'Open Sans', verdana, arial, sans-serif; font-size: 12px; fill: rgb(42, 63, 95); fill-opacity: 1; white-space: pre;\">KNN</text><g class=\"layers\" style=\"opacity: 1;\"><g class=\"legendfill\"/><g class=\"legendlines\"/><g class=\"legendsymbols\"><g class=\"legendpoints\"><path class=\"legendundefined\" d=\"M6,6H-6V-6H6Z\" transform=\"translate(20,0)\" style=\"stroke-width: 0.5px; fill: rgb(0, 204, 150); fill-opacity: 1; stroke: rgb(229, 236, 246); stroke-opacity: 1;\"/></g></g></g><rect class=\"legendtoggle\" x=\"0\" y=\"-9.5\" width=\"144.71875\" height=\"19\" style=\"fill: rgb(0, 0, 0); fill-opacity: 0;\"/></g></g><g class=\"groups\" transform=\"\"><g class=\"traces\" transform=\"translate(0,89.7)\" style=\"opacity: 1;\"><text class=\"legendtext\" text-anchor=\"start\" x=\"40\" y=\"4.680000000000001\" style=\"font-family: 'Open Sans', verdana, arial, sans-serif; font-size: 12px; fill: rgb(42, 63, 95); fill-opacity: 1; white-space: pre;\">Decision Tree</text><g class=\"layers\" style=\"opacity: 1;\"><g class=\"legendfill\"/><g class=\"legendlines\"/><g class=\"legendsymbols\"><g class=\"legendpoints\"><path class=\"legendundefined\" d=\"M6,6H-6V-6H6Z\" transform=\"translate(20,0)\" style=\"stroke-width: 0.5px; fill: rgb(171, 99, 250); fill-opacity: 1; stroke: rgb(229, 236, 246); stroke-opacity: 1;\"/></g></g></g><rect class=\"legendtoggle\" x=\"0\" y=\"-9.5\" width=\"144.71875\" height=\"19\" style=\"fill: rgb(0, 0, 0); fill-opacity: 0;\"/></g></g></g><rect class=\"scrollbar\" rx=\"20\" ry=\"3\" width=\"0\" height=\"0\" style=\"fill: rgb(128, 139, 164); fill-opacity: 1;\" x=\"0\" y=\"0\"/></g><g class=\"g-gtitle\"><text class=\"gtitle\" x=\"360\" y=\"20\" text-anchor=\"middle\" dy=\"0.7em\" style=\"font-family: 'Open Sans', verdana, arial, sans-serif; font-size: 17px; fill: rgb(42, 63, 95); opacity: 1; font-weight: normal; white-space: pre;\">Comparing Basic Calssification Models f1</text></g><g class=\"g-xtitle\"><text class=\"xtitle\" x=\"402.5\" y=\"360.3\" text-anchor=\"middle\" style=\"font-family: 'Open Sans', verdana, arial, sans-serif; font-size: 14px; fill: rgb(42, 63, 95); opacity: 1; font-weight: normal; white-space: pre;\">Models</text></g><g class=\"g-ytitle\"><text class=\"ytitle\" transform=\"rotate(-90,38.0125,190)\" x=\"38.0125\" y=\"190\" text-anchor=\"middle\" style=\"font-family: 'Open Sans', verdana, arial, sans-serif; font-size: 14px; fill: rgb(42, 63, 95); opacity: 1; font-weight: normal; white-space: pre;\">F1 Test Score</text></g></g></svg>"
      ]
     },
     "metadata": {},
     "output_type": "display_data"
    }
   ],
   "source": [
    "fig = px.bar(df_results, x=df_results.index, y='test_f1', text_auto='.3f',\n",
    "             color=df_results.index, width=900, height=400)\n",
    "fig.update_layout(title='Comparing Basic Calssification Models f1',\n",
    "                  title_x=0.4, title_y=0.95,\n",
    "                  yaxis_title='F1 Test Score',\n",
    "                  xaxis_title='Models')\n",
    "fig.show()"
   ]
  },
  {
   "cell_type": "markdown",
   "metadata": {
    "id": "8_xufCrZHo0A"
   },
   "source": [
    "We can see that Logistic Regration performed better (0.94 f1 score) than better the rest of the models (0.83-0.84)."
   ]
  },
  {
   "cell_type": "markdown",
   "metadata": {
    "id": "7decG7bbE-Hm"
   },
   "source": [
    "### Problem 11: Improving the Model\n",
    "\n",
    "Now that we have some basic models on the board, we want to try to improve these.  Below, we list a few things to explore in this pursuit.\n",
    "\n",
    "- More feature engineering and exploration.  For example, should we keep the gender feature?  Why or why not?\n",
    "- Hyperparameter tuning and grid search.  All of our models have additional hyperparameters to tune and explore.  \n",
    "For example the number of neighbors in KNN or the maximum depth of a Decision Tree.  \n",
    "- Adjust your performance metric\n"
   ]
  },
  {
   "cell_type": "code",
   "execution_count": 35,
   "metadata": {
    "ExecuteTime": {
     "end_time": "2024-04-21T21:19:21.451881Z",
     "start_time": "2024-04-21T21:19:21.380337Z"
    }
   },
   "outputs": [
    {
     "name": "stdout",
     "output_type": "stream",
     "text": [
      "Index(['pdays', 'previous', 'emp.var.rate', 'euribor3m', 'nr.employed', 'y'], dtype='object')\n",
      "(41188, 36)\n"
     ]
    },
    {
     "data": {
      "text/html": [
       "<div>\n",
       "<style scoped>\n",
       "    .dataframe tbody tr th:only-of-type {\n",
       "        vertical-align: middle;\n",
       "    }\n",
       "\n",
       "    .dataframe tbody tr th {\n",
       "        vertical-align: top;\n",
       "    }\n",
       "\n",
       "    .dataframe thead th {\n",
       "        text-align: right;\n",
       "    }\n",
       "</style>\n",
       "<table border=\"1\" class=\"dataframe\">\n",
       "  <thead>\n",
       "    <tr style=\"text-align: right;\">\n",
       "      <th></th>\n",
       "      <th>pdays</th>\n",
       "      <th>previous</th>\n",
       "      <th>emp.var.rate</th>\n",
       "      <th>euribor3m</th>\n",
       "      <th>nr.employed</th>\n",
       "      <th>y</th>\n",
       "      <th>age</th>\n",
       "      <th>job_admin.</th>\n",
       "      <th>job_blue-collar</th>\n",
       "      <th>job_entrepreneur</th>\n",
       "      <th>...</th>\n",
       "      <th>housing_unknown</th>\n",
       "      <th>housing_yes</th>\n",
       "      <th>loan_no</th>\n",
       "      <th>loan_unknown</th>\n",
       "      <th>loan_yes</th>\n",
       "      <th>contact_cellular</th>\n",
       "      <th>contact_telephone</th>\n",
       "      <th>default_no</th>\n",
       "      <th>default_unknown</th>\n",
       "      <th>default_yes</th>\n",
       "    </tr>\n",
       "    <tr>\n",
       "      <th>index</th>\n",
       "      <th></th>\n",
       "      <th></th>\n",
       "      <th></th>\n",
       "      <th></th>\n",
       "      <th></th>\n",
       "      <th></th>\n",
       "      <th></th>\n",
       "      <th></th>\n",
       "      <th></th>\n",
       "      <th></th>\n",
       "      <th></th>\n",
       "      <th></th>\n",
       "      <th></th>\n",
       "      <th></th>\n",
       "      <th></th>\n",
       "      <th></th>\n",
       "      <th></th>\n",
       "      <th></th>\n",
       "      <th></th>\n",
       "      <th></th>\n",
       "      <th></th>\n",
       "    </tr>\n",
       "  </thead>\n",
       "  <tbody>\n",
       "    <tr>\n",
       "      <th>0</th>\n",
       "      <td>0.195414</td>\n",
       "      <td>-0.349494</td>\n",
       "      <td>0.648092</td>\n",
       "      <td>0.71246</td>\n",
       "      <td>0.33168</td>\n",
       "      <td>-0.356309</td>\n",
       "      <td>1.533034</td>\n",
       "      <td>0</td>\n",
       "      <td>0</td>\n",
       "      <td>0</td>\n",
       "      <td>...</td>\n",
       "      <td>0</td>\n",
       "      <td>0</td>\n",
       "      <td>1</td>\n",
       "      <td>0</td>\n",
       "      <td>0</td>\n",
       "      <td>0</td>\n",
       "      <td>1</td>\n",
       "      <td>1</td>\n",
       "      <td>0</td>\n",
       "      <td>0</td>\n",
       "    </tr>\n",
       "    <tr>\n",
       "      <th>1</th>\n",
       "      <td>0.195414</td>\n",
       "      <td>-0.349494</td>\n",
       "      <td>0.648092</td>\n",
       "      <td>0.71246</td>\n",
       "      <td>0.33168</td>\n",
       "      <td>-0.356309</td>\n",
       "      <td>1.628993</td>\n",
       "      <td>0</td>\n",
       "      <td>0</td>\n",
       "      <td>0</td>\n",
       "      <td>...</td>\n",
       "      <td>0</td>\n",
       "      <td>0</td>\n",
       "      <td>1</td>\n",
       "      <td>0</td>\n",
       "      <td>0</td>\n",
       "      <td>0</td>\n",
       "      <td>1</td>\n",
       "      <td>0</td>\n",
       "      <td>1</td>\n",
       "      <td>0</td>\n",
       "    </tr>\n",
       "    <tr>\n",
       "      <th>2</th>\n",
       "      <td>0.195414</td>\n",
       "      <td>-0.349494</td>\n",
       "      <td>0.648092</td>\n",
       "      <td>0.71246</td>\n",
       "      <td>0.33168</td>\n",
       "      <td>-0.356309</td>\n",
       "      <td>-0.290186</td>\n",
       "      <td>0</td>\n",
       "      <td>0</td>\n",
       "      <td>0</td>\n",
       "      <td>...</td>\n",
       "      <td>0</td>\n",
       "      <td>1</td>\n",
       "      <td>1</td>\n",
       "      <td>0</td>\n",
       "      <td>0</td>\n",
       "      <td>0</td>\n",
       "      <td>1</td>\n",
       "      <td>1</td>\n",
       "      <td>0</td>\n",
       "      <td>0</td>\n",
       "    </tr>\n",
       "    <tr>\n",
       "      <th>3</th>\n",
       "      <td>0.195414</td>\n",
       "      <td>-0.349494</td>\n",
       "      <td>0.648092</td>\n",
       "      <td>0.71246</td>\n",
       "      <td>0.33168</td>\n",
       "      <td>-0.356309</td>\n",
       "      <td>-0.002309</td>\n",
       "      <td>1</td>\n",
       "      <td>0</td>\n",
       "      <td>0</td>\n",
       "      <td>...</td>\n",
       "      <td>0</td>\n",
       "      <td>0</td>\n",
       "      <td>1</td>\n",
       "      <td>0</td>\n",
       "      <td>0</td>\n",
       "      <td>0</td>\n",
       "      <td>1</td>\n",
       "      <td>1</td>\n",
       "      <td>0</td>\n",
       "      <td>0</td>\n",
       "    </tr>\n",
       "    <tr>\n",
       "      <th>4</th>\n",
       "      <td>0.195414</td>\n",
       "      <td>-0.349494</td>\n",
       "      <td>0.648092</td>\n",
       "      <td>0.71246</td>\n",
       "      <td>0.33168</td>\n",
       "      <td>-0.356309</td>\n",
       "      <td>1.533034</td>\n",
       "      <td>0</td>\n",
       "      <td>0</td>\n",
       "      <td>0</td>\n",
       "      <td>...</td>\n",
       "      <td>0</td>\n",
       "      <td>0</td>\n",
       "      <td>0</td>\n",
       "      <td>0</td>\n",
       "      <td>1</td>\n",
       "      <td>0</td>\n",
       "      <td>1</td>\n",
       "      <td>1</td>\n",
       "      <td>0</td>\n",
       "      <td>0</td>\n",
       "    </tr>\n",
       "  </tbody>\n",
       "</table>\n",
       "<p>5 rows × 42 columns</p>\n",
       "</div>"
      ],
      "text/plain": [
       "          pdays  previous  emp.var.rate  euribor3m  nr.employed         y  \\\n",
       "index                                                                       \n",
       "0      0.195414 -0.349494      0.648092    0.71246      0.33168 -0.356309   \n",
       "1      0.195414 -0.349494      0.648092    0.71246      0.33168 -0.356309   \n",
       "2      0.195414 -0.349494      0.648092    0.71246      0.33168 -0.356309   \n",
       "3      0.195414 -0.349494      0.648092    0.71246      0.33168 -0.356309   \n",
       "4      0.195414 -0.349494      0.648092    0.71246      0.33168 -0.356309   \n",
       "\n",
       "            age  job_admin.  job_blue-collar  job_entrepreneur  ...  \\\n",
       "index                                                           ...   \n",
       "0      1.533034           0                0                 0  ...   \n",
       "1      1.628993           0                0                 0  ...   \n",
       "2     -0.290186           0                0                 0  ...   \n",
       "3     -0.002309           1                0                 0  ...   \n",
       "4      1.533034           0                0                 0  ...   \n",
       "\n",
       "       housing_unknown  housing_yes  loan_no  loan_unknown  loan_yes  \\\n",
       "index                                                                  \n",
       "0                    0            0        1             0         0   \n",
       "1                    0            0        1             0         0   \n",
       "2                    0            1        1             0         0   \n",
       "3                    0            0        1             0         0   \n",
       "4                    0            0        0             0         1   \n",
       "\n",
       "       contact_cellular  contact_telephone  default_no  default_unknown  \\\n",
       "index                                                                     \n",
       "0                     0                  1           1                0   \n",
       "1                     0                  1           0                1   \n",
       "2                     0                  1           1                0   \n",
       "3                     0                  1           1                0   \n",
       "4                     0                  1           1                0   \n",
       "\n",
       "       default_yes  \n",
       "index               \n",
       "0                0  \n",
       "1                0  \n",
       "2                0  \n",
       "3                0  \n",
       "4                0  \n",
       "\n",
       "[5 rows x 42 columns]"
      ]
     },
     "execution_count": 35,
     "metadata": {},
     "output_type": "execute_result"
    }
   ],
   "source": [
    "from sklearn.compose import TransformedTargetRegressor, ColumnTransformer\n",
    "from sklearn.pipeline import Pipeline\n",
    "\n",
    "df_add_numeric = df.iloc[:, [12, 13, 15, 18, 19, 20]]\n",
    "print(df_add_numeric.columns)\n",
    "df_num = StandardScaler().set_output(transform=\"pandas\").fit_transform(df_add_numeric[df_add_numeric.columns])\n",
    "df_tr_2 = pd.merge(df_num, df_tr, how='inner', on='index')\n",
    "print(X.shape)\n",
    "x_train, x_test, y_train, y_test = train_test_split(df_tr_2, df['y'], test_size=0.3)\n",
    "df_tr_2.head()"
   ]
  },
  {
   "cell_type": "code",
   "execution_count": 25,
   "metadata": {
    "ExecuteTime": {
     "end_time": "2024-04-21T21:19:56.288353Z",
     "start_time": "2024-04-21T21:19:56.249891Z"
    }
   },
   "outputs": [
    {
     "data": {
      "text/plain": [
       "(41188, 36)"
      ]
     },
     "execution_count": 25,
     "metadata": {},
     "output_type": "execute_result"
    }
   ],
   "source": [
    "x_train, x_test, y_train, y_test = train_test_split(df_tr, df['y'], test_size=0.3)\n",
    "X.shape"
   ]
  },
  {
   "cell_type": "code",
   "execution_count": 26,
   "metadata": {
    "ExecuteTime": {
     "start_time": "2024-04-22T01:11:15.458Z"
    },
    "colab": {
     "base_uri": "https://localhost:8080/"
    },
    "id": "rhQi1EegE-Hm",
    "outputId": "7e578fac-be3a-490b-a5b9-34a5095cecdd"
   },
   "outputs": [
    {
     "name": "stdout",
     "output_type": "stream",
     "text": [
      "Performing Grid Search for:  Logistic Regression\n",
      "Fitting 5 folds for each of 2 candidates, totalling 10 fits\n",
      "[CV 1/5] END ....max_iter=500, solver=liblinear;, score=0.000 total time=   0.1s\n",
      "[CV 2/5] END ....max_iter=500, solver=liblinear;, score=0.003 total time=   0.1s\n",
      "[CV 3/5] END ....max_iter=500, solver=liblinear;, score=0.000 total time=   0.1s\n",
      "[CV 4/5] END ....max_iter=500, solver=liblinear;, score=0.000 total time=   0.1s\n",
      "[CV 5/5] END ....max_iter=500, solver=liblinear;, score=0.000 total time=   0.1s\n",
      "[CV 1/5] END ........max_iter=500, solver=lbfgs;, score=0.000 total time=   0.2s\n",
      "[CV 2/5] END ........max_iter=500, solver=lbfgs;, score=0.003 total time=   0.2s\n",
      "[CV 3/5] END ........max_iter=500, solver=lbfgs;, score=0.000 total time=   0.2s\n",
      "[CV 4/5] END ........max_iter=500, solver=lbfgs;, score=0.000 total time=   0.2s\n",
      "[CV 5/5] END ........max_iter=500, solver=lbfgs;, score=0.000 total time=   0.1s\n",
      "Best parameters:  {'max_iter': 500, 'solver': 'liblinear'}\n",
      "Training time:  1.5575053691864014\n",
      "              precision    recall  f1-score   support\n",
      "\n",
      "           0       0.89      1.00      0.94     10941\n",
      "\n",
      "   micro avg       0.89      1.00      0.94     10941\n",
      "   macro avg       0.89      1.00      0.94     10941\n",
      "weighted avg       0.89      1.00      0.94     10941\n",
      "\n",
      "Performing Grid Search for:  SVM\n",
      "Fitting 5 folds for each of 6 candidates, totalling 30 fits\n",
      "[CV 1/5] END ...........gamma=scale, kernel=rbf;, score=0.027 total time=  23.4s\n",
      "[CV 2/5] END ...........gamma=scale, kernel=rbf;, score=0.036 total time=  26.7s\n",
      "[CV 3/5] END ...........gamma=scale, kernel=rbf;, score=0.012 total time=  25.1s\n",
      "[CV 4/5] END ...........gamma=scale, kernel=rbf;, score=0.042 total time=  23.4s\n",
      "[CV 5/5] END ...........gamma=scale, kernel=rbf;, score=0.018 total time=  32.7s\n",
      "[CV 1/5] END ..........gamma=scale, kernel=poly;, score=0.030 total time=  58.7s\n",
      "[CV 2/5] END ..........gamma=scale, kernel=poly;, score=0.051 total time= 1.6min\n",
      "[CV 3/5] END ..........gamma=scale, kernel=poly;, score=0.015 total time=  58.7s\n",
      "[CV 4/5] END ..........gamma=scale, kernel=poly;, score=0.033 total time= 1.1min\n",
      "[CV 5/5] END ..........gamma=scale, kernel=poly;, score=0.003 total time=  54.4s\n",
      "[CV 1/5] END ........gamma=scale, kernel=linear;, score=0.000 total time=   3.4s\n",
      "[CV 2/5] END ........gamma=scale, kernel=linear;, score=0.000 total time=   2.9s\n",
      "[CV 3/5] END ........gamma=scale, kernel=linear;, score=0.000 total time=   2.3s\n",
      "[CV 4/5] END ........gamma=scale, kernel=linear;, score=0.000 total time=   2.5s\n",
      "[CV 5/5] END ........gamma=scale, kernel=linear;, score=0.000 total time=   2.8s\n",
      "[CV 1/5] END ............gamma=auto, kernel=rbf;, score=0.000 total time=  10.0s\n",
      "[CV 2/5] END ............gamma=auto, kernel=rbf;, score=0.000 total time=  12.1s\n",
      "[CV 3/5] END ............gamma=auto, kernel=rbf;, score=0.000 total time=   8.7s\n",
      "[CV 4/5] END ............gamma=auto, kernel=rbf;, score=0.000 total time=   8.7s\n",
      "[CV 5/5] END ............gamma=auto, kernel=rbf;, score=0.000 total time=  12.9s\n",
      "[CV 1/5] END ...........gamma=auto, kernel=poly;, score=0.000 total time=   4.8s\n",
      "[CV 2/5] END ...........gamma=auto, kernel=poly;, score=0.000 total time=   5.4s\n",
      "[CV 3/5] END ...........gamma=auto, kernel=poly;, score=0.000 total time=   4.8s\n",
      "[CV 4/5] END ...........gamma=auto, kernel=poly;, score=0.000 total time=   4.8s\n",
      "[CV 5/5] END ...........gamma=auto, kernel=poly;, score=0.000 total time=   6.2s\n",
      "[CV 1/5] END .........gamma=auto, kernel=linear;, score=0.000 total time=   3.1s\n",
      "[CV 2/5] END .........gamma=auto, kernel=linear;, score=0.000 total time=   2.8s\n",
      "[CV 3/5] END .........gamma=auto, kernel=linear;, score=0.000 total time=   2.4s\n",
      "[CV 4/5] END .........gamma=auto, kernel=linear;, score=0.000 total time=   2.4s\n",
      "[CV 5/5] END .........gamma=auto, kernel=linear;, score=0.000 total time=   2.4s\n",
      "Best parameters:  {'gamma': 'scale', 'kernel': 'rbf'}\n",
      "Training time:  607.4892446994781\n",
      "              precision    recall  f1-score   support\n",
      "\n",
      "           0       0.89      1.00      0.94     10941\n",
      "           1       0.36      0.01      0.01      1416\n",
      "\n",
      "    accuracy                           0.88     12357\n",
      "   macro avg       0.62      0.50      0.48     12357\n",
      "weighted avg       0.83      0.88      0.83     12357\n",
      "\n",
      "Performing Grid Search for:  KNN\n",
      "Fitting 5 folds for each of 4 candidates, totalling 20 fits\n",
      "[CV 1/5] END .....................n_neighbors=5;, score=0.111 total time=   0.3s\n",
      "[CV 2/5] END .....................n_neighbors=5;, score=0.096 total time=   0.3s\n",
      "[CV 3/5] END .....................n_neighbors=5;, score=0.117 total time=   0.3s\n",
      "[CV 4/5] END .....................n_neighbors=5;, score=0.111 total time=   0.3s\n",
      "[CV 5/5] END .....................n_neighbors=5;, score=0.135 total time=   0.4s\n",
      "[CV 1/5] END ....................n_neighbors=10;, score=0.060 total time=   0.4s\n",
      "[CV 2/5] END ....................n_neighbors=10;, score=0.058 total time=   0.3s\n",
      "[CV 3/5] END ....................n_neighbors=10;, score=0.060 total time=   0.3s\n",
      "[CV 4/5] END ....................n_neighbors=10;, score=0.069 total time=   0.3s\n",
      "[CV 5/5] END ....................n_neighbors=10;, score=0.089 total time=   0.3s\n",
      "[CV 1/5] END ....................n_neighbors=20;, score=0.059 total time=   0.3s\n",
      "[CV 2/5] END ....................n_neighbors=20;, score=0.059 total time=   0.3s\n",
      "[CV 3/5] END ....................n_neighbors=20;, score=0.035 total time=   0.3s\n",
      "[CV 4/5] END ....................n_neighbors=20;, score=0.072 total time=   0.3s\n",
      "[CV 5/5] END ....................n_neighbors=20;, score=0.062 total time=   0.3s\n",
      "[CV 1/5] END ....................n_neighbors=40;, score=0.055 total time=   0.4s\n",
      "[CV 2/5] END ....................n_neighbors=40;, score=0.076 total time=   0.3s\n",
      "[CV 3/5] END ....................n_neighbors=40;, score=0.033 total time=   0.5s\n",
      "[CV 4/5] END ....................n_neighbors=40;, score=0.033 total time=   0.4s\n",
      "[CV 5/5] END ....................n_neighbors=40;, score=0.045 total time=   0.3s\n",
      "Best parameters:  {'n_neighbors': 5}\n",
      "Training time:  6.607690334320068\n",
      "              precision    recall  f1-score   support\n",
      "\n",
      "           0       0.89      0.98      0.93     10941\n",
      "           1       0.28      0.06      0.10      1416\n",
      "\n",
      "    accuracy                           0.87     12357\n",
      "   macro avg       0.58      0.52      0.52     12357\n",
      "weighted avg       0.82      0.87      0.84     12357\n",
      "\n",
      "Performing Grid Search for:  Decision Tree\n",
      "Fitting 5 folds for each of 36 candidates, totalling 180 fits\n",
      "[CV 1/5] END max_depth=2, min_impurity_decrease=0.01, min_samples_split=0.1;, score=0.000 total time=   0.0s\n",
      "[CV 2/5] END max_depth=2, min_impurity_decrease=0.01, min_samples_split=0.1;, score=0.000 total time=   0.0s\n",
      "[CV 3/5] END max_depth=2, min_impurity_decrease=0.01, min_samples_split=0.1;, score=0.000 total time=   0.0s\n",
      "[CV 4/5] END max_depth=2, min_impurity_decrease=0.01, min_samples_split=0.1;, score=0.000 total time=   0.0s\n",
      "[CV 5/5] END max_depth=2, min_impurity_decrease=0.01, min_samples_split=0.1;, score=0.000 total time=   0.0s\n",
      "[CV 1/5] END max_depth=2, min_impurity_decrease=0.01, min_samples_split=0.2;, score=0.000 total time=   0.0s\n",
      "[CV 2/5] END max_depth=2, min_impurity_decrease=0.01, min_samples_split=0.2;, score=0.000 total time=   0.0s\n",
      "[CV 3/5] END max_depth=2, min_impurity_decrease=0.01, min_samples_split=0.2;, score=0.000 total time=   0.0s\n",
      "[CV 4/5] END max_depth=2, min_impurity_decrease=0.01, min_samples_split=0.2;, score=0.000 total time=   0.0s\n",
      "[CV 5/5] END max_depth=2, min_impurity_decrease=0.01, min_samples_split=0.2;, score=0.000 total time=   0.0s\n",
      "[CV 1/5] END max_depth=2, min_impurity_decrease=0.01, min_samples_split=0.05;, score=0.000 total time=   0.0s\n",
      "[CV 2/5] END max_depth=2, min_impurity_decrease=0.01, min_samples_split=0.05;, score=0.000 total time=   0.0s\n",
      "[CV 3/5] END max_depth=2, min_impurity_decrease=0.01, min_samples_split=0.05;, score=0.000 total time=   0.0s\n",
      "[CV 4/5] END max_depth=2, min_impurity_decrease=0.01, min_samples_split=0.05;, score=0.000 total time=   0.0s\n",
      "[CV 5/5] END max_depth=2, min_impurity_decrease=0.01, min_samples_split=0.05;, score=0.000 total time=   0.0s\n",
      "[CV 1/5] END max_depth=2, min_impurity_decrease=0.02, min_samples_split=0.1;, score=0.000 total time=   0.0s\n",
      "[CV 2/5] END max_depth=2, min_impurity_decrease=0.02, min_samples_split=0.1;, score=0.000 total time=   0.0s\n",
      "[CV 3/5] END max_depth=2, min_impurity_decrease=0.02, min_samples_split=0.1;, score=0.000 total time=   0.0s\n",
      "[CV 4/5] END max_depth=2, min_impurity_decrease=0.02, min_samples_split=0.1;, score=0.000 total time=   0.0s\n",
      "[CV 5/5] END max_depth=2, min_impurity_decrease=0.02, min_samples_split=0.1;, score=0.000 total time=   0.0s\n",
      "[CV 1/5] END max_depth=2, min_impurity_decrease=0.02, min_samples_split=0.2;, score=0.000 total time=   0.0s\n",
      "[CV 2/5] END max_depth=2, min_impurity_decrease=0.02, min_samples_split=0.2;, score=0.000 total time=   0.0s\n",
      "[CV 3/5] END max_depth=2, min_impurity_decrease=0.02, min_samples_split=0.2;, score=0.000 total time=   0.0s\n",
      "[CV 4/5] END max_depth=2, min_impurity_decrease=0.02, min_samples_split=0.2;, score=0.000 total time=   0.0s\n",
      "[CV 5/5] END max_depth=2, min_impurity_decrease=0.02, min_samples_split=0.2;, score=0.000 total time=   0.0s\n",
      "[CV 1/5] END max_depth=2, min_impurity_decrease=0.02, min_samples_split=0.05;, score=0.000 total time=   0.0s\n",
      "[CV 2/5] END max_depth=2, min_impurity_decrease=0.02, min_samples_split=0.05;, score=0.000 total time=   0.0s\n",
      "[CV 3/5] END max_depth=2, min_impurity_decrease=0.02, min_samples_split=0.05;, score=0.000 total time=   0.0s\n",
      "[CV 4/5] END max_depth=2, min_impurity_decrease=0.02, min_samples_split=0.05;, score=0.000 total time=   0.0s\n",
      "[CV 5/5] END max_depth=2, min_impurity_decrease=0.02, min_samples_split=0.05;, score=0.000 total time=   0.0s\n",
      "[CV 1/5] END max_depth=2, min_impurity_decrease=0.03, min_samples_split=0.1;, score=0.000 total time=   0.0s\n",
      "[CV 2/5] END max_depth=2, min_impurity_decrease=0.03, min_samples_split=0.1;, score=0.000 total time=   0.0s\n",
      "[CV 3/5] END max_depth=2, min_impurity_decrease=0.03, min_samples_split=0.1;, score=0.000 total time=   0.0s\n",
      "[CV 4/5] END max_depth=2, min_impurity_decrease=0.03, min_samples_split=0.1;, score=0.000 total time=   0.0s\n",
      "[CV 5/5] END max_depth=2, min_impurity_decrease=0.03, min_samples_split=0.1;, score=0.000 total time=   0.0s\n",
      "[CV 1/5] END max_depth=2, min_impurity_decrease=0.03, min_samples_split=0.2;, score=0.000 total time=   0.0s\n",
      "[CV 2/5] END max_depth=2, min_impurity_decrease=0.03, min_samples_split=0.2;, score=0.000 total time=   0.0s\n",
      "[CV 3/5] END max_depth=2, min_impurity_decrease=0.03, min_samples_split=0.2;, score=0.000 total time=   0.0s\n",
      "[CV 4/5] END max_depth=2, min_impurity_decrease=0.03, min_samples_split=0.2;, score=0.000 total time=   0.0s\n",
      "[CV 5/5] END max_depth=2, min_impurity_decrease=0.03, min_samples_split=0.2;, score=0.000 total time=   0.0s\n",
      "[CV 1/5] END max_depth=2, min_impurity_decrease=0.03, min_samples_split=0.05;, score=0.000 total time=   0.1s\n",
      "[CV 2/5] END max_depth=2, min_impurity_decrease=0.03, min_samples_split=0.05;, score=0.000 total time=   0.0s\n",
      "[CV 3/5] END max_depth=2, min_impurity_decrease=0.03, min_samples_split=0.05;, score=0.000 total time=   0.0s\n",
      "[CV 4/5] END max_depth=2, min_impurity_decrease=0.03, min_samples_split=0.05;, score=0.000 total time=   0.0s\n",
      "[CV 5/5] END max_depth=2, min_impurity_decrease=0.03, min_samples_split=0.05;, score=0.000 total time=   0.0s\n",
      "[CV 1/5] END max_depth=2, min_impurity_decrease=0.05, min_samples_split=0.1;, score=0.000 total time=   0.0s\n",
      "[CV 2/5] END max_depth=2, min_impurity_decrease=0.05, min_samples_split=0.1;, score=0.000 total time=   0.0s\n",
      "[CV 3/5] END max_depth=2, min_impurity_decrease=0.05, min_samples_split=0.1;, score=0.000 total time=   0.0s\n",
      "[CV 4/5] END max_depth=2, min_impurity_decrease=0.05, min_samples_split=0.1;, score=0.000 total time=   0.0s\n",
      "[CV 5/5] END max_depth=2, min_impurity_decrease=0.05, min_samples_split=0.1;, score=0.000 total time=   0.0s\n",
      "[CV 1/5] END max_depth=2, min_impurity_decrease=0.05, min_samples_split=0.2;, score=0.000 total time=   0.0s\n",
      "[CV 2/5] END max_depth=2, min_impurity_decrease=0.05, min_samples_split=0.2;, score=0.000 total time=   0.0s\n",
      "[CV 3/5] END max_depth=2, min_impurity_decrease=0.05, min_samples_split=0.2;, score=0.000 total time=   0.0s\n",
      "[CV 4/5] END max_depth=2, min_impurity_decrease=0.05, min_samples_split=0.2;, score=0.000 total time=   0.0s\n",
      "[CV 5/5] END max_depth=2, min_impurity_decrease=0.05, min_samples_split=0.2;, score=0.000 total time=   0.0s\n",
      "[CV 1/5] END max_depth=2, min_impurity_decrease=0.05, min_samples_split=0.05;, score=0.000 total time=   0.0s\n",
      "[CV 2/5] END max_depth=2, min_impurity_decrease=0.05, min_samples_split=0.05;, score=0.000 total time=   0.0s\n",
      "[CV 3/5] END max_depth=2, min_impurity_decrease=0.05, min_samples_split=0.05;, score=0.000 total time=   0.0s\n",
      "[CV 4/5] END max_depth=2, min_impurity_decrease=0.05, min_samples_split=0.05;, score=0.000 total time=   0.0s\n",
      "[CV 5/5] END max_depth=2, min_impurity_decrease=0.05, min_samples_split=0.05;, score=0.000 total time=   0.0s\n",
      "[CV 1/5] END max_depth=5, min_impurity_decrease=0.01, min_samples_split=0.1;, score=0.000 total time=   0.0s\n",
      "[CV 2/5] END max_depth=5, min_impurity_decrease=0.01, min_samples_split=0.1;, score=0.000 total time=   0.0s\n",
      "[CV 3/5] END max_depth=5, min_impurity_decrease=0.01, min_samples_split=0.1;, score=0.000 total time=   0.0s\n",
      "[CV 4/5] END max_depth=5, min_impurity_decrease=0.01, min_samples_split=0.1;, score=0.000 total time=   0.0s\n",
      "[CV 5/5] END max_depth=5, min_impurity_decrease=0.01, min_samples_split=0.1;, score=0.000 total time=   0.0s\n",
      "[CV 1/5] END max_depth=5, min_impurity_decrease=0.01, min_samples_split=0.2;, score=0.000 total time=   0.0s\n",
      "[CV 2/5] END max_depth=5, min_impurity_decrease=0.01, min_samples_split=0.2;, score=0.000 total time=   0.0s\n",
      "[CV 3/5] END max_depth=5, min_impurity_decrease=0.01, min_samples_split=0.2;, score=0.000 total time=   0.0s\n",
      "[CV 4/5] END max_depth=5, min_impurity_decrease=0.01, min_samples_split=0.2;, score=0.000 total time=   0.0s\n",
      "[CV 5/5] END max_depth=5, min_impurity_decrease=0.01, min_samples_split=0.2;, score=0.000 total time=   0.0s\n",
      "[CV 1/5] END max_depth=5, min_impurity_decrease=0.01, min_samples_split=0.05;, score=0.000 total time=   0.0s\n",
      "[CV 2/5] END max_depth=5, min_impurity_decrease=0.01, min_samples_split=0.05;, score=0.000 total time=   0.0s\n",
      "[CV 3/5] END max_depth=5, min_impurity_decrease=0.01, min_samples_split=0.05;, score=0.000 total time=   0.0s\n",
      "[CV 4/5] END max_depth=5, min_impurity_decrease=0.01, min_samples_split=0.05;, score=0.000 total time=   0.0s\n",
      "[CV 5/5] END max_depth=5, min_impurity_decrease=0.01, min_samples_split=0.05;, score=0.000 total time=   0.0s\n",
      "[CV 1/5] END max_depth=5, min_impurity_decrease=0.02, min_samples_split=0.1;, score=0.000 total time=   0.0s\n",
      "[CV 2/5] END max_depth=5, min_impurity_decrease=0.02, min_samples_split=0.1;, score=0.000 total time=   0.0s\n",
      "[CV 3/5] END max_depth=5, min_impurity_decrease=0.02, min_samples_split=0.1;, score=0.000 total time=   0.0s\n",
      "[CV 4/5] END max_depth=5, min_impurity_decrease=0.02, min_samples_split=0.1;, score=0.000 total time=   0.0s\n",
      "[CV 5/5] END max_depth=5, min_impurity_decrease=0.02, min_samples_split=0.1;, score=0.000 total time=   0.0s\n",
      "[CV 1/5] END max_depth=5, min_impurity_decrease=0.02, min_samples_split=0.2;, score=0.000 total time=   0.0s\n",
      "[CV 2/5] END max_depth=5, min_impurity_decrease=0.02, min_samples_split=0.2;, score=0.000 total time=   0.0s\n",
      "[CV 3/5] END max_depth=5, min_impurity_decrease=0.02, min_samples_split=0.2;, score=0.000 total time=   0.0s\n",
      "[CV 4/5] END max_depth=5, min_impurity_decrease=0.02, min_samples_split=0.2;, score=0.000 total time=   0.0s\n",
      "[CV 5/5] END max_depth=5, min_impurity_decrease=0.02, min_samples_split=0.2;, score=0.000 total time=   0.0s\n",
      "[CV 1/5] END max_depth=5, min_impurity_decrease=0.02, min_samples_split=0.05;, score=0.000 total time=   0.0s\n",
      "[CV 2/5] END max_depth=5, min_impurity_decrease=0.02, min_samples_split=0.05;, score=0.000 total time=   0.0s\n",
      "[CV 3/5] END max_depth=5, min_impurity_decrease=0.02, min_samples_split=0.05;, score=0.000 total time=   0.0s\n",
      "[CV 4/5] END max_depth=5, min_impurity_decrease=0.02, min_samples_split=0.05;, score=0.000 total time=   0.0s\n",
      "[CV 5/5] END max_depth=5, min_impurity_decrease=0.02, min_samples_split=0.05;, score=0.000 total time=   0.0s\n",
      "[CV 1/5] END max_depth=5, min_impurity_decrease=0.03, min_samples_split=0.1;, score=0.000 total time=   0.0s\n",
      "[CV 2/5] END max_depth=5, min_impurity_decrease=0.03, min_samples_split=0.1;, score=0.000 total time=   0.0s\n",
      "[CV 3/5] END max_depth=5, min_impurity_decrease=0.03, min_samples_split=0.1;, score=0.000 total time=   0.0s\n",
      "[CV 4/5] END max_depth=5, min_impurity_decrease=0.03, min_samples_split=0.1;, score=0.000 total time=   0.0s\n",
      "[CV 5/5] END max_depth=5, min_impurity_decrease=0.03, min_samples_split=0.1;, score=0.000 total time=   0.0s\n",
      "[CV 1/5] END max_depth=5, min_impurity_decrease=0.03, min_samples_split=0.2;, score=0.000 total time=   0.0s\n",
      "[CV 2/5] END max_depth=5, min_impurity_decrease=0.03, min_samples_split=0.2;, score=0.000 total time=   0.0s\n",
      "[CV 3/5] END max_depth=5, min_impurity_decrease=0.03, min_samples_split=0.2;, score=0.000 total time=   0.0s\n",
      "[CV 4/5] END max_depth=5, min_impurity_decrease=0.03, min_samples_split=0.2;, score=0.000 total time=   0.0s\n",
      "[CV 5/5] END max_depth=5, min_impurity_decrease=0.03, min_samples_split=0.2;, score=0.000 total time=   0.0s\n",
      "[CV 1/5] END max_depth=5, min_impurity_decrease=0.03, min_samples_split=0.05;, score=0.000 total time=   0.0s\n",
      "[CV 2/5] END max_depth=5, min_impurity_decrease=0.03, min_samples_split=0.05;, score=0.000 total time=   0.0s\n",
      "[CV 3/5] END max_depth=5, min_impurity_decrease=0.03, min_samples_split=0.05;, score=0.000 total time=   0.0s\n",
      "[CV 4/5] END max_depth=5, min_impurity_decrease=0.03, min_samples_split=0.05;, score=0.000 total time=   0.0s\n",
      "[CV 5/5] END max_depth=5, min_impurity_decrease=0.03, min_samples_split=0.05;, score=0.000 total time=   0.0s\n",
      "[CV 1/5] END max_depth=5, min_impurity_decrease=0.05, min_samples_split=0.1;, score=0.000 total time=   0.0s\n",
      "[CV 2/5] END max_depth=5, min_impurity_decrease=0.05, min_samples_split=0.1;, score=0.000 total time=   0.0s\n",
      "[CV 3/5] END max_depth=5, min_impurity_decrease=0.05, min_samples_split=0.1;, score=0.000 total time=   0.0s\n",
      "[CV 4/5] END max_depth=5, min_impurity_decrease=0.05, min_samples_split=0.1;, score=0.000 total time=   0.0s\n",
      "[CV 5/5] END max_depth=5, min_impurity_decrease=0.05, min_samples_split=0.1;, score=0.000 total time=   0.0s\n",
      "[CV 1/5] END max_depth=5, min_impurity_decrease=0.05, min_samples_split=0.2;, score=0.000 total time=   0.0s\n",
      "[CV 2/5] END max_depth=5, min_impurity_decrease=0.05, min_samples_split=0.2;, score=0.000 total time=   0.0s\n",
      "[CV 3/5] END max_depth=5, min_impurity_decrease=0.05, min_samples_split=0.2;, score=0.000 total time=   0.0s\n",
      "[CV 4/5] END max_depth=5, min_impurity_decrease=0.05, min_samples_split=0.2;, score=0.000 total time=   0.0s\n",
      "[CV 5/5] END max_depth=5, min_impurity_decrease=0.05, min_samples_split=0.2;, score=0.000 total time=   0.0s\n",
      "[CV 1/5] END max_depth=5, min_impurity_decrease=0.05, min_samples_split=0.05;, score=0.000 total time=   0.0s\n",
      "[CV 2/5] END max_depth=5, min_impurity_decrease=0.05, min_samples_split=0.05;, score=0.000 total time=   0.0s\n",
      "[CV 3/5] END max_depth=5, min_impurity_decrease=0.05, min_samples_split=0.05;, score=0.000 total time=   0.0s\n",
      "[CV 4/5] END max_depth=5, min_impurity_decrease=0.05, min_samples_split=0.05;, score=0.000 total time=   0.0s\n",
      "[CV 5/5] END max_depth=5, min_impurity_decrease=0.05, min_samples_split=0.05;, score=0.000 total time=   0.0s\n",
      "[CV 1/5] END max_depth=10, min_impurity_decrease=0.01, min_samples_split=0.1;, score=0.000 total time=   0.0s\n",
      "[CV 2/5] END max_depth=10, min_impurity_decrease=0.01, min_samples_split=0.1;, score=0.000 total time=   0.0s\n",
      "[CV 3/5] END max_depth=10, min_impurity_decrease=0.01, min_samples_split=0.1;, score=0.000 total time=   0.0s\n",
      "[CV 4/5] END max_depth=10, min_impurity_decrease=0.01, min_samples_split=0.1;, score=0.000 total time=   0.0s\n",
      "[CV 5/5] END max_depth=10, min_impurity_decrease=0.01, min_samples_split=0.1;, score=0.000 total time=   0.0s\n",
      "[CV 1/5] END max_depth=10, min_impurity_decrease=0.01, min_samples_split=0.2;, score=0.000 total time=   0.0s\n",
      "[CV 2/5] END max_depth=10, min_impurity_decrease=0.01, min_samples_split=0.2;, score=0.000 total time=   0.0s\n",
      "[CV 3/5] END max_depth=10, min_impurity_decrease=0.01, min_samples_split=0.2;, score=0.000 total time=   0.0s\n",
      "[CV 4/5] END max_depth=10, min_impurity_decrease=0.01, min_samples_split=0.2;, score=0.000 total time=   0.0s\n",
      "[CV 5/5] END max_depth=10, min_impurity_decrease=0.01, min_samples_split=0.2;, score=0.000 total time=   0.0s\n",
      "[CV 1/5] END max_depth=10, min_impurity_decrease=0.01, min_samples_split=0.05;, score=0.000 total time=   0.0s\n",
      "[CV 2/5] END max_depth=10, min_impurity_decrease=0.01, min_samples_split=0.05;, score=0.000 total time=   0.0s\n",
      "[CV 3/5] END max_depth=10, min_impurity_decrease=0.01, min_samples_split=0.05;, score=0.000 total time=   0.0s\n",
      "[CV 4/5] END max_depth=10, min_impurity_decrease=0.01, min_samples_split=0.05;, score=0.000 total time=   0.0s\n",
      "[CV 5/5] END max_depth=10, min_impurity_decrease=0.01, min_samples_split=0.05;, score=0.000 total time=   0.0s\n",
      "[CV 1/5] END max_depth=10, min_impurity_decrease=0.02, min_samples_split=0.1;, score=0.000 total time=   0.0s\n",
      "[CV 2/5] END max_depth=10, min_impurity_decrease=0.02, min_samples_split=0.1;, score=0.000 total time=   0.0s\n",
      "[CV 3/5] END max_depth=10, min_impurity_decrease=0.02, min_samples_split=0.1;, score=0.000 total time=   0.0s\n",
      "[CV 4/5] END max_depth=10, min_impurity_decrease=0.02, min_samples_split=0.1;, score=0.000 total time=   0.0s\n",
      "[CV 5/5] END max_depth=10, min_impurity_decrease=0.02, min_samples_split=0.1;, score=0.000 total time=   0.0s\n",
      "[CV 1/5] END max_depth=10, min_impurity_decrease=0.02, min_samples_split=0.2;, score=0.000 total time=   0.0s\n",
      "[CV 2/5] END max_depth=10, min_impurity_decrease=0.02, min_samples_split=0.2;, score=0.000 total time=   0.0s\n",
      "[CV 3/5] END max_depth=10, min_impurity_decrease=0.02, min_samples_split=0.2;, score=0.000 total time=   0.0s\n",
      "[CV 4/5] END max_depth=10, min_impurity_decrease=0.02, min_samples_split=0.2;, score=0.000 total time=   0.0s\n",
      "[CV 5/5] END max_depth=10, min_impurity_decrease=0.02, min_samples_split=0.2;, score=0.000 total time=   0.0s\n",
      "[CV 1/5] END max_depth=10, min_impurity_decrease=0.02, min_samples_split=0.05;, score=0.000 total time=   0.0s\n",
      "[CV 2/5] END max_depth=10, min_impurity_decrease=0.02, min_samples_split=0.05;, score=0.000 total time=   0.0s\n",
      "[CV 3/5] END max_depth=10, min_impurity_decrease=0.02, min_samples_split=0.05;, score=0.000 total time=   0.0s\n",
      "[CV 4/5] END max_depth=10, min_impurity_decrease=0.02, min_samples_split=0.05;, score=0.000 total time=   0.0s\n",
      "[CV 5/5] END max_depth=10, min_impurity_decrease=0.02, min_samples_split=0.05;, score=0.000 total time=   0.0s\n",
      "[CV 1/5] END max_depth=10, min_impurity_decrease=0.03, min_samples_split=0.1;, score=0.000 total time=   0.0s\n",
      "[CV 2/5] END max_depth=10, min_impurity_decrease=0.03, min_samples_split=0.1;, score=0.000 total time=   0.0s\n",
      "[CV 3/5] END max_depth=10, min_impurity_decrease=0.03, min_samples_split=0.1;, score=0.000 total time=   0.0s\n",
      "[CV 4/5] END max_depth=10, min_impurity_decrease=0.03, min_samples_split=0.1;, score=0.000 total time=   0.0s\n",
      "[CV 5/5] END max_depth=10, min_impurity_decrease=0.03, min_samples_split=0.1;, score=0.000 total time=   0.0s\n",
      "[CV 1/5] END max_depth=10, min_impurity_decrease=0.03, min_samples_split=0.2;, score=0.000 total time=   0.0s\n",
      "[CV 2/5] END max_depth=10, min_impurity_decrease=0.03, min_samples_split=0.2;, score=0.000 total time=   0.0s\n",
      "[CV 3/5] END max_depth=10, min_impurity_decrease=0.03, min_samples_split=0.2;, score=0.000 total time=   0.0s\n",
      "[CV 4/5] END max_depth=10, min_impurity_decrease=0.03, min_samples_split=0.2;, score=0.000 total time=   0.0s\n",
      "[CV 5/5] END max_depth=10, min_impurity_decrease=0.03, min_samples_split=0.2;, score=0.000 total time=   0.0s\n",
      "[CV 1/5] END max_depth=10, min_impurity_decrease=0.03, min_samples_split=0.05;, score=0.000 total time=   0.0s\n",
      "[CV 2/5] END max_depth=10, min_impurity_decrease=0.03, min_samples_split=0.05;, score=0.000 total time=   0.0s\n",
      "[CV 3/5] END max_depth=10, min_impurity_decrease=0.03, min_samples_split=0.05;, score=0.000 total time=   0.0s\n",
      "[CV 4/5] END max_depth=10, min_impurity_decrease=0.03, min_samples_split=0.05;, score=0.000 total time=   0.0s\n",
      "[CV 5/5] END max_depth=10, min_impurity_decrease=0.03, min_samples_split=0.05;, score=0.000 total time=   0.0s\n",
      "[CV 1/5] END max_depth=10, min_impurity_decrease=0.05, min_samples_split=0.1;, score=0.000 total time=   0.0s\n",
      "[CV 2/5] END max_depth=10, min_impurity_decrease=0.05, min_samples_split=0.1;, score=0.000 total time=   0.0s\n",
      "[CV 3/5] END max_depth=10, min_impurity_decrease=0.05, min_samples_split=0.1;, score=0.000 total time=   0.0s\n",
      "[CV 4/5] END max_depth=10, min_impurity_decrease=0.05, min_samples_split=0.1;, score=0.000 total time=   0.0s\n",
      "[CV 5/5] END max_depth=10, min_impurity_decrease=0.05, min_samples_split=0.1;, score=0.000 total time=   0.0s\n",
      "[CV 1/5] END max_depth=10, min_impurity_decrease=0.05, min_samples_split=0.2;, score=0.000 total time=   0.0s\n",
      "[CV 2/5] END max_depth=10, min_impurity_decrease=0.05, min_samples_split=0.2;, score=0.000 total time=   0.0s\n",
      "[CV 3/5] END max_depth=10, min_impurity_decrease=0.05, min_samples_split=0.2;, score=0.000 total time=   0.0s\n",
      "[CV 4/5] END max_depth=10, min_impurity_decrease=0.05, min_samples_split=0.2;, score=0.000 total time=   0.0s\n",
      "[CV 5/5] END max_depth=10, min_impurity_decrease=0.05, min_samples_split=0.2;, score=0.000 total time=   0.0s\n",
      "[CV 1/5] END max_depth=10, min_impurity_decrease=0.05, min_samples_split=0.05;, score=0.000 total time=   0.0s\n",
      "[CV 2/5] END max_depth=10, min_impurity_decrease=0.05, min_samples_split=0.05;, score=0.000 total time=   0.0s\n",
      "[CV 3/5] END max_depth=10, min_impurity_decrease=0.05, min_samples_split=0.05;, score=0.000 total time=   0.0s\n",
      "[CV 4/5] END max_depth=10, min_impurity_decrease=0.05, min_samples_split=0.05;, score=0.000 total time=   0.0s\n",
      "[CV 5/5] END max_depth=10, min_impurity_decrease=0.05, min_samples_split=0.05;, score=0.000 total time=   0.0s\n",
      "Best parameters:  {'max_depth': 2, 'min_impurity_decrease': 0.01, 'min_samples_split': 0.1}\n",
      "Training time:  3.2782163619995117\n",
      "              precision    recall  f1-score   support\n",
      "\n",
      "           0       0.89      1.00      0.94     10941\n",
      "\n",
      "   micro avg       0.89      1.00      0.94     10941\n",
      "   macro avg       0.89      1.00      0.94     10941\n",
      "weighted avg       0.89      1.00      0.94     10941\n",
      "\n",
      "{'Logistic Regression': {'train_time': 1.5575053691864014, 'train_accuracy': 0.8881759217508931, 'test_accuracy': 0.8854090798737557, 'test_recall': 0.0, 'train_recall': 0.0, 'train_f1': 0.940776663360153, 'test_f1': 0.9392222508369816}, 'SVM': {'train_time': 607.4892446994781, 'train_accuracy': 0.8891817834969303, 'test_accuracy': 0.8848425993364085, 'test_recall': 0.006355932203389831, 'train_recall': 0.015198511166253101, 'train_f1': 0.8393100657838388, 'test_f1': 0.8327031836207567}, 'KNN': {'train_time': 6.607690334320068, 'train_accuracy': 0.8931011758176962, 'test_accuracy': 0.8738366917536619, 'test_recall': 0.06285310734463277, 'train_recall': 0.14578163771712158, 'train_f1': 0.8632788062047312, 'test_f1': 0.8370764328272217}, 'Decision Tree': {'train_time': 3.2782163619995117, 'train_accuracy': 0.8881759217508931, 'test_accuracy': 0.8854090798737557, 'test_recall': 0.0, 'train_recall': 0.0, 'train_f1': 0.940776663360153, 'test_f1': 0.9392222508369816}}\n"
     ]
    }
   ],
   "source": [
    "import time\n",
    "import numpy as np\n",
    "from sklearn.model_selection import GridSearchCV\n",
    "from sklearn.linear_model import LogisticRegression\n",
    "from sklearn.neighbors import KNeighborsClassifier\n",
    "from sklearn.tree import DecisionTreeClassifier\n",
    "from sklearn.svm import SVC\n",
    "from sklearn.metrics import accuracy_score, f1_score, confusion_matrix, recall_score, ConfusionMatrixDisplay\n",
    "\n",
    "# GridSearchCV hyper params data\n",
    "gs_results = {}\n",
    "models = [\n",
    "    {\n",
    "        'model': LogisticRegression(),\n",
    "        'params': {'max_iter': np.arange(500, 1000, 2000), 'solver': ['liblinear', 'lbfgs']},\n",
    "        'key': 'Logistic Regression'\n",
    "    },\n",
    "    {\n",
    "        'model': SVC(),\n",
    "        'params': {'kernel': ['rbf', 'poly', 'linear'], 'gamma': ['scale', 'auto']},\n",
    "        'key': 'SVM'\n",
    "    },\n",
    "    {\n",
    "        'model': KNeighborsClassifier(),\n",
    "        'params': {'n_neighbors': [5, 10, 20, 40]},\n",
    "        'key': 'KNN'\n",
    "    },\n",
    "    {\n",
    "        'model': DecisionTreeClassifier(),\n",
    "        'params': { 'min_impurity_decrease': [0.01, 0.02, 0.03, 0.05],\n",
    "                    'max_depth': [2, 5, 10],\n",
    "                    'min_samples_split': [0.1, 0.2, 0.05]},\n",
    "        'key': 'Decision Tree'\n",
    "    },\n",
    "]\n",
    "\n",
    "best_values = {}\n",
    "best_models = {}\n",
    "# GridSearchCV function to test different models\n",
    "def grid_search(model, grid_params, key):\n",
    "  print(\"Performing Grid Search for: \", key)\n",
    "\n",
    "  grid_search = GridSearchCV(model, grid_params, cv=5, scoring='f1', verbose=3)\n",
    "\n",
    "  # Fit the grid search object to the data and measure time\n",
    "  # Create encoder object\n",
    "  start_t = time.time()\n",
    "  grid_search.fit(x_train, y_train)\n",
    "  end_t = time.time()\n",
    "\n",
    "  # Get the best model and its parameters\n",
    "  best_model = grid_search.best_estimator_\n",
    "  best_params = grid_search.best_params_\n",
    "  best_values[key] = { 'model': best_model, 'params': best_params }\n",
    "\n",
    "  # Predict the labels for the train and test data\n",
    "  y_pred_train = best_model.predict(x_train)\n",
    "  y_pred_test = best_model.predict(x_test)\n",
    "\n",
    "  # Calculate the scores for the train and test data\n",
    "  print(\"Best parameters: \", best_params)\n",
    "  print(\"Training time: \", end_t - start_t)\n",
    "  gs_results[key] = {\n",
    "    'train_time': end_t - start_t,\n",
    "    'train_accuracy': accuracy_score(y_train, y_pred_train),\n",
    "    'test_accuracy': accuracy_score(y_test, y_pred_test),\n",
    "    'test_recall': recall_score(y_test, y_pred_test),\n",
    "    'train_recall': recall_score(y_train, y_pred_train),\n",
    "    'train_f1': f1_score(y_train, y_pred_train, average='weighted', labels=np.unique(y_pred_train)),\n",
    "    'test_f1': f1_score(y_test, y_pred_test, average='weighted', labels=np.unique(y_pred_test))  \n",
    "  }\n",
    "  print(classification_report(y_test, y_pred_test, labels=np.unique(y_pred_test)))\n",
    "  cm = confusion_matrix(y_test, y_pred_test)\n",
    "  best_models[key] = { 'model' : best_model, 'cm': cm }\n",
    "    \n",
    "for model in models:\n",
    "  grid_search(model['model'], model['params'], model['key'])\n",
    "\n",
    "print(gs_results)\n"
   ]
  },
  {
   "cell_type": "code",
   "execution_count": 27,
   "metadata": {
    "ExecuteTime": {
     "end_time": "2024-04-22T01:09:09.376582Z",
     "start_time": "2024-04-22T01:09:09.364592Z"
    },
    "colab": {
     "base_uri": "https://localhost:8080/"
    },
    "id": "LpCrtxEwE-Hy",
    "outputId": "5f6a435b-de85-4933-bc53-389312355440"
   },
   "outputs": [
    {
     "name": "stdout",
     "output_type": "stream",
     "text": [
      "                     train_time  train_accuracy  test_accuracy  test_recall  \\\n",
      "model                                                                         \n",
      "Logistic Regression    1.557505        0.888176       0.885409     0.000000   \n",
      "SVM                  607.489245        0.889182       0.884843     0.006356   \n",
      "KNN                    6.607690        0.893101       0.873837     0.062853   \n",
      "Decision Tree          3.278216        0.888176       0.885409     0.000000   \n",
      "\n",
      "                     train_recall  train_f1   test_f1  \n",
      "model                                                  \n",
      "Logistic Regression      0.000000  0.940777  0.939222  \n",
      "SVM                      0.015199  0.839310  0.832703  \n",
      "KNN                      0.145782  0.863279  0.837076  \n",
      "Decision Tree            0.000000  0.940777  0.939222  \n"
     ]
    }
   ],
   "source": [
    "# Create a DataFrame to display results\n",
    "df_gs_results = pd.DataFrame(gs_results).transpose()\n",
    "df_gs_results.index.name = 'model'\n",
    "print(df_gs_results)"
   ]
  },
  {
   "cell_type": "markdown",
   "metadata": {
    "id": "MdkTOkPLE-Hy"
   },
   "source": [
    "Although SVM showed the best accuracy (0.898), Decision Tree showed the best f1 score (0.94). For our problem and given the imbalanced data set, it seems like Decision Tree will be the best model."
   ]
  },
  {
   "cell_type": "code",
   "execution_count": 28,
   "metadata": {
    "ExecuteTime": {
     "end_time": "2024-04-21T21:23:24.132404Z",
     "start_time": "2024-04-21T21:23:23.539029Z"
    },
    "id": "waHpv1SAE-Hy"
   },
   "outputs": [
    {
     "data": {
      "image/png": "[encoded data removed]",
      "text/plain": [
       "<Figure size 640x480 with 2 Axes>"
      ]
     },
     "metadata": {},
     "output_type": "display_data"
    },
    {
     "data": {
      "image/png": "[encoded data removed]",
      "text/plain": [
       "<Figure size 640x480 with 2 Axes>"
      ]
     },
     "metadata": {},
     "output_type": "display_data"
    },
    {
     "data": {
      "image/png": "[encoded data removed]",
      "text/plain": [
       "<Figure size 640x480 with 2 Axes>"
      ]
     },
     "metadata": {},
     "output_type": "display_data"
    },
    {
     "data": {
      "image/png": "[encoded data removed]",
      "text/plain": [
       "<Figure size 640x480 with 2 Axes>"
      ]
     },
     "metadata": {},
     "output_type": "display_data"
    }
   ],
   "source": [
    "# Display confusion matrix\n",
    "for model in ['Logistic Regression', 'SVM', 'Decision Tree', 'KNN']:\n",
    "    disp = ConfusionMatrixDisplay(confusion_matrix=best_models[model]['cm'], display_labels=best_models[model]['model'].classes_)\n",
    "    disp.plot(cmap='Blues', values_format='d')\n",
    "\n",
    "    plt.title(f'Confusion Matrix for {model}')\n",
    "\n",
    "    plt.show()"
   ]
  },
  {
   "cell_type": "code",
   "execution_count": 34,
   "metadata": {
    "ExecuteTime": {
     "end_time": "2024-04-21T10:07:56.722837Z",
     "start_time": "2024-04-21T10:07:56.676120Z"
    },
    "id": "xRXng4q_E-Hy"
   },
   "outputs": [
    {
     "data": {
      "text/html": [
       "<div>\n",
       "<style scoped>\n",
       "    .dataframe tbody tr th:only-of-type {\n",
       "        vertical-align: middle;\n",
       "    }\n",
       "\n",
       "    .dataframe tbody tr th {\n",
       "        vertical-align: top;\n",
       "    }\n",
       "\n",
       "    .dataframe thead th {\n",
       "        text-align: right;\n",
       "    }\n",
       "</style>\n",
       "<table border=\"1\" class=\"dataframe\">\n",
       "  <thead>\n",
       "    <tr style=\"text-align: right;\">\n",
       "      <th></th>\n",
       "      <th>importance</th>\n",
       "    </tr>\n",
       "  </thead>\n",
       "  <tbody>\n",
       "    <tr>\n",
       "      <th>age</th>\n",
       "      <td>0.0</td>\n",
       "    </tr>\n",
       "    <tr>\n",
       "      <th>job_admin.</th>\n",
       "      <td>0.0</td>\n",
       "    </tr>\n",
       "    <tr>\n",
       "      <th>education_high.school</th>\n",
       "      <td>0.0</td>\n",
       "    </tr>\n",
       "    <tr>\n",
       "      <th>education_illiterate</th>\n",
       "      <td>0.0</td>\n",
       "    </tr>\n",
       "    <tr>\n",
       "      <th>education_professional.course</th>\n",
       "      <td>0.0</td>\n",
       "    </tr>\n",
       "  </tbody>\n",
       "</table>\n",
       "</div>"
      ],
      "text/plain": [
       "                               importance\n",
       "age                                   0.0\n",
       "job_admin.                            0.0\n",
       "education_high.school                 0.0\n",
       "education_illiterate                  0.0\n",
       "education_professional.course         0.0"
      ]
     },
     "execution_count": 34,
     "metadata": {},
     "output_type": "execute_result"
    }
   ],
   "source": [
    "feature_importance = pd.DataFrame(best_models['Decision Tree']['model'].feature_importances_, index = x_train.columns, columns = ['importance']).sort_values('importance', ascending = False)\n",
    "feature_importance[:5]"
   ]
  },
  {
   "cell_type": "code",
   "execution_count": 30,
   "metadata": {
    "ExecuteTime": {
     "end_time": "2024-04-21T10:08:16.776108Z",
     "start_time": "2024-04-21T10:08:16.739703Z"
    },
    "id": "rsZx-pHaE-Hy"
   },
   "outputs": [
    {
     "name": "stdout",
     "output_type": "stream",
     "text": [
      "Top 10 most important features:\n",
      "job_student: 0.9749513189783595\n",
      "contact_telephone: 0.8637016807670738\n",
      "default_unknown: 0.6621035740804059\n",
      "education_illiterate: 0.5992293938005298\n",
      "job_retired: 0.5756669716775821\n",
      "job_entrepreneur: 0.4717715239754284\n",
      "job_blue-collar: 0.4589124613729096\n",
      "marital_divorced: 0.44892036746111924\n",
      "job_services: 0.41400697037523077\n",
      "marital_married: 0.3854385082264674\n"
     ]
    }
   ],
   "source": [
    "# Get the coefficients of the model\n",
    "coefficients = (best_models['Logistic Regression']['model']).coef_[0]\n",
    "\n",
    "# Get the absolute values of the coefficients for importance ranking\n",
    "absolute_coefficients = np.abs(coefficients)\n",
    "\n",
    "# Combine feature names with coefficients for better interpretation\n",
    "feature_coefficients = list(zip(list(x_train.columns), absolute_coefficients))\n",
    "\n",
    "# Sort features by their importance (absolute coefficient value)\n",
    "feature_coefficients.sort(key=lambda x: x[1], reverse=True)\n",
    "\n",
    "# Display the top 10 most important features\n",
    "print(f\"Top 10 most important features:\")\n",
    "for feature, coefficient in feature_coefficients[:10]:\n",
    "    print(f\"{feature}: {coefficient}\")"
   ]
  },
  {
   "cell_type": "code",
   "execution_count": 33,
   "metadata": {
    "ExecuteTime": {
     "end_time": "2024-04-21T10:09:00.684909Z",
     "start_time": "2024-04-21T10:09:00.287497Z"
    },
    "id": "Z3tbN_NnE-Hz"
   },
   "outputs": [
    {
     "data": {
      "text/plain": [
       "Text(0.5, 1.0, 'Decision Tree Plot')"
      ]
     },
     "execution_count": 33,
     "metadata": {},
     "output_type": "execute_result"
    },
    {
     "data": {
      "image/png": "[encoded data removed]",
      "text/plain": [
       "<Figure size 1000x800 with 1 Axes>"
      ]
     },
     "metadata": {},
     "output_type": "display_data"
    }
   ],
   "source": [
    "from sklearn import tree\n",
    "\n",
    "fig = plt.figure(figsize=(10, 8))\n",
    "tree.plot_tree(best_models['Decision Tree']['model'], feature_names=list(x_train.columns), filled=True)\n",
    "\n",
    "plt.title(\"Decision Tree Plot\", fontsize=20)"
   ]
  },
  {
   "cell_type": "markdown",
   "metadata": {
    "id": "TOfssCUNE-Hz"
   },
   "source": [
    "##### Questions"
   ]
  }
 ],
 "metadata": {
  "colab": {
   "provenance": []
  },
  "kernelspec": {
   "display_name": "Python 3 (ipykernel)",
   "language": "python",
   "name": "python3"
  },
  "language_info": {
   "codemirror_mode": {
    "name": "ipython",
    "version": 3
   },
   "file_extension": ".py",
   "mimetype": "text/x-python",
   "name": "python",
   "nbconvert_exporter": "python",
   "pygments_lexer": "ipython3",
   "version": "3.12.3"
  }
 },
 "nbformat": 4,
 "nbformat_minor": 4
}
